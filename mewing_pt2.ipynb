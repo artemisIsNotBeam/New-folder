{
  "cells": [
    {
      "cell_type": "code",
      "execution_count": 1,
      "metadata": {
        "colab": {
          "base_uri": "https://localhost:8080/"
        },
        "id": "V4YXAF7piVK9",
        "outputId": "f9ae3bd2-d31a-425b-99c3-c4bb418690b2"
      },
      "outputs": [
        {
          "name": "stdout",
          "output_type": "stream",
          "text": [
            "^C\n",
            "Requirement already satisfied: numpy in c:\\users\\artem\\anaconda3\\lib\\site-packages (1.26.4)\n"
          ]
        },
        {
          "name": "stderr",
          "output_type": "stream",
          "text": [
            "WARNING: Ignoring invalid distribution -mpy (c:\\users\\artem\\anaconda3\\lib\\site-packages)\n",
            "WARNING: Ignoring invalid distribution -umpy (c:\\users\\artem\\anaconda3\\lib\\site-packages)\n",
            "WARNING: Ignoring invalid distribution - (c:\\users\\artem\\anaconda3\\lib\\site-packages)\n",
            "WARNING: Ignoring invalid distribution -mpy (c:\\users\\artem\\anaconda3\\lib\\site-packages)\n",
            "WARNING: Ignoring invalid distribution -umpy (c:\\users\\artem\\anaconda3\\lib\\site-packages)\n",
            "WARNING: Ignoring invalid distribution - (c:\\users\\artem\\anaconda3\\lib\\site-packages)\n",
            "WARNING: Ignoring invalid distribution -mpy (c:\\users\\artem\\anaconda3\\lib\\site-packages)\n",
            "WARNING: Ignoring invalid distribution -umpy (c:\\users\\artem\\anaconda3\\lib\\site-packages)\n",
            "WARNING: Ignoring invalid distribution - (c:\\users\\artem\\anaconda3\\lib\\site-packages)\n",
            "WARNING: Ignoring invalid distribution -mpy (c:\\users\\artem\\anaconda3\\lib\\site-packages)\n",
            "WARNING: Ignoring invalid distribution -umpy (c:\\users\\artem\\anaconda3\\lib\\site-packages)\n",
            "WARNING: Ignoring invalid distribution - (c:\\users\\artem\\anaconda3\\lib\\site-packages)\n",
            "WARNING: Ignoring invalid distribution -mpy (c:\\users\\artem\\anaconda3\\lib\\site-packages)\n",
            "WARNING: Ignoring invalid distribution -umpy (c:\\users\\artem\\anaconda3\\lib\\site-packages)\n",
            "WARNING: Ignoring invalid distribution - (c:\\users\\artem\\anaconda3\\lib\\site-packages)\n",
            "WARNING: Ignoring invalid distribution -mpy (c:\\users\\artem\\anaconda3\\lib\\site-packages)\n",
            "WARNING: Ignoring invalid distribution -umpy (c:\\users\\artem\\anaconda3\\lib\\site-packages)\n",
            "WARNING: Ignoring invalid distribution - (c:\\users\\artem\\anaconda3\\lib\\site-packages)\n"
          ]
        },
        {
          "name": "stdout",
          "output_type": "stream",
          "text": [
            "Requirement already satisfied: ultralytics in c:\\users\\artem\\anaconda3\\lib\\site-packages (8.2.28)\n",
            "Requirement already satisfied: opencv-python>=4.6.0 in c:\\users\\artem\\anaconda3\\lib\\site-packages (from ultralytics) (4.9.0.80)\n",
            "Requirement already satisfied: torch>=1.8.0 in c:\\users\\artem\\anaconda3\\lib\\site-packages (from ultralytics) (2.3.0)\n",
            "Requirement already satisfied: seaborn>=0.11.0 in c:\\users\\artem\\anaconda3\\lib\\site-packages (from ultralytics) (0.11.2)\n",
            "Requirement already satisfied: py-cpuinfo in c:\\users\\artem\\anaconda3\\lib\\site-packages (from ultralytics) (9.0.0)\n",
            "Requirement already satisfied: ultralytics-thop>=0.2.5 in c:\\users\\artem\\anaconda3\\lib\\site-packages (from ultralytics) (0.2.7)\n",
            "Requirement already satisfied: pandas>=1.1.4 in c:\\users\\artem\\anaconda3\\lib\\site-packages (from ultralytics) (1.4.2)\n",
            "Requirement already satisfied: scipy>=1.4.1 in c:\\users\\artem\\anaconda3\\lib\\site-packages (from ultralytics) (1.7.3)\n",
            "Requirement already satisfied: tqdm>=4.64.0 in c:\\users\\artem\\anaconda3\\lib\\site-packages (from ultralytics) (4.64.0)\n",
            "Requirement already satisfied: psutil in c:\\users\\artem\\anaconda3\\lib\\site-packages (from ultralytics) (5.8.0)\n",
            "Requirement already satisfied: pyyaml>=5.3.1 in c:\\users\\artem\\anaconda3\\lib\\site-packages (from ultralytics) (6.0)\n",
            "Requirement already satisfied: torchvision>=0.9.0 in c:\\users\\artem\\anaconda3\\lib\\site-packages (from ultralytics) (0.18.0)\n",
            "Requirement already satisfied: matplotlib>=3.3.0 in c:\\users\\artem\\anaconda3\\lib\\site-packages (from ultralytics) (3.5.1)\n",
            "Requirement already satisfied: requests>=2.23.0 in c:\\users\\artem\\anaconda3\\lib\\site-packages (from ultralytics) (2.27.1)\n",
            "Requirement already satisfied: pillow>=7.1.2 in c:\\users\\artem\\anaconda3\\lib\\site-packages (from ultralytics) (9.0.1)\n",
            "Requirement already satisfied: numpy>=1.17 in c:\\users\\artem\\anaconda3\\lib\\site-packages (from matplotlib>=3.3.0->ultralytics) (1.26.4)\n",
            "Requirement already satisfied: python-dateutil>=2.7 in c:\\users\\artem\\anaconda3\\lib\\site-packages (from matplotlib>=3.3.0->ultralytics) (2.8.2)\n",
            "Requirement already satisfied: kiwisolver>=1.0.1 in c:\\users\\artem\\anaconda3\\lib\\site-packages (from matplotlib>=3.3.0->ultralytics) (1.3.2)\n",
            "Requirement already satisfied: packaging>=20.0 in c:\\users\\artem\\anaconda3\\lib\\site-packages (from matplotlib>=3.3.0->ultralytics) (21.3)\n",
            "Requirement already satisfied: fonttools>=4.22.0 in c:\\users\\artem\\anaconda3\\lib\\site-packages (from matplotlib>=3.3.0->ultralytics) (4.25.0)\n",
            "Requirement already satisfied: cycler>=0.10 in c:\\users\\artem\\anaconda3\\lib\\site-packages (from matplotlib>=3.3.0->ultralytics) (0.11.0)\n",
            "Requirement already satisfied: pyparsing>=2.2.1 in c:\\users\\artem\\anaconda3\\lib\\site-packages (from matplotlib>=3.3.0->ultralytics) (3.0.4)\n",
            "Requirement already satisfied: pytz>=2020.1 in c:\\users\\artem\\anaconda3\\lib\\site-packages (from pandas>=1.1.4->ultralytics) (2021.3)\n",
            "Requirement already satisfied: six>=1.5 in c:\\users\\artem\\anaconda3\\lib\\site-packages (from python-dateutil>=2.7->matplotlib>=3.3.0->ultralytics) (1.16.0)\n",
            "Requirement already satisfied: idna<4,>=2.5 in c:\\users\\artem\\anaconda3\\lib\\site-packages (from requests>=2.23.0->ultralytics) (3.3)\n",
            "Requirement already satisfied: charset-normalizer~=2.0.0 in c:\\users\\artem\\anaconda3\\lib\\site-packages (from requests>=2.23.0->ultralytics) (2.0.4)\n",
            "Requirement already satisfied: certifi>=2017.4.17 in c:\\users\\artem\\anaconda3\\lib\\site-packages (from requests>=2.23.0->ultralytics) (2024.2.2)\n",
            "Requirement already satisfied: urllib3<1.27,>=1.21.1 in c:\\users\\artem\\anaconda3\\lib\\site-packages (from requests>=2.23.0->ultralytics) (1.26.9)\n",
            "Collecting numpy>=1.17\n",
            "  Using cached numpy-1.22.4-cp39-cp39-win_amd64.whl (14.7 MB)\n",
            "Requirement already satisfied: filelock in c:\\users\\artem\\anaconda3\\lib\\site-packages (from torch>=1.8.0->ultralytics) (3.6.0)\n",
            "Requirement already satisfied: typing-extensions>=4.8.0 in c:\\users\\artem\\anaconda3\\lib\\site-packages (from torch>=1.8.0->ultralytics) (4.11.0)\n",
            "Requirement already satisfied: sympy in c:\\users\\artem\\anaconda3\\lib\\site-packages (from torch>=1.8.0->ultralytics) (1.10.1)\n",
            "Requirement already satisfied: networkx in c:\\users\\artem\\anaconda3\\lib\\site-packages (from torch>=1.8.0->ultralytics) (2.7.1)\n",
            "Requirement already satisfied: jinja2 in c:\\users\\artem\\anaconda3\\lib\\site-packages (from torch>=1.8.0->ultralytics) (3.1.3)\n",
            "Requirement already satisfied: fsspec in c:\\users\\artem\\anaconda3\\lib\\site-packages (from torch>=1.8.0->ultralytics) (2024.3.1)\n",
            "Requirement already satisfied: mkl<=2021.4.0,>=2021.1.1 in c:\\users\\artem\\anaconda3\\lib\\site-packages (from torch>=1.8.0->ultralytics) (2021.4.0)\n",
            "Requirement already satisfied: tbb==2021.* in c:\\users\\artem\\anaconda3\\lib\\site-packages (from mkl<=2021.4.0,>=2021.1.1->torch>=1.8.0->ultralytics) (2021.12.0)\n",
            "Requirement already satisfied: intel-openmp==2021.* in c:\\users\\artem\\anaconda3\\lib\\site-packages (from mkl<=2021.4.0,>=2021.1.1->torch>=1.8.0->ultralytics) (2021.4.0)\n",
            "Requirement already satisfied: colorama in c:\\users\\artem\\anaconda3\\lib\\site-packages (from tqdm>=4.64.0->ultralytics) (0.4.4)\n",
            "Requirement already satisfied: MarkupSafe>=2.0 in c:\\users\\artem\\anaconda3\\lib\\site-packages (from jinja2->torch>=1.8.0->ultralytics) (2.1.3)\n",
            "Requirement already satisfied: mpmath>=0.19 in c:\\users\\artem\\anaconda3\\lib\\site-packages (from sympy->torch>=1.8.0->ultralytics) (1.2.1)\n",
            "Installing collected packages: numpy\n",
            "  Attempting uninstall: numpy\n",
            "    Found existing installation: numpy 1.26.4\n",
            "    Uninstalling numpy-1.26.4:\n",
            "      Successfully uninstalled numpy-1.26.4\n",
            "Successfully installed numpy-1.22.4\n"
          ]
        },
        {
          "name": "stderr",
          "output_type": "stream",
          "text": [
            "WARNING: Ignoring invalid distribution -mpy (c:\\users\\artem\\anaconda3\\lib\\site-packages)\n",
            "WARNING: Ignoring invalid distribution -umpy (c:\\users\\artem\\anaconda3\\lib\\site-packages)\n",
            "WARNING: Ignoring invalid distribution - (c:\\users\\artem\\anaconda3\\lib\\site-packages)\n",
            "WARNING: Ignoring invalid distribution -mpy (c:\\users\\artem\\anaconda3\\lib\\site-packages)\n",
            "WARNING: Ignoring invalid distribution -umpy (c:\\users\\artem\\anaconda3\\lib\\site-packages)\n",
            "WARNING: Ignoring invalid distribution - (c:\\users\\artem\\anaconda3\\lib\\site-packages)\n",
            "WARNING: Ignoring invalid distribution -mpy (c:\\users\\artem\\anaconda3\\lib\\site-packages)\n",
            "WARNING: Ignoring invalid distribution -umpy (c:\\users\\artem\\anaconda3\\lib\\site-packages)\n",
            "WARNING: Ignoring invalid distribution - (c:\\users\\artem\\anaconda3\\lib\\site-packages)\n",
            "    WARNING: Ignoring invalid distribution -mpy (c:\\users\\artem\\anaconda3\\lib\\site-packages)\n",
            "    WARNING: Ignoring invalid distribution -umpy (c:\\users\\artem\\anaconda3\\lib\\site-packages)\n",
            "    WARNING: Ignoring invalid distribution - (c:\\users\\artem\\anaconda3\\lib\\site-packages)\n",
            "WARNING: Ignoring invalid distribution -mpy (c:\\users\\artem\\anaconda3\\lib\\site-packages)\n",
            "WARNING: Ignoring invalid distribution -umpy (c:\\users\\artem\\anaconda3\\lib\\site-packages)\n",
            "WARNING: Ignoring invalid distribution - (c:\\users\\artem\\anaconda3\\lib\\site-packages)\n",
            "ERROR: pip's dependency resolver does not currently take into account all the packages that are installed. This behaviour is the source of the following dependency conflicts.\n",
            "daal4py 2021.5.0 requires daal==2021.4.0, which is not installed.\n",
            "numba 0.55.1 requires numpy<1.22,>=1.18, but you have numpy 1.22.4 which is incompatible.\n",
            "WARNING: Ignoring invalid distribution -mpy (c:\\users\\artem\\anaconda3\\lib\\site-packages)\n",
            "WARNING: Ignoring invalid distribution -umpy (c:\\users\\artem\\anaconda3\\lib\\site-packages)\n",
            "WARNING: Ignoring invalid distribution - (c:\\users\\artem\\anaconda3\\lib\\site-packages)\n",
            "WARNING: Ignoring invalid distribution -mpy (c:\\users\\artem\\anaconda3\\lib\\site-packages)\n",
            "WARNING: Ignoring invalid distribution -umpy (c:\\users\\artem\\anaconda3\\lib\\site-packages)\n",
            "WARNING: Ignoring invalid distribution - (c:\\users\\artem\\anaconda3\\lib\\site-packages)\n",
            "WARNING: Ignoring invalid distribution -mpy (c:\\users\\artem\\anaconda3\\lib\\site-packages)\n",
            "WARNING: Ignoring invalid distribution -umpy (c:\\users\\artem\\anaconda3\\lib\\site-packages)\n",
            "WARNING: Ignoring invalid distribution - (c:\\users\\artem\\anaconda3\\lib\\site-packages)\n"
          ]
        },
        {
          "name": "stdout",
          "output_type": "stream",
          "text": [
            "Collecting playsound\n",
            "  Downloading playsound-1.3.0.tar.gz (7.7 kB)\n",
            "Building wheels for collected packages: playsound\n",
            "  Building wheel for playsound (setup.py): started\n",
            "  Building wheel for playsound (setup.py): finished with status 'done'\n",
            "  Created wheel for playsound: filename=playsound-1.3.0-py3-none-any.whl size=7035 sha256=6f2cc13f30f8ae523ddd174cf20cc186946f830409cd6ec4fa53058a9db92fc1\n",
            "  Stored in directory: c:\\users\\artem\\appdata\\local\\pip\\cache\\wheels\\ba\\39\\54\\c8f7ff9a88a644d3c58b4dec802d90b79a2e0fb2a6b884bf82\n",
            "Successfully built playsound\n",
            "Installing collected packages: playsound\n",
            "Successfully installed playsound-1.3.0\n"
          ]
        },
        {
          "name": "stderr",
          "output_type": "stream",
          "text": [
            "WARNING: Ignoring invalid distribution -mpy (c:\\users\\artem\\anaconda3\\lib\\site-packages)\n",
            "WARNING: Ignoring invalid distribution -umpy (c:\\users\\artem\\anaconda3\\lib\\site-packages)\n",
            "WARNING: Ignoring invalid distribution - (c:\\users\\artem\\anaconda3\\lib\\site-packages)\n",
            "WARNING: Ignoring invalid distribution -mpy (c:\\users\\artem\\anaconda3\\lib\\site-packages)\n",
            "WARNING: Ignoring invalid distribution -umpy (c:\\users\\artem\\anaconda3\\lib\\site-packages)\n",
            "WARNING: Ignoring invalid distribution - (c:\\users\\artem\\anaconda3\\lib\\site-packages)\n",
            "WARNING: Ignoring invalid distribution -mpy (c:\\users\\artem\\anaconda3\\lib\\site-packages)\n",
            "WARNING: Ignoring invalid distribution -umpy (c:\\users\\artem\\anaconda3\\lib\\site-packages)\n",
            "WARNING: Ignoring invalid distribution - (c:\\users\\artem\\anaconda3\\lib\\site-packages)\n",
            "WARNING: Error parsing requirements for numpy: [Errno 2] No such file or directory: 'c:\\\\users\\\\artem\\\\anaconda3\\\\lib\\\\site-packages\\\\numpy-1.26.4.dist-info\\\\METADATA'\n",
            "WARNING: Ignoring invalid distribution -mpy (c:\\users\\artem\\anaconda3\\lib\\site-packages)\n",
            "WARNING: Ignoring invalid distribution -umpy (c:\\users\\artem\\anaconda3\\lib\\site-packages)\n",
            "WARNING: Ignoring invalid distribution - (c:\\users\\artem\\anaconda3\\lib\\site-packages)\n",
            "WARNING: Ignoring invalid distribution -mpy (c:\\users\\artem\\anaconda3\\lib\\site-packages)\n",
            "WARNING: Ignoring invalid distribution -umpy (c:\\users\\artem\\anaconda3\\lib\\site-packages)\n",
            "WARNING: Ignoring invalid distribution - (c:\\users\\artem\\anaconda3\\lib\\site-packages)\n",
            "WARNING: Ignoring invalid distribution -mpy (c:\\users\\artem\\anaconda3\\lib\\site-packages)\n",
            "WARNING: Ignoring invalid distribution -umpy (c:\\users\\artem\\anaconda3\\lib\\site-packages)\n",
            "WARNING: Ignoring invalid distribution - (c:\\users\\artem\\anaconda3\\lib\\site-packages)\n",
            "WARNING: Ignoring invalid distribution -mpy (c:\\users\\artem\\anaconda3\\lib\\site-packages)\n",
            "WARNING: Ignoring invalid distribution -umpy (c:\\users\\artem\\anaconda3\\lib\\site-packages)\n",
            "WARNING: Ignoring invalid distribution - (c:\\users\\artem\\anaconda3\\lib\\site-packages)\n"
          ]
        }
      ],
      "source": [
        "!pip install ultralytics\n",
        "!pip install numpy\n",
        "!pip install playsound"
      ]
    },
    {
      "cell_type": "code",
      "execution_count": 1,
      "metadata": {
        "id": "qg251SZKkQqF"
      },
      "outputs": [],
      "source": [
        "#import tensorflow as tf\n",
        "#import torch\n",
        "from ultralytics import YOLO\n",
        "\n",
        "#model = torch.load('/content/drive/MyDrive/mewingAI/best.pt')\n",
        "model = YOLO('best.pt')\n",
        "#model.load('/content/drive/MyDrive/mewingAI/best.pt')"
      ]
    },
    {
      "cell_type": "markdown",
      "metadata": {
        "id": "rAPbFPyQqZyb"
      },
      "source": [
        "Prediction\n",
        "https://docs.ultralytics.com/modes/predict/#inference-arguments"
      ]
    },
    {
      "cell_type": "code",
      "execution_count": 19,
      "metadata": {
        "cellView": "form",
        "id": "eTBR8Rp8pirO"
      },
      "outputs": [],
      "source": [
        "#@title some helper functions\n",
        "\n",
        "def predict(path):\n",
        "  results = model(path)\n",
        "  result = results[0]\n",
        "  boxes = result.boxes  # Boxes object for bounding box outputs\n",
        "  masks = result.masks  # Masks object for segmentation masks outputs\n",
        "  keypoints = result.keypoints  # Keypoints object for pose outputs\n",
        "  probs = result.probs  # Probs object for classification outputs\n",
        "  obb = result.obb  # Oriented boxes object for OBB outputs\n",
        "  #result.show()  # display to screen\n",
        "\n",
        "\n",
        "  #result.save(filename=\"result.jpg\")  # save to disk\n",
        "  return result.tojson(normalize=True)\n",
        "  #return probs\n",
        "#thing = predict(\"/content/drive/MyDrive/mewingAI/datasets/FacialFeatures_split/test/images/00a0fd8177a1db74_jpg.rf.e66cca8cc8cccf937b160ea6546b1fbb.jpg\")\n",
        "\n",
        "import numpy as np\n",
        "import cv2\n",
        "\n",
        "def preprocess_input(image_pil, net_h=416, net_w=416):\n",
        "    image = np.asarray(image_pil)\n",
        "    new_h, new_w, _ = image.shape\n",
        "    # print(\"net:\", net_h, net_w)\n",
        "    # print(\"old:\",new_h, new_w)\n",
        "    # determine the new size of the image\n",
        "    if (float(net_w)/new_w) < (float(net_h)/new_h):\n",
        "        new_h = (new_h * net_w)/new_w\n",
        "        new_w = net_w\n",
        "    else:\n",
        "        new_w = (new_w * net_h)/new_h\n",
        "        new_h = net_h\n",
        "    new_w = int(new_w)\n",
        "    new_h = int(new_h)\n",
        "    # print(\"new:\",int(new_h), int(new_w))\n",
        "    # resize the image to the new size\n",
        "    #resized = cv2.resize(image[:,:,::-1]/255., (int(new_w), int(new_h)))\n",
        "    resized = cv2.resize(image/255., (int(new_w), int(new_h)))\n",
        "\n",
        "    # embed the image into the standard letter box\n",
        "    # print(\"dims:\",int((net_h-new_h)//2), int((net_h+new_h)//2), int((net_w-new_w)//2), int((net_w+new_w)//2))\n",
        "    new_image = np.ones((net_h, net_w, 3)) * 0.5\n",
        "    new_image[int((net_h-new_h)//2):int((net_h+new_h)//2), int((net_w-new_w)//2):int((net_w+new_w)//2), :] = resized\n",
        "    new_image = np.expand_dims(new_image, 0)\n",
        "    # print(new_image.shape)\n",
        "\n",
        "    return new_image"
      ]
    },
    {
      "cell_type": "code",
      "execution_count": 13,
      "metadata": {},
      "outputs": [],
      "source": [
        "def getResults(img):\n",
        "  test = processImg(img)\n",
        "  someJson = predict(test)\n",
        "  result = readOutput(someJson)\n",
        "  return result\n",
        "\n",
        "#getResults(take_photo())\n",
        "import json\n",
        "from PIL import Image\n",
        "from matplotlib import  pyplot as plt\n",
        "def processImg(path):\n",
        "  image_path = path\n",
        "  image_pil = Image.open(image_path)\n",
        "  image_w, image_h = image_pil.size\n",
        "  new_image = preprocess_input(image_pil, 640, 640)\n",
        "\n",
        "  new_image_pil = Image.fromarray((new_image[0] * 255).astype('uint8'))\n",
        "  #new_image_pil.save(\"/content/new_img.jpg\")\n",
        "\n",
        "  #plt.imshow(new_image[0])\n",
        "  #plt.show()\n",
        "\n",
        "  return new_image_pil\n",
        "\n",
        "def readOutput(vals):\n",
        "  jsonVals=json.loads(vals)\n",
        "  names = []\n",
        "  confidence=[]\n",
        "  for item in jsonVals:\n",
        "    #print(item)\n",
        "    names.append(item['name'])\n",
        "    confidence.append(item['confidence'])\n",
        "  print(names)\n",
        "  print(confidence)\n",
        "\n",
        "  if ('openmouth' in names) and ('closedmouth' in names):\n",
        "    openIndex=names.index('openmouth')\n",
        "    closedIndex=names.index('closedmouth')\n",
        "    if confidence[openIndex] > confidence[closedIndex]:\n",
        "      return 'open'\n",
        "    else:\n",
        "      return 'closed'\n",
        "  elif 'openmouth' in names:\n",
        "    return 'open'\n",
        "  else:\n",
        "    return 'closed'"
      ]
    },
    {
      "cell_type": "code",
      "execution_count": 22,
      "metadata": {},
      "outputs": [
        {
          "name": "stdout",
          "output_type": "stream",
          "text": [
            "\n",
            "0: 640x640 1 closedmouth, 1 face, 2 openeyes, 204.7ms\n",
            "Speed: 3.0ms preprocess, 204.7ms inference, 1.0ms postprocess per image at shape (1, 3, 640, 640)\n",
            "['face', 'openeye', 'openeye', 'closedmouth']\n",
            "[0.87849, 0.65566, 0.60965, 0.54173]\n"
          ]
        },
        {
          "data": {
            "text/plain": [
              "'closed'"
            ]
          },
          "execution_count": 22,
          "metadata": {},
          "output_type": "execute_result"
        }
      ],
      "source": [
        "\n",
        "getResults(\"WIN_20240722_20_03_10_Pro.jpg\")"
      ]
    },
    {
      "cell_type": "code",
      "execution_count": 42,
      "metadata": {},
      "outputs": [
        {
          "name": "stdout",
          "output_type": "stream",
          "text": [
            "Requirement already satisfied: opencv-python in c:\\users\\artem\\anaconda3\\lib\\site-packages (4.9.0.80)\n",
            "Requirement already satisfied: numpy>=1.17.0 in c:\\users\\artem\\anaconda3\\lib\\site-packages (from opencv-python) (1.22.4)\n"
          ]
        },
        {
          "name": "stderr",
          "output_type": "stream",
          "text": [
            "WARNING: Ignoring invalid distribution -mpy (c:\\users\\artem\\anaconda3\\lib\\site-packages)\n",
            "WARNING: Ignoring invalid distribution -umpy (c:\\users\\artem\\anaconda3\\lib\\site-packages)\n",
            "WARNING: Ignoring invalid distribution - (c:\\users\\artem\\anaconda3\\lib\\site-packages)\n",
            "WARNING: Ignoring invalid distribution -mpy (c:\\users\\artem\\anaconda3\\lib\\site-packages)\n",
            "WARNING: Ignoring invalid distribution -umpy (c:\\users\\artem\\anaconda3\\lib\\site-packages)\n",
            "WARNING: Ignoring invalid distribution - (c:\\users\\artem\\anaconda3\\lib\\site-packages)\n",
            "WARNING: Ignoring invalid distribution -mpy (c:\\users\\artem\\anaconda3\\lib\\site-packages)\n",
            "WARNING: Ignoring invalid distribution -umpy (c:\\users\\artem\\anaconda3\\lib\\site-packages)\n",
            "WARNING: Ignoring invalid distribution - (c:\\users\\artem\\anaconda3\\lib\\site-packages)\n",
            "WARNING: Ignoring invalid distribution -mpy (c:\\users\\artem\\anaconda3\\lib\\site-packages)\n",
            "WARNING: Ignoring invalid distribution -umpy (c:\\users\\artem\\anaconda3\\lib\\site-packages)\n",
            "WARNING: Ignoring invalid distribution - (c:\\users\\artem\\anaconda3\\lib\\site-packages)\n",
            "WARNING: Ignoring invalid distribution -mpy (c:\\users\\artem\\anaconda3\\lib\\site-packages)\n",
            "WARNING: Ignoring invalid distribution -umpy (c:\\users\\artem\\anaconda3\\lib\\site-packages)\n",
            "WARNING: Ignoring invalid distribution - (c:\\users\\artem\\anaconda3\\lib\\site-packages)\n",
            "WARNING: Ignoring invalid distribution -mpy (c:\\users\\artem\\anaconda3\\lib\\site-packages)\n",
            "WARNING: Ignoring invalid distribution -umpy (c:\\users\\artem\\anaconda3\\lib\\site-packages)\n",
            "WARNING: Ignoring invalid distribution - (c:\\users\\artem\\anaconda3\\lib\\site-packages)\n"
          ]
        },
        {
          "name": "stdout",
          "output_type": "stream",
          "text": [
            "Requirement already satisfied: playsound in c:\\users\\artem\\anaconda3\\lib\\site-packages (1.3.0)\n"
          ]
        },
        {
          "name": "stderr",
          "output_type": "stream",
          "text": [
            "WARNING: Ignoring invalid distribution -mpy (c:\\users\\artem\\anaconda3\\lib\\site-packages)\n",
            "WARNING: Ignoring invalid distribution -umpy (c:\\users\\artem\\anaconda3\\lib\\site-packages)\n",
            "WARNING: Ignoring invalid distribution - (c:\\users\\artem\\anaconda3\\lib\\site-packages)\n",
            "WARNING: Ignoring invalid distribution -mpy (c:\\users\\artem\\anaconda3\\lib\\site-packages)\n",
            "WARNING: Ignoring invalid distribution -umpy (c:\\users\\artem\\anaconda3\\lib\\site-packages)\n",
            "WARNING: Ignoring invalid distribution - (c:\\users\\artem\\anaconda3\\lib\\site-packages)\n",
            "WARNING: Ignoring invalid distribution -mpy (c:\\users\\artem\\anaconda3\\lib\\site-packages)\n",
            "WARNING: Ignoring invalid distribution -umpy (c:\\users\\artem\\anaconda3\\lib\\site-packages)\n",
            "WARNING: Ignoring invalid distribution - (c:\\users\\artem\\anaconda3\\lib\\site-packages)\n",
            "WARNING: Ignoring invalid distribution -mpy (c:\\users\\artem\\anaconda3\\lib\\site-packages)\n",
            "WARNING: Ignoring invalid distribution -umpy (c:\\users\\artem\\anaconda3\\lib\\site-packages)\n",
            "WARNING: Ignoring invalid distribution - (c:\\users\\artem\\anaconda3\\lib\\site-packages)\n",
            "WARNING: Ignoring invalid distribution -mpy (c:\\users\\artem\\anaconda3\\lib\\site-packages)\n",
            "WARNING: Ignoring invalid distribution -umpy (c:\\users\\artem\\anaconda3\\lib\\site-packages)\n",
            "WARNING: Ignoring invalid distribution - (c:\\users\\artem\\anaconda3\\lib\\site-packages)\n",
            "WARNING: Ignoring invalid distribution -mpy (c:\\users\\artem\\anaconda3\\lib\\site-packages)\n",
            "WARNING: Ignoring invalid distribution -umpy (c:\\users\\artem\\anaconda3\\lib\\site-packages)\n",
            "WARNING: Ignoring invalid distribution - (c:\\users\\artem\\anaconda3\\lib\\site-packages)\n"
          ]
        }
      ],
      "source": [
        "!pip install opencv-python\n",
        "!pip install playsound"
      ]
    },
    {
      "cell_type": "code",
      "execution_count": 20,
      "metadata": {},
      "outputs": [],
      "source": [
        "import cv2\n",
        "\n",
        "cam = cv2.VideoCapture(0)\n",
        "cv2.namedWindow(\"test\")\n",
        "\n"
      ]
    },
    {
      "cell_type": "code",
      "execution_count": 43,
      "metadata": {},
      "outputs": [
        {
          "name": "stdout",
          "output_type": "stream",
          "text": [
            "\n",
            "0: 640x640 1 closedmouth, 1 face, 2 openeyes, 196.2ms\n",
            "Speed: 4.0ms preprocess, 196.2ms inference, 1.0ms postprocess per image at shape (1, 3, 640, 640)\n",
            "['face', 'openeye', 'openeye', 'closedmouth']\n",
            "[0.85173, 0.54424, 0.5078, 0.31209]\n",
            "\n",
            "0: 640x640 1 closedmouth, 1 face, 2 openeyes, 194.2ms\n",
            "Speed: 3.0ms preprocess, 194.2ms inference, 1.0ms postprocess per image at shape (1, 3, 640, 640)\n",
            "['face', 'openeye', 'openeye', 'closedmouth']\n",
            "[0.83722, 0.53474, 0.52041, 0.27643]\n",
            "\n",
            "0: 640x640 1 face, 2 openeyes, 187.2ms\n",
            "Speed: 3.0ms preprocess, 187.2ms inference, 1.0ms postprocess per image at shape (1, 3, 640, 640)\n",
            "['face', 'openeye', 'openeye']\n",
            "[0.84275, 0.54802, 0.51253]\n",
            "\n",
            "0: 640x640 1 closedmouth, 1 face, 2 openeyes, 188.2ms\n",
            "Speed: 2.0ms preprocess, 188.2ms inference, 1.0ms postprocess per image at shape (1, 3, 640, 640)\n",
            "['face', 'openeye', 'openeye', 'closedmouth']\n",
            "[0.83358, 0.55116, 0.53451, 0.35886]\n",
            "\n",
            "0: 640x640 1 closedmouth, 1 face, 2 openeyes, 188.2ms\n",
            "Speed: 2.0ms preprocess, 188.2ms inference, 1.0ms postprocess per image at shape (1, 3, 640, 640)\n",
            "['face', 'openeye', 'openeye', 'closedmouth']\n",
            "[0.84339, 0.57034, 0.52842, 0.41617]\n",
            "\n",
            "0: 640x640 1 closedmouth, 1 face, 2 openeyes, 231.2ms\n",
            "Speed: 3.0ms preprocess, 231.2ms inference, 2.0ms postprocess per image at shape (1, 3, 640, 640)\n",
            "['face', 'openeye', 'openeye', 'closedmouth']\n",
            "[0.85719, 0.59123, 0.51159, 0.34583]\n",
            "\n",
            "0: 640x640 1 closedmouth, 1 face, 2 openeyes, 194.2ms\n",
            "Speed: 3.0ms preprocess, 194.2ms inference, 1.0ms postprocess per image at shape (1, 3, 640, 640)\n",
            "['face', 'openeye', 'openeye', 'closedmouth']\n",
            "[0.8566, 0.56439, 0.55815, 0.41954]\n",
            "\n",
            "0: 640x640 1 closedmouth, 1 face, 2 openeyes, 192.2ms\n",
            "Speed: 3.0ms preprocess, 192.2ms inference, 1.0ms postprocess per image at shape (1, 3, 640, 640)\n",
            "['face', 'openeye', 'openeye', 'closedmouth']\n",
            "[0.85649, 0.54244, 0.52775, 0.4096]\n",
            "\n",
            "0: 640x640 1 closedmouth, 1 face, 2 openeyes, 185.2ms\n",
            "Speed: 2.0ms preprocess, 185.2ms inference, 1.0ms postprocess per image at shape (1, 3, 640, 640)\n",
            "['face', 'openeye', 'openeye', 'closedmouth']\n",
            "[0.85512, 0.5442, 0.46069, 0.29945]\n"
          ]
        },
        {
          "ename": "KeyboardInterrupt",
          "evalue": "",
          "output_type": "error",
          "traceback": [
            "\u001b[1;31m---------------------------------------------------------------------------\u001b[0m",
            "\u001b[1;31mKeyboardInterrupt\u001b[0m                         Traceback (most recent call last)",
            "Input \u001b[1;32mIn [43]\u001b[0m, in \u001b[0;36m<cell line: 6>\u001b[1;34m()\u001b[0m\n\u001b[0;32m      5\u001b[0m \u001b[38;5;28;01mwhile\u001b[39;00m \u001b[38;5;28;01mTrue\u001b[39;00m:\n\u001b[0;32m      6\u001b[0m     result,image \u001b[38;5;241m=\u001b[39m cam\u001b[38;5;241m.\u001b[39mread()\n\u001b[1;32m----> 7\u001b[0m     \u001b[43mcv2\u001b[49m\u001b[38;5;241;43m.\u001b[39;49m\u001b[43mimwrite\u001b[49m\u001b[43m(\u001b[49m\u001b[38;5;124;43m\"\u001b[39;49m\u001b[38;5;124;43mimage.png\u001b[39;49m\u001b[38;5;124;43m\"\u001b[39;49m\u001b[43m,\u001b[49m\u001b[43m \u001b[49m\u001b[43mimage\u001b[49m\u001b[43m)\u001b[49m \n\u001b[0;32m      8\u001b[0m     results \u001b[38;5;241m=\u001b[39m getResults(\u001b[38;5;124m\"\u001b[39m\u001b[38;5;124mimage.png\u001b[39m\u001b[38;5;124m\"\u001b[39m)\n\u001b[0;32m     10\u001b[0m     \u001b[38;5;28;01mif\u001b[39;00m results \u001b[38;5;241m==\u001b[39m \u001b[38;5;124m'\u001b[39m\u001b[38;5;124mopen\u001b[39m\u001b[38;5;124m'\u001b[39m:\n",
            "File \u001b[1;32mc:\\Users\\artem\\anaconda3\\lib\\site-packages\\ultralytics\\utils\\patches.py:42\u001b[0m, in \u001b[0;36mimwrite\u001b[1;34m(filename, img, params)\u001b[0m\n\u001b[0;32m     30\u001b[0m \u001b[38;5;124;03m\"\"\"\u001b[39;00m\n\u001b[0;32m     31\u001b[0m \u001b[38;5;124;03mWrite an image to a file.\u001b[39;00m\n\u001b[0;32m     32\u001b[0m \n\u001b[1;32m   (...)\u001b[0m\n\u001b[0;32m     39\u001b[0m \u001b[38;5;124;03m    (bool): True if the file was written, False otherwise.\u001b[39;00m\n\u001b[0;32m     40\u001b[0m \u001b[38;5;124;03m\"\"\"\u001b[39;00m\n\u001b[0;32m     41\u001b[0m \u001b[38;5;28;01mtry\u001b[39;00m:\n\u001b[1;32m---> 42\u001b[0m     \u001b[43mcv2\u001b[49m\u001b[38;5;241;43m.\u001b[39;49m\u001b[43mimencode\u001b[49m\u001b[43m(\u001b[49m\u001b[43mPath\u001b[49m\u001b[43m(\u001b[49m\u001b[43mfilename\u001b[49m\u001b[43m)\u001b[49m\u001b[38;5;241;43m.\u001b[39;49m\u001b[43msuffix\u001b[49m\u001b[43m,\u001b[49m\u001b[43m \u001b[49m\u001b[43mimg\u001b[49m\u001b[43m,\u001b[49m\u001b[43m \u001b[49m\u001b[43mparams\u001b[49m\u001b[43m)\u001b[49m\u001b[43m[\u001b[49m\u001b[38;5;241;43m1\u001b[39;49m\u001b[43m]\u001b[49m\u001b[38;5;241;43m.\u001b[39;49m\u001b[43mtofile\u001b[49m\u001b[43m(\u001b[49m\u001b[43mfilename\u001b[49m\u001b[43m)\u001b[49m\n\u001b[0;32m     43\u001b[0m     \u001b[38;5;28;01mreturn\u001b[39;00m \u001b[38;5;28;01mTrue\u001b[39;00m\n\u001b[0;32m     44\u001b[0m \u001b[38;5;28;01mexcept\u001b[39;00m \u001b[38;5;167;01mException\u001b[39;00m:\n",
            "\u001b[1;31mKeyboardInterrupt\u001b[0m: "
          ]
        }
      ],
      "source": [
        "#while True:\n",
        "from cv2 import *\n",
        "from playsound import playsound\n",
        "\n",
        "while True:\n",
        "    result,image = cam.read()\n",
        "    cv2.imwrite(\"image.png\", image) \n",
        "    results = getResults(\"image.png\")\n",
        "\n",
        "    if results == 'open':\n",
        "      print(\"open\")\n"
      ]
    },
    {
      "cell_type": "markdown",
      "metadata": {
        "id": "YpchD1jc6jd2"
      },
      "source": [
        "Display image"
      ]
    },
    {
      "cell_type": "code",
      "execution_count": null,
      "metadata": {
        "colab": {
          "base_uri": "https://localhost:8080/",
          "height": 1000
        },
        "id": "NqrwIRAtdfPa",
        "outputId": "13536f9d-8d8d-40ed-ccc3-754fe46c7559"
      },
      "outputs": [
        {
          "name": "stderr",
          "output_type": "stream",
          "text": [
            "WARNING:playsound:playsound is relying on another python subprocess. Please use `pip install pygobject` if you want playsound to run more efficiently.\n"
          ]
        },
        {
          "data": {
            "application/javascript": "\n  async function takePhoto(quality, delay) {\n      const video = document.createElement('video');\n      video.style.display = 'block';\n      const stream = await navigator.mediaDevices.getUserMedia({video: true});\n\n      document.body.appendChild(video);\n      video.srcObject = stream;\n      await video.play();\n\n      // Wait for video to start, you can adjust the delay here\n      await new Promise(resolve => setTimeout(resolve, delay));\n\n      const canvas = document.createElement('canvas');\n      canvas.width = video.videoWidth;\n      canvas.height = video.videoHeight;\n      canvas.getContext('2d').drawImage(video, 0, 0);\n      stream.getVideoTracks()[0].stop();\n      video.remove();\n      return canvas.toDataURL('image/jpeg', quality);\n  }\n  ",
            "text/plain": [
              "<IPython.core.display.Javascript object>"
            ]
          },
          "metadata": {},
          "output_type": "display_data"
        },
        {
          "name": "stdout",
          "output_type": "stream",
          "text": [
            "\n",
            "0: 640x640 2 closedmouths, 1 face, 2 openeyes, 13.6ms\n",
            "Speed: 2.0ms preprocess, 13.6ms inference, 1.9ms postprocess per image at shape (1, 3, 640, 640)\n",
            "['face', 'openeye', 'openeye', 'closedmouth', 'closedmouth']\n",
            "[0.87041, 0.57583, 0.55297, 0.49102, 0.30749]\n"
          ]
        },
        {
          "data": {
            "application/javascript": "\n  async function takePhoto(quality, delay) {\n      const video = document.createElement('video');\n      video.style.display = 'block';\n      const stream = await navigator.mediaDevices.getUserMedia({video: true});\n\n      document.body.appendChild(video);\n      video.srcObject = stream;\n      await video.play();\n\n      // Wait for video to start, you can adjust the delay here\n      await new Promise(resolve => setTimeout(resolve, delay));\n\n      const canvas = document.createElement('canvas');\n      canvas.width = video.videoWidth;\n      canvas.height = video.videoHeight;\n      canvas.getContext('2d').drawImage(video, 0, 0);\n      stream.getVideoTracks()[0].stop();\n      video.remove();\n      return canvas.toDataURL('image/jpeg', quality);\n  }\n  ",
            "text/plain": [
              "<IPython.core.display.Javascript object>"
            ]
          },
          "metadata": {},
          "output_type": "display_data"
        },
        {
          "name": "stdout",
          "output_type": "stream",
          "text": [
            "\n",
            "0: 640x640 2 closedmouths, 1 face, 2 openeyes, 7.4ms\n",
            "Speed: 1.5ms preprocess, 7.4ms inference, 1.3ms postprocess per image at shape (1, 3, 640, 640)\n",
            "['face', 'openeye', 'openeye', 'closedmouth', 'closedmouth']\n",
            "[0.87928, 0.61969, 0.61176, 0.5079, 0.27269]\n"
          ]
        },
        {
          "data": {
            "application/javascript": "\n  async function takePhoto(quality, delay) {\n      const video = document.createElement('video');\n      video.style.display = 'block';\n      const stream = await navigator.mediaDevices.getUserMedia({video: true});\n\n      document.body.appendChild(video);\n      video.srcObject = stream;\n      await video.play();\n\n      // Wait for video to start, you can adjust the delay here\n      await new Promise(resolve => setTimeout(resolve, delay));\n\n      const canvas = document.createElement('canvas');\n      canvas.width = video.videoWidth;\n      canvas.height = video.videoHeight;\n      canvas.getContext('2d').drawImage(video, 0, 0);\n      stream.getVideoTracks()[0].stop();\n      video.remove();\n      return canvas.toDataURL('image/jpeg', quality);\n  }\n  ",
            "text/plain": [
              "<IPython.core.display.Javascript object>"
            ]
          },
          "metadata": {},
          "output_type": "display_data"
        },
        {
          "name": "stdout",
          "output_type": "stream",
          "text": [
            "\n",
            "0: 640x640 1 face, 3 openeyes, 1 openmouth, 8.8ms\n",
            "Speed: 1.7ms preprocess, 8.8ms inference, 1.7ms postprocess per image at shape (1, 3, 640, 640)\n",
            "['face', 'openeye', 'openeye', 'openmouth', 'openeye']\n",
            "[0.88852, 0.6161, 0.57943, 0.54233, 0.27958]\n"
          ]
        },
        {
          "data": {
            "application/javascript": "\n  async function takePhoto(quality, delay) {\n      const video = document.createElement('video');\n      video.style.display = 'block';\n      const stream = await navigator.mediaDevices.getUserMedia({video: true});\n\n      document.body.appendChild(video);\n      video.srcObject = stream;\n      await video.play();\n\n      // Wait for video to start, you can adjust the delay here\n      await new Promise(resolve => setTimeout(resolve, delay));\n\n      const canvas = document.createElement('canvas');\n      canvas.width = video.videoWidth;\n      canvas.height = video.videoHeight;\n      canvas.getContext('2d').drawImage(video, 0, 0);\n      stream.getVideoTracks()[0].stop();\n      video.remove();\n      return canvas.toDataURL('image/jpeg', quality);\n  }\n  ",
            "text/plain": [
              "<IPython.core.display.Javascript object>"
            ]
          },
          "metadata": {},
          "output_type": "display_data"
        },
        {
          "name": "stdout",
          "output_type": "stream",
          "text": [
            "\n",
            "0: 640x640 1 closedmouth, 1 face, 2 openeyes, 7.4ms\n",
            "Speed: 1.5ms preprocess, 7.4ms inference, 1.3ms postprocess per image at shape (1, 3, 640, 640)\n",
            "['face', 'openeye', 'openeye', 'closedmouth']\n",
            "[0.87891, 0.58468, 0.57846, 0.57216]\n"
          ]
        },
        {
          "data": {
            "application/javascript": "\n  async function takePhoto(quality, delay) {\n      const video = document.createElement('video');\n      video.style.display = 'block';\n      const stream = await navigator.mediaDevices.getUserMedia({video: true});\n\n      document.body.appendChild(video);\n      video.srcObject = stream;\n      await video.play();\n\n      // Wait for video to start, you can adjust the delay here\n      await new Promise(resolve => setTimeout(resolve, delay));\n\n      const canvas = document.createElement('canvas');\n      canvas.width = video.videoWidth;\n      canvas.height = video.videoHeight;\n      canvas.getContext('2d').drawImage(video, 0, 0);\n      stream.getVideoTracks()[0].stop();\n      video.remove();\n      return canvas.toDataURL('image/jpeg', quality);\n  }\n  ",
            "text/plain": [
              "<IPython.core.display.Javascript object>"
            ]
          },
          "metadata": {},
          "output_type": "display_data"
        },
        {
          "name": "stdout",
          "output_type": "stream",
          "text": [
            "\n",
            "0: 640x640 1 closedmouth, 1 face, 2 openeyes, 7.4ms\n",
            "Speed: 1.5ms preprocess, 7.4ms inference, 1.3ms postprocess per image at shape (1, 3, 640, 640)\n",
            "['face', 'openeye', 'openeye', 'closedmouth']\n",
            "[0.87554, 0.58493, 0.56503, 0.55211]\n"
          ]
        },
        {
          "data": {
            "application/javascript": "\n  async function takePhoto(quality, delay) {\n      const video = document.createElement('video');\n      video.style.display = 'block';\n      const stream = await navigator.mediaDevices.getUserMedia({video: true});\n\n      document.body.appendChild(video);\n      video.srcObject = stream;\n      await video.play();\n\n      // Wait for video to start, you can adjust the delay here\n      await new Promise(resolve => setTimeout(resolve, delay));\n\n      const canvas = document.createElement('canvas');\n      canvas.width = video.videoWidth;\n      canvas.height = video.videoHeight;\n      canvas.getContext('2d').drawImage(video, 0, 0);\n      stream.getVideoTracks()[0].stop();\n      video.remove();\n      return canvas.toDataURL('image/jpeg', quality);\n  }\n  ",
            "text/plain": [
              "<IPython.core.display.Javascript object>"
            ]
          },
          "metadata": {},
          "output_type": "display_data"
        },
        {
          "name": "stdout",
          "output_type": "stream",
          "text": [
            "\n",
            "0: 640x640 1 closedmouth, 1 face, 2 openeyes, 7.4ms\n",
            "Speed: 1.5ms preprocess, 7.4ms inference, 1.3ms postprocess per image at shape (1, 3, 640, 640)\n",
            "['face', 'openeye', 'openeye', 'closedmouth']\n",
            "[0.87828, 0.63934, 0.60578, 0.51835]\n"
          ]
        },
        {
          "data": {
            "application/javascript": "\n  async function takePhoto(quality, delay) {\n      const video = document.createElement('video');\n      video.style.display = 'block';\n      const stream = await navigator.mediaDevices.getUserMedia({video: true});\n\n      document.body.appendChild(video);\n      video.srcObject = stream;\n      await video.play();\n\n      // Wait for video to start, you can adjust the delay here\n      await new Promise(resolve => setTimeout(resolve, delay));\n\n      const canvas = document.createElement('canvas');\n      canvas.width = video.videoWidth;\n      canvas.height = video.videoHeight;\n      canvas.getContext('2d').drawImage(video, 0, 0);\n      stream.getVideoTracks()[0].stop();\n      video.remove();\n      return canvas.toDataURL('image/jpeg', quality);\n  }\n  ",
            "text/plain": [
              "<IPython.core.display.Javascript object>"
            ]
          },
          "metadata": {},
          "output_type": "display_data"
        },
        {
          "name": "stdout",
          "output_type": "stream",
          "text": [
            "\n",
            "0: 640x640 1 closedmouth, 1 face, 2 openeyes, 7.4ms\n",
            "Speed: 1.5ms preprocess, 7.4ms inference, 1.3ms postprocess per image at shape (1, 3, 640, 640)\n",
            "['face', 'openeye', 'closedmouth', 'openeye']\n",
            "[0.87767, 0.60301, 0.56977, 0.56255]\n"
          ]
        },
        {
          "data": {
            "application/javascript": "\n  async function takePhoto(quality, delay) {\n      const video = document.createElement('video');\n      video.style.display = 'block';\n      const stream = await navigator.mediaDevices.getUserMedia({video: true});\n\n      document.body.appendChild(video);\n      video.srcObject = stream;\n      await video.play();\n\n      // Wait for video to start, you can adjust the delay here\n      await new Promise(resolve => setTimeout(resolve, delay));\n\n      const canvas = document.createElement('canvas');\n      canvas.width = video.videoWidth;\n      canvas.height = video.videoHeight;\n      canvas.getContext('2d').drawImage(video, 0, 0);\n      stream.getVideoTracks()[0].stop();\n      video.remove();\n      return canvas.toDataURL('image/jpeg', quality);\n  }\n  ",
            "text/plain": [
              "<IPython.core.display.Javascript object>"
            ]
          },
          "metadata": {},
          "output_type": "display_data"
        },
        {
          "name": "stdout",
          "output_type": "stream",
          "text": [
            "\n",
            "0: 640x640 1 closedmouth, 1 face, 3 openeyes, 7.4ms\n",
            "Speed: 1.7ms preprocess, 7.4ms inference, 1.3ms postprocess per image at shape (1, 3, 640, 640)\n",
            "['face', 'closedmouth', 'openeye', 'openeye', 'openeye']\n",
            "[0.87564, 0.58494, 0.57668, 0.52679, 0.34219]\n"
          ]
        },
        {
          "data": {
            "application/javascript": "\n  async function takePhoto(quality, delay) {\n      const video = document.createElement('video');\n      video.style.display = 'block';\n      const stream = await navigator.mediaDevices.getUserMedia({video: true});\n\n      document.body.appendChild(video);\n      video.srcObject = stream;\n      await video.play();\n\n      // Wait for video to start, you can adjust the delay here\n      await new Promise(resolve => setTimeout(resolve, delay));\n\n      const canvas = document.createElement('canvas');\n      canvas.width = video.videoWidth;\n      canvas.height = video.videoHeight;\n      canvas.getContext('2d').drawImage(video, 0, 0);\n      stream.getVideoTracks()[0].stop();\n      video.remove();\n      return canvas.toDataURL('image/jpeg', quality);\n  }\n  ",
            "text/plain": [
              "<IPython.core.display.Javascript object>"
            ]
          },
          "metadata": {},
          "output_type": "display_data"
        },
        {
          "name": "stdout",
          "output_type": "stream",
          "text": [
            "\n",
            "0: 640x640 1 closedmouth, 1 face, 2 openeyes, 7.4ms\n",
            "Speed: 1.5ms preprocess, 7.4ms inference, 1.3ms postprocess per image at shape (1, 3, 640, 640)\n",
            "['face', 'closedmouth', 'openeye', 'openeye']\n",
            "[0.882, 0.59705, 0.52557, 0.47658]\n"
          ]
        },
        {
          "data": {
            "application/javascript": "\n  async function takePhoto(quality, delay) {\n      const video = document.createElement('video');\n      video.style.display = 'block';\n      const stream = await navigator.mediaDevices.getUserMedia({video: true});\n\n      document.body.appendChild(video);\n      video.srcObject = stream;\n      await video.play();\n\n      // Wait for video to start, you can adjust the delay here\n      await new Promise(resolve => setTimeout(resolve, delay));\n\n      const canvas = document.createElement('canvas');\n      canvas.width = video.videoWidth;\n      canvas.height = video.videoHeight;\n      canvas.getContext('2d').drawImage(video, 0, 0);\n      stream.getVideoTracks()[0].stop();\n      video.remove();\n      return canvas.toDataURL('image/jpeg', quality);\n  }\n  ",
            "text/plain": [
              "<IPython.core.display.Javascript object>"
            ]
          },
          "metadata": {},
          "output_type": "display_data"
        },
        {
          "name": "stdout",
          "output_type": "stream",
          "text": [
            "\n",
            "0: 640x640 1 closedmouth, 1 face, 2 openeyes, 7.4ms\n",
            "Speed: 1.5ms preprocess, 7.4ms inference, 1.3ms postprocess per image at shape (1, 3, 640, 640)\n",
            "['face', 'closedmouth', 'openeye', 'openeye']\n",
            "[0.88232, 0.48051, 0.45217, 0.44106]\n"
          ]
        },
        {
          "data": {
            "application/javascript": "\n  async function takePhoto(quality, delay) {\n      const video = document.createElement('video');\n      video.style.display = 'block';\n      const stream = await navigator.mediaDevices.getUserMedia({video: true});\n\n      document.body.appendChild(video);\n      video.srcObject = stream;\n      await video.play();\n\n      // Wait for video to start, you can adjust the delay here\n      await new Promise(resolve => setTimeout(resolve, delay));\n\n      const canvas = document.createElement('canvas');\n      canvas.width = video.videoWidth;\n      canvas.height = video.videoHeight;\n      canvas.getContext('2d').drawImage(video, 0, 0);\n      stream.getVideoTracks()[0].stop();\n      video.remove();\n      return canvas.toDataURL('image/jpeg', quality);\n  }\n  ",
            "text/plain": [
              "<IPython.core.display.Javascript object>"
            ]
          },
          "metadata": {},
          "output_type": "display_data"
        },
        {
          "name": "stdout",
          "output_type": "stream",
          "text": [
            "\n",
            "0: 640x640 2 closedmouths, 1 face, 2 openeyes, 22.4ms\n",
            "Speed: 1.9ms preprocess, 22.4ms inference, 1.7ms postprocess per image at shape (1, 3, 640, 640)\n",
            "['face', 'closedmouth', 'openeye', 'openeye', 'closedmouth']\n",
            "[0.86693, 0.60456, 0.59945, 0.57373, 0.30701]\n"
          ]
        },
        {
          "data": {
            "application/javascript": "\n  async function takePhoto(quality, delay) {\n      const video = document.createElement('video');\n      video.style.display = 'block';\n      const stream = await navigator.mediaDevices.getUserMedia({video: true});\n\n      document.body.appendChild(video);\n      video.srcObject = stream;\n      await video.play();\n\n      // Wait for video to start, you can adjust the delay here\n      await new Promise(resolve => setTimeout(resolve, delay));\n\n      const canvas = document.createElement('canvas');\n      canvas.width = video.videoWidth;\n      canvas.height = video.videoHeight;\n      canvas.getContext('2d').drawImage(video, 0, 0);\n      stream.getVideoTracks()[0].stop();\n      video.remove();\n      return canvas.toDataURL('image/jpeg', quality);\n  }\n  ",
            "text/plain": [
              "<IPython.core.display.Javascript object>"
            ]
          },
          "metadata": {},
          "output_type": "display_data"
        },
        {
          "name": "stdout",
          "output_type": "stream",
          "text": [
            "\n",
            "0: 640x640 1 closedmouth, 1 face, 2 openeyes, 7.4ms\n",
            "Speed: 1.4ms preprocess, 7.4ms inference, 1.4ms postprocess per image at shape (1, 3, 640, 640)\n",
            "['face', 'openeye', 'closedmouth', 'openeye']\n",
            "[0.87553, 0.63306, 0.59901, 0.59801]\n"
          ]
        },
        {
          "data": {
            "application/javascript": "\n  async function takePhoto(quality, delay) {\n      const video = document.createElement('video');\n      video.style.display = 'block';\n      const stream = await navigator.mediaDevices.getUserMedia({video: true});\n\n      document.body.appendChild(video);\n      video.srcObject = stream;\n      await video.play();\n\n      // Wait for video to start, you can adjust the delay here\n      await new Promise(resolve => setTimeout(resolve, delay));\n\n      const canvas = document.createElement('canvas');\n      canvas.width = video.videoWidth;\n      canvas.height = video.videoHeight;\n      canvas.getContext('2d').drawImage(video, 0, 0);\n      stream.getVideoTracks()[0].stop();\n      video.remove();\n      return canvas.toDataURL('image/jpeg', quality);\n  }\n  ",
            "text/plain": [
              "<IPython.core.display.Javascript object>"
            ]
          },
          "metadata": {},
          "output_type": "display_data"
        },
        {
          "name": "stdout",
          "output_type": "stream",
          "text": [
            "\n",
            "0: 640x640 1 closedmouth, 1 face, 2 openeyes, 8.6ms\n",
            "Speed: 1.7ms preprocess, 8.6ms inference, 1.6ms postprocess per image at shape (1, 3, 640, 640)\n",
            "['face', 'openeye', 'openeye', 'closedmouth']\n",
            "[0.87621, 0.5989, 0.57954, 0.53639]\n"
          ]
        },
        {
          "data": {
            "application/javascript": "\n  async function takePhoto(quality, delay) {\n      const video = document.createElement('video');\n      video.style.display = 'block';\n      const stream = await navigator.mediaDevices.getUserMedia({video: true});\n\n      document.body.appendChild(video);\n      video.srcObject = stream;\n      await video.play();\n\n      // Wait for video to start, you can adjust the delay here\n      await new Promise(resolve => setTimeout(resolve, delay));\n\n      const canvas = document.createElement('canvas');\n      canvas.width = video.videoWidth;\n      canvas.height = video.videoHeight;\n      canvas.getContext('2d').drawImage(video, 0, 0);\n      stream.getVideoTracks()[0].stop();\n      video.remove();\n      return canvas.toDataURL('image/jpeg', quality);\n  }\n  ",
            "text/plain": [
              "<IPython.core.display.Javascript object>"
            ]
          },
          "metadata": {},
          "output_type": "display_data"
        },
        {
          "name": "stdout",
          "output_type": "stream",
          "text": [
            "\n",
            "0: 640x640 2 closedmouths, 1 face, 2 openeyes, 14.1ms\n",
            "Speed: 2.5ms preprocess, 14.1ms inference, 1.9ms postprocess per image at shape (1, 3, 640, 640)\n",
            "['face', 'openeye', 'closedmouth', 'openeye', 'closedmouth']\n",
            "[0.87762, 0.55826, 0.53354, 0.53121, 0.3426]\n"
          ]
        },
        {
          "data": {
            "application/javascript": "\n  async function takePhoto(quality, delay) {\n      const video = document.createElement('video');\n      video.style.display = 'block';\n      const stream = await navigator.mediaDevices.getUserMedia({video: true});\n\n      document.body.appendChild(video);\n      video.srcObject = stream;\n      await video.play();\n\n      // Wait for video to start, you can adjust the delay here\n      await new Promise(resolve => setTimeout(resolve, delay));\n\n      const canvas = document.createElement('canvas');\n      canvas.width = video.videoWidth;\n      canvas.height = video.videoHeight;\n      canvas.getContext('2d').drawImage(video, 0, 0);\n      stream.getVideoTracks()[0].stop();\n      video.remove();\n      return canvas.toDataURL('image/jpeg', quality);\n  }\n  ",
            "text/plain": [
              "<IPython.core.display.Javascript object>"
            ]
          },
          "metadata": {},
          "output_type": "display_data"
        },
        {
          "name": "stdout",
          "output_type": "stream",
          "text": [
            "\n",
            "0: 640x640 2 closedmouths, 1 face, 2 openeyes, 7.4ms\n",
            "Speed: 2.0ms preprocess, 7.4ms inference, 1.3ms postprocess per image at shape (1, 3, 640, 640)\n",
            "['face', 'openeye', 'openeye', 'closedmouth', 'closedmouth']\n",
            "[0.87132, 0.54896, 0.53138, 0.48627, 0.32143]\n"
          ]
        },
        {
          "data": {
            "application/javascript": "\n  async function takePhoto(quality, delay) {\n      const video = document.createElement('video');\n      video.style.display = 'block';\n      const stream = await navigator.mediaDevices.getUserMedia({video: true});\n\n      document.body.appendChild(video);\n      video.srcObject = stream;\n      await video.play();\n\n      // Wait for video to start, you can adjust the delay here\n      await new Promise(resolve => setTimeout(resolve, delay));\n\n      const canvas = document.createElement('canvas');\n      canvas.width = video.videoWidth;\n      canvas.height = video.videoHeight;\n      canvas.getContext('2d').drawImage(video, 0, 0);\n      stream.getVideoTracks()[0].stop();\n      video.remove();\n      return canvas.toDataURL('image/jpeg', quality);\n  }\n  ",
            "text/plain": [
              "<IPython.core.display.Javascript object>"
            ]
          },
          "metadata": {},
          "output_type": "display_data"
        },
        {
          "name": "stdout",
          "output_type": "stream",
          "text": [
            "\n",
            "0: 640x640 1 closedmouth, 1 face, 2 openeyes, 7.4ms\n",
            "Speed: 1.5ms preprocess, 7.4ms inference, 1.3ms postprocess per image at shape (1, 3, 640, 640)\n",
            "['face', 'openeye', 'closedmouth', 'openeye']\n",
            "[0.87713, 0.5826, 0.56321, 0.55892]\n"
          ]
        },
        {
          "data": {
            "application/javascript": "\n  async function takePhoto(quality, delay) {\n      const video = document.createElement('video');\n      video.style.display = 'block';\n      const stream = await navigator.mediaDevices.getUserMedia({video: true});\n\n      document.body.appendChild(video);\n      video.srcObject = stream;\n      await video.play();\n\n      // Wait for video to start, you can adjust the delay here\n      await new Promise(resolve => setTimeout(resolve, delay));\n\n      const canvas = document.createElement('canvas');\n      canvas.width = video.videoWidth;\n      canvas.height = video.videoHeight;\n      canvas.getContext('2d').drawImage(video, 0, 0);\n      stream.getVideoTracks()[0].stop();\n      video.remove();\n      return canvas.toDataURL('image/jpeg', quality);\n  }\n  ",
            "text/plain": [
              "<IPython.core.display.Javascript object>"
            ]
          },
          "metadata": {},
          "output_type": "display_data"
        },
        {
          "name": "stdout",
          "output_type": "stream",
          "text": [
            "\n",
            "0: 640x640 1 closedmouth, 1 face, 2 openeyes, 7.4ms\n",
            "Speed: 1.5ms preprocess, 7.4ms inference, 1.3ms postprocess per image at shape (1, 3, 640, 640)\n",
            "['face', 'openeye', 'openeye', 'closedmouth']\n",
            "[0.8884, 0.58755, 0.56239, 0.51522]\n"
          ]
        },
        {
          "data": {
            "application/javascript": "\n  async function takePhoto(quality, delay) {\n      const video = document.createElement('video');\n      video.style.display = 'block';\n      const stream = await navigator.mediaDevices.getUserMedia({video: true});\n\n      document.body.appendChild(video);\n      video.srcObject = stream;\n      await video.play();\n\n      // Wait for video to start, you can adjust the delay here\n      await new Promise(resolve => setTimeout(resolve, delay));\n\n      const canvas = document.createElement('canvas');\n      canvas.width = video.videoWidth;\n      canvas.height = video.videoHeight;\n      canvas.getContext('2d').drawImage(video, 0, 0);\n      stream.getVideoTracks()[0].stop();\n      video.remove();\n      return canvas.toDataURL('image/jpeg', quality);\n  }\n  ",
            "text/plain": [
              "<IPython.core.display.Javascript object>"
            ]
          },
          "metadata": {},
          "output_type": "display_data"
        },
        {
          "name": "stdout",
          "output_type": "stream",
          "text": [
            "\n",
            "0: 640x640 2 closedmouths, 1 face, 3 openeyes, 7.4ms\n",
            "Speed: 1.6ms preprocess, 7.4ms inference, 1.3ms postprocess per image at shape (1, 3, 640, 640)\n",
            "['face', 'openeye', 'openeye', 'closedmouth', 'closedmouth', 'openeye']\n",
            "[0.88179, 0.61165, 0.55956, 0.51417, 0.32325, 0.2612]\n"
          ]
        },
        {
          "data": {
            "application/javascript": "\n  async function takePhoto(quality, delay) {\n      const video = document.createElement('video');\n      video.style.display = 'block';\n      const stream = await navigator.mediaDevices.getUserMedia({video: true});\n\n      document.body.appendChild(video);\n      video.srcObject = stream;\n      await video.play();\n\n      // Wait for video to start, you can adjust the delay here\n      await new Promise(resolve => setTimeout(resolve, delay));\n\n      const canvas = document.createElement('canvas');\n      canvas.width = video.videoWidth;\n      canvas.height = video.videoHeight;\n      canvas.getContext('2d').drawImage(video, 0, 0);\n      stream.getVideoTracks()[0].stop();\n      video.remove();\n      return canvas.toDataURL('image/jpeg', quality);\n  }\n  ",
            "text/plain": [
              "<IPython.core.display.Javascript object>"
            ]
          },
          "metadata": {},
          "output_type": "display_data"
        },
        {
          "name": "stdout",
          "output_type": "stream",
          "text": [
            "\n",
            "0: 640x640 1 closedmouth, 1 face, 2 openeyes, 7.4ms\n",
            "Speed: 1.5ms preprocess, 7.4ms inference, 1.4ms postprocess per image at shape (1, 3, 640, 640)\n",
            "['face', 'openeye', 'openeye', 'closedmouth']\n",
            "[0.87337, 0.62296, 0.60514, 0.51024]\n"
          ]
        },
        {
          "data": {
            "application/javascript": "\n  async function takePhoto(quality, delay) {\n      const video = document.createElement('video');\n      video.style.display = 'block';\n      const stream = await navigator.mediaDevices.getUserMedia({video: true});\n\n      document.body.appendChild(video);\n      video.srcObject = stream;\n      await video.play();\n\n      // Wait for video to start, you can adjust the delay here\n      await new Promise(resolve => setTimeout(resolve, delay));\n\n      const canvas = document.createElement('canvas');\n      canvas.width = video.videoWidth;\n      canvas.height = video.videoHeight;\n      canvas.getContext('2d').drawImage(video, 0, 0);\n      stream.getVideoTracks()[0].stop();\n      video.remove();\n      return canvas.toDataURL('image/jpeg', quality);\n  }\n  ",
            "text/plain": [
              "<IPython.core.display.Javascript object>"
            ]
          },
          "metadata": {},
          "output_type": "display_data"
        },
        {
          "name": "stdout",
          "output_type": "stream",
          "text": [
            "\n",
            "0: 640x640 1 closedmouth, 1 face, 2 openeyes, 7.4ms\n",
            "Speed: 1.5ms preprocess, 7.4ms inference, 1.3ms postprocess per image at shape (1, 3, 640, 640)\n",
            "['face', 'openeye', 'openeye', 'closedmouth']\n",
            "[0.87481, 0.55788, 0.55526, 0.54168]\n"
          ]
        },
        {
          "data": {
            "application/javascript": "\n  async function takePhoto(quality, delay) {\n      const video = document.createElement('video');\n      video.style.display = 'block';\n      const stream = await navigator.mediaDevices.getUserMedia({video: true});\n\n      document.body.appendChild(video);\n      video.srcObject = stream;\n      await video.play();\n\n      // Wait for video to start, you can adjust the delay here\n      await new Promise(resolve => setTimeout(resolve, delay));\n\n      const canvas = document.createElement('canvas');\n      canvas.width = video.videoWidth;\n      canvas.height = video.videoHeight;\n      canvas.getContext('2d').drawImage(video, 0, 0);\n      stream.getVideoTracks()[0].stop();\n      video.remove();\n      return canvas.toDataURL('image/jpeg', quality);\n  }\n  ",
            "text/plain": [
              "<IPython.core.display.Javascript object>"
            ]
          },
          "metadata": {},
          "output_type": "display_data"
        },
        {
          "name": "stdout",
          "output_type": "stream",
          "text": [
            "\n",
            "0: 640x640 1 closedmouth, 1 face, 2 openeyes, 7.4ms\n",
            "Speed: 1.5ms preprocess, 7.4ms inference, 1.3ms postprocess per image at shape (1, 3, 640, 640)\n",
            "['face', 'openeye', 'openeye', 'closedmouth']\n",
            "[0.86687, 0.60282, 0.5929, 0.5616]\n"
          ]
        },
        {
          "data": {
            "application/javascript": "\n  async function takePhoto(quality, delay) {\n      const video = document.createElement('video');\n      video.style.display = 'block';\n      const stream = await navigator.mediaDevices.getUserMedia({video: true});\n\n      document.body.appendChild(video);\n      video.srcObject = stream;\n      await video.play();\n\n      // Wait for video to start, you can adjust the delay here\n      await new Promise(resolve => setTimeout(resolve, delay));\n\n      const canvas = document.createElement('canvas');\n      canvas.width = video.videoWidth;\n      canvas.height = video.videoHeight;\n      canvas.getContext('2d').drawImage(video, 0, 0);\n      stream.getVideoTracks()[0].stop();\n      video.remove();\n      return canvas.toDataURL('image/jpeg', quality);\n  }\n  ",
            "text/plain": [
              "<IPython.core.display.Javascript object>"
            ]
          },
          "metadata": {},
          "output_type": "display_data"
        },
        {
          "name": "stdout",
          "output_type": "stream",
          "text": [
            "\n",
            "0: 640x640 1 closedmouth, 1 face, 2 openeyes, 7.4ms\n",
            "Speed: 1.4ms preprocess, 7.4ms inference, 1.3ms postprocess per image at shape (1, 3, 640, 640)\n",
            "['face', 'openeye', 'openeye', 'closedmouth']\n",
            "[0.86356, 0.6189, 0.56654, 0.52911]\n"
          ]
        },
        {
          "data": {
            "application/javascript": "\n  async function takePhoto(quality, delay) {\n      const video = document.createElement('video');\n      video.style.display = 'block';\n      const stream = await navigator.mediaDevices.getUserMedia({video: true});\n\n      document.body.appendChild(video);\n      video.srcObject = stream;\n      await video.play();\n\n      // Wait for video to start, you can adjust the delay here\n      await new Promise(resolve => setTimeout(resolve, delay));\n\n      const canvas = document.createElement('canvas');\n      canvas.width = video.videoWidth;\n      canvas.height = video.videoHeight;\n      canvas.getContext('2d').drawImage(video, 0, 0);\n      stream.getVideoTracks()[0].stop();\n      video.remove();\n      return canvas.toDataURL('image/jpeg', quality);\n  }\n  ",
            "text/plain": [
              "<IPython.core.display.Javascript object>"
            ]
          },
          "metadata": {},
          "output_type": "display_data"
        },
        {
          "name": "stdout",
          "output_type": "stream",
          "text": [
            "\n",
            "0: 640x640 2 closedmouths, 1 face, 3 openeyes, 7.4ms\n",
            "Speed: 1.5ms preprocess, 7.4ms inference, 1.3ms postprocess per image at shape (1, 3, 640, 640)\n",
            "['face', 'openeye', 'openeye', 'closedmouth', 'openeye', 'closedmouth']\n",
            "[0.87426, 0.60568, 0.59246, 0.53025, 0.33479, 0.26605]\n"
          ]
        },
        {
          "data": {
            "application/javascript": "\n  async function takePhoto(quality, delay) {\n      const video = document.createElement('video');\n      video.style.display = 'block';\n      const stream = await navigator.mediaDevices.getUserMedia({video: true});\n\n      document.body.appendChild(video);\n      video.srcObject = stream;\n      await video.play();\n\n      // Wait for video to start, you can adjust the delay here\n      await new Promise(resolve => setTimeout(resolve, delay));\n\n      const canvas = document.createElement('canvas');\n      canvas.width = video.videoWidth;\n      canvas.height = video.videoHeight;\n      canvas.getContext('2d').drawImage(video, 0, 0);\n      stream.getVideoTracks()[0].stop();\n      video.remove();\n      return canvas.toDataURL('image/jpeg', quality);\n  }\n  ",
            "text/plain": [
              "<IPython.core.display.Javascript object>"
            ]
          },
          "metadata": {},
          "output_type": "display_data"
        },
        {
          "name": "stdout",
          "output_type": "stream",
          "text": [
            "\n",
            "0: 640x640 1 closedmouth, 1 face, 3 openeyes, 11.6ms\n",
            "Speed: 1.6ms preprocess, 11.6ms inference, 1.6ms postprocess per image at shape (1, 3, 640, 640)\n",
            "['face', 'openeye', 'openeye', 'closedmouth', 'openeye']\n",
            "[0.86686, 0.61323, 0.59007, 0.57524, 0.27273]\n"
          ]
        },
        {
          "data": {
            "application/javascript": "\n  async function takePhoto(quality, delay) {\n      const video = document.createElement('video');\n      video.style.display = 'block';\n      const stream = await navigator.mediaDevices.getUserMedia({video: true});\n\n      document.body.appendChild(video);\n      video.srcObject = stream;\n      await video.play();\n\n      // Wait for video to start, you can adjust the delay here\n      await new Promise(resolve => setTimeout(resolve, delay));\n\n      const canvas = document.createElement('canvas');\n      canvas.width = video.videoWidth;\n      canvas.height = video.videoHeight;\n      canvas.getContext('2d').drawImage(video, 0, 0);\n      stream.getVideoTracks()[0].stop();\n      video.remove();\n      return canvas.toDataURL('image/jpeg', quality);\n  }\n  ",
            "text/plain": [
              "<IPython.core.display.Javascript object>"
            ]
          },
          "metadata": {},
          "output_type": "display_data"
        },
        {
          "name": "stdout",
          "output_type": "stream",
          "text": [
            "\n",
            "0: 640x640 1 closedmouth, 1 face, 3 openeyes, 16.0ms\n",
            "Speed: 1.8ms preprocess, 16.0ms inference, 2.0ms postprocess per image at shape (1, 3, 640, 640)\n",
            "['face', 'openeye', 'openeye', 'closedmouth', 'openeye']\n",
            "[0.8677, 0.61576, 0.55558, 0.48262, 0.29206]\n"
          ]
        },
        {
          "data": {
            "application/javascript": "\n  async function takePhoto(quality, delay) {\n      const video = document.createElement('video');\n      video.style.display = 'block';\n      const stream = await navigator.mediaDevices.getUserMedia({video: true});\n\n      document.body.appendChild(video);\n      video.srcObject = stream;\n      await video.play();\n\n      // Wait for video to start, you can adjust the delay here\n      await new Promise(resolve => setTimeout(resolve, delay));\n\n      const canvas = document.createElement('canvas');\n      canvas.width = video.videoWidth;\n      canvas.height = video.videoHeight;\n      canvas.getContext('2d').drawImage(video, 0, 0);\n      stream.getVideoTracks()[0].stop();\n      video.remove();\n      return canvas.toDataURL('image/jpeg', quality);\n  }\n  ",
            "text/plain": [
              "<IPython.core.display.Javascript object>"
            ]
          },
          "metadata": {},
          "output_type": "display_data"
        },
        {
          "name": "stdout",
          "output_type": "stream",
          "text": [
            "\n",
            "0: 640x640 1 closedmouth, 1 face, 2 openeyes, 7.4ms\n",
            "Speed: 1.5ms preprocess, 7.4ms inference, 1.4ms postprocess per image at shape (1, 3, 640, 640)\n",
            "['face', 'openeye', 'openeye', 'closedmouth']\n",
            "[0.87423, 0.63907, 0.52496, 0.49086]\n"
          ]
        },
        {
          "data": {
            "application/javascript": "\n  async function takePhoto(quality, delay) {\n      const video = document.createElement('video');\n      video.style.display = 'block';\n      const stream = await navigator.mediaDevices.getUserMedia({video: true});\n\n      document.body.appendChild(video);\n      video.srcObject = stream;\n      await video.play();\n\n      // Wait for video to start, you can adjust the delay here\n      await new Promise(resolve => setTimeout(resolve, delay));\n\n      const canvas = document.createElement('canvas');\n      canvas.width = video.videoWidth;\n      canvas.height = video.videoHeight;\n      canvas.getContext('2d').drawImage(video, 0, 0);\n      stream.getVideoTracks()[0].stop();\n      video.remove();\n      return canvas.toDataURL('image/jpeg', quality);\n  }\n  ",
            "text/plain": [
              "<IPython.core.display.Javascript object>"
            ]
          },
          "metadata": {},
          "output_type": "display_data"
        },
        {
          "name": "stdout",
          "output_type": "stream",
          "text": [
            "\n",
            "0: 640x640 1 closedmouth, 1 face, 2 openeyes, 7.4ms\n",
            "Speed: 1.5ms preprocess, 7.4ms inference, 1.3ms postprocess per image at shape (1, 3, 640, 640)\n",
            "['face', 'openeye', 'closedmouth', 'openeye']\n",
            "[0.87977, 0.63246, 0.54667, 0.53591]\n"
          ]
        },
        {
          "data": {
            "application/javascript": "\n  async function takePhoto(quality, delay) {\n      const video = document.createElement('video');\n      video.style.display = 'block';\n      const stream = await navigator.mediaDevices.getUserMedia({video: true});\n\n      document.body.appendChild(video);\n      video.srcObject = stream;\n      await video.play();\n\n      // Wait for video to start, you can adjust the delay here\n      await new Promise(resolve => setTimeout(resolve, delay));\n\n      const canvas = document.createElement('canvas');\n      canvas.width = video.videoWidth;\n      canvas.height = video.videoHeight;\n      canvas.getContext('2d').drawImage(video, 0, 0);\n      stream.getVideoTracks()[0].stop();\n      video.remove();\n      return canvas.toDataURL('image/jpeg', quality);\n  }\n  ",
            "text/plain": [
              "<IPython.core.display.Javascript object>"
            ]
          },
          "metadata": {},
          "output_type": "display_data"
        },
        {
          "name": "stdout",
          "output_type": "stream",
          "text": [
            "\n",
            "0: 640x640 1 closedmouth, 1 face, 2 openeyes, 9.5ms\n",
            "Speed: 1.9ms preprocess, 9.5ms inference, 1.6ms postprocess per image at shape (1, 3, 640, 640)\n",
            "['face', 'openeye', 'openeye', 'closedmouth']\n",
            "[0.87272, 0.56469, 0.54337, 0.54086]\n"
          ]
        },
        {
          "data": {
            "application/javascript": "\n  async function takePhoto(quality, delay) {\n      const video = document.createElement('video');\n      video.style.display = 'block';\n      const stream = await navigator.mediaDevices.getUserMedia({video: true});\n\n      document.body.appendChild(video);\n      video.srcObject = stream;\n      await video.play();\n\n      // Wait for video to start, you can adjust the delay here\n      await new Promise(resolve => setTimeout(resolve, delay));\n\n      const canvas = document.createElement('canvas');\n      canvas.width = video.videoWidth;\n      canvas.height = video.videoHeight;\n      canvas.getContext('2d').drawImage(video, 0, 0);\n      stream.getVideoTracks()[0].stop();\n      video.remove();\n      return canvas.toDataURL('image/jpeg', quality);\n  }\n  ",
            "text/plain": [
              "<IPython.core.display.Javascript object>"
            ]
          },
          "metadata": {},
          "output_type": "display_data"
        },
        {
          "name": "stdout",
          "output_type": "stream",
          "text": [
            "\n",
            "0: 640x640 1 closedmouth, 1 face, 2 openeyes, 7.4ms\n",
            "Speed: 1.5ms preprocess, 7.4ms inference, 1.3ms postprocess per image at shape (1, 3, 640, 640)\n",
            "['face', 'openeye', 'closedmouth', 'openeye']\n",
            "[0.8763, 0.59513, 0.57258, 0.55694]\n"
          ]
        },
        {
          "data": {
            "application/javascript": "\n  async function takePhoto(quality, delay) {\n      const video = document.createElement('video');\n      video.style.display = 'block';\n      const stream = await navigator.mediaDevices.getUserMedia({video: true});\n\n      document.body.appendChild(video);\n      video.srcObject = stream;\n      await video.play();\n\n      // Wait for video to start, you can adjust the delay here\n      await new Promise(resolve => setTimeout(resolve, delay));\n\n      const canvas = document.createElement('canvas');\n      canvas.width = video.videoWidth;\n      canvas.height = video.videoHeight;\n      canvas.getContext('2d').drawImage(video, 0, 0);\n      stream.getVideoTracks()[0].stop();\n      video.remove();\n      return canvas.toDataURL('image/jpeg', quality);\n  }\n  ",
            "text/plain": [
              "<IPython.core.display.Javascript object>"
            ]
          },
          "metadata": {},
          "output_type": "display_data"
        },
        {
          "name": "stdout",
          "output_type": "stream",
          "text": [
            "\n",
            "0: 640x640 2 closedmouths, 1 face, 2 openeyes, 7.4ms\n",
            "Speed: 1.5ms preprocess, 7.4ms inference, 1.3ms postprocess per image at shape (1, 3, 640, 640)\n",
            "['face', 'openeye', 'openeye', 'closedmouth', 'closedmouth']\n",
            "[0.88121, 0.56642, 0.55949, 0.50109, 0.29586]\n"
          ]
        },
        {
          "data": {
            "application/javascript": "\n  async function takePhoto(quality, delay) {\n      const video = document.createElement('video');\n      video.style.display = 'block';\n      const stream = await navigator.mediaDevices.getUserMedia({video: true});\n\n      document.body.appendChild(video);\n      video.srcObject = stream;\n      await video.play();\n\n      // Wait for video to start, you can adjust the delay here\n      await new Promise(resolve => setTimeout(resolve, delay));\n\n      const canvas = document.createElement('canvas');\n      canvas.width = video.videoWidth;\n      canvas.height = video.videoHeight;\n      canvas.getContext('2d').drawImage(video, 0, 0);\n      stream.getVideoTracks()[0].stop();\n      video.remove();\n      return canvas.toDataURL('image/jpeg', quality);\n  }\n  ",
            "text/plain": [
              "<IPython.core.display.Javascript object>"
            ]
          },
          "metadata": {},
          "output_type": "display_data"
        },
        {
          "name": "stdout",
          "output_type": "stream",
          "text": [
            "\n",
            "0: 640x640 2 closedmouths, 1 face, 2 openeyes, 7.4ms\n",
            "Speed: 1.5ms preprocess, 7.4ms inference, 1.3ms postprocess per image at shape (1, 3, 640, 640)\n",
            "['face', 'openeye', 'openeye', 'closedmouth', 'closedmouth']\n",
            "[0.86956, 0.55034, 0.54861, 0.48101, 0.33745]\n"
          ]
        },
        {
          "data": {
            "application/javascript": "\n  async function takePhoto(quality, delay) {\n      const video = document.createElement('video');\n      video.style.display = 'block';\n      const stream = await navigator.mediaDevices.getUserMedia({video: true});\n\n      document.body.appendChild(video);\n      video.srcObject = stream;\n      await video.play();\n\n      // Wait for video to start, you can adjust the delay here\n      await new Promise(resolve => setTimeout(resolve, delay));\n\n      const canvas = document.createElement('canvas');\n      canvas.width = video.videoWidth;\n      canvas.height = video.videoHeight;\n      canvas.getContext('2d').drawImage(video, 0, 0);\n      stream.getVideoTracks()[0].stop();\n      video.remove();\n      return canvas.toDataURL('image/jpeg', quality);\n  }\n  ",
            "text/plain": [
              "<IPython.core.display.Javascript object>"
            ]
          },
          "metadata": {},
          "output_type": "display_data"
        },
        {
          "name": "stdout",
          "output_type": "stream",
          "text": [
            "\n",
            "0: 640x640 1 closedmouth, 1 face, 2 openeyes, 7.4ms\n",
            "Speed: 1.5ms preprocess, 7.4ms inference, 1.3ms postprocess per image at shape (1, 3, 640, 640)\n",
            "['face', 'openeye', 'openeye', 'closedmouth']\n",
            "[0.86437, 0.61748, 0.60012, 0.51339]\n"
          ]
        },
        {
          "data": {
            "application/javascript": "\n  async function takePhoto(quality, delay) {\n      const video = document.createElement('video');\n      video.style.display = 'block';\n      const stream = await navigator.mediaDevices.getUserMedia({video: true});\n\n      document.body.appendChild(video);\n      video.srcObject = stream;\n      await video.play();\n\n      // Wait for video to start, you can adjust the delay here\n      await new Promise(resolve => setTimeout(resolve, delay));\n\n      const canvas = document.createElement('canvas');\n      canvas.width = video.videoWidth;\n      canvas.height = video.videoHeight;\n      canvas.getContext('2d').drawImage(video, 0, 0);\n      stream.getVideoTracks()[0].stop();\n      video.remove();\n      return canvas.toDataURL('image/jpeg', quality);\n  }\n  ",
            "text/plain": [
              "<IPython.core.display.Javascript object>"
            ]
          },
          "metadata": {},
          "output_type": "display_data"
        },
        {
          "name": "stdout",
          "output_type": "stream",
          "text": [
            "\n",
            "0: 640x640 1 closedmouth, 1 face, 2 openeyes, 7.4ms\n",
            "Speed: 1.5ms preprocess, 7.4ms inference, 1.3ms postprocess per image at shape (1, 3, 640, 640)\n",
            "['face', 'openeye', 'openeye', 'closedmouth']\n",
            "[0.87523, 0.63511, 0.57176, 0.53375]\n"
          ]
        },
        {
          "data": {
            "application/javascript": "\n  async function takePhoto(quality, delay) {\n      const video = document.createElement('video');\n      video.style.display = 'block';\n      const stream = await navigator.mediaDevices.getUserMedia({video: true});\n\n      document.body.appendChild(video);\n      video.srcObject = stream;\n      await video.play();\n\n      // Wait for video to start, you can adjust the delay here\n      await new Promise(resolve => setTimeout(resolve, delay));\n\n      const canvas = document.createElement('canvas');\n      canvas.width = video.videoWidth;\n      canvas.height = video.videoHeight;\n      canvas.getContext('2d').drawImage(video, 0, 0);\n      stream.getVideoTracks()[0].stop();\n      video.remove();\n      return canvas.toDataURL('image/jpeg', quality);\n  }\n  ",
            "text/plain": [
              "<IPython.core.display.Javascript object>"
            ]
          },
          "metadata": {},
          "output_type": "display_data"
        },
        {
          "name": "stdout",
          "output_type": "stream",
          "text": [
            "\n",
            "0: 640x640 1 closedmouth, 1 face, 2 openeyes, 8.1ms\n",
            "Speed: 1.7ms preprocess, 8.1ms inference, 1.3ms postprocess per image at shape (1, 3, 640, 640)\n",
            "['face', 'openeye', 'openeye', 'closedmouth']\n",
            "[0.88495, 0.6001, 0.59084, 0.57679]\n"
          ]
        },
        {
          "data": {
            "application/javascript": "\n  async function takePhoto(quality, delay) {\n      const video = document.createElement('video');\n      video.style.display = 'block';\n      const stream = await navigator.mediaDevices.getUserMedia({video: true});\n\n      document.body.appendChild(video);\n      video.srcObject = stream;\n      await video.play();\n\n      // Wait for video to start, you can adjust the delay here\n      await new Promise(resolve => setTimeout(resolve, delay));\n\n      const canvas = document.createElement('canvas');\n      canvas.width = video.videoWidth;\n      canvas.height = video.videoHeight;\n      canvas.getContext('2d').drawImage(video, 0, 0);\n      stream.getVideoTracks()[0].stop();\n      video.remove();\n      return canvas.toDataURL('image/jpeg', quality);\n  }\n  ",
            "text/plain": [
              "<IPython.core.display.Javascript object>"
            ]
          },
          "metadata": {},
          "output_type": "display_data"
        },
        {
          "name": "stdout",
          "output_type": "stream",
          "text": [
            "\n",
            "0: 640x640 1 closedmouth, 1 face, 2 openeyes, 11.1ms\n",
            "Speed: 1.7ms preprocess, 11.1ms inference, 1.8ms postprocess per image at shape (1, 3, 640, 640)\n",
            "['face', 'openeye', 'openeye', 'closedmouth']\n",
            "[0.88827, 0.64164, 0.58286, 0.52061]\n"
          ]
        },
        {
          "data": {
            "application/javascript": "\n  async function takePhoto(quality, delay) {\n      const video = document.createElement('video');\n      video.style.display = 'block';\n      const stream = await navigator.mediaDevices.getUserMedia({video: true});\n\n      document.body.appendChild(video);\n      video.srcObject = stream;\n      await video.play();\n\n      // Wait for video to start, you can adjust the delay here\n      await new Promise(resolve => setTimeout(resolve, delay));\n\n      const canvas = document.createElement('canvas');\n      canvas.width = video.videoWidth;\n      canvas.height = video.videoHeight;\n      canvas.getContext('2d').drawImage(video, 0, 0);\n      stream.getVideoTracks()[0].stop();\n      video.remove();\n      return canvas.toDataURL('image/jpeg', quality);\n  }\n  ",
            "text/plain": [
              "<IPython.core.display.Javascript object>"
            ]
          },
          "metadata": {},
          "output_type": "display_data"
        },
        {
          "name": "stdout",
          "output_type": "stream",
          "text": [
            "\n",
            "0: 640x640 1 closedmouth, 1 face, 2 openeyes, 8.8ms\n",
            "Speed: 1.9ms preprocess, 8.8ms inference, 1.5ms postprocess per image at shape (1, 3, 640, 640)\n",
            "['face', 'openeye', 'openeye', 'closedmouth']\n",
            "[0.89494, 0.60903, 0.57009, 0.55499]\n"
          ]
        },
        {
          "data": {
            "application/javascript": "\n  async function takePhoto(quality, delay) {\n      const video = document.createElement('video');\n      video.style.display = 'block';\n      const stream = await navigator.mediaDevices.getUserMedia({video: true});\n\n      document.body.appendChild(video);\n      video.srcObject = stream;\n      await video.play();\n\n      // Wait for video to start, you can adjust the delay here\n      await new Promise(resolve => setTimeout(resolve, delay));\n\n      const canvas = document.createElement('canvas');\n      canvas.width = video.videoWidth;\n      canvas.height = video.videoHeight;\n      canvas.getContext('2d').drawImage(video, 0, 0);\n      stream.getVideoTracks()[0].stop();\n      video.remove();\n      return canvas.toDataURL('image/jpeg', quality);\n  }\n  ",
            "text/plain": [
              "<IPython.core.display.Javascript object>"
            ]
          },
          "metadata": {},
          "output_type": "display_data"
        },
        {
          "name": "stdout",
          "output_type": "stream",
          "text": [
            "\n",
            "0: 640x640 1 closedmouth, 1 face, 2 openeyes, 7.4ms\n",
            "Speed: 1.7ms preprocess, 7.4ms inference, 1.3ms postprocess per image at shape (1, 3, 640, 640)\n",
            "['face', 'closedmouth', 'openeye', 'openeye']\n",
            "[0.86626, 0.60797, 0.57285, 0.53663]\n"
          ]
        },
        {
          "data": {
            "application/javascript": "\n  async function takePhoto(quality, delay) {\n      const video = document.createElement('video');\n      video.style.display = 'block';\n      const stream = await navigator.mediaDevices.getUserMedia({video: true});\n\n      document.body.appendChild(video);\n      video.srcObject = stream;\n      await video.play();\n\n      // Wait for video to start, you can adjust the delay here\n      await new Promise(resolve => setTimeout(resolve, delay));\n\n      const canvas = document.createElement('canvas');\n      canvas.width = video.videoWidth;\n      canvas.height = video.videoHeight;\n      canvas.getContext('2d').drawImage(video, 0, 0);\n      stream.getVideoTracks()[0].stop();\n      video.remove();\n      return canvas.toDataURL('image/jpeg', quality);\n  }\n  ",
            "text/plain": [
              "<IPython.core.display.Javascript object>"
            ]
          },
          "metadata": {},
          "output_type": "display_data"
        },
        {
          "name": "stdout",
          "output_type": "stream",
          "text": [
            "\n",
            "0: 640x640 1 closedmouth, 1 face, 2 openeyes, 7.7ms\n",
            "Speed: 1.7ms preprocess, 7.7ms inference, 1.4ms postprocess per image at shape (1, 3, 640, 640)\n",
            "['face', 'openeye', 'closedmouth', 'openeye']\n",
            "[0.8681, 0.57356, 0.54779, 0.25136]\n"
          ]
        },
        {
          "data": {
            "application/javascript": "\n  async function takePhoto(quality, delay) {\n      const video = document.createElement('video');\n      video.style.display = 'block';\n      const stream = await navigator.mediaDevices.getUserMedia({video: true});\n\n      document.body.appendChild(video);\n      video.srcObject = stream;\n      await video.play();\n\n      // Wait for video to start, you can adjust the delay here\n      await new Promise(resolve => setTimeout(resolve, delay));\n\n      const canvas = document.createElement('canvas');\n      canvas.width = video.videoWidth;\n      canvas.height = video.videoHeight;\n      canvas.getContext('2d').drawImage(video, 0, 0);\n      stream.getVideoTracks()[0].stop();\n      video.remove();\n      return canvas.toDataURL('image/jpeg', quality);\n  }\n  ",
            "text/plain": [
              "<IPython.core.display.Javascript object>"
            ]
          },
          "metadata": {},
          "output_type": "display_data"
        },
        {
          "name": "stdout",
          "output_type": "stream",
          "text": [
            "\n",
            "0: 640x640 1 closedmouth, 1 face, 2 openeyes, 7.4ms\n",
            "Speed: 1.5ms preprocess, 7.4ms inference, 1.3ms postprocess per image at shape (1, 3, 640, 640)\n",
            "['face', 'openeye', 'closedmouth', 'openeye']\n",
            "[0.88713, 0.57234, 0.54227, 0.52773]\n"
          ]
        },
        {
          "data": {
            "application/javascript": "\n  async function takePhoto(quality, delay) {\n      const video = document.createElement('video');\n      video.style.display = 'block';\n      const stream = await navigator.mediaDevices.getUserMedia({video: true});\n\n      document.body.appendChild(video);\n      video.srcObject = stream;\n      await video.play();\n\n      // Wait for video to start, you can adjust the delay here\n      await new Promise(resolve => setTimeout(resolve, delay));\n\n      const canvas = document.createElement('canvas');\n      canvas.width = video.videoWidth;\n      canvas.height = video.videoHeight;\n      canvas.getContext('2d').drawImage(video, 0, 0);\n      stream.getVideoTracks()[0].stop();\n      video.remove();\n      return canvas.toDataURL('image/jpeg', quality);\n  }\n  ",
            "text/plain": [
              "<IPython.core.display.Javascript object>"
            ]
          },
          "metadata": {},
          "output_type": "display_data"
        },
        {
          "name": "stdout",
          "output_type": "stream",
          "text": [
            "\n",
            "0: 640x640 1 closedmouth, 1 face, 2 openeyes, 7.4ms\n",
            "Speed: 1.5ms preprocess, 7.4ms inference, 1.4ms postprocess per image at shape (1, 3, 640, 640)\n",
            "['face', 'closedmouth', 'openeye', 'openeye']\n",
            "[0.86629, 0.57886, 0.56591, 0.52462]\n"
          ]
        },
        {
          "data": {
            "application/javascript": "\n  async function takePhoto(quality, delay) {\n      const video = document.createElement('video');\n      video.style.display = 'block';\n      const stream = await navigator.mediaDevices.getUserMedia({video: true});\n\n      document.body.appendChild(video);\n      video.srcObject = stream;\n      await video.play();\n\n      // Wait for video to start, you can adjust the delay here\n      await new Promise(resolve => setTimeout(resolve, delay));\n\n      const canvas = document.createElement('canvas');\n      canvas.width = video.videoWidth;\n      canvas.height = video.videoHeight;\n      canvas.getContext('2d').drawImage(video, 0, 0);\n      stream.getVideoTracks()[0].stop();\n      video.remove();\n      return canvas.toDataURL('image/jpeg', quality);\n  }\n  ",
            "text/plain": [
              "<IPython.core.display.Javascript object>"
            ]
          },
          "metadata": {},
          "output_type": "display_data"
        },
        {
          "name": "stdout",
          "output_type": "stream",
          "text": [
            "\n",
            "0: 640x640 2 closedmouths, 1 face, 3 openeyes, 7.4ms\n",
            "Speed: 1.6ms preprocess, 7.4ms inference, 1.3ms postprocess per image at shape (1, 3, 640, 640)\n",
            "['face', 'openeye', 'openeye', 'closedmouth', 'closedmouth', 'openeye']\n",
            "[0.89086, 0.63119, 0.59214, 0.492, 0.37526, 0.3184]\n"
          ]
        },
        {
          "data": {
            "application/javascript": "\n  async function takePhoto(quality, delay) {\n      const video = document.createElement('video');\n      video.style.display = 'block';\n      const stream = await navigator.mediaDevices.getUserMedia({video: true});\n\n      document.body.appendChild(video);\n      video.srcObject = stream;\n      await video.play();\n\n      // Wait for video to start, you can adjust the delay here\n      await new Promise(resolve => setTimeout(resolve, delay));\n\n      const canvas = document.createElement('canvas');\n      canvas.width = video.videoWidth;\n      canvas.height = video.videoHeight;\n      canvas.getContext('2d').drawImage(video, 0, 0);\n      stream.getVideoTracks()[0].stop();\n      video.remove();\n      return canvas.toDataURL('image/jpeg', quality);\n  }\n  ",
            "text/plain": [
              "<IPython.core.display.Javascript object>"
            ]
          },
          "metadata": {},
          "output_type": "display_data"
        },
        {
          "name": "stdout",
          "output_type": "stream",
          "text": [
            "\n",
            "0: 640x640 2 closedmouths, 1 face, 2 openeyes, 10.9ms\n",
            "Speed: 2.0ms preprocess, 10.9ms inference, 1.7ms postprocess per image at shape (1, 3, 640, 640)\n",
            "['face', 'openeye', 'closedmouth', 'openeye', 'closedmouth']\n",
            "[0.88553, 0.60873, 0.5972, 0.55733, 0.28751]\n"
          ]
        },
        {
          "data": {
            "application/javascript": "\n  async function takePhoto(quality, delay) {\n      const video = document.createElement('video');\n      video.style.display = 'block';\n      const stream = await navigator.mediaDevices.getUserMedia({video: true});\n\n      document.body.appendChild(video);\n      video.srcObject = stream;\n      await video.play();\n\n      // Wait for video to start, you can adjust the delay here\n      await new Promise(resolve => setTimeout(resolve, delay));\n\n      const canvas = document.createElement('canvas');\n      canvas.width = video.videoWidth;\n      canvas.height = video.videoHeight;\n      canvas.getContext('2d').drawImage(video, 0, 0);\n      stream.getVideoTracks()[0].stop();\n      video.remove();\n      return canvas.toDataURL('image/jpeg', quality);\n  }\n  ",
            "text/plain": [
              "<IPython.core.display.Javascript object>"
            ]
          },
          "metadata": {},
          "output_type": "display_data"
        },
        {
          "name": "stdout",
          "output_type": "stream",
          "text": [
            "\n",
            "0: 640x640 1 closedmouth, 1 face, 2 openeyes, 7.4ms\n",
            "Speed: 1.5ms preprocess, 7.4ms inference, 1.3ms postprocess per image at shape (1, 3, 640, 640)\n",
            "['face', 'closedmouth', 'openeye', 'openeye']\n",
            "[0.87719, 0.57295, 0.49928, 0.43986]\n"
          ]
        },
        {
          "data": {
            "application/javascript": "\n  async function takePhoto(quality, delay) {\n      const video = document.createElement('video');\n      video.style.display = 'block';\n      const stream = await navigator.mediaDevices.getUserMedia({video: true});\n\n      document.body.appendChild(video);\n      video.srcObject = stream;\n      await video.play();\n\n      // Wait for video to start, you can adjust the delay here\n      await new Promise(resolve => setTimeout(resolve, delay));\n\n      const canvas = document.createElement('canvas');\n      canvas.width = video.videoWidth;\n      canvas.height = video.videoHeight;\n      canvas.getContext('2d').drawImage(video, 0, 0);\n      stream.getVideoTracks()[0].stop();\n      video.remove();\n      return canvas.toDataURL('image/jpeg', quality);\n  }\n  ",
            "text/plain": [
              "<IPython.core.display.Javascript object>"
            ]
          },
          "metadata": {},
          "output_type": "display_data"
        },
        {
          "name": "stdout",
          "output_type": "stream",
          "text": [
            "\n",
            "0: 640x640 1 closedmouth, 1 face, 2 openeyes, 8.3ms\n",
            "Speed: 1.9ms preprocess, 8.3ms inference, 1.4ms postprocess per image at shape (1, 3, 640, 640)\n",
            "['face', 'openeye', 'closedmouth', 'openeye']\n",
            "[0.89336, 0.59345, 0.57327, 0.48986]\n"
          ]
        },
        {
          "data": {
            "application/javascript": "\n  async function takePhoto(quality, delay) {\n      const video = document.createElement('video');\n      video.style.display = 'block';\n      const stream = await navigator.mediaDevices.getUserMedia({video: true});\n\n      document.body.appendChild(video);\n      video.srcObject = stream;\n      await video.play();\n\n      // Wait for video to start, you can adjust the delay here\n      await new Promise(resolve => setTimeout(resolve, delay));\n\n      const canvas = document.createElement('canvas');\n      canvas.width = video.videoWidth;\n      canvas.height = video.videoHeight;\n      canvas.getContext('2d').drawImage(video, 0, 0);\n      stream.getVideoTracks()[0].stop();\n      video.remove();\n      return canvas.toDataURL('image/jpeg', quality);\n  }\n  ",
            "text/plain": [
              "<IPython.core.display.Javascript object>"
            ]
          },
          "metadata": {},
          "output_type": "display_data"
        },
        {
          "name": "stdout",
          "output_type": "stream",
          "text": [
            "\n",
            "0: 640x640 1 closedmouth, 1 face, 2 openeyes, 8.6ms\n",
            "Speed: 1.8ms preprocess, 8.6ms inference, 1.6ms postprocess per image at shape (1, 3, 640, 640)\n",
            "['face', 'openeye', 'openeye', 'closedmouth']\n",
            "[0.89008, 0.59368, 0.57151, 0.5142]\n"
          ]
        },
        {
          "data": {
            "application/javascript": "\n  async function takePhoto(quality, delay) {\n      const video = document.createElement('video');\n      video.style.display = 'block';\n      const stream = await navigator.mediaDevices.getUserMedia({video: true});\n\n      document.body.appendChild(video);\n      video.srcObject = stream;\n      await video.play();\n\n      // Wait for video to start, you can adjust the delay here\n      await new Promise(resolve => setTimeout(resolve, delay));\n\n      const canvas = document.createElement('canvas');\n      canvas.width = video.videoWidth;\n      canvas.height = video.videoHeight;\n      canvas.getContext('2d').drawImage(video, 0, 0);\n      stream.getVideoTracks()[0].stop();\n      video.remove();\n      return canvas.toDataURL('image/jpeg', quality);\n  }\n  ",
            "text/plain": [
              "<IPython.core.display.Javascript object>"
            ]
          },
          "metadata": {},
          "output_type": "display_data"
        },
        {
          "name": "stdout",
          "output_type": "stream",
          "text": [
            "\n",
            "0: 640x640 1 closedmouth, 1 face, 2 openeyes, 10.6ms\n",
            "Speed: 1.6ms preprocess, 10.6ms inference, 1.6ms postprocess per image at shape (1, 3, 640, 640)\n",
            "['face', 'openeye', 'closedmouth', 'openeye']\n",
            "[0.90462, 0.54929, 0.53974, 0.52317]\n"
          ]
        },
        {
          "data": {
            "application/javascript": "\n  async function takePhoto(quality, delay) {\n      const video = document.createElement('video');\n      video.style.display = 'block';\n      const stream = await navigator.mediaDevices.getUserMedia({video: true});\n\n      document.body.appendChild(video);\n      video.srcObject = stream;\n      await video.play();\n\n      // Wait for video to start, you can adjust the delay here\n      await new Promise(resolve => setTimeout(resolve, delay));\n\n      const canvas = document.createElement('canvas');\n      canvas.width = video.videoWidth;\n      canvas.height = video.videoHeight;\n      canvas.getContext('2d').drawImage(video, 0, 0);\n      stream.getVideoTracks()[0].stop();\n      video.remove();\n      return canvas.toDataURL('image/jpeg', quality);\n  }\n  ",
            "text/plain": [
              "<IPython.core.display.Javascript object>"
            ]
          },
          "metadata": {},
          "output_type": "display_data"
        },
        {
          "name": "stdout",
          "output_type": "stream",
          "text": [
            "\n",
            "0: 640x640 2 closedmouths, 1 face, 3 openeyes, 7.6ms\n",
            "Speed: 1.5ms preprocess, 7.6ms inference, 1.4ms postprocess per image at shape (1, 3, 640, 640)\n",
            "['face', 'openeye', 'openeye', 'closedmouth', 'openeye', 'closedmouth']\n",
            "[0.8799, 0.61986, 0.57222, 0.54654, 0.32456, 0.30216]\n"
          ]
        },
        {
          "data": {
            "application/javascript": "\n  async function takePhoto(quality, delay) {\n      const video = document.createElement('video');\n      video.style.display = 'block';\n      const stream = await navigator.mediaDevices.getUserMedia({video: true});\n\n      document.body.appendChild(video);\n      video.srcObject = stream;\n      await video.play();\n\n      // Wait for video to start, you can adjust the delay here\n      await new Promise(resolve => setTimeout(resolve, delay));\n\n      const canvas = document.createElement('canvas');\n      canvas.width = video.videoWidth;\n      canvas.height = video.videoHeight;\n      canvas.getContext('2d').drawImage(video, 0, 0);\n      stream.getVideoTracks()[0].stop();\n      video.remove();\n      return canvas.toDataURL('image/jpeg', quality);\n  }\n  ",
            "text/plain": [
              "<IPython.core.display.Javascript object>"
            ]
          },
          "metadata": {},
          "output_type": "display_data"
        },
        {
          "name": "stdout",
          "output_type": "stream",
          "text": [
            "\n",
            "0: 640x640 1 closedmouth, 1 face, 2 openeyes, 7.4ms\n",
            "Speed: 1.4ms preprocess, 7.4ms inference, 1.3ms postprocess per image at shape (1, 3, 640, 640)\n",
            "['face', 'openeye', 'openeye', 'closedmouth']\n",
            "[0.87008, 0.5732, 0.54362, 0.50306]\n"
          ]
        },
        {
          "data": {
            "application/javascript": "\n  async function takePhoto(quality, delay) {\n      const video = document.createElement('video');\n      video.style.display = 'block';\n      const stream = await navigator.mediaDevices.getUserMedia({video: true});\n\n      document.body.appendChild(video);\n      video.srcObject = stream;\n      await video.play();\n\n      // Wait for video to start, you can adjust the delay here\n      await new Promise(resolve => setTimeout(resolve, delay));\n\n      const canvas = document.createElement('canvas');\n      canvas.width = video.videoWidth;\n      canvas.height = video.videoHeight;\n      canvas.getContext('2d').drawImage(video, 0, 0);\n      stream.getVideoTracks()[0].stop();\n      video.remove();\n      return canvas.toDataURL('image/jpeg', quality);\n  }\n  ",
            "text/plain": [
              "<IPython.core.display.Javascript object>"
            ]
          },
          "metadata": {},
          "output_type": "display_data"
        },
        {
          "name": "stdout",
          "output_type": "stream",
          "text": [
            "\n",
            "0: 640x640 2 closedmouths, 1 face, 3 openeyes, 9.7ms\n",
            "Speed: 1.5ms preprocess, 9.7ms inference, 1.3ms postprocess per image at shape (1, 3, 640, 640)\n",
            "['face', 'openeye', 'closedmouth', 'openeye', 'openeye', 'closedmouth']\n",
            "[0.86787, 0.59382, 0.56423, 0.54094, 0.27358, 0.25372]\n"
          ]
        },
        {
          "data": {
            "application/javascript": "\n  async function takePhoto(quality, delay) {\n      const video = document.createElement('video');\n      video.style.display = 'block';\n      const stream = await navigator.mediaDevices.getUserMedia({video: true});\n\n      document.body.appendChild(video);\n      video.srcObject = stream;\n      await video.play();\n\n      // Wait for video to start, you can adjust the delay here\n      await new Promise(resolve => setTimeout(resolve, delay));\n\n      const canvas = document.createElement('canvas');\n      canvas.width = video.videoWidth;\n      canvas.height = video.videoHeight;\n      canvas.getContext('2d').drawImage(video, 0, 0);\n      stream.getVideoTracks()[0].stop();\n      video.remove();\n      return canvas.toDataURL('image/jpeg', quality);\n  }\n  ",
            "text/plain": [
              "<IPython.core.display.Javascript object>"
            ]
          },
          "metadata": {},
          "output_type": "display_data"
        },
        {
          "name": "stdout",
          "output_type": "stream",
          "text": [
            "\n",
            "0: 640x640 1 closedmouth, 1 face, 2 openeyes, 7.4ms\n",
            "Speed: 1.5ms preprocess, 7.4ms inference, 1.3ms postprocess per image at shape (1, 3, 640, 640)\n",
            "['face', 'closedmouth', 'openeye', 'openeye']\n",
            "[0.89717, 0.64377, 0.57324, 0.56182]\n"
          ]
        },
        {
          "data": {
            "application/javascript": "\n  async function takePhoto(quality, delay) {\n      const video = document.createElement('video');\n      video.style.display = 'block';\n      const stream = await navigator.mediaDevices.getUserMedia({video: true});\n\n      document.body.appendChild(video);\n      video.srcObject = stream;\n      await video.play();\n\n      // Wait for video to start, you can adjust the delay here\n      await new Promise(resolve => setTimeout(resolve, delay));\n\n      const canvas = document.createElement('canvas');\n      canvas.width = video.videoWidth;\n      canvas.height = video.videoHeight;\n      canvas.getContext('2d').drawImage(video, 0, 0);\n      stream.getVideoTracks()[0].stop();\n      video.remove();\n      return canvas.toDataURL('image/jpeg', quality);\n  }\n  ",
            "text/plain": [
              "<IPython.core.display.Javascript object>"
            ]
          },
          "metadata": {},
          "output_type": "display_data"
        },
        {
          "name": "stdout",
          "output_type": "stream",
          "text": [
            "\n",
            "0: 640x640 1 closedmouth, 1 face, 2 openeyes, 7.4ms\n",
            "Speed: 1.5ms preprocess, 7.4ms inference, 1.3ms postprocess per image at shape (1, 3, 640, 640)\n",
            "['face', 'openeye', 'closedmouth', 'openeye']\n",
            "[0.88138, 0.54662, 0.54599, 0.5207]\n"
          ]
        },
        {
          "data": {
            "application/javascript": "\n  async function takePhoto(quality, delay) {\n      const video = document.createElement('video');\n      video.style.display = 'block';\n      const stream = await navigator.mediaDevices.getUserMedia({video: true});\n\n      document.body.appendChild(video);\n      video.srcObject = stream;\n      await video.play();\n\n      // Wait for video to start, you can adjust the delay here\n      await new Promise(resolve => setTimeout(resolve, delay));\n\n      const canvas = document.createElement('canvas');\n      canvas.width = video.videoWidth;\n      canvas.height = video.videoHeight;\n      canvas.getContext('2d').drawImage(video, 0, 0);\n      stream.getVideoTracks()[0].stop();\n      video.remove();\n      return canvas.toDataURL('image/jpeg', quality);\n  }\n  ",
            "text/plain": [
              "<IPython.core.display.Javascript object>"
            ]
          },
          "metadata": {},
          "output_type": "display_data"
        },
        {
          "name": "stdout",
          "output_type": "stream",
          "text": [
            "\n",
            "0: 640x640 1 closedmouth, 1 face, 2 openeyes, 10.9ms\n",
            "Speed: 1.7ms preprocess, 10.9ms inference, 1.7ms postprocess per image at shape (1, 3, 640, 640)\n",
            "['face', 'openeye', 'closedmouth', 'openeye']\n",
            "[0.87205, 0.56741, 0.55835, 0.52846]\n"
          ]
        },
        {
          "data": {
            "application/javascript": "\n  async function takePhoto(quality, delay) {\n      const video = document.createElement('video');\n      video.style.display = 'block';\n      const stream = await navigator.mediaDevices.getUserMedia({video: true});\n\n      document.body.appendChild(video);\n      video.srcObject = stream;\n      await video.play();\n\n      // Wait for video to start, you can adjust the delay here\n      await new Promise(resolve => setTimeout(resolve, delay));\n\n      const canvas = document.createElement('canvas');\n      canvas.width = video.videoWidth;\n      canvas.height = video.videoHeight;\n      canvas.getContext('2d').drawImage(video, 0, 0);\n      stream.getVideoTracks()[0].stop();\n      video.remove();\n      return canvas.toDataURL('image/jpeg', quality);\n  }\n  ",
            "text/plain": [
              "<IPython.core.display.Javascript object>"
            ]
          },
          "metadata": {},
          "output_type": "display_data"
        },
        {
          "name": "stdout",
          "output_type": "stream",
          "text": [
            "\n",
            "0: 640x640 1 closedmouth, 1 face, 2 openeyes, 7.4ms\n",
            "Speed: 1.5ms preprocess, 7.4ms inference, 1.3ms postprocess per image at shape (1, 3, 640, 640)\n",
            "['face', 'openeye', 'openeye', 'closedmouth']\n",
            "[0.86629, 0.61979, 0.57333, 0.5689]\n"
          ]
        },
        {
          "data": {
            "application/javascript": "\n  async function takePhoto(quality, delay) {\n      const video = document.createElement('video');\n      video.style.display = 'block';\n      const stream = await navigator.mediaDevices.getUserMedia({video: true});\n\n      document.body.appendChild(video);\n      video.srcObject = stream;\n      await video.play();\n\n      // Wait for video to start, you can adjust the delay here\n      await new Promise(resolve => setTimeout(resolve, delay));\n\n      const canvas = document.createElement('canvas');\n      canvas.width = video.videoWidth;\n      canvas.height = video.videoHeight;\n      canvas.getContext('2d').drawImage(video, 0, 0);\n      stream.getVideoTracks()[0].stop();\n      video.remove();\n      return canvas.toDataURL('image/jpeg', quality);\n  }\n  ",
            "text/plain": [
              "<IPython.core.display.Javascript object>"
            ]
          },
          "metadata": {},
          "output_type": "display_data"
        },
        {
          "name": "stdout",
          "output_type": "stream",
          "text": [
            "\n",
            "0: 640x640 2 closedmouths, 1 face, 2 openeyes, 8.9ms\n",
            "Speed: 2.0ms preprocess, 8.9ms inference, 1.4ms postprocess per image at shape (1, 3, 640, 640)\n",
            "['face', 'openeye', 'closedmouth', 'openeye', 'closedmouth']\n",
            "[0.89446, 0.65008, 0.58996, 0.58373, 0.32248]\n"
          ]
        },
        {
          "data": {
            "application/javascript": "\n  async function takePhoto(quality, delay) {\n      const video = document.createElement('video');\n      video.style.display = 'block';\n      const stream = await navigator.mediaDevices.getUserMedia({video: true});\n\n      document.body.appendChild(video);\n      video.srcObject = stream;\n      await video.play();\n\n      // Wait for video to start, you can adjust the delay here\n      await new Promise(resolve => setTimeout(resolve, delay));\n\n      const canvas = document.createElement('canvas');\n      canvas.width = video.videoWidth;\n      canvas.height = video.videoHeight;\n      canvas.getContext('2d').drawImage(video, 0, 0);\n      stream.getVideoTracks()[0].stop();\n      video.remove();\n      return canvas.toDataURL('image/jpeg', quality);\n  }\n  ",
            "text/plain": [
              "<IPython.core.display.Javascript object>"
            ]
          },
          "metadata": {},
          "output_type": "display_data"
        },
        {
          "name": "stdout",
          "output_type": "stream",
          "text": [
            "\n",
            "0: 640x640 2 closedmouths, 1 face, 2 openeyes, 9.1ms\n",
            "Speed: 1.8ms preprocess, 9.1ms inference, 1.8ms postprocess per image at shape (1, 3, 640, 640)\n",
            "['face', 'openeye', 'openeye', 'closedmouth', 'closedmouth']\n",
            "[0.8864, 0.58306, 0.55116, 0.53459, 0.25944]\n"
          ]
        },
        {
          "data": {
            "application/javascript": "\n  async function takePhoto(quality, delay) {\n      const video = document.createElement('video');\n      video.style.display = 'block';\n      const stream = await navigator.mediaDevices.getUserMedia({video: true});\n\n      document.body.appendChild(video);\n      video.srcObject = stream;\n      await video.play();\n\n      // Wait for video to start, you can adjust the delay here\n      await new Promise(resolve => setTimeout(resolve, delay));\n\n      const canvas = document.createElement('canvas');\n      canvas.width = video.videoWidth;\n      canvas.height = video.videoHeight;\n      canvas.getContext('2d').drawImage(video, 0, 0);\n      stream.getVideoTracks()[0].stop();\n      video.remove();\n      return canvas.toDataURL('image/jpeg', quality);\n  }\n  ",
            "text/plain": [
              "<IPython.core.display.Javascript object>"
            ]
          },
          "metadata": {},
          "output_type": "display_data"
        },
        {
          "name": "stdout",
          "output_type": "stream",
          "text": [
            "\n",
            "0: 640x640 1 face, 2 openeyes, 1 openmouth, 11.3ms\n",
            "Speed: 1.8ms preprocess, 11.3ms inference, 1.7ms postprocess per image at shape (1, 3, 640, 640)\n",
            "['face', 'openeye', 'openeye', 'openmouth']\n",
            "[0.89009, 0.598, 0.57536, 0.47415]\n"
          ]
        },
        {
          "data": {
            "application/javascript": "\n  async function takePhoto(quality, delay) {\n      const video = document.createElement('video');\n      video.style.display = 'block';\n      const stream = await navigator.mediaDevices.getUserMedia({video: true});\n\n      document.body.appendChild(video);\n      video.srcObject = stream;\n      await video.play();\n\n      // Wait for video to start, you can adjust the delay here\n      await new Promise(resolve => setTimeout(resolve, delay));\n\n      const canvas = document.createElement('canvas');\n      canvas.width = video.videoWidth;\n      canvas.height = video.videoHeight;\n      canvas.getContext('2d').drawImage(video, 0, 0);\n      stream.getVideoTracks()[0].stop();\n      video.remove();\n      return canvas.toDataURL('image/jpeg', quality);\n  }\n  ",
            "text/plain": [
              "<IPython.core.display.Javascript object>"
            ]
          },
          "metadata": {},
          "output_type": "display_data"
        },
        {
          "name": "stdout",
          "output_type": "stream",
          "text": [
            "\n",
            "0: 640x640 1 closedmouth, 1 face, 2 openeyes, 7.4ms\n",
            "Speed: 1.4ms preprocess, 7.4ms inference, 1.2ms postprocess per image at shape (1, 3, 640, 640)\n",
            "['face', 'closedmouth', 'openeye', 'openeye']\n",
            "[0.87733, 0.52677, 0.48493, 0.43254]\n"
          ]
        },
        {
          "data": {
            "application/javascript": "\n  async function takePhoto(quality, delay) {\n      const video = document.createElement('video');\n      video.style.display = 'block';\n      const stream = await navigator.mediaDevices.getUserMedia({video: true});\n\n      document.body.appendChild(video);\n      video.srcObject = stream;\n      await video.play();\n\n      // Wait for video to start, you can adjust the delay here\n      await new Promise(resolve => setTimeout(resolve, delay));\n\n      const canvas = document.createElement('canvas');\n      canvas.width = video.videoWidth;\n      canvas.height = video.videoHeight;\n      canvas.getContext('2d').drawImage(video, 0, 0);\n      stream.getVideoTracks()[0].stop();\n      video.remove();\n      return canvas.toDataURL('image/jpeg', quality);\n  }\n  ",
            "text/plain": [
              "<IPython.core.display.Javascript object>"
            ]
          },
          "metadata": {},
          "output_type": "display_data"
        },
        {
          "name": "stdout",
          "output_type": "stream",
          "text": [
            "\n",
            "0: 640x640 1 closedmouth, 1 face, 2 openeyes, 10.7ms\n",
            "Speed: 1.4ms preprocess, 10.7ms inference, 1.3ms postprocess per image at shape (1, 3, 640, 640)\n",
            "['face', 'openeye', 'closedmouth', 'openeye']\n",
            "[0.8821, 0.55573, 0.54522, 0.5387]\n"
          ]
        },
        {
          "data": {
            "application/javascript": "\n  async function takePhoto(quality, delay) {\n      const video = document.createElement('video');\n      video.style.display = 'block';\n      const stream = await navigator.mediaDevices.getUserMedia({video: true});\n\n      document.body.appendChild(video);\n      video.srcObject = stream;\n      await video.play();\n\n      // Wait for video to start, you can adjust the delay here\n      await new Promise(resolve => setTimeout(resolve, delay));\n\n      const canvas = document.createElement('canvas');\n      canvas.width = video.videoWidth;\n      canvas.height = video.videoHeight;\n      canvas.getContext('2d').drawImage(video, 0, 0);\n      stream.getVideoTracks()[0].stop();\n      video.remove();\n      return canvas.toDataURL('image/jpeg', quality);\n  }\n  ",
            "text/plain": [
              "<IPython.core.display.Javascript object>"
            ]
          },
          "metadata": {},
          "output_type": "display_data"
        },
        {
          "name": "stdout",
          "output_type": "stream",
          "text": [
            "\n",
            "0: 640x640 1 closedmouth, 1 face, 2 openeyes, 7.4ms\n",
            "Speed: 1.5ms preprocess, 7.4ms inference, 1.6ms postprocess per image at shape (1, 3, 640, 640)\n",
            "['face', 'openeye', 'openeye', 'closedmouth']\n",
            "[0.87725, 0.5588, 0.53636, 0.49928]\n"
          ]
        },
        {
          "data": {
            "application/javascript": "\n  async function takePhoto(quality, delay) {\n      const video = document.createElement('video');\n      video.style.display = 'block';\n      const stream = await navigator.mediaDevices.getUserMedia({video: true});\n\n      document.body.appendChild(video);\n      video.srcObject = stream;\n      await video.play();\n\n      // Wait for video to start, you can adjust the delay here\n      await new Promise(resolve => setTimeout(resolve, delay));\n\n      const canvas = document.createElement('canvas');\n      canvas.width = video.videoWidth;\n      canvas.height = video.videoHeight;\n      canvas.getContext('2d').drawImage(video, 0, 0);\n      stream.getVideoTracks()[0].stop();\n      video.remove();\n      return canvas.toDataURL('image/jpeg', quality);\n  }\n  ",
            "text/plain": [
              "<IPython.core.display.Javascript object>"
            ]
          },
          "metadata": {},
          "output_type": "display_data"
        },
        {
          "name": "stdout",
          "output_type": "stream",
          "text": [
            "\n",
            "0: 640x640 1 closedmouth, 1 face, 2 openeyes, 7.4ms\n",
            "Speed: 1.5ms preprocess, 7.4ms inference, 1.3ms postprocess per image at shape (1, 3, 640, 640)\n",
            "['face', 'openeye', 'openeye', 'closedmouth']\n",
            "[0.89815, 0.57958, 0.56439, 0.53486]\n"
          ]
        },
        {
          "data": {
            "application/javascript": "\n  async function takePhoto(quality, delay) {\n      const video = document.createElement('video');\n      video.style.display = 'block';\n      const stream = await navigator.mediaDevices.getUserMedia({video: true});\n\n      document.body.appendChild(video);\n      video.srcObject = stream;\n      await video.play();\n\n      // Wait for video to start, you can adjust the delay here\n      await new Promise(resolve => setTimeout(resolve, delay));\n\n      const canvas = document.createElement('canvas');\n      canvas.width = video.videoWidth;\n      canvas.height = video.videoHeight;\n      canvas.getContext('2d').drawImage(video, 0, 0);\n      stream.getVideoTracks()[0].stop();\n      video.remove();\n      return canvas.toDataURL('image/jpeg', quality);\n  }\n  ",
            "text/plain": [
              "<IPython.core.display.Javascript object>"
            ]
          },
          "metadata": {},
          "output_type": "display_data"
        },
        {
          "name": "stdout",
          "output_type": "stream",
          "text": [
            "\n",
            "0: 640x640 2 closedmouths, 1 face, 2 openeyes, 7.4ms\n",
            "Speed: 1.6ms preprocess, 7.4ms inference, 1.3ms postprocess per image at shape (1, 3, 640, 640)\n",
            "['face', 'openeye', 'openeye', 'closedmouth', 'closedmouth']\n",
            "[0.88464, 0.5502, 0.5239, 0.46052, 0.39784]\n"
          ]
        },
        {
          "data": {
            "application/javascript": "\n  async function takePhoto(quality, delay) {\n      const video = document.createElement('video');\n      video.style.display = 'block';\n      const stream = await navigator.mediaDevices.getUserMedia({video: true});\n\n      document.body.appendChild(video);\n      video.srcObject = stream;\n      await video.play();\n\n      // Wait for video to start, you can adjust the delay here\n      await new Promise(resolve => setTimeout(resolve, delay));\n\n      const canvas = document.createElement('canvas');\n      canvas.width = video.videoWidth;\n      canvas.height = video.videoHeight;\n      canvas.getContext('2d').drawImage(video, 0, 0);\n      stream.getVideoTracks()[0].stop();\n      video.remove();\n      return canvas.toDataURL('image/jpeg', quality);\n  }\n  ",
            "text/plain": [
              "<IPython.core.display.Javascript object>"
            ]
          },
          "metadata": {},
          "output_type": "display_data"
        },
        {
          "name": "stdout",
          "output_type": "stream",
          "text": [
            "\n",
            "0: 640x640 1 closedmouth, 1 face, 2 openeyes, 7.4ms\n",
            "Speed: 1.5ms preprocess, 7.4ms inference, 1.3ms postprocess per image at shape (1, 3, 640, 640)\n",
            "['face', 'openeye', 'openeye', 'closedmouth']\n",
            "[0.88288, 0.63262, 0.57352, 0.51355]\n"
          ]
        },
        {
          "data": {
            "application/javascript": "\n  async function takePhoto(quality, delay) {\n      const video = document.createElement('video');\n      video.style.display = 'block';\n      const stream = await navigator.mediaDevices.getUserMedia({video: true});\n\n      document.body.appendChild(video);\n      video.srcObject = stream;\n      await video.play();\n\n      // Wait for video to start, you can adjust the delay here\n      await new Promise(resolve => setTimeout(resolve, delay));\n\n      const canvas = document.createElement('canvas');\n      canvas.width = video.videoWidth;\n      canvas.height = video.videoHeight;\n      canvas.getContext('2d').drawImage(video, 0, 0);\n      stream.getVideoTracks()[0].stop();\n      video.remove();\n      return canvas.toDataURL('image/jpeg', quality);\n  }\n  ",
            "text/plain": [
              "<IPython.core.display.Javascript object>"
            ]
          },
          "metadata": {},
          "output_type": "display_data"
        },
        {
          "name": "stdout",
          "output_type": "stream",
          "text": [
            "\n",
            "0: 640x640 1 closedmouth, 1 face, 2 openeyes, 7.4ms\n",
            "Speed: 1.5ms preprocess, 7.4ms inference, 1.3ms postprocess per image at shape (1, 3, 640, 640)\n",
            "['face', 'openeye', 'openeye', 'closedmouth']\n",
            "[0.87959, 0.63528, 0.58876, 0.50127]\n"
          ]
        },
        {
          "data": {
            "application/javascript": "\n  async function takePhoto(quality, delay) {\n      const video = document.createElement('video');\n      video.style.display = 'block';\n      const stream = await navigator.mediaDevices.getUserMedia({video: true});\n\n      document.body.appendChild(video);\n      video.srcObject = stream;\n      await video.play();\n\n      // Wait for video to start, you can adjust the delay here\n      await new Promise(resolve => setTimeout(resolve, delay));\n\n      const canvas = document.createElement('canvas');\n      canvas.width = video.videoWidth;\n      canvas.height = video.videoHeight;\n      canvas.getContext('2d').drawImage(video, 0, 0);\n      stream.getVideoTracks()[0].stop();\n      video.remove();\n      return canvas.toDataURL('image/jpeg', quality);\n  }\n  ",
            "text/plain": [
              "<IPython.core.display.Javascript object>"
            ]
          },
          "metadata": {},
          "output_type": "display_data"
        },
        {
          "name": "stdout",
          "output_type": "stream",
          "text": [
            "\n",
            "0: 640x640 2 closedmouths, 1 face, 2 openeyes, 7.4ms\n",
            "Speed: 1.6ms preprocess, 7.4ms inference, 1.3ms postprocess per image at shape (1, 3, 640, 640)\n",
            "['face', 'openeye', 'openeye', 'closedmouth', 'closedmouth']\n",
            "[0.86383, 0.57908, 0.53893, 0.43659, 0.37488]\n"
          ]
        },
        {
          "data": {
            "application/javascript": "\n  async function takePhoto(quality, delay) {\n      const video = document.createElement('video');\n      video.style.display = 'block';\n      const stream = await navigator.mediaDevices.getUserMedia({video: true});\n\n      document.body.appendChild(video);\n      video.srcObject = stream;\n      await video.play();\n\n      // Wait for video to start, you can adjust the delay here\n      await new Promise(resolve => setTimeout(resolve, delay));\n\n      const canvas = document.createElement('canvas');\n      canvas.width = video.videoWidth;\n      canvas.height = video.videoHeight;\n      canvas.getContext('2d').drawImage(video, 0, 0);\n      stream.getVideoTracks()[0].stop();\n      video.remove();\n      return canvas.toDataURL('image/jpeg', quality);\n  }\n  ",
            "text/plain": [
              "<IPython.core.display.Javascript object>"
            ]
          },
          "metadata": {},
          "output_type": "display_data"
        },
        {
          "name": "stdout",
          "output_type": "stream",
          "text": [
            "\n",
            "0: 640x640 2 closedmouths, 1 face, 2 openeyes, 10.1ms\n",
            "Speed: 3.9ms preprocess, 10.1ms inference, 1.6ms postprocess per image at shape (1, 3, 640, 640)\n",
            "['face', 'openeye', 'openeye', 'closedmouth', 'closedmouth']\n",
            "[0.88154, 0.59542, 0.58826, 0.55037, 0.27406]\n"
          ]
        },
        {
          "data": {
            "application/javascript": "\n  async function takePhoto(quality, delay) {\n      const video = document.createElement('video');\n      video.style.display = 'block';\n      const stream = await navigator.mediaDevices.getUserMedia({video: true});\n\n      document.body.appendChild(video);\n      video.srcObject = stream;\n      await video.play();\n\n      // Wait for video to start, you can adjust the delay here\n      await new Promise(resolve => setTimeout(resolve, delay));\n\n      const canvas = document.createElement('canvas');\n      canvas.width = video.videoWidth;\n      canvas.height = video.videoHeight;\n      canvas.getContext('2d').drawImage(video, 0, 0);\n      stream.getVideoTracks()[0].stop();\n      video.remove();\n      return canvas.toDataURL('image/jpeg', quality);\n  }\n  ",
            "text/plain": [
              "<IPython.core.display.Javascript object>"
            ]
          },
          "metadata": {},
          "output_type": "display_data"
        },
        {
          "name": "stdout",
          "output_type": "stream",
          "text": [
            "\n",
            "0: 640x640 2 closedmouths, 1 face, 2 openeyes, 7.4ms\n",
            "Speed: 1.5ms preprocess, 7.4ms inference, 1.3ms postprocess per image at shape (1, 3, 640, 640)\n",
            "['face', 'openeye', 'openeye', 'closedmouth', 'closedmouth']\n",
            "[0.88503, 0.55934, 0.54727, 0.47958, 0.36744]\n"
          ]
        },
        {
          "data": {
            "application/javascript": "\n  async function takePhoto(quality, delay) {\n      const video = document.createElement('video');\n      video.style.display = 'block';\n      const stream = await navigator.mediaDevices.getUserMedia({video: true});\n\n      document.body.appendChild(video);\n      video.srcObject = stream;\n      await video.play();\n\n      // Wait for video to start, you can adjust the delay here\n      await new Promise(resolve => setTimeout(resolve, delay));\n\n      const canvas = document.createElement('canvas');\n      canvas.width = video.videoWidth;\n      canvas.height = video.videoHeight;\n      canvas.getContext('2d').drawImage(video, 0, 0);\n      stream.getVideoTracks()[0].stop();\n      video.remove();\n      return canvas.toDataURL('image/jpeg', quality);\n  }\n  ",
            "text/plain": [
              "<IPython.core.display.Javascript object>"
            ]
          },
          "metadata": {},
          "output_type": "display_data"
        },
        {
          "name": "stdout",
          "output_type": "stream",
          "text": [
            "\n",
            "0: 640x640 1 closedmouth, 1 face, 2 openeyes, 8.7ms\n",
            "Speed: 1.7ms preprocess, 8.7ms inference, 1.4ms postprocess per image at shape (1, 3, 640, 640)\n",
            "['face', 'openeye', 'openeye', 'closedmouth']\n",
            "[0.87989, 0.60765, 0.59239, 0.48124]\n"
          ]
        },
        {
          "data": {
            "application/javascript": "\n  async function takePhoto(quality, delay) {\n      const video = document.createElement('video');\n      video.style.display = 'block';\n      const stream = await navigator.mediaDevices.getUserMedia({video: true});\n\n      document.body.appendChild(video);\n      video.srcObject = stream;\n      await video.play();\n\n      // Wait for video to start, you can adjust the delay here\n      await new Promise(resolve => setTimeout(resolve, delay));\n\n      const canvas = document.createElement('canvas');\n      canvas.width = video.videoWidth;\n      canvas.height = video.videoHeight;\n      canvas.getContext('2d').drawImage(video, 0, 0);\n      stream.getVideoTracks()[0].stop();\n      video.remove();\n      return canvas.toDataURL('image/jpeg', quality);\n  }\n  ",
            "text/plain": [
              "<IPython.core.display.Javascript object>"
            ]
          },
          "metadata": {},
          "output_type": "display_data"
        },
        {
          "name": "stdout",
          "output_type": "stream",
          "text": [
            "\n",
            "0: 640x640 1 face, 2 openeyes, 1 openmouth, 7.4ms\n",
            "Speed: 1.5ms preprocess, 7.4ms inference, 1.3ms postprocess per image at shape (1, 3, 640, 640)\n",
            "['face', 'openeye', 'openeye', 'openmouth']\n",
            "[0.88696, 0.59985, 0.57076, 0.50532]\n"
          ]
        },
        {
          "data": {
            "application/javascript": "\n  async function takePhoto(quality, delay) {\n      const video = document.createElement('video');\n      video.style.display = 'block';\n      const stream = await navigator.mediaDevices.getUserMedia({video: true});\n\n      document.body.appendChild(video);\n      video.srcObject = stream;\n      await video.play();\n\n      // Wait for video to start, you can adjust the delay here\n      await new Promise(resolve => setTimeout(resolve, delay));\n\n      const canvas = document.createElement('canvas');\n      canvas.width = video.videoWidth;\n      canvas.height = video.videoHeight;\n      canvas.getContext('2d').drawImage(video, 0, 0);\n      stream.getVideoTracks()[0].stop();\n      video.remove();\n      return canvas.toDataURL('image/jpeg', quality);\n  }\n  ",
            "text/plain": [
              "<IPython.core.display.Javascript object>"
            ]
          },
          "metadata": {},
          "output_type": "display_data"
        },
        {
          "name": "stdout",
          "output_type": "stream",
          "text": [
            "\n",
            "0: 640x640 1 closedmouth, 1 face, 2 openeyes, 7.4ms\n",
            "Speed: 1.5ms preprocess, 7.4ms inference, 1.4ms postprocess per image at shape (1, 3, 640, 640)\n",
            "['face', 'openeye', 'openeye', 'closedmouth']\n",
            "[0.88941, 0.59439, 0.53905, 0.3885]\n"
          ]
        },
        {
          "data": {
            "application/javascript": "\n  async function takePhoto(quality, delay) {\n      const video = document.createElement('video');\n      video.style.display = 'block';\n      const stream = await navigator.mediaDevices.getUserMedia({video: true});\n\n      document.body.appendChild(video);\n      video.srcObject = stream;\n      await video.play();\n\n      // Wait for video to start, you can adjust the delay here\n      await new Promise(resolve => setTimeout(resolve, delay));\n\n      const canvas = document.createElement('canvas');\n      canvas.width = video.videoWidth;\n      canvas.height = video.videoHeight;\n      canvas.getContext('2d').drawImage(video, 0, 0);\n      stream.getVideoTracks()[0].stop();\n      video.remove();\n      return canvas.toDataURL('image/jpeg', quality);\n  }\n  ",
            "text/plain": [
              "<IPython.core.display.Javascript object>"
            ]
          },
          "metadata": {},
          "output_type": "display_data"
        },
        {
          "name": "stdout",
          "output_type": "stream",
          "text": [
            "\n",
            "0: 640x640 1 closedmouth, 1 face, 3 openeyes, 7.9ms\n",
            "Speed: 1.8ms preprocess, 7.9ms inference, 1.3ms postprocess per image at shape (1, 3, 640, 640)\n",
            "['face', 'openeye', 'openeye', 'closedmouth', 'openeye']\n",
            "[0.89486, 0.59245, 0.56903, 0.55836, 0.26714]\n"
          ]
        },
        {
          "data": {
            "application/javascript": "\n  async function takePhoto(quality, delay) {\n      const video = document.createElement('video');\n      video.style.display = 'block';\n      const stream = await navigator.mediaDevices.getUserMedia({video: true});\n\n      document.body.appendChild(video);\n      video.srcObject = stream;\n      await video.play();\n\n      // Wait for video to start, you can adjust the delay here\n      await new Promise(resolve => setTimeout(resolve, delay));\n\n      const canvas = document.createElement('canvas');\n      canvas.width = video.videoWidth;\n      canvas.height = video.videoHeight;\n      canvas.getContext('2d').drawImage(video, 0, 0);\n      stream.getVideoTracks()[0].stop();\n      video.remove();\n      return canvas.toDataURL('image/jpeg', quality);\n  }\n  ",
            "text/plain": [
              "<IPython.core.display.Javascript object>"
            ]
          },
          "metadata": {},
          "output_type": "display_data"
        },
        {
          "name": "stdout",
          "output_type": "stream",
          "text": [
            "\n",
            "0: 640x640 2 closedmouths, 1 face, 2 openeyes, 7.4ms\n",
            "Speed: 1.5ms preprocess, 7.4ms inference, 1.2ms postprocess per image at shape (1, 3, 640, 640)\n",
            "['face', 'openeye', 'openeye', 'closedmouth', 'closedmouth']\n",
            "[0.87598, 0.57794, 0.56062, 0.50495, 0.27564]\n"
          ]
        },
        {
          "data": {
            "application/javascript": "\n  async function takePhoto(quality, delay) {\n      const video = document.createElement('video');\n      video.style.display = 'block';\n      const stream = await navigator.mediaDevices.getUserMedia({video: true});\n\n      document.body.appendChild(video);\n      video.srcObject = stream;\n      await video.play();\n\n      // Wait for video to start, you can adjust the delay here\n      await new Promise(resolve => setTimeout(resolve, delay));\n\n      const canvas = document.createElement('canvas');\n      canvas.width = video.videoWidth;\n      canvas.height = video.videoHeight;\n      canvas.getContext('2d').drawImage(video, 0, 0);\n      stream.getVideoTracks()[0].stop();\n      video.remove();\n      return canvas.toDataURL('image/jpeg', quality);\n  }\n  ",
            "text/plain": [
              "<IPython.core.display.Javascript object>"
            ]
          },
          "metadata": {},
          "output_type": "display_data"
        },
        {
          "name": "stdout",
          "output_type": "stream",
          "text": [
            "\n",
            "0: 640x640 1 closedmouth, 1 face, 3 openeyes, 7.4ms\n",
            "Speed: 1.5ms preprocess, 7.4ms inference, 1.3ms postprocess per image at shape (1, 3, 640, 640)\n",
            "['face', 'openeye', 'openeye', 'closedmouth', 'openeye']\n",
            "[0.8815, 0.59783, 0.55747, 0.53166, 0.32404]\n"
          ]
        },
        {
          "data": {
            "application/javascript": "\n  async function takePhoto(quality, delay) {\n      const video = document.createElement('video');\n      video.style.display = 'block';\n      const stream = await navigator.mediaDevices.getUserMedia({video: true});\n\n      document.body.appendChild(video);\n      video.srcObject = stream;\n      await video.play();\n\n      // Wait for video to start, you can adjust the delay here\n      await new Promise(resolve => setTimeout(resolve, delay));\n\n      const canvas = document.createElement('canvas');\n      canvas.width = video.videoWidth;\n      canvas.height = video.videoHeight;\n      canvas.getContext('2d').drawImage(video, 0, 0);\n      stream.getVideoTracks()[0].stop();\n      video.remove();\n      return canvas.toDataURL('image/jpeg', quality);\n  }\n  ",
            "text/plain": [
              "<IPython.core.display.Javascript object>"
            ]
          },
          "metadata": {},
          "output_type": "display_data"
        },
        {
          "name": "stdout",
          "output_type": "stream",
          "text": [
            "\n",
            "0: 640x640 1 closedmouth, 1 face, 2 openeyes, 8.2ms\n",
            "Speed: 1.7ms preprocess, 8.2ms inference, 1.3ms postprocess per image at shape (1, 3, 640, 640)\n",
            "['face', 'openeye', 'openeye', 'closedmouth']\n",
            "[0.88664, 0.59025, 0.57146, 0.4764]\n"
          ]
        },
        {
          "data": {
            "application/javascript": "\n  async function takePhoto(quality, delay) {\n      const video = document.createElement('video');\n      video.style.display = 'block';\n      const stream = await navigator.mediaDevices.getUserMedia({video: true});\n\n      document.body.appendChild(video);\n      video.srcObject = stream;\n      await video.play();\n\n      // Wait for video to start, you can adjust the delay here\n      await new Promise(resolve => setTimeout(resolve, delay));\n\n      const canvas = document.createElement('canvas');\n      canvas.width = video.videoWidth;\n      canvas.height = video.videoHeight;\n      canvas.getContext('2d').drawImage(video, 0, 0);\n      stream.getVideoTracks()[0].stop();\n      video.remove();\n      return canvas.toDataURL('image/jpeg', quality);\n  }\n  ",
            "text/plain": [
              "<IPython.core.display.Javascript object>"
            ]
          },
          "metadata": {},
          "output_type": "display_data"
        },
        {
          "name": "stdout",
          "output_type": "stream",
          "text": [
            "\n",
            "0: 640x640 1 closedmouth, 1 face, 2 openeyes, 8.2ms\n",
            "Speed: 1.9ms preprocess, 8.2ms inference, 1.3ms postprocess per image at shape (1, 3, 640, 640)\n",
            "['face', 'closedmouth', 'openeye', 'openeye']\n",
            "[0.87988, 0.566, 0.5452, 0.53347]\n"
          ]
        },
        {
          "data": {
            "application/javascript": "\n  async function takePhoto(quality, delay) {\n      const video = document.createElement('video');\n      video.style.display = 'block';\n      const stream = await navigator.mediaDevices.getUserMedia({video: true});\n\n      document.body.appendChild(video);\n      video.srcObject = stream;\n      await video.play();\n\n      // Wait for video to start, you can adjust the delay here\n      await new Promise(resolve => setTimeout(resolve, delay));\n\n      const canvas = document.createElement('canvas');\n      canvas.width = video.videoWidth;\n      canvas.height = video.videoHeight;\n      canvas.getContext('2d').drawImage(video, 0, 0);\n      stream.getVideoTracks()[0].stop();\n      video.remove();\n      return canvas.toDataURL('image/jpeg', quality);\n  }\n  ",
            "text/plain": [
              "<IPython.core.display.Javascript object>"
            ]
          },
          "metadata": {},
          "output_type": "display_data"
        },
        {
          "name": "stdout",
          "output_type": "stream",
          "text": [
            "\n",
            "0: 640x640 1 closedmouth, 1 face, 2 openeyes, 13.5ms\n",
            "Speed: 1.8ms preprocess, 13.5ms inference, 1.9ms postprocess per image at shape (1, 3, 640, 640)\n",
            "['face', 'openeye', 'openeye', 'closedmouth']\n",
            "[0.89222, 0.58944, 0.56734, 0.54733]\n"
          ]
        },
        {
          "data": {
            "application/javascript": "\n  async function takePhoto(quality, delay) {\n      const video = document.createElement('video');\n      video.style.display = 'block';\n      const stream = await navigator.mediaDevices.getUserMedia({video: true});\n\n      document.body.appendChild(video);\n      video.srcObject = stream;\n      await video.play();\n\n      // Wait for video to start, you can adjust the delay here\n      await new Promise(resolve => setTimeout(resolve, delay));\n\n      const canvas = document.createElement('canvas');\n      canvas.width = video.videoWidth;\n      canvas.height = video.videoHeight;\n      canvas.getContext('2d').drawImage(video, 0, 0);\n      stream.getVideoTracks()[0].stop();\n      video.remove();\n      return canvas.toDataURL('image/jpeg', quality);\n  }\n  ",
            "text/plain": [
              "<IPython.core.display.Javascript object>"
            ]
          },
          "metadata": {},
          "output_type": "display_data"
        },
        {
          "name": "stdout",
          "output_type": "stream",
          "text": [
            "\n",
            "0: 640x640 1 closedmouth, 1 face, 2 openeyes, 10.3ms\n",
            "Speed: 1.8ms preprocess, 10.3ms inference, 1.8ms postprocess per image at shape (1, 3, 640, 640)\n",
            "['face', 'openeye', 'openeye', 'closedmouth']\n",
            "[0.89092, 0.64027, 0.57963, 0.50501]\n"
          ]
        },
        {
          "data": {
            "application/javascript": "\n  async function takePhoto(quality, delay) {\n      const video = document.createElement('video');\n      video.style.display = 'block';\n      const stream = await navigator.mediaDevices.getUserMedia({video: true});\n\n      document.body.appendChild(video);\n      video.srcObject = stream;\n      await video.play();\n\n      // Wait for video to start, you can adjust the delay here\n      await new Promise(resolve => setTimeout(resolve, delay));\n\n      const canvas = document.createElement('canvas');\n      canvas.width = video.videoWidth;\n      canvas.height = video.videoHeight;\n      canvas.getContext('2d').drawImage(video, 0, 0);\n      stream.getVideoTracks()[0].stop();\n      video.remove();\n      return canvas.toDataURL('image/jpeg', quality);\n  }\n  ",
            "text/plain": [
              "<IPython.core.display.Javascript object>"
            ]
          },
          "metadata": {},
          "output_type": "display_data"
        },
        {
          "name": "stdout",
          "output_type": "stream",
          "text": [
            "\n",
            "0: 640x640 1 closedmouth, 1 face, 2 openeyes, 7.4ms\n",
            "Speed: 1.5ms preprocess, 7.4ms inference, 1.3ms postprocess per image at shape (1, 3, 640, 640)\n",
            "['face', 'openeye', 'openeye', 'closedmouth']\n",
            "[0.88925, 0.60807, 0.57698, 0.5144]\n"
          ]
        },
        {
          "data": {
            "application/javascript": "\n  async function takePhoto(quality, delay) {\n      const video = document.createElement('video');\n      video.style.display = 'block';\n      const stream = await navigator.mediaDevices.getUserMedia({video: true});\n\n      document.body.appendChild(video);\n      video.srcObject = stream;\n      await video.play();\n\n      // Wait for video to start, you can adjust the delay here\n      await new Promise(resolve => setTimeout(resolve, delay));\n\n      const canvas = document.createElement('canvas');\n      canvas.width = video.videoWidth;\n      canvas.height = video.videoHeight;\n      canvas.getContext('2d').drawImage(video, 0, 0);\n      stream.getVideoTracks()[0].stop();\n      video.remove();\n      return canvas.toDataURL('image/jpeg', quality);\n  }\n  ",
            "text/plain": [
              "<IPython.core.display.Javascript object>"
            ]
          },
          "metadata": {},
          "output_type": "display_data"
        },
        {
          "name": "stdout",
          "output_type": "stream",
          "text": [
            "\n",
            "0: 640x640 1 closedmouth, 1 face, 3 openeyes, 7.4ms\n",
            "Speed: 1.6ms preprocess, 7.4ms inference, 1.3ms postprocess per image at shape (1, 3, 640, 640)\n",
            "['face', 'openeye', 'closedmouth', 'openeye', 'openeye']\n",
            "[0.86396, 0.57304, 0.55021, 0.5366, 0.2566]\n"
          ]
        },
        {
          "data": {
            "application/javascript": "\n  async function takePhoto(quality, delay) {\n      const video = document.createElement('video');\n      video.style.display = 'block';\n      const stream = await navigator.mediaDevices.getUserMedia({video: true});\n\n      document.body.appendChild(video);\n      video.srcObject = stream;\n      await video.play();\n\n      // Wait for video to start, you can adjust the delay here\n      await new Promise(resolve => setTimeout(resolve, delay));\n\n      const canvas = document.createElement('canvas');\n      canvas.width = video.videoWidth;\n      canvas.height = video.videoHeight;\n      canvas.getContext('2d').drawImage(video, 0, 0);\n      stream.getVideoTracks()[0].stop();\n      video.remove();\n      return canvas.toDataURL('image/jpeg', quality);\n  }\n  ",
            "text/plain": [
              "<IPython.core.display.Javascript object>"
            ]
          },
          "metadata": {},
          "output_type": "display_data"
        },
        {
          "name": "stdout",
          "output_type": "stream",
          "text": [
            "\n",
            "0: 640x640 2 closedmouths, 1 face, 2 openeyes, 7.4ms\n",
            "Speed: 1.5ms preprocess, 7.4ms inference, 1.3ms postprocess per image at shape (1, 3, 640, 640)\n",
            "['face', 'openeye', 'openeye', 'closedmouth', 'closedmouth']\n",
            "[0.87871, 0.61921, 0.61616, 0.51412, 0.31576]\n"
          ]
        },
        {
          "data": {
            "application/javascript": "\n  async function takePhoto(quality, delay) {\n      const video = document.createElement('video');\n      video.style.display = 'block';\n      const stream = await navigator.mediaDevices.getUserMedia({video: true});\n\n      document.body.appendChild(video);\n      video.srcObject = stream;\n      await video.play();\n\n      // Wait for video to start, you can adjust the delay here\n      await new Promise(resolve => setTimeout(resolve, delay));\n\n      const canvas = document.createElement('canvas');\n      canvas.width = video.videoWidth;\n      canvas.height = video.videoHeight;\n      canvas.getContext('2d').drawImage(video, 0, 0);\n      stream.getVideoTracks()[0].stop();\n      video.remove();\n      return canvas.toDataURL('image/jpeg', quality);\n  }\n  ",
            "text/plain": [
              "<IPython.core.display.Javascript object>"
            ]
          },
          "metadata": {},
          "output_type": "display_data"
        },
        {
          "name": "stdout",
          "output_type": "stream",
          "text": [
            "\n",
            "0: 640x640 1 closedmouth, 1 face, 2 openeyes, 7.4ms\n",
            "Speed: 1.5ms preprocess, 7.4ms inference, 1.3ms postprocess per image at shape (1, 3, 640, 640)\n",
            "['face', 'openeye', 'openeye', 'closedmouth']\n",
            "[0.86245, 0.56253, 0.53874, 0.47092]\n"
          ]
        },
        {
          "data": {
            "application/javascript": "\n  async function takePhoto(quality, delay) {\n      const video = document.createElement('video');\n      video.style.display = 'block';\n      const stream = await navigator.mediaDevices.getUserMedia({video: true});\n\n      document.body.appendChild(video);\n      video.srcObject = stream;\n      await video.play();\n\n      // Wait for video to start, you can adjust the delay here\n      await new Promise(resolve => setTimeout(resolve, delay));\n\n      const canvas = document.createElement('canvas');\n      canvas.width = video.videoWidth;\n      canvas.height = video.videoHeight;\n      canvas.getContext('2d').drawImage(video, 0, 0);\n      stream.getVideoTracks()[0].stop();\n      video.remove();\n      return canvas.toDataURL('image/jpeg', quality);\n  }\n  ",
            "text/plain": [
              "<IPython.core.display.Javascript object>"
            ]
          },
          "metadata": {},
          "output_type": "display_data"
        },
        {
          "name": "stdout",
          "output_type": "stream",
          "text": [
            "\n",
            "0: 640x640 1 closedmouth, 1 face, 2 openeyes, 7.4ms\n",
            "Speed: 1.9ms preprocess, 7.4ms inference, 1.3ms postprocess per image at shape (1, 3, 640, 640)\n",
            "['face', 'openeye', 'openeye', 'closedmouth']\n",
            "[0.87796, 0.59687, 0.5305, 0.51226]\n"
          ]
        },
        {
          "data": {
            "application/javascript": "\n  async function takePhoto(quality, delay) {\n      const video = document.createElement('video');\n      video.style.display = 'block';\n      const stream = await navigator.mediaDevices.getUserMedia({video: true});\n\n      document.body.appendChild(video);\n      video.srcObject = stream;\n      await video.play();\n\n      // Wait for video to start, you can adjust the delay here\n      await new Promise(resolve => setTimeout(resolve, delay));\n\n      const canvas = document.createElement('canvas');\n      canvas.width = video.videoWidth;\n      canvas.height = video.videoHeight;\n      canvas.getContext('2d').drawImage(video, 0, 0);\n      stream.getVideoTracks()[0].stop();\n      video.remove();\n      return canvas.toDataURL('image/jpeg', quality);\n  }\n  ",
            "text/plain": [
              "<IPython.core.display.Javascript object>"
            ]
          },
          "metadata": {},
          "output_type": "display_data"
        },
        {
          "name": "stdout",
          "output_type": "stream",
          "text": [
            "\n",
            "0: 640x640 1 closedmouth, 1 face, 2 openeyes, 7.4ms\n",
            "Speed: 1.6ms preprocess, 7.4ms inference, 1.2ms postprocess per image at shape (1, 3, 640, 640)\n",
            "['face', 'openeye', 'openeye', 'closedmouth']\n",
            "[0.87187, 0.58512, 0.55133, 0.51552]\n"
          ]
        },
        {
          "data": {
            "application/javascript": "\n  async function takePhoto(quality, delay) {\n      const video = document.createElement('video');\n      video.style.display = 'block';\n      const stream = await navigator.mediaDevices.getUserMedia({video: true});\n\n      document.body.appendChild(video);\n      video.srcObject = stream;\n      await video.play();\n\n      // Wait for video to start, you can adjust the delay here\n      await new Promise(resolve => setTimeout(resolve, delay));\n\n      const canvas = document.createElement('canvas');\n      canvas.width = video.videoWidth;\n      canvas.height = video.videoHeight;\n      canvas.getContext('2d').drawImage(video, 0, 0);\n      stream.getVideoTracks()[0].stop();\n      video.remove();\n      return canvas.toDataURL('image/jpeg', quality);\n  }\n  ",
            "text/plain": [
              "<IPython.core.display.Javascript object>"
            ]
          },
          "metadata": {},
          "output_type": "display_data"
        },
        {
          "name": "stdout",
          "output_type": "stream",
          "text": [
            "\n",
            "0: 640x640 1 closedmouth, 1 face, 2 openeyes, 7.4ms\n",
            "Speed: 1.5ms preprocess, 7.4ms inference, 1.3ms postprocess per image at shape (1, 3, 640, 640)\n",
            "['face', 'openeye', 'openeye', 'closedmouth']\n",
            "[0.88537, 0.57159, 0.55444, 0.36318]\n"
          ]
        },
        {
          "data": {
            "application/javascript": "\n  async function takePhoto(quality, delay) {\n      const video = document.createElement('video');\n      video.style.display = 'block';\n      const stream = await navigator.mediaDevices.getUserMedia({video: true});\n\n      document.body.appendChild(video);\n      video.srcObject = stream;\n      await video.play();\n\n      // Wait for video to start, you can adjust the delay here\n      await new Promise(resolve => setTimeout(resolve, delay));\n\n      const canvas = document.createElement('canvas');\n      canvas.width = video.videoWidth;\n      canvas.height = video.videoHeight;\n      canvas.getContext('2d').drawImage(video, 0, 0);\n      stream.getVideoTracks()[0].stop();\n      video.remove();\n      return canvas.toDataURL('image/jpeg', quality);\n  }\n  ",
            "text/plain": [
              "<IPython.core.display.Javascript object>"
            ]
          },
          "metadata": {},
          "output_type": "display_data"
        },
        {
          "name": "stdout",
          "output_type": "stream",
          "text": [
            "\n",
            "0: 640x640 2 closedmouths, 1 face, 3 openeyes, 8.7ms\n",
            "Speed: 1.7ms preprocess, 8.7ms inference, 1.3ms postprocess per image at shape (1, 3, 640, 640)\n",
            "['face', 'openeye', 'openeye', 'closedmouth', 'closedmouth', 'openeye']\n",
            "[0.88532, 0.55794, 0.51977, 0.45883, 0.30805, 0.28942]\n"
          ]
        },
        {
          "data": {
            "application/javascript": "\n  async function takePhoto(quality, delay) {\n      const video = document.createElement('video');\n      video.style.display = 'block';\n      const stream = await navigator.mediaDevices.getUserMedia({video: true});\n\n      document.body.appendChild(video);\n      video.srcObject = stream;\n      await video.play();\n\n      // Wait for video to start, you can adjust the delay here\n      await new Promise(resolve => setTimeout(resolve, delay));\n\n      const canvas = document.createElement('canvas');\n      canvas.width = video.videoWidth;\n      canvas.height = video.videoHeight;\n      canvas.getContext('2d').drawImage(video, 0, 0);\n      stream.getVideoTracks()[0].stop();\n      video.remove();\n      return canvas.toDataURL('image/jpeg', quality);\n  }\n  ",
            "text/plain": [
              "<IPython.core.display.Javascript object>"
            ]
          },
          "metadata": {},
          "output_type": "display_data"
        },
        {
          "name": "stdout",
          "output_type": "stream",
          "text": [
            "\n",
            "0: 640x640 1 closedmouth, 1 face, 2 openeyes, 8.5ms\n",
            "Speed: 1.7ms preprocess, 8.5ms inference, 1.6ms postprocess per image at shape (1, 3, 640, 640)\n",
            "['face', 'openeye', 'openeye', 'closedmouth']\n",
            "[0.87856, 0.61452, 0.54938, 0.53727]\n"
          ]
        },
        {
          "data": {
            "application/javascript": "\n  async function takePhoto(quality, delay) {\n      const video = document.createElement('video');\n      video.style.display = 'block';\n      const stream = await navigator.mediaDevices.getUserMedia({video: true});\n\n      document.body.appendChild(video);\n      video.srcObject = stream;\n      await video.play();\n\n      // Wait for video to start, you can adjust the delay here\n      await new Promise(resolve => setTimeout(resolve, delay));\n\n      const canvas = document.createElement('canvas');\n      canvas.width = video.videoWidth;\n      canvas.height = video.videoHeight;\n      canvas.getContext('2d').drawImage(video, 0, 0);\n      stream.getVideoTracks()[0].stop();\n      video.remove();\n      return canvas.toDataURL('image/jpeg', quality);\n  }\n  ",
            "text/plain": [
              "<IPython.core.display.Javascript object>"
            ]
          },
          "metadata": {},
          "output_type": "display_data"
        },
        {
          "name": "stdout",
          "output_type": "stream",
          "text": [
            "\n",
            "0: 640x640 1 closedmouth, 1 face, 2 openeyes, 12.3ms\n",
            "Speed: 1.9ms preprocess, 12.3ms inference, 3.5ms postprocess per image at shape (1, 3, 640, 640)\n",
            "['face', 'openeye', 'openeye', 'closedmouth']\n",
            "[0.88365, 0.60132, 0.55998, 0.53046]\n"
          ]
        },
        {
          "data": {
            "application/javascript": "\n  async function takePhoto(quality, delay) {\n      const video = document.createElement('video');\n      video.style.display = 'block';\n      const stream = await navigator.mediaDevices.getUserMedia({video: true});\n\n      document.body.appendChild(video);\n      video.srcObject = stream;\n      await video.play();\n\n      // Wait for video to start, you can adjust the delay here\n      await new Promise(resolve => setTimeout(resolve, delay));\n\n      const canvas = document.createElement('canvas');\n      canvas.width = video.videoWidth;\n      canvas.height = video.videoHeight;\n      canvas.getContext('2d').drawImage(video, 0, 0);\n      stream.getVideoTracks()[0].stop();\n      video.remove();\n      return canvas.toDataURL('image/jpeg', quality);\n  }\n  ",
            "text/plain": [
              "<IPython.core.display.Javascript object>"
            ]
          },
          "metadata": {},
          "output_type": "display_data"
        },
        {
          "name": "stdout",
          "output_type": "stream",
          "text": [
            "\n",
            "0: 640x640 1 closedmouth, 1 face, 2 openeyes, 7.4ms\n",
            "Speed: 2.2ms preprocess, 7.4ms inference, 1.3ms postprocess per image at shape (1, 3, 640, 640)\n",
            "['face', 'openeye', 'openeye', 'closedmouth']\n",
            "[0.88368, 0.59723, 0.57926, 0.47377]\n"
          ]
        },
        {
          "data": {
            "application/javascript": "\n  async function takePhoto(quality, delay) {\n      const video = document.createElement('video');\n      video.style.display = 'block';\n      const stream = await navigator.mediaDevices.getUserMedia({video: true});\n\n      document.body.appendChild(video);\n      video.srcObject = stream;\n      await video.play();\n\n      // Wait for video to start, you can adjust the delay here\n      await new Promise(resolve => setTimeout(resolve, delay));\n\n      const canvas = document.createElement('canvas');\n      canvas.width = video.videoWidth;\n      canvas.height = video.videoHeight;\n      canvas.getContext('2d').drawImage(video, 0, 0);\n      stream.getVideoTracks()[0].stop();\n      video.remove();\n      return canvas.toDataURL('image/jpeg', quality);\n  }\n  ",
            "text/plain": [
              "<IPython.core.display.Javascript object>"
            ]
          },
          "metadata": {},
          "output_type": "display_data"
        },
        {
          "name": "stdout",
          "output_type": "stream",
          "text": [
            "\n",
            "0: 640x640 1 closedmouth, 1 face, 2 openeyes, 8.9ms\n",
            "Speed: 1.5ms preprocess, 8.9ms inference, 1.4ms postprocess per image at shape (1, 3, 640, 640)\n",
            "['face', 'openeye', 'openeye', 'closedmouth']\n",
            "[0.88638, 0.63534, 0.55586, 0.49357]\n"
          ]
        },
        {
          "data": {
            "application/javascript": "\n  async function takePhoto(quality, delay) {\n      const video = document.createElement('video');\n      video.style.display = 'block';\n      const stream = await navigator.mediaDevices.getUserMedia({video: true});\n\n      document.body.appendChild(video);\n      video.srcObject = stream;\n      await video.play();\n\n      // Wait for video to start, you can adjust the delay here\n      await new Promise(resolve => setTimeout(resolve, delay));\n\n      const canvas = document.createElement('canvas');\n      canvas.width = video.videoWidth;\n      canvas.height = video.videoHeight;\n      canvas.getContext('2d').drawImage(video, 0, 0);\n      stream.getVideoTracks()[0].stop();\n      video.remove();\n      return canvas.toDataURL('image/jpeg', quality);\n  }\n  ",
            "text/plain": [
              "<IPython.core.display.Javascript object>"
            ]
          },
          "metadata": {},
          "output_type": "display_data"
        },
        {
          "name": "stdout",
          "output_type": "stream",
          "text": [
            "\n",
            "0: 640x640 1 closedmouth, 1 face, 3 openeyes, 7.7ms\n",
            "Speed: 1.9ms preprocess, 7.7ms inference, 1.3ms postprocess per image at shape (1, 3, 640, 640)\n",
            "['face', 'openeye', 'openeye', 'closedmouth', 'openeye']\n",
            "[0.87941, 0.6144, 0.57368, 0.47216, 0.29375]\n"
          ]
        },
        {
          "data": {
            "application/javascript": "\n  async function takePhoto(quality, delay) {\n      const video = document.createElement('video');\n      video.style.display = 'block';\n      const stream = await navigator.mediaDevices.getUserMedia({video: true});\n\n      document.body.appendChild(video);\n      video.srcObject = stream;\n      await video.play();\n\n      // Wait for video to start, you can adjust the delay here\n      await new Promise(resolve => setTimeout(resolve, delay));\n\n      const canvas = document.createElement('canvas');\n      canvas.width = video.videoWidth;\n      canvas.height = video.videoHeight;\n      canvas.getContext('2d').drawImage(video, 0, 0);\n      stream.getVideoTracks()[0].stop();\n      video.remove();\n      return canvas.toDataURL('image/jpeg', quality);\n  }\n  ",
            "text/plain": [
              "<IPython.core.display.Javascript object>"
            ]
          },
          "metadata": {},
          "output_type": "display_data"
        },
        {
          "name": "stdout",
          "output_type": "stream",
          "text": [
            "\n",
            "0: 640x640 1 closedmouth, 1 face, 3 openeyes, 7.4ms\n",
            "Speed: 1.5ms preprocess, 7.4ms inference, 1.3ms postprocess per image at shape (1, 3, 640, 640)\n",
            "['face', 'openeye', 'openeye', 'closedmouth', 'openeye']\n",
            "[0.89, 0.59472, 0.55925, 0.49151, 0.30041]\n"
          ]
        },
        {
          "data": {
            "application/javascript": "\n  async function takePhoto(quality, delay) {\n      const video = document.createElement('video');\n      video.style.display = 'block';\n      const stream = await navigator.mediaDevices.getUserMedia({video: true});\n\n      document.body.appendChild(video);\n      video.srcObject = stream;\n      await video.play();\n\n      // Wait for video to start, you can adjust the delay here\n      await new Promise(resolve => setTimeout(resolve, delay));\n\n      const canvas = document.createElement('canvas');\n      canvas.width = video.videoWidth;\n      canvas.height = video.videoHeight;\n      canvas.getContext('2d').drawImage(video, 0, 0);\n      stream.getVideoTracks()[0].stop();\n      video.remove();\n      return canvas.toDataURL('image/jpeg', quality);\n  }\n  ",
            "text/plain": [
              "<IPython.core.display.Javascript object>"
            ]
          },
          "metadata": {},
          "output_type": "display_data"
        },
        {
          "name": "stdout",
          "output_type": "stream",
          "text": [
            "\n",
            "0: 640x640 1 closedmouth, 1 face, 2 openeyes, 7.4ms\n",
            "Speed: 1.5ms preprocess, 7.4ms inference, 1.3ms postprocess per image at shape (1, 3, 640, 640)\n",
            "['face', 'openeye', 'closedmouth', 'openeye']\n",
            "[0.87786, 0.582, 0.52444, 0.51665]\n"
          ]
        },
        {
          "data": {
            "application/javascript": "\n  async function takePhoto(quality, delay) {\n      const video = document.createElement('video');\n      video.style.display = 'block';\n      const stream = await navigator.mediaDevices.getUserMedia({video: true});\n\n      document.body.appendChild(video);\n      video.srcObject = stream;\n      await video.play();\n\n      // Wait for video to start, you can adjust the delay here\n      await new Promise(resolve => setTimeout(resolve, delay));\n\n      const canvas = document.createElement('canvas');\n      canvas.width = video.videoWidth;\n      canvas.height = video.videoHeight;\n      canvas.getContext('2d').drawImage(video, 0, 0);\n      stream.getVideoTracks()[0].stop();\n      video.remove();\n      return canvas.toDataURL('image/jpeg', quality);\n  }\n  ",
            "text/plain": [
              "<IPython.core.display.Javascript object>"
            ]
          },
          "metadata": {},
          "output_type": "display_data"
        },
        {
          "name": "stdout",
          "output_type": "stream",
          "text": [
            "\n",
            "0: 640x640 1 face, 2 openeyes, 1 openmouth, 7.4ms\n",
            "Speed: 1.5ms preprocess, 7.4ms inference, 2.7ms postprocess per image at shape (1, 3, 640, 640)\n",
            "['face', 'openeye', 'openeye', 'openmouth']\n",
            "[0.88109, 0.54849, 0.51233, 0.47339]\n"
          ]
        },
        {
          "data": {
            "application/javascript": "\n  async function takePhoto(quality, delay) {\n      const video = document.createElement('video');\n      video.style.display = 'block';\n      const stream = await navigator.mediaDevices.getUserMedia({video: true});\n\n      document.body.appendChild(video);\n      video.srcObject = stream;\n      await video.play();\n\n      // Wait for video to start, you can adjust the delay here\n      await new Promise(resolve => setTimeout(resolve, delay));\n\n      const canvas = document.createElement('canvas');\n      canvas.width = video.videoWidth;\n      canvas.height = video.videoHeight;\n      canvas.getContext('2d').drawImage(video, 0, 0);\n      stream.getVideoTracks()[0].stop();\n      video.remove();\n      return canvas.toDataURL('image/jpeg', quality);\n  }\n  ",
            "text/plain": [
              "<IPython.core.display.Javascript object>"
            ]
          },
          "metadata": {},
          "output_type": "display_data"
        },
        {
          "name": "stdout",
          "output_type": "stream",
          "text": [
            "\n",
            "0: 640x640 1 closedmouth, 1 face, 3 openeyes, 7.8ms\n",
            "Speed: 1.9ms preprocess, 7.8ms inference, 1.3ms postprocess per image at shape (1, 3, 640, 640)\n",
            "['face', 'openeye', 'closedmouth', 'openeye', 'openeye']\n",
            "[0.86487, 0.59883, 0.59801, 0.56071, 0.27693]\n"
          ]
        },
        {
          "data": {
            "application/javascript": "\n  async function takePhoto(quality, delay) {\n      const video = document.createElement('video');\n      video.style.display = 'block';\n      const stream = await navigator.mediaDevices.getUserMedia({video: true});\n\n      document.body.appendChild(video);\n      video.srcObject = stream;\n      await video.play();\n\n      // Wait for video to start, you can adjust the delay here\n      await new Promise(resolve => setTimeout(resolve, delay));\n\n      const canvas = document.createElement('canvas');\n      canvas.width = video.videoWidth;\n      canvas.height = video.videoHeight;\n      canvas.getContext('2d').drawImage(video, 0, 0);\n      stream.getVideoTracks()[0].stop();\n      video.remove();\n      return canvas.toDataURL('image/jpeg', quality);\n  }\n  ",
            "text/plain": [
              "<IPython.core.display.Javascript object>"
            ]
          },
          "metadata": {},
          "output_type": "display_data"
        },
        {
          "name": "stdout",
          "output_type": "stream",
          "text": [
            "\n",
            "0: 640x640 1 closedmouth, 1 face, 2 openeyes, 7.4ms\n",
            "Speed: 1.8ms preprocess, 7.4ms inference, 1.3ms postprocess per image at shape (1, 3, 640, 640)\n",
            "['face', 'closedmouth', 'openeye', 'openeye']\n",
            "[0.88104, 0.61189, 0.50472, 0.4161]\n"
          ]
        },
        {
          "data": {
            "application/javascript": "\n  async function takePhoto(quality, delay) {\n      const video = document.createElement('video');\n      video.style.display = 'block';\n      const stream = await navigator.mediaDevices.getUserMedia({video: true});\n\n      document.body.appendChild(video);\n      video.srcObject = stream;\n      await video.play();\n\n      // Wait for video to start, you can adjust the delay here\n      await new Promise(resolve => setTimeout(resolve, delay));\n\n      const canvas = document.createElement('canvas');\n      canvas.width = video.videoWidth;\n      canvas.height = video.videoHeight;\n      canvas.getContext('2d').drawImage(video, 0, 0);\n      stream.getVideoTracks()[0].stop();\n      video.remove();\n      return canvas.toDataURL('image/jpeg', quality);\n  }\n  ",
            "text/plain": [
              "<IPython.core.display.Javascript object>"
            ]
          },
          "metadata": {},
          "output_type": "display_data"
        },
        {
          "name": "stdout",
          "output_type": "stream",
          "text": [
            "\n",
            "0: 640x640 2 closedmouths, 1 face, 2 openeyes, 9.4ms\n",
            "Speed: 1.7ms preprocess, 9.4ms inference, 1.5ms postprocess per image at shape (1, 3, 640, 640)\n",
            "['face', 'openeye', 'openeye', 'closedmouth', 'closedmouth']\n",
            "[0.87299, 0.55441, 0.54453, 0.47007, 0.29746]\n"
          ]
        },
        {
          "data": {
            "application/javascript": "\n  async function takePhoto(quality, delay) {\n      const video = document.createElement('video');\n      video.style.display = 'block';\n      const stream = await navigator.mediaDevices.getUserMedia({video: true});\n\n      document.body.appendChild(video);\n      video.srcObject = stream;\n      await video.play();\n\n      // Wait for video to start, you can adjust the delay here\n      await new Promise(resolve => setTimeout(resolve, delay));\n\n      const canvas = document.createElement('canvas');\n      canvas.width = video.videoWidth;\n      canvas.height = video.videoHeight;\n      canvas.getContext('2d').drawImage(video, 0, 0);\n      stream.getVideoTracks()[0].stop();\n      video.remove();\n      return canvas.toDataURL('image/jpeg', quality);\n  }\n  ",
            "text/plain": [
              "<IPython.core.display.Javascript object>"
            ]
          },
          "metadata": {},
          "output_type": "display_data"
        },
        {
          "name": "stdout",
          "output_type": "stream",
          "text": [
            "\n",
            "0: 640x640 1 closedmouth, 1 face, 2 openeyes, 14.3ms\n",
            "Speed: 1.8ms preprocess, 14.3ms inference, 1.8ms postprocess per image at shape (1, 3, 640, 640)\n",
            "['face', 'closedmouth', 'openeye', 'openeye']\n",
            "[0.88383, 0.6064, 0.59861, 0.56008]\n"
          ]
        },
        {
          "data": {
            "application/javascript": "\n  async function takePhoto(quality, delay) {\n      const video = document.createElement('video');\n      video.style.display = 'block';\n      const stream = await navigator.mediaDevices.getUserMedia({video: true});\n\n      document.body.appendChild(video);\n      video.srcObject = stream;\n      await video.play();\n\n      // Wait for video to start, you can adjust the delay here\n      await new Promise(resolve => setTimeout(resolve, delay));\n\n      const canvas = document.createElement('canvas');\n      canvas.width = video.videoWidth;\n      canvas.height = video.videoHeight;\n      canvas.getContext('2d').drawImage(video, 0, 0);\n      stream.getVideoTracks()[0].stop();\n      video.remove();\n      return canvas.toDataURL('image/jpeg', quality);\n  }\n  ",
            "text/plain": [
              "<IPython.core.display.Javascript object>"
            ]
          },
          "metadata": {},
          "output_type": "display_data"
        },
        {
          "name": "stdout",
          "output_type": "stream",
          "text": [
            "\n",
            "0: 640x640 1 closedmouth, 1 face, 2 openeyes, 7.4ms\n",
            "Speed: 1.8ms preprocess, 7.4ms inference, 1.3ms postprocess per image at shape (1, 3, 640, 640)\n",
            "['face', 'openeye', 'closedmouth', 'openeye']\n",
            "[0.88566, 0.63618, 0.56844, 0.55533]\n"
          ]
        },
        {
          "data": {
            "application/javascript": "\n  async function takePhoto(quality, delay) {\n      const video = document.createElement('video');\n      video.style.display = 'block';\n      const stream = await navigator.mediaDevices.getUserMedia({video: true});\n\n      document.body.appendChild(video);\n      video.srcObject = stream;\n      await video.play();\n\n      // Wait for video to start, you can adjust the delay here\n      await new Promise(resolve => setTimeout(resolve, delay));\n\n      const canvas = document.createElement('canvas');\n      canvas.width = video.videoWidth;\n      canvas.height = video.videoHeight;\n      canvas.getContext('2d').drawImage(video, 0, 0);\n      stream.getVideoTracks()[0].stop();\n      video.remove();\n      return canvas.toDataURL('image/jpeg', quality);\n  }\n  ",
            "text/plain": [
              "<IPython.core.display.Javascript object>"
            ]
          },
          "metadata": {},
          "output_type": "display_data"
        },
        {
          "name": "stdout",
          "output_type": "stream",
          "text": [
            "\n",
            "0: 640x640 2 closedmouths, 1 face, 2 openeyes, 7.5ms\n",
            "Speed: 1.8ms preprocess, 7.5ms inference, 1.3ms postprocess per image at shape (1, 3, 640, 640)\n",
            "['face', 'openeye', 'openeye', 'closedmouth', 'closedmouth']\n",
            "[0.88247, 0.57333, 0.54247, 0.51761, 0.31793]\n"
          ]
        },
        {
          "data": {
            "application/javascript": "\n  async function takePhoto(quality, delay) {\n      const video = document.createElement('video');\n      video.style.display = 'block';\n      const stream = await navigator.mediaDevices.getUserMedia({video: true});\n\n      document.body.appendChild(video);\n      video.srcObject = stream;\n      await video.play();\n\n      // Wait for video to start, you can adjust the delay here\n      await new Promise(resolve => setTimeout(resolve, delay));\n\n      const canvas = document.createElement('canvas');\n      canvas.width = video.videoWidth;\n      canvas.height = video.videoHeight;\n      canvas.getContext('2d').drawImage(video, 0, 0);\n      stream.getVideoTracks()[0].stop();\n      video.remove();\n      return canvas.toDataURL('image/jpeg', quality);\n  }\n  ",
            "text/plain": [
              "<IPython.core.display.Javascript object>"
            ]
          },
          "metadata": {},
          "output_type": "display_data"
        },
        {
          "name": "stdout",
          "output_type": "stream",
          "text": [
            "\n",
            "0: 640x640 2 closedmouths, 1 face, 2 openeyes, 7.7ms\n",
            "Speed: 1.8ms preprocess, 7.7ms inference, 1.3ms postprocess per image at shape (1, 3, 640, 640)\n",
            "['face', 'openeye', 'openeye', 'closedmouth', 'closedmouth']\n",
            "[0.85516, 0.58161, 0.57229, 0.48567, 0.27237]\n"
          ]
        },
        {
          "data": {
            "application/javascript": "\n  async function takePhoto(quality, delay) {\n      const video = document.createElement('video');\n      video.style.display = 'block';\n      const stream = await navigator.mediaDevices.getUserMedia({video: true});\n\n      document.body.appendChild(video);\n      video.srcObject = stream;\n      await video.play();\n\n      // Wait for video to start, you can adjust the delay here\n      await new Promise(resolve => setTimeout(resolve, delay));\n\n      const canvas = document.createElement('canvas');\n      canvas.width = video.videoWidth;\n      canvas.height = video.videoHeight;\n      canvas.getContext('2d').drawImage(video, 0, 0);\n      stream.getVideoTracks()[0].stop();\n      video.remove();\n      return canvas.toDataURL('image/jpeg', quality);\n  }\n  ",
            "text/plain": [
              "<IPython.core.display.Javascript object>"
            ]
          },
          "metadata": {},
          "output_type": "display_data"
        },
        {
          "name": "stdout",
          "output_type": "stream",
          "text": [
            "\n",
            "0: 640x640 2 closedmouths, 1 face, 2 openeyes, 8.4ms\n",
            "Speed: 1.7ms preprocess, 8.4ms inference, 1.3ms postprocess per image at shape (1, 3, 640, 640)\n",
            "['face', 'openeye', 'openeye', 'closedmouth', 'closedmouth']\n",
            "[0.86394, 0.58482, 0.56717, 0.56478, 0.32164]\n"
          ]
        },
        {
          "data": {
            "application/javascript": "\n  async function takePhoto(quality, delay) {\n      const video = document.createElement('video');\n      video.style.display = 'block';\n      const stream = await navigator.mediaDevices.getUserMedia({video: true});\n\n      document.body.appendChild(video);\n      video.srcObject = stream;\n      await video.play();\n\n      // Wait for video to start, you can adjust the delay here\n      await new Promise(resolve => setTimeout(resolve, delay));\n\n      const canvas = document.createElement('canvas');\n      canvas.width = video.videoWidth;\n      canvas.height = video.videoHeight;\n      canvas.getContext('2d').drawImage(video, 0, 0);\n      stream.getVideoTracks()[0].stop();\n      video.remove();\n      return canvas.toDataURL('image/jpeg', quality);\n  }\n  ",
            "text/plain": [
              "<IPython.core.display.Javascript object>"
            ]
          },
          "metadata": {},
          "output_type": "display_data"
        },
        {
          "name": "stdout",
          "output_type": "stream",
          "text": [
            "\n",
            "0: 640x640 1 face, 2 openeyes, 1 openmouth, 7.4ms\n",
            "Speed: 1.7ms preprocess, 7.4ms inference, 1.3ms postprocess per image at shape (1, 3, 640, 640)\n",
            "['face', 'openeye', 'openeye', 'openmouth']\n",
            "[0.87266, 0.64088, 0.5689, 0.46078]\n"
          ]
        },
        {
          "data": {
            "application/javascript": "\n  async function takePhoto(quality, delay) {\n      const video = document.createElement('video');\n      video.style.display = 'block';\n      const stream = await navigator.mediaDevices.getUserMedia({video: true});\n\n      document.body.appendChild(video);\n      video.srcObject = stream;\n      await video.play();\n\n      // Wait for video to start, you can adjust the delay here\n      await new Promise(resolve => setTimeout(resolve, delay));\n\n      const canvas = document.createElement('canvas');\n      canvas.width = video.videoWidth;\n      canvas.height = video.videoHeight;\n      canvas.getContext('2d').drawImage(video, 0, 0);\n      stream.getVideoTracks()[0].stop();\n      video.remove();\n      return canvas.toDataURL('image/jpeg', quality);\n  }\n  ",
            "text/plain": [
              "<IPython.core.display.Javascript object>"
            ]
          },
          "metadata": {},
          "output_type": "display_data"
        },
        {
          "name": "stdout",
          "output_type": "stream",
          "text": [
            "\n",
            "0: 640x640 1 closedmouth, 1 face, 2 openeyes, 10.8ms\n",
            "Speed: 1.6ms preprocess, 10.8ms inference, 1.8ms postprocess per image at shape (1, 3, 640, 640)\n",
            "['face', 'closedmouth', 'openeye', 'openeye']\n",
            "[0.88822, 0.57103, 0.55842, 0.55558]\n"
          ]
        },
        {
          "data": {
            "application/javascript": "\n  async function takePhoto(quality, delay) {\n      const video = document.createElement('video');\n      video.style.display = 'block';\n      const stream = await navigator.mediaDevices.getUserMedia({video: true});\n\n      document.body.appendChild(video);\n      video.srcObject = stream;\n      await video.play();\n\n      // Wait for video to start, you can adjust the delay here\n      await new Promise(resolve => setTimeout(resolve, delay));\n\n      const canvas = document.createElement('canvas');\n      canvas.width = video.videoWidth;\n      canvas.height = video.videoHeight;\n      canvas.getContext('2d').drawImage(video, 0, 0);\n      stream.getVideoTracks()[0].stop();\n      video.remove();\n      return canvas.toDataURL('image/jpeg', quality);\n  }\n  ",
            "text/plain": [
              "<IPython.core.display.Javascript object>"
            ]
          },
          "metadata": {},
          "output_type": "display_data"
        },
        {
          "name": "stdout",
          "output_type": "stream",
          "text": [
            "\n",
            "0: 640x640 2 closedmouths, 1 face, 3 openeyes, 7.5ms\n",
            "Speed: 1.5ms preprocess, 7.5ms inference, 1.3ms postprocess per image at shape (1, 3, 640, 640)\n",
            "['face', 'openeye', 'closedmouth', 'openeye', 'openeye', 'closedmouth']\n",
            "[0.87615, 0.63614, 0.55889, 0.54638, 0.27313, 0.26996]\n"
          ]
        },
        {
          "data": {
            "application/javascript": "\n  async function takePhoto(quality, delay) {\n      const video = document.createElement('video');\n      video.style.display = 'block';\n      const stream = await navigator.mediaDevices.getUserMedia({video: true});\n\n      document.body.appendChild(video);\n      video.srcObject = stream;\n      await video.play();\n\n      // Wait for video to start, you can adjust the delay here\n      await new Promise(resolve => setTimeout(resolve, delay));\n\n      const canvas = document.createElement('canvas');\n      canvas.width = video.videoWidth;\n      canvas.height = video.videoHeight;\n      canvas.getContext('2d').drawImage(video, 0, 0);\n      stream.getVideoTracks()[0].stop();\n      video.remove();\n      return canvas.toDataURL('image/jpeg', quality);\n  }\n  ",
            "text/plain": [
              "<IPython.core.display.Javascript object>"
            ]
          },
          "metadata": {},
          "output_type": "display_data"
        },
        {
          "name": "stdout",
          "output_type": "stream",
          "text": [
            "\n",
            "0: 640x640 1 closedmouth, 1 face, 2 openeyes, 9.6ms\n",
            "Speed: 1.8ms preprocess, 9.6ms inference, 1.6ms postprocess per image at shape (1, 3, 640, 640)\n",
            "['face', 'openeye', 'openeye', 'closedmouth']\n",
            "[0.87861, 0.58767, 0.57309, 0.49421]\n"
          ]
        },
        {
          "data": {
            "application/javascript": "\n  async function takePhoto(quality, delay) {\n      const video = document.createElement('video');\n      video.style.display = 'block';\n      const stream = await navigator.mediaDevices.getUserMedia({video: true});\n\n      document.body.appendChild(video);\n      video.srcObject = stream;\n      await video.play();\n\n      // Wait for video to start, you can adjust the delay here\n      await new Promise(resolve => setTimeout(resolve, delay));\n\n      const canvas = document.createElement('canvas');\n      canvas.width = video.videoWidth;\n      canvas.height = video.videoHeight;\n      canvas.getContext('2d').drawImage(video, 0, 0);\n      stream.getVideoTracks()[0].stop();\n      video.remove();\n      return canvas.toDataURL('image/jpeg', quality);\n  }\n  ",
            "text/plain": [
              "<IPython.core.display.Javascript object>"
            ]
          },
          "metadata": {},
          "output_type": "display_data"
        },
        {
          "name": "stdout",
          "output_type": "stream",
          "text": [
            "\n",
            "0: 640x640 1 closedmouth, 1 face, 2 openeyes, 9.7ms\n",
            "Speed: 5.1ms preprocess, 9.7ms inference, 1.5ms postprocess per image at shape (1, 3, 640, 640)\n",
            "['face', 'openeye', 'openeye', 'closedmouth']\n",
            "[0.88059, 0.57494, 0.56721, 0.55505]\n"
          ]
        },
        {
          "data": {
            "application/javascript": "\n  async function takePhoto(quality, delay) {\n      const video = document.createElement('video');\n      video.style.display = 'block';\n      const stream = await navigator.mediaDevices.getUserMedia({video: true});\n\n      document.body.appendChild(video);\n      video.srcObject = stream;\n      await video.play();\n\n      // Wait for video to start, you can adjust the delay here\n      await new Promise(resolve => setTimeout(resolve, delay));\n\n      const canvas = document.createElement('canvas');\n      canvas.width = video.videoWidth;\n      canvas.height = video.videoHeight;\n      canvas.getContext('2d').drawImage(video, 0, 0);\n      stream.getVideoTracks()[0].stop();\n      video.remove();\n      return canvas.toDataURL('image/jpeg', quality);\n  }\n  ",
            "text/plain": [
              "<IPython.core.display.Javascript object>"
            ]
          },
          "metadata": {},
          "output_type": "display_data"
        },
        {
          "name": "stdout",
          "output_type": "stream",
          "text": [
            "\n",
            "0: 640x640 1 closedmouth, 1 face, 3 openeyes, 11.2ms\n",
            "Speed: 1.8ms preprocess, 11.2ms inference, 1.9ms postprocess per image at shape (1, 3, 640, 640)\n",
            "['face', 'openeye', 'openeye', 'closedmouth', 'openeye']\n",
            "[0.87377, 0.60189, 0.52889, 0.50627, 0.3033]\n"
          ]
        },
        {
          "data": {
            "application/javascript": "\n  async function takePhoto(quality, delay) {\n      const video = document.createElement('video');\n      video.style.display = 'block';\n      const stream = await navigator.mediaDevices.getUserMedia({video: true});\n\n      document.body.appendChild(video);\n      video.srcObject = stream;\n      await video.play();\n\n      // Wait for video to start, you can adjust the delay here\n      await new Promise(resolve => setTimeout(resolve, delay));\n\n      const canvas = document.createElement('canvas');\n      canvas.width = video.videoWidth;\n      canvas.height = video.videoHeight;\n      canvas.getContext('2d').drawImage(video, 0, 0);\n      stream.getVideoTracks()[0].stop();\n      video.remove();\n      return canvas.toDataURL('image/jpeg', quality);\n  }\n  ",
            "text/plain": [
              "<IPython.core.display.Javascript object>"
            ]
          },
          "metadata": {},
          "output_type": "display_data"
        },
        {
          "name": "stdout",
          "output_type": "stream",
          "text": [
            "\n",
            "0: 640x640 2 closedmouths, 1 face, 3 openeyes, 7.4ms\n",
            "Speed: 1.7ms preprocess, 7.4ms inference, 1.3ms postprocess per image at shape (1, 3, 640, 640)\n",
            "['face', 'openeye', 'openeye', 'closedmouth', 'closedmouth', 'openeye']\n",
            "[0.88109, 0.62233, 0.55137, 0.52763, 0.36371, 0.30263]\n"
          ]
        },
        {
          "data": {
            "application/javascript": "\n  async function takePhoto(quality, delay) {\n      const video = document.createElement('video');\n      video.style.display = 'block';\n      const stream = await navigator.mediaDevices.getUserMedia({video: true});\n\n      document.body.appendChild(video);\n      video.srcObject = stream;\n      await video.play();\n\n      // Wait for video to start, you can adjust the delay here\n      await new Promise(resolve => setTimeout(resolve, delay));\n\n      const canvas = document.createElement('canvas');\n      canvas.width = video.videoWidth;\n      canvas.height = video.videoHeight;\n      canvas.getContext('2d').drawImage(video, 0, 0);\n      stream.getVideoTracks()[0].stop();\n      video.remove();\n      return canvas.toDataURL('image/jpeg', quality);\n  }\n  ",
            "text/plain": [
              "<IPython.core.display.Javascript object>"
            ]
          },
          "metadata": {},
          "output_type": "display_data"
        },
        {
          "name": "stdout",
          "output_type": "stream",
          "text": [
            "\n",
            "0: 640x640 1 closedmouth, 1 face, 2 openeyes, 7.4ms\n",
            "Speed: 1.9ms preprocess, 7.4ms inference, 1.3ms postprocess per image at shape (1, 3, 640, 640)\n",
            "['face', 'openeye', 'openeye', 'closedmouth']\n",
            "[0.87637, 0.59225, 0.56541, 0.47432]\n"
          ]
        },
        {
          "data": {
            "application/javascript": "\n  async function takePhoto(quality, delay) {\n      const video = document.createElement('video');\n      video.style.display = 'block';\n      const stream = await navigator.mediaDevices.getUserMedia({video: true});\n\n      document.body.appendChild(video);\n      video.srcObject = stream;\n      await video.play();\n\n      // Wait for video to start, you can adjust the delay here\n      await new Promise(resolve => setTimeout(resolve, delay));\n\n      const canvas = document.createElement('canvas');\n      canvas.width = video.videoWidth;\n      canvas.height = video.videoHeight;\n      canvas.getContext('2d').drawImage(video, 0, 0);\n      stream.getVideoTracks()[0].stop();\n      video.remove();\n      return canvas.toDataURL('image/jpeg', quality);\n  }\n  ",
            "text/plain": [
              "<IPython.core.display.Javascript object>"
            ]
          },
          "metadata": {},
          "output_type": "display_data"
        },
        {
          "name": "stdout",
          "output_type": "stream",
          "text": [
            "\n",
            "0: 640x640 1 closedmouth, 1 face, 2 openeyes, 9.6ms\n",
            "Speed: 1.7ms preprocess, 9.6ms inference, 1.3ms postprocess per image at shape (1, 3, 640, 640)\n",
            "['face', 'openeye', 'openeye', 'closedmouth']\n",
            "[0.8783, 0.62666, 0.57715, 0.5123]\n"
          ]
        },
        {
          "data": {
            "application/javascript": "\n  async function takePhoto(quality, delay) {\n      const video = document.createElement('video');\n      video.style.display = 'block';\n      const stream = await navigator.mediaDevices.getUserMedia({video: true});\n\n      document.body.appendChild(video);\n      video.srcObject = stream;\n      await video.play();\n\n      // Wait for video to start, you can adjust the delay here\n      await new Promise(resolve => setTimeout(resolve, delay));\n\n      const canvas = document.createElement('canvas');\n      canvas.width = video.videoWidth;\n      canvas.height = video.videoHeight;\n      canvas.getContext('2d').drawImage(video, 0, 0);\n      stream.getVideoTracks()[0].stop();\n      video.remove();\n      return canvas.toDataURL('image/jpeg', quality);\n  }\n  ",
            "text/plain": [
              "<IPython.core.display.Javascript object>"
            ]
          },
          "metadata": {},
          "output_type": "display_data"
        },
        {
          "name": "stdout",
          "output_type": "stream",
          "text": [
            "\n",
            "0: 640x640 1 closedmouth, 1 face, 2 openeyes, 7.4ms\n",
            "Speed: 2.1ms preprocess, 7.4ms inference, 1.3ms postprocess per image at shape (1, 3, 640, 640)\n",
            "['face', 'closedmouth', 'openeye', 'openeye']\n",
            "[0.87988, 0.57547, 0.55879, 0.54863]\n"
          ]
        },
        {
          "data": {
            "application/javascript": "\n  async function takePhoto(quality, delay) {\n      const video = document.createElement('video');\n      video.style.display = 'block';\n      const stream = await navigator.mediaDevices.getUserMedia({video: true});\n\n      document.body.appendChild(video);\n      video.srcObject = stream;\n      await video.play();\n\n      // Wait for video to start, you can adjust the delay here\n      await new Promise(resolve => setTimeout(resolve, delay));\n\n      const canvas = document.createElement('canvas');\n      canvas.width = video.videoWidth;\n      canvas.height = video.videoHeight;\n      canvas.getContext('2d').drawImage(video, 0, 0);\n      stream.getVideoTracks()[0].stop();\n      video.remove();\n      return canvas.toDataURL('image/jpeg', quality);\n  }\n  ",
            "text/plain": [
              "<IPython.core.display.Javascript object>"
            ]
          },
          "metadata": {},
          "output_type": "display_data"
        },
        {
          "name": "stdout",
          "output_type": "stream",
          "text": [
            "\n",
            "0: 640x640 1 closedmouth, 1 face, 2 openeyes, 7.4ms\n",
            "Speed: 1.6ms preprocess, 7.4ms inference, 1.3ms postprocess per image at shape (1, 3, 640, 640)\n",
            "['face', 'openeye', 'openeye', 'closedmouth']\n",
            "[0.88085, 0.59042, 0.58704, 0.57341]\n"
          ]
        },
        {
          "data": {
            "application/javascript": "\n  async function takePhoto(quality, delay) {\n      const video = document.createElement('video');\n      video.style.display = 'block';\n      const stream = await navigator.mediaDevices.getUserMedia({video: true});\n\n      document.body.appendChild(video);\n      video.srcObject = stream;\n      await video.play();\n\n      // Wait for video to start, you can adjust the delay here\n      await new Promise(resolve => setTimeout(resolve, delay));\n\n      const canvas = document.createElement('canvas');\n      canvas.width = video.videoWidth;\n      canvas.height = video.videoHeight;\n      canvas.getContext('2d').drawImage(video, 0, 0);\n      stream.getVideoTracks()[0].stop();\n      video.remove();\n      return canvas.toDataURL('image/jpeg', quality);\n  }\n  ",
            "text/plain": [
              "<IPython.core.display.Javascript object>"
            ]
          },
          "metadata": {},
          "output_type": "display_data"
        },
        {
          "name": "stdout",
          "output_type": "stream",
          "text": [
            "\n",
            "0: 640x640 2 closedmouths, 1 face, 3 openeyes, 7.4ms\n",
            "Speed: 1.6ms preprocess, 7.4ms inference, 1.3ms postprocess per image at shape (1, 3, 640, 640)\n",
            "['face', 'openeye', 'openeye', 'closedmouth', 'closedmouth', 'openeye']\n",
            "[0.8883, 0.57864, 0.50465, 0.43036, 0.35913, 0.2834]\n"
          ]
        },
        {
          "data": {
            "application/javascript": "\n  async function takePhoto(quality, delay) {\n      const video = document.createElement('video');\n      video.style.display = 'block';\n      const stream = await navigator.mediaDevices.getUserMedia({video: true});\n\n      document.body.appendChild(video);\n      video.srcObject = stream;\n      await video.play();\n\n      // Wait for video to start, you can adjust the delay here\n      await new Promise(resolve => setTimeout(resolve, delay));\n\n      const canvas = document.createElement('canvas');\n      canvas.width = video.videoWidth;\n      canvas.height = video.videoHeight;\n      canvas.getContext('2d').drawImage(video, 0, 0);\n      stream.getVideoTracks()[0].stop();\n      video.remove();\n      return canvas.toDataURL('image/jpeg', quality);\n  }\n  ",
            "text/plain": [
              "<IPython.core.display.Javascript object>"
            ]
          },
          "metadata": {},
          "output_type": "display_data"
        },
        {
          "name": "stdout",
          "output_type": "stream",
          "text": [
            "\n",
            "0: 640x640 2 closedmouths, 1 face, 3 openeyes, 7.4ms\n",
            "Speed: 1.7ms preprocess, 7.4ms inference, 1.3ms postprocess per image at shape (1, 3, 640, 640)\n",
            "['face', 'openeye', 'openeye', 'closedmouth', 'closedmouth', 'openeye']\n",
            "[0.90475, 0.59449, 0.56086, 0.48, 0.40363, 0.25589]\n"
          ]
        },
        {
          "data": {
            "application/javascript": "\n  async function takePhoto(quality, delay) {\n      const video = document.createElement('video');\n      video.style.display = 'block';\n      const stream = await navigator.mediaDevices.getUserMedia({video: true});\n\n      document.body.appendChild(video);\n      video.srcObject = stream;\n      await video.play();\n\n      // Wait for video to start, you can adjust the delay here\n      await new Promise(resolve => setTimeout(resolve, delay));\n\n      const canvas = document.createElement('canvas');\n      canvas.width = video.videoWidth;\n      canvas.height = video.videoHeight;\n      canvas.getContext('2d').drawImage(video, 0, 0);\n      stream.getVideoTracks()[0].stop();\n      video.remove();\n      return canvas.toDataURL('image/jpeg', quality);\n  }\n  ",
            "text/plain": [
              "<IPython.core.display.Javascript object>"
            ]
          },
          "metadata": {},
          "output_type": "display_data"
        },
        {
          "name": "stdout",
          "output_type": "stream",
          "text": [
            "\n",
            "0: 640x640 2 closedmouths, 1 face, 3 openeyes, 7.4ms\n",
            "Speed: 1.5ms preprocess, 7.4ms inference, 1.4ms postprocess per image at shape (1, 3, 640, 640)\n",
            "['face', 'openeye', 'openeye', 'closedmouth', 'openeye', 'closedmouth']\n",
            "[0.87894, 0.59822, 0.52278, 0.49646, 0.39351, 0.35423]\n"
          ]
        },
        {
          "data": {
            "application/javascript": "\n  async function takePhoto(quality, delay) {\n      const video = document.createElement('video');\n      video.style.display = 'block';\n      const stream = await navigator.mediaDevices.getUserMedia({video: true});\n\n      document.body.appendChild(video);\n      video.srcObject = stream;\n      await video.play();\n\n      // Wait for video to start, you can adjust the delay here\n      await new Promise(resolve => setTimeout(resolve, delay));\n\n      const canvas = document.createElement('canvas');\n      canvas.width = video.videoWidth;\n      canvas.height = video.videoHeight;\n      canvas.getContext('2d').drawImage(video, 0, 0);\n      stream.getVideoTracks()[0].stop();\n      video.remove();\n      return canvas.toDataURL('image/jpeg', quality);\n  }\n  ",
            "text/plain": [
              "<IPython.core.display.Javascript object>"
            ]
          },
          "metadata": {},
          "output_type": "display_data"
        },
        {
          "name": "stdout",
          "output_type": "stream",
          "text": [
            "\n",
            "0: 640x640 1 closedmouth, 1 face, 3 openeyes, 1 openmouth, 8.2ms\n",
            "Speed: 4.7ms preprocess, 8.2ms inference, 1.5ms postprocess per image at shape (1, 3, 640, 640)\n",
            "['face', 'openeye', 'openeye', 'closedmouth', 'openmouth', 'openeye']\n",
            "[0.88006, 0.59246, 0.5501, 0.30961, 0.30824, 0.27886]\n"
          ]
        },
        {
          "data": {
            "application/javascript": "\n  async function takePhoto(quality, delay) {\n      const video = document.createElement('video');\n      video.style.display = 'block';\n      const stream = await navigator.mediaDevices.getUserMedia({video: true});\n\n      document.body.appendChild(video);\n      video.srcObject = stream;\n      await video.play();\n\n      // Wait for video to start, you can adjust the delay here\n      await new Promise(resolve => setTimeout(resolve, delay));\n\n      const canvas = document.createElement('canvas');\n      canvas.width = video.videoWidth;\n      canvas.height = video.videoHeight;\n      canvas.getContext('2d').drawImage(video, 0, 0);\n      stream.getVideoTracks()[0].stop();\n      video.remove();\n      return canvas.toDataURL('image/jpeg', quality);\n  }\n  ",
            "text/plain": [
              "<IPython.core.display.Javascript object>"
            ]
          },
          "metadata": {},
          "output_type": "display_data"
        },
        {
          "name": "stdout",
          "output_type": "stream",
          "text": [
            "\n",
            "0: 640x640 2 closedmouths, 1 face, 3 openeyes, 9.7ms\n",
            "Speed: 5.0ms preprocess, 9.7ms inference, 1.8ms postprocess per image at shape (1, 3, 640, 640)\n",
            "['face', 'openeye', 'openeye', 'closedmouth', 'closedmouth', 'openeye']\n",
            "[0.88666, 0.5701, 0.56796, 0.5165, 0.38239, 0.25039]\n"
          ]
        },
        {
          "data": {
            "application/javascript": "\n  async function takePhoto(quality, delay) {\n      const video = document.createElement('video');\n      video.style.display = 'block';\n      const stream = await navigator.mediaDevices.getUserMedia({video: true});\n\n      document.body.appendChild(video);\n      video.srcObject = stream;\n      await video.play();\n\n      // Wait for video to start, you can adjust the delay here\n      await new Promise(resolve => setTimeout(resolve, delay));\n\n      const canvas = document.createElement('canvas');\n      canvas.width = video.videoWidth;\n      canvas.height = video.videoHeight;\n      canvas.getContext('2d').drawImage(video, 0, 0);\n      stream.getVideoTracks()[0].stop();\n      video.remove();\n      return canvas.toDataURL('image/jpeg', quality);\n  }\n  ",
            "text/plain": [
              "<IPython.core.display.Javascript object>"
            ]
          },
          "metadata": {},
          "output_type": "display_data"
        },
        {
          "name": "stdout",
          "output_type": "stream",
          "text": [
            "\n",
            "0: 640x640 2 closedmouths, 1 face, 2 openeyes, 7.8ms\n",
            "Speed: 1.9ms preprocess, 7.8ms inference, 1.3ms postprocess per image at shape (1, 3, 640, 640)\n",
            "['face', 'openeye', 'closedmouth', 'openeye', 'closedmouth']\n",
            "[0.88125, 0.58578, 0.54636, 0.53238, 0.29532]\n"
          ]
        },
        {
          "data": {
            "application/javascript": "\n  async function takePhoto(quality, delay) {\n      const video = document.createElement('video');\n      video.style.display = 'block';\n      const stream = await navigator.mediaDevices.getUserMedia({video: true});\n\n      document.body.appendChild(video);\n      video.srcObject = stream;\n      await video.play();\n\n      // Wait for video to start, you can adjust the delay here\n      await new Promise(resolve => setTimeout(resolve, delay));\n\n      const canvas = document.createElement('canvas');\n      canvas.width = video.videoWidth;\n      canvas.height = video.videoHeight;\n      canvas.getContext('2d').drawImage(video, 0, 0);\n      stream.getVideoTracks()[0].stop();\n      video.remove();\n      return canvas.toDataURL('image/jpeg', quality);\n  }\n  ",
            "text/plain": [
              "<IPython.core.display.Javascript object>"
            ]
          },
          "metadata": {},
          "output_type": "display_data"
        },
        {
          "name": "stdout",
          "output_type": "stream",
          "text": [
            "\n",
            "0: 640x640 1 closedmouth, 1 face, 2 openeyes, 7.4ms\n",
            "Speed: 2.2ms preprocess, 7.4ms inference, 1.3ms postprocess per image at shape (1, 3, 640, 640)\n",
            "['face', 'openeye', 'closedmouth', 'openeye']\n",
            "[0.89157, 0.59491, 0.53171, 0.52404]\n"
          ]
        },
        {
          "data": {
            "application/javascript": "\n  async function takePhoto(quality, delay) {\n      const video = document.createElement('video');\n      video.style.display = 'block';\n      const stream = await navigator.mediaDevices.getUserMedia({video: true});\n\n      document.body.appendChild(video);\n      video.srcObject = stream;\n      await video.play();\n\n      // Wait for video to start, you can adjust the delay here\n      await new Promise(resolve => setTimeout(resolve, delay));\n\n      const canvas = document.createElement('canvas');\n      canvas.width = video.videoWidth;\n      canvas.height = video.videoHeight;\n      canvas.getContext('2d').drawImage(video, 0, 0);\n      stream.getVideoTracks()[0].stop();\n      video.remove();\n      return canvas.toDataURL('image/jpeg', quality);\n  }\n  ",
            "text/plain": [
              "<IPython.core.display.Javascript object>"
            ]
          },
          "metadata": {},
          "output_type": "display_data"
        },
        {
          "name": "stdout",
          "output_type": "stream",
          "text": [
            "\n",
            "0: 640x640 1 closedmouth, 1 face, 2 openeyes, 7.6ms\n",
            "Speed: 1.8ms preprocess, 7.6ms inference, 1.3ms postprocess per image at shape (1, 3, 640, 640)\n",
            "['face', 'openeye', 'openeye', 'closedmouth']\n",
            "[0.88229, 0.59765, 0.56121, 0.55332]\n"
          ]
        },
        {
          "data": {
            "application/javascript": "\n  async function takePhoto(quality, delay) {\n      const video = document.createElement('video');\n      video.style.display = 'block';\n      const stream = await navigator.mediaDevices.getUserMedia({video: true});\n\n      document.body.appendChild(video);\n      video.srcObject = stream;\n      await video.play();\n\n      // Wait for video to start, you can adjust the delay here\n      await new Promise(resolve => setTimeout(resolve, delay));\n\n      const canvas = document.createElement('canvas');\n      canvas.width = video.videoWidth;\n      canvas.height = video.videoHeight;\n      canvas.getContext('2d').drawImage(video, 0, 0);\n      stream.getVideoTracks()[0].stop();\n      video.remove();\n      return canvas.toDataURL('image/jpeg', quality);\n  }\n  ",
            "text/plain": [
              "<IPython.core.display.Javascript object>"
            ]
          },
          "metadata": {},
          "output_type": "display_data"
        },
        {
          "name": "stdout",
          "output_type": "stream",
          "text": [
            "\n",
            "0: 640x640 1 closedmouth, 1 face, 2 openeyes, 7.8ms\n",
            "Speed: 1.8ms preprocess, 7.8ms inference, 1.4ms postprocess per image at shape (1, 3, 640, 640)\n",
            "['face', 'openeye', 'closedmouth', 'openeye']\n",
            "[0.87355, 0.56935, 0.53621, 0.53147]\n"
          ]
        },
        {
          "data": {
            "application/javascript": "\n  async function takePhoto(quality, delay) {\n      const video = document.createElement('video');\n      video.style.display = 'block';\n      const stream = await navigator.mediaDevices.getUserMedia({video: true});\n\n      document.body.appendChild(video);\n      video.srcObject = stream;\n      await video.play();\n\n      // Wait for video to start, you can adjust the delay here\n      await new Promise(resolve => setTimeout(resolve, delay));\n\n      const canvas = document.createElement('canvas');\n      canvas.width = video.videoWidth;\n      canvas.height = video.videoHeight;\n      canvas.getContext('2d').drawImage(video, 0, 0);\n      stream.getVideoTracks()[0].stop();\n      video.remove();\n      return canvas.toDataURL('image/jpeg', quality);\n  }\n  ",
            "text/plain": [
              "<IPython.core.display.Javascript object>"
            ]
          },
          "metadata": {},
          "output_type": "display_data"
        },
        {
          "name": "stdout",
          "output_type": "stream",
          "text": [
            "\n",
            "0: 640x640 2 closedmouths, 1 face, 2 openeyes, 7.9ms\n",
            "Speed: 2.0ms preprocess, 7.9ms inference, 1.3ms postprocess per image at shape (1, 3, 640, 640)\n",
            "['face', 'openeye', 'closedmouth', 'openeye', 'closedmouth']\n",
            "[0.88002, 0.57021, 0.5492, 0.53535, 0.28072]\n"
          ]
        },
        {
          "data": {
            "application/javascript": "\n  async function takePhoto(quality, delay) {\n      const video = document.createElement('video');\n      video.style.display = 'block';\n      const stream = await navigator.mediaDevices.getUserMedia({video: true});\n\n      document.body.appendChild(video);\n      video.srcObject = stream;\n      await video.play();\n\n      // Wait for video to start, you can adjust the delay here\n      await new Promise(resolve => setTimeout(resolve, delay));\n\n      const canvas = document.createElement('canvas');\n      canvas.width = video.videoWidth;\n      canvas.height = video.videoHeight;\n      canvas.getContext('2d').drawImage(video, 0, 0);\n      stream.getVideoTracks()[0].stop();\n      video.remove();\n      return canvas.toDataURL('image/jpeg', quality);\n  }\n  ",
            "text/plain": [
              "<IPython.core.display.Javascript object>"
            ]
          },
          "metadata": {},
          "output_type": "display_data"
        },
        {
          "name": "stdout",
          "output_type": "stream",
          "text": [
            "\n",
            "0: 640x640 1 closedmouth, 1 face, 2 openeyes, 7.5ms\n",
            "Speed: 1.8ms preprocess, 7.5ms inference, 1.3ms postprocess per image at shape (1, 3, 640, 640)\n",
            "['face', 'closedmouth', 'openeye', 'openeye']\n",
            "[0.88207, 0.59646, 0.57501, 0.54796]\n"
          ]
        },
        {
          "data": {
            "application/javascript": "\n  async function takePhoto(quality, delay) {\n      const video = document.createElement('video');\n      video.style.display = 'block';\n      const stream = await navigator.mediaDevices.getUserMedia({video: true});\n\n      document.body.appendChild(video);\n      video.srcObject = stream;\n      await video.play();\n\n      // Wait for video to start, you can adjust the delay here\n      await new Promise(resolve => setTimeout(resolve, delay));\n\n      const canvas = document.createElement('canvas');\n      canvas.width = video.videoWidth;\n      canvas.height = video.videoHeight;\n      canvas.getContext('2d').drawImage(video, 0, 0);\n      stream.getVideoTracks()[0].stop();\n      video.remove();\n      return canvas.toDataURL('image/jpeg', quality);\n  }\n  ",
            "text/plain": [
              "<IPython.core.display.Javascript object>"
            ]
          },
          "metadata": {},
          "output_type": "display_data"
        },
        {
          "name": "stdout",
          "output_type": "stream",
          "text": [
            "\n",
            "0: 640x640 2 closedmouths, 1 face, 2 openeyes, 7.4ms\n",
            "Speed: 2.0ms preprocess, 7.4ms inference, 1.3ms postprocess per image at shape (1, 3, 640, 640)\n",
            "['face', 'openeye', 'openeye', 'closedmouth', 'closedmouth']\n",
            "[0.8918, 0.54834, 0.53345, 0.52958, 0.27396]\n"
          ]
        },
        {
          "data": {
            "application/javascript": "\n  async function takePhoto(quality, delay) {\n      const video = document.createElement('video');\n      video.style.display = 'block';\n      const stream = await navigator.mediaDevices.getUserMedia({video: true});\n\n      document.body.appendChild(video);\n      video.srcObject = stream;\n      await video.play();\n\n      // Wait for video to start, you can adjust the delay here\n      await new Promise(resolve => setTimeout(resolve, delay));\n\n      const canvas = document.createElement('canvas');\n      canvas.width = video.videoWidth;\n      canvas.height = video.videoHeight;\n      canvas.getContext('2d').drawImage(video, 0, 0);\n      stream.getVideoTracks()[0].stop();\n      video.remove();\n      return canvas.toDataURL('image/jpeg', quality);\n  }\n  ",
            "text/plain": [
              "<IPython.core.display.Javascript object>"
            ]
          },
          "metadata": {},
          "output_type": "display_data"
        },
        {
          "name": "stdout",
          "output_type": "stream",
          "text": [
            "\n",
            "0: 640x640 2 closedmouths, 1 face, 2 openeyes, 9.5ms\n",
            "Speed: 1.8ms preprocess, 9.5ms inference, 1.8ms postprocess per image at shape (1, 3, 640, 640)\n",
            "['face', 'openeye', 'openeye', 'closedmouth', 'closedmouth']\n",
            "[0.88368, 0.57069, 0.55687, 0.51215, 0.35951]\n"
          ]
        },
        {
          "data": {
            "application/javascript": "\n  async function takePhoto(quality, delay) {\n      const video = document.createElement('video');\n      video.style.display = 'block';\n      const stream = await navigator.mediaDevices.getUserMedia({video: true});\n\n      document.body.appendChild(video);\n      video.srcObject = stream;\n      await video.play();\n\n      // Wait for video to start, you can adjust the delay here\n      await new Promise(resolve => setTimeout(resolve, delay));\n\n      const canvas = document.createElement('canvas');\n      canvas.width = video.videoWidth;\n      canvas.height = video.videoHeight;\n      canvas.getContext('2d').drawImage(video, 0, 0);\n      stream.getVideoTracks()[0].stop();\n      video.remove();\n      return canvas.toDataURL('image/jpeg', quality);\n  }\n  ",
            "text/plain": [
              "<IPython.core.display.Javascript object>"
            ]
          },
          "metadata": {},
          "output_type": "display_data"
        },
        {
          "name": "stdout",
          "output_type": "stream",
          "text": [
            "\n",
            "0: 640x640 1 closedmouth, 1 face, 2 openeyes, 10.2ms\n",
            "Speed: 2.8ms preprocess, 10.2ms inference, 1.6ms postprocess per image at shape (1, 3, 640, 640)\n",
            "['face', 'openeye', 'openeye', 'closedmouth']\n",
            "[0.88744, 0.58477, 0.56517, 0.53524]\n"
          ]
        },
        {
          "data": {
            "application/javascript": "\n  async function takePhoto(quality, delay) {\n      const video = document.createElement('video');\n      video.style.display = 'block';\n      const stream = await navigator.mediaDevices.getUserMedia({video: true});\n\n      document.body.appendChild(video);\n      video.srcObject = stream;\n      await video.play();\n\n      // Wait for video to start, you can adjust the delay here\n      await new Promise(resolve => setTimeout(resolve, delay));\n\n      const canvas = document.createElement('canvas');\n      canvas.width = video.videoWidth;\n      canvas.height = video.videoHeight;\n      canvas.getContext('2d').drawImage(video, 0, 0);\n      stream.getVideoTracks()[0].stop();\n      video.remove();\n      return canvas.toDataURL('image/jpeg', quality);\n  }\n  ",
            "text/plain": [
              "<IPython.core.display.Javascript object>"
            ]
          },
          "metadata": {},
          "output_type": "display_data"
        },
        {
          "name": "stdout",
          "output_type": "stream",
          "text": [
            "\n",
            "0: 640x640 2 closedmouths, 1 face, 2 openeyes, 10.8ms\n",
            "Speed: 1.8ms preprocess, 10.8ms inference, 1.8ms postprocess per image at shape (1, 3, 640, 640)\n",
            "['face', 'openeye', 'openeye', 'closedmouth', 'closedmouth']\n",
            "[0.874, 0.60376, 0.55308, 0.52234, 0.29347]\n"
          ]
        },
        {
          "data": {
            "application/javascript": "\n  async function takePhoto(quality, delay) {\n      const video = document.createElement('video');\n      video.style.display = 'block';\n      const stream = await navigator.mediaDevices.getUserMedia({video: true});\n\n      document.body.appendChild(video);\n      video.srcObject = stream;\n      await video.play();\n\n      // Wait for video to start, you can adjust the delay here\n      await new Promise(resolve => setTimeout(resolve, delay));\n\n      const canvas = document.createElement('canvas');\n      canvas.width = video.videoWidth;\n      canvas.height = video.videoHeight;\n      canvas.getContext('2d').drawImage(video, 0, 0);\n      stream.getVideoTracks()[0].stop();\n      video.remove();\n      return canvas.toDataURL('image/jpeg', quality);\n  }\n  ",
            "text/plain": [
              "<IPython.core.display.Javascript object>"
            ]
          },
          "metadata": {},
          "output_type": "display_data"
        },
        {
          "name": "stdout",
          "output_type": "stream",
          "text": [
            "\n",
            "0: 640x640 1 closedmouth, 1 face, 3 openeyes, 7.4ms\n",
            "Speed: 1.8ms preprocess, 7.4ms inference, 1.3ms postprocess per image at shape (1, 3, 640, 640)\n",
            "['face', 'openeye', 'openeye', 'closedmouth', 'openeye']\n",
            "[0.87843, 0.57444, 0.57087, 0.52582, 0.26228]\n"
          ]
        },
        {
          "data": {
            "application/javascript": "\n  async function takePhoto(quality, delay) {\n      const video = document.createElement('video');\n      video.style.display = 'block';\n      const stream = await navigator.mediaDevices.getUserMedia({video: true});\n\n      document.body.appendChild(video);\n      video.srcObject = stream;\n      await video.play();\n\n      // Wait for video to start, you can adjust the delay here\n      await new Promise(resolve => setTimeout(resolve, delay));\n\n      const canvas = document.createElement('canvas');\n      canvas.width = video.videoWidth;\n      canvas.height = video.videoHeight;\n      canvas.getContext('2d').drawImage(video, 0, 0);\n      stream.getVideoTracks()[0].stop();\n      video.remove();\n      return canvas.toDataURL('image/jpeg', quality);\n  }\n  ",
            "text/plain": [
              "<IPython.core.display.Javascript object>"
            ]
          },
          "metadata": {},
          "output_type": "display_data"
        },
        {
          "name": "stdout",
          "output_type": "stream",
          "text": [
            "\n",
            "0: 640x640 2 closedmouths, 1 face, 3 openeyes, 7.4ms\n",
            "Speed: 1.8ms preprocess, 7.4ms inference, 1.3ms postprocess per image at shape (1, 3, 640, 640)\n",
            "['face', 'openeye', 'openeye', 'closedmouth', 'closedmouth', 'openeye']\n",
            "[0.8793, 0.59179, 0.5807, 0.54193, 0.27465, 0.25734]\n"
          ]
        },
        {
          "data": {
            "application/javascript": "\n  async function takePhoto(quality, delay) {\n      const video = document.createElement('video');\n      video.style.display = 'block';\n      const stream = await navigator.mediaDevices.getUserMedia({video: true});\n\n      document.body.appendChild(video);\n      video.srcObject = stream;\n      await video.play();\n\n      // Wait for video to start, you can adjust the delay here\n      await new Promise(resolve => setTimeout(resolve, delay));\n\n      const canvas = document.createElement('canvas');\n      canvas.width = video.videoWidth;\n      canvas.height = video.videoHeight;\n      canvas.getContext('2d').drawImage(video, 0, 0);\n      stream.getVideoTracks()[0].stop();\n      video.remove();\n      return canvas.toDataURL('image/jpeg', quality);\n  }\n  ",
            "text/plain": [
              "<IPython.core.display.Javascript object>"
            ]
          },
          "metadata": {},
          "output_type": "display_data"
        },
        {
          "name": "stdout",
          "output_type": "stream",
          "text": [
            "\n",
            "0: 640x640 1 closedmouth, 1 face, 3 openeyes, 11.8ms\n",
            "Speed: 1.9ms preprocess, 11.8ms inference, 1.3ms postprocess per image at shape (1, 3, 640, 640)\n",
            "['face', 'closedmouth', 'openeye', 'openeye', 'openeye']\n",
            "[0.87696, 0.56359, 0.54053, 0.5392, 0.27342]\n"
          ]
        },
        {
          "data": {
            "application/javascript": "\n  async function takePhoto(quality, delay) {\n      const video = document.createElement('video');\n      video.style.display = 'block';\n      const stream = await navigator.mediaDevices.getUserMedia({video: true});\n\n      document.body.appendChild(video);\n      video.srcObject = stream;\n      await video.play();\n\n      // Wait for video to start, you can adjust the delay here\n      await new Promise(resolve => setTimeout(resolve, delay));\n\n      const canvas = document.createElement('canvas');\n      canvas.width = video.videoWidth;\n      canvas.height = video.videoHeight;\n      canvas.getContext('2d').drawImage(video, 0, 0);\n      stream.getVideoTracks()[0].stop();\n      video.remove();\n      return canvas.toDataURL('image/jpeg', quality);\n  }\n  ",
            "text/plain": [
              "<IPython.core.display.Javascript object>"
            ]
          },
          "metadata": {},
          "output_type": "display_data"
        },
        {
          "name": "stdout",
          "output_type": "stream",
          "text": [
            "\n",
            "0: 640x640 1 closedmouth, 1 face, 2 openeyes, 7.4ms\n",
            "Speed: 2.2ms preprocess, 7.4ms inference, 1.3ms postprocess per image at shape (1, 3, 640, 640)\n",
            "['face', 'openeye', 'openeye', 'closedmouth']\n",
            "[0.86958, 0.5638, 0.56231, 0.55405]\n"
          ]
        },
        {
          "data": {
            "application/javascript": "\n  async function takePhoto(quality, delay) {\n      const video = document.createElement('video');\n      video.style.display = 'block';\n      const stream = await navigator.mediaDevices.getUserMedia({video: true});\n\n      document.body.appendChild(video);\n      video.srcObject = stream;\n      await video.play();\n\n      // Wait for video to start, you can adjust the delay here\n      await new Promise(resolve => setTimeout(resolve, delay));\n\n      const canvas = document.createElement('canvas');\n      canvas.width = video.videoWidth;\n      canvas.height = video.videoHeight;\n      canvas.getContext('2d').drawImage(video, 0, 0);\n      stream.getVideoTracks()[0].stop();\n      video.remove();\n      return canvas.toDataURL('image/jpeg', quality);\n  }\n  ",
            "text/plain": [
              "<IPython.core.display.Javascript object>"
            ]
          },
          "metadata": {},
          "output_type": "display_data"
        },
        {
          "name": "stdout",
          "output_type": "stream",
          "text": [
            "\n",
            "0: 640x640 1 closedmouth, 1 face, 2 openeyes, 7.4ms\n",
            "Speed: 1.7ms preprocess, 7.4ms inference, 1.3ms postprocess per image at shape (1, 3, 640, 640)\n",
            "['face', 'closedmouth', 'openeye', 'openeye']\n",
            "[0.86652, 0.54331, 0.54173, 0.50347]\n"
          ]
        },
        {
          "data": {
            "application/javascript": "\n  async function takePhoto(quality, delay) {\n      const video = document.createElement('video');\n      video.style.display = 'block';\n      const stream = await navigator.mediaDevices.getUserMedia({video: true});\n\n      document.body.appendChild(video);\n      video.srcObject = stream;\n      await video.play();\n\n      // Wait for video to start, you can adjust the delay here\n      await new Promise(resolve => setTimeout(resolve, delay));\n\n      const canvas = document.createElement('canvas');\n      canvas.width = video.videoWidth;\n      canvas.height = video.videoHeight;\n      canvas.getContext('2d').drawImage(video, 0, 0);\n      stream.getVideoTracks()[0].stop();\n      video.remove();\n      return canvas.toDataURL('image/jpeg', quality);\n  }\n  ",
            "text/plain": [
              "<IPython.core.display.Javascript object>"
            ]
          },
          "metadata": {},
          "output_type": "display_data"
        },
        {
          "name": "stdout",
          "output_type": "stream",
          "text": [
            "\n",
            "0: 640x640 1 closedmouth, 1 face, 3 openeyes, 7.4ms\n",
            "Speed: 1.7ms preprocess, 7.4ms inference, 1.3ms postprocess per image at shape (1, 3, 640, 640)\n",
            "['face', 'openeye', 'openeye', 'closedmouth', 'openeye']\n",
            "[0.87271, 0.5752, 0.53535, 0.52984, 0.26895]\n"
          ]
        },
        {
          "data": {
            "application/javascript": "\n  async function takePhoto(quality, delay) {\n      const video = document.createElement('video');\n      video.style.display = 'block';\n      const stream = await navigator.mediaDevices.getUserMedia({video: true});\n\n      document.body.appendChild(video);\n      video.srcObject = stream;\n      await video.play();\n\n      // Wait for video to start, you can adjust the delay here\n      await new Promise(resolve => setTimeout(resolve, delay));\n\n      const canvas = document.createElement('canvas');\n      canvas.width = video.videoWidth;\n      canvas.height = video.videoHeight;\n      canvas.getContext('2d').drawImage(video, 0, 0);\n      stream.getVideoTracks()[0].stop();\n      video.remove();\n      return canvas.toDataURL('image/jpeg', quality);\n  }\n  ",
            "text/plain": [
              "<IPython.core.display.Javascript object>"
            ]
          },
          "metadata": {},
          "output_type": "display_data"
        },
        {
          "name": "stdout",
          "output_type": "stream",
          "text": [
            "\n",
            "0: 640x640 1 closedmouth, 1 face, 2 openeyes, 7.4ms\n",
            "Speed: 1.9ms preprocess, 7.4ms inference, 1.3ms postprocess per image at shape (1, 3, 640, 640)\n",
            "['face', 'openeye', 'openeye', 'closedmouth']\n",
            "[0.87041, 0.61234, 0.56219, 0.53465]\n"
          ]
        },
        {
          "data": {
            "application/javascript": "\n  async function takePhoto(quality, delay) {\n      const video = document.createElement('video');\n      video.style.display = 'block';\n      const stream = await navigator.mediaDevices.getUserMedia({video: true});\n\n      document.body.appendChild(video);\n      video.srcObject = stream;\n      await video.play();\n\n      // Wait for video to start, you can adjust the delay here\n      await new Promise(resolve => setTimeout(resolve, delay));\n\n      const canvas = document.createElement('canvas');\n      canvas.width = video.videoWidth;\n      canvas.height = video.videoHeight;\n      canvas.getContext('2d').drawImage(video, 0, 0);\n      stream.getVideoTracks()[0].stop();\n      video.remove();\n      return canvas.toDataURL('image/jpeg', quality);\n  }\n  ",
            "text/plain": [
              "<IPython.core.display.Javascript object>"
            ]
          },
          "metadata": {},
          "output_type": "display_data"
        },
        {
          "name": "stdout",
          "output_type": "stream",
          "text": [
            "\n",
            "0: 640x640 1 closedmouth, 1 face, 2 openeyes, 7.5ms\n",
            "Speed: 2.1ms preprocess, 7.5ms inference, 1.3ms postprocess per image at shape (1, 3, 640, 640)\n",
            "['face', 'openeye', 'openeye', 'closedmouth']\n",
            "[0.88259, 0.67057, 0.54246, 0.49619]\n"
          ]
        },
        {
          "data": {
            "application/javascript": "\n  async function takePhoto(quality, delay) {\n      const video = document.createElement('video');\n      video.style.display = 'block';\n      const stream = await navigator.mediaDevices.getUserMedia({video: true});\n\n      document.body.appendChild(video);\n      video.srcObject = stream;\n      await video.play();\n\n      // Wait for video to start, you can adjust the delay here\n      await new Promise(resolve => setTimeout(resolve, delay));\n\n      const canvas = document.createElement('canvas');\n      canvas.width = video.videoWidth;\n      canvas.height = video.videoHeight;\n      canvas.getContext('2d').drawImage(video, 0, 0);\n      stream.getVideoTracks()[0].stop();\n      video.remove();\n      return canvas.toDataURL('image/jpeg', quality);\n  }\n  ",
            "text/plain": [
              "<IPython.core.display.Javascript object>"
            ]
          },
          "metadata": {},
          "output_type": "display_data"
        },
        {
          "name": "stdout",
          "output_type": "stream",
          "text": [
            "\n",
            "0: 640x640 2 closedmouths, 1 face, 2 openeyes, 9.7ms\n",
            "Speed: 4.2ms preprocess, 9.7ms inference, 1.8ms postprocess per image at shape (1, 3, 640, 640)\n",
            "['face', 'openeye', 'openeye', 'closedmouth', 'closedmouth']\n",
            "[0.86032, 0.58653, 0.57231, 0.48247, 0.29301]\n"
          ]
        },
        {
          "data": {
            "application/javascript": "\n  async function takePhoto(quality, delay) {\n      const video = document.createElement('video');\n      video.style.display = 'block';\n      const stream = await navigator.mediaDevices.getUserMedia({video: true});\n\n      document.body.appendChild(video);\n      video.srcObject = stream;\n      await video.play();\n\n      // Wait for video to start, you can adjust the delay here\n      await new Promise(resolve => setTimeout(resolve, delay));\n\n      const canvas = document.createElement('canvas');\n      canvas.width = video.videoWidth;\n      canvas.height = video.videoHeight;\n      canvas.getContext('2d').drawImage(video, 0, 0);\n      stream.getVideoTracks()[0].stop();\n      video.remove();\n      return canvas.toDataURL('image/jpeg', quality);\n  }\n  ",
            "text/plain": [
              "<IPython.core.display.Javascript object>"
            ]
          },
          "metadata": {},
          "output_type": "display_data"
        },
        {
          "name": "stdout",
          "output_type": "stream",
          "text": [
            "\n",
            "0: 640x640 1 closedmouth, 1 face, 2 openeyes, 1 openmouth, 11.4ms\n",
            "Speed: 2.6ms preprocess, 11.4ms inference, 1.3ms postprocess per image at shape (1, 3, 640, 640)\n",
            "['face', 'openeye', 'openeye', 'openmouth', 'closedmouth']\n",
            "[0.86424, 0.50447, 0.46106, 0.40344, 0.25964]\n"
          ]
        },
        {
          "data": {
            "application/javascript": "\n  async function takePhoto(quality, delay) {\n      const video = document.createElement('video');\n      video.style.display = 'block';\n      const stream = await navigator.mediaDevices.getUserMedia({video: true});\n\n      document.body.appendChild(video);\n      video.srcObject = stream;\n      await video.play();\n\n      // Wait for video to start, you can adjust the delay here\n      await new Promise(resolve => setTimeout(resolve, delay));\n\n      const canvas = document.createElement('canvas');\n      canvas.width = video.videoWidth;\n      canvas.height = video.videoHeight;\n      canvas.getContext('2d').drawImage(video, 0, 0);\n      stream.getVideoTracks()[0].stop();\n      video.remove();\n      return canvas.toDataURL('image/jpeg', quality);\n  }\n  ",
            "text/plain": [
              "<IPython.core.display.Javascript object>"
            ]
          },
          "metadata": {},
          "output_type": "display_data"
        },
        {
          "name": "stdout",
          "output_type": "stream",
          "text": [
            "\n",
            "0: 640x640 2 closedmouths, 1 face, 2 openeyes, 7.4ms\n",
            "Speed: 1.8ms preprocess, 7.4ms inference, 1.3ms postprocess per image at shape (1, 3, 640, 640)\n",
            "['face', 'openeye', 'openeye', 'closedmouth', 'closedmouth']\n",
            "[0.88213, 0.61038, 0.60338, 0.4426, 0.299]\n"
          ]
        },
        {
          "data": {
            "application/javascript": "\n  async function takePhoto(quality, delay) {\n      const video = document.createElement('video');\n      video.style.display = 'block';\n      const stream = await navigator.mediaDevices.getUserMedia({video: true});\n\n      document.body.appendChild(video);\n      video.srcObject = stream;\n      await video.play();\n\n      // Wait for video to start, you can adjust the delay here\n      await new Promise(resolve => setTimeout(resolve, delay));\n\n      const canvas = document.createElement('canvas');\n      canvas.width = video.videoWidth;\n      canvas.height = video.videoHeight;\n      canvas.getContext('2d').drawImage(video, 0, 0);\n      stream.getVideoTracks()[0].stop();\n      video.remove();\n      return canvas.toDataURL('image/jpeg', quality);\n  }\n  ",
            "text/plain": [
              "<IPython.core.display.Javascript object>"
            ]
          },
          "metadata": {},
          "output_type": "display_data"
        },
        {
          "name": "stdout",
          "output_type": "stream",
          "text": [
            "\n",
            "0: 640x640 2 closedmouths, 1 face, 2 openeyes, 7.4ms\n",
            "Speed: 1.9ms preprocess, 7.4ms inference, 1.3ms postprocess per image at shape (1, 3, 640, 640)\n",
            "['face', 'openeye', 'openeye', 'closedmouth', 'closedmouth']\n",
            "[0.87231, 0.57536, 0.57299, 0.47864, 0.30652]\n"
          ]
        },
        {
          "data": {
            "application/javascript": "\n  async function takePhoto(quality, delay) {\n      const video = document.createElement('video');\n      video.style.display = 'block';\n      const stream = await navigator.mediaDevices.getUserMedia({video: true});\n\n      document.body.appendChild(video);\n      video.srcObject = stream;\n      await video.play();\n\n      // Wait for video to start, you can adjust the delay here\n      await new Promise(resolve => setTimeout(resolve, delay));\n\n      const canvas = document.createElement('canvas');\n      canvas.width = video.videoWidth;\n      canvas.height = video.videoHeight;\n      canvas.getContext('2d').drawImage(video, 0, 0);\n      stream.getVideoTracks()[0].stop();\n      video.remove();\n      return canvas.toDataURL('image/jpeg', quality);\n  }\n  ",
            "text/plain": [
              "<IPython.core.display.Javascript object>"
            ]
          },
          "metadata": {},
          "output_type": "display_data"
        },
        {
          "name": "stdout",
          "output_type": "stream",
          "text": [
            "\n",
            "0: 640x640 2 closedmouths, 1 face, 2 openeyes, 8.9ms\n",
            "Speed: 2.6ms preprocess, 8.9ms inference, 1.3ms postprocess per image at shape (1, 3, 640, 640)\n",
            "['face', 'openeye', 'openeye', 'closedmouth', 'closedmouth']\n",
            "[0.87274, 0.60478, 0.55618, 0.51244, 0.25502]\n"
          ]
        },
        {
          "data": {
            "application/javascript": "\n  async function takePhoto(quality, delay) {\n      const video = document.createElement('video');\n      video.style.display = 'block';\n      const stream = await navigator.mediaDevices.getUserMedia({video: true});\n\n      document.body.appendChild(video);\n      video.srcObject = stream;\n      await video.play();\n\n      // Wait for video to start, you can adjust the delay here\n      await new Promise(resolve => setTimeout(resolve, delay));\n\n      const canvas = document.createElement('canvas');\n      canvas.width = video.videoWidth;\n      canvas.height = video.videoHeight;\n      canvas.getContext('2d').drawImage(video, 0, 0);\n      stream.getVideoTracks()[0].stop();\n      video.remove();\n      return canvas.toDataURL('image/jpeg', quality);\n  }\n  ",
            "text/plain": [
              "<IPython.core.display.Javascript object>"
            ]
          },
          "metadata": {},
          "output_type": "display_data"
        },
        {
          "name": "stdout",
          "output_type": "stream",
          "text": [
            "\n",
            "0: 640x640 1 closedmouth, 1 face, 2 openeyes, 8.0ms\n",
            "Speed: 1.8ms preprocess, 8.0ms inference, 1.3ms postprocess per image at shape (1, 3, 640, 640)\n",
            "['face', 'openeye', 'openeye', 'closedmouth']\n",
            "[0.87895, 0.6057, 0.54993, 0.54767]\n"
          ]
        },
        {
          "data": {
            "application/javascript": "\n  async function takePhoto(quality, delay) {\n      const video = document.createElement('video');\n      video.style.display = 'block';\n      const stream = await navigator.mediaDevices.getUserMedia({video: true});\n\n      document.body.appendChild(video);\n      video.srcObject = stream;\n      await video.play();\n\n      // Wait for video to start, you can adjust the delay here\n      await new Promise(resolve => setTimeout(resolve, delay));\n\n      const canvas = document.createElement('canvas');\n      canvas.width = video.videoWidth;\n      canvas.height = video.videoHeight;\n      canvas.getContext('2d').drawImage(video, 0, 0);\n      stream.getVideoTracks()[0].stop();\n      video.remove();\n      return canvas.toDataURL('image/jpeg', quality);\n  }\n  ",
            "text/plain": [
              "<IPython.core.display.Javascript object>"
            ]
          },
          "metadata": {},
          "output_type": "display_data"
        },
        {
          "name": "stdout",
          "output_type": "stream",
          "text": [
            "\n",
            "0: 640x640 2 closedmouths, 1 face, 3 openeyes, 8.8ms\n",
            "Speed: 1.7ms preprocess, 8.8ms inference, 1.3ms postprocess per image at shape (1, 3, 640, 640)\n",
            "['face', 'openeye', 'openeye', 'closedmouth', 'closedmouth', 'openeye']\n",
            "[0.8733, 0.60915, 0.58396, 0.4981, 0.30328, 0.25511]\n"
          ]
        },
        {
          "data": {
            "application/javascript": "\n  async function takePhoto(quality, delay) {\n      const video = document.createElement('video');\n      video.style.display = 'block';\n      const stream = await navigator.mediaDevices.getUserMedia({video: true});\n\n      document.body.appendChild(video);\n      video.srcObject = stream;\n      await video.play();\n\n      // Wait for video to start, you can adjust the delay here\n      await new Promise(resolve => setTimeout(resolve, delay));\n\n      const canvas = document.createElement('canvas');\n      canvas.width = video.videoWidth;\n      canvas.height = video.videoHeight;\n      canvas.getContext('2d').drawImage(video, 0, 0);\n      stream.getVideoTracks()[0].stop();\n      video.remove();\n      return canvas.toDataURL('image/jpeg', quality);\n  }\n  ",
            "text/plain": [
              "<IPython.core.display.Javascript object>"
            ]
          },
          "metadata": {},
          "output_type": "display_data"
        },
        {
          "name": "stdout",
          "output_type": "stream",
          "text": [
            "\n",
            "0: 640x640 1 closedmouth, 1 face, 2 openeyes, 8.6ms\n",
            "Speed: 2.6ms preprocess, 8.6ms inference, 1.3ms postprocess per image at shape (1, 3, 640, 640)\n",
            "['face', 'openeye', 'openeye', 'closedmouth']\n",
            "[0.86226, 0.59073, 0.54489, 0.52015]\n"
          ]
        },
        {
          "data": {
            "application/javascript": "\n  async function takePhoto(quality, delay) {\n      const video = document.createElement('video');\n      video.style.display = 'block';\n      const stream = await navigator.mediaDevices.getUserMedia({video: true});\n\n      document.body.appendChild(video);\n      video.srcObject = stream;\n      await video.play();\n\n      // Wait for video to start, you can adjust the delay here\n      await new Promise(resolve => setTimeout(resolve, delay));\n\n      const canvas = document.createElement('canvas');\n      canvas.width = video.videoWidth;\n      canvas.height = video.videoHeight;\n      canvas.getContext('2d').drawImage(video, 0, 0);\n      stream.getVideoTracks()[0].stop();\n      video.remove();\n      return canvas.toDataURL('image/jpeg', quality);\n  }\n  ",
            "text/plain": [
              "<IPython.core.display.Javascript object>"
            ]
          },
          "metadata": {},
          "output_type": "display_data"
        },
        {
          "name": "stdout",
          "output_type": "stream",
          "text": [
            "\n",
            "0: 640x640 2 closedmouths, 1 face, 2 openeyes, 7.4ms\n",
            "Speed: 1.7ms preprocess, 7.4ms inference, 1.2ms postprocess per image at shape (1, 3, 640, 640)\n",
            "['face', 'openeye', 'openeye', 'closedmouth', 'closedmouth']\n",
            "[0.87731, 0.5777, 0.55258, 0.52648, 0.32297]\n"
          ]
        },
        {
          "data": {
            "application/javascript": "\n  async function takePhoto(quality, delay) {\n      const video = document.createElement('video');\n      video.style.display = 'block';\n      const stream = await navigator.mediaDevices.getUserMedia({video: true});\n\n      document.body.appendChild(video);\n      video.srcObject = stream;\n      await video.play();\n\n      // Wait for video to start, you can adjust the delay here\n      await new Promise(resolve => setTimeout(resolve, delay));\n\n      const canvas = document.createElement('canvas');\n      canvas.width = video.videoWidth;\n      canvas.height = video.videoHeight;\n      canvas.getContext('2d').drawImage(video, 0, 0);\n      stream.getVideoTracks()[0].stop();\n      video.remove();\n      return canvas.toDataURL('image/jpeg', quality);\n  }\n  ",
            "text/plain": [
              "<IPython.core.display.Javascript object>"
            ]
          },
          "metadata": {},
          "output_type": "display_data"
        },
        {
          "name": "stdout",
          "output_type": "stream",
          "text": [
            "\n",
            "0: 640x640 1 closedmouth, 1 face, 2 openeyes, 11.3ms\n",
            "Speed: 5.9ms preprocess, 11.3ms inference, 1.7ms postprocess per image at shape (1, 3, 640, 640)\n",
            "['face', 'openeye', 'openeye', 'closedmouth']\n",
            "[0.87038, 0.57067, 0.55938, 0.51107]\n"
          ]
        },
        {
          "data": {
            "application/javascript": "\n  async function takePhoto(quality, delay) {\n      const video = document.createElement('video');\n      video.style.display = 'block';\n      const stream = await navigator.mediaDevices.getUserMedia({video: true});\n\n      document.body.appendChild(video);\n      video.srcObject = stream;\n      await video.play();\n\n      // Wait for video to start, you can adjust the delay here\n      await new Promise(resolve => setTimeout(resolve, delay));\n\n      const canvas = document.createElement('canvas');\n      canvas.width = video.videoWidth;\n      canvas.height = video.videoHeight;\n      canvas.getContext('2d').drawImage(video, 0, 0);\n      stream.getVideoTracks()[0].stop();\n      video.remove();\n      return canvas.toDataURL('image/jpeg', quality);\n  }\n  ",
            "text/plain": [
              "<IPython.core.display.Javascript object>"
            ]
          },
          "metadata": {},
          "output_type": "display_data"
        },
        {
          "name": "stdout",
          "output_type": "stream",
          "text": [
            "\n",
            "0: 640x640 1 closedmouth, 1 face, 2 openeyes, 8.1ms\n",
            "Speed: 1.8ms preprocess, 8.1ms inference, 1.5ms postprocess per image at shape (1, 3, 640, 640)\n",
            "['face', 'openeye', 'openeye', 'closedmouth']\n",
            "[0.88499, 0.60622, 0.52678, 0.50105]\n"
          ]
        },
        {
          "data": {
            "application/javascript": "\n  async function takePhoto(quality, delay) {\n      const video = document.createElement('video');\n      video.style.display = 'block';\n      const stream = await navigator.mediaDevices.getUserMedia({video: true});\n\n      document.body.appendChild(video);\n      video.srcObject = stream;\n      await video.play();\n\n      // Wait for video to start, you can adjust the delay here\n      await new Promise(resolve => setTimeout(resolve, delay));\n\n      const canvas = document.createElement('canvas');\n      canvas.width = video.videoWidth;\n      canvas.height = video.videoHeight;\n      canvas.getContext('2d').drawImage(video, 0, 0);\n      stream.getVideoTracks()[0].stop();\n      video.remove();\n      return canvas.toDataURL('image/jpeg', quality);\n  }\n  ",
            "text/plain": [
              "<IPython.core.display.Javascript object>"
            ]
          },
          "metadata": {},
          "output_type": "display_data"
        },
        {
          "name": "stdout",
          "output_type": "stream",
          "text": [
            "\n",
            "0: 640x640 2 closedmouths, 1 face, 2 openeyes, 7.4ms\n",
            "Speed: 1.8ms preprocess, 7.4ms inference, 1.5ms postprocess per image at shape (1, 3, 640, 640)\n",
            "['face', 'openeye', 'openeye', 'closedmouth', 'closedmouth']\n",
            "[0.87907, 0.59392, 0.58125, 0.49144, 0.33441]\n"
          ]
        },
        {
          "data": {
            "application/javascript": "\n  async function takePhoto(quality, delay) {\n      const video = document.createElement('video');\n      video.style.display = 'block';\n      const stream = await navigator.mediaDevices.getUserMedia({video: true});\n\n      document.body.appendChild(video);\n      video.srcObject = stream;\n      await video.play();\n\n      // Wait for video to start, you can adjust the delay here\n      await new Promise(resolve => setTimeout(resolve, delay));\n\n      const canvas = document.createElement('canvas');\n      canvas.width = video.videoWidth;\n      canvas.height = video.videoHeight;\n      canvas.getContext('2d').drawImage(video, 0, 0);\n      stream.getVideoTracks()[0].stop();\n      video.remove();\n      return canvas.toDataURL('image/jpeg', quality);\n  }\n  ",
            "text/plain": [
              "<IPython.core.display.Javascript object>"
            ]
          },
          "metadata": {},
          "output_type": "display_data"
        },
        {
          "name": "stdout",
          "output_type": "stream",
          "text": [
            "\n",
            "0: 640x640 1 closedmouth, 1 face, 2 openeyes, 7.5ms\n",
            "Speed: 1.9ms preprocess, 7.5ms inference, 1.3ms postprocess per image at shape (1, 3, 640, 640)\n",
            "['face', 'openeye', 'openeye', 'closedmouth']\n",
            "[0.87131, 0.59793, 0.54756, 0.54194]\n"
          ]
        },
        {
          "data": {
            "application/javascript": "\n  async function takePhoto(quality, delay) {\n      const video = document.createElement('video');\n      video.style.display = 'block';\n      const stream = await navigator.mediaDevices.getUserMedia({video: true});\n\n      document.body.appendChild(video);\n      video.srcObject = stream;\n      await video.play();\n\n      // Wait for video to start, you can adjust the delay here\n      await new Promise(resolve => setTimeout(resolve, delay));\n\n      const canvas = document.createElement('canvas');\n      canvas.width = video.videoWidth;\n      canvas.height = video.videoHeight;\n      canvas.getContext('2d').drawImage(video, 0, 0);\n      stream.getVideoTracks()[0].stop();\n      video.remove();\n      return canvas.toDataURL('image/jpeg', quality);\n  }\n  ",
            "text/plain": [
              "<IPython.core.display.Javascript object>"
            ]
          },
          "metadata": {},
          "output_type": "display_data"
        },
        {
          "name": "stdout",
          "output_type": "stream",
          "text": [
            "\n",
            "0: 640x640 1 face, 3 openeyes, 1 openmouth, 7.4ms\n",
            "Speed: 2.1ms preprocess, 7.4ms inference, 1.2ms postprocess per image at shape (1, 3, 640, 640)\n",
            "['face', 'openeye', 'openeye', 'openmouth', 'openeye']\n",
            "[0.88581, 0.60401, 0.53866, 0.43038, 0.26138]\n"
          ]
        },
        {
          "data": {
            "application/javascript": "\n  async function takePhoto(quality, delay) {\n      const video = document.createElement('video');\n      video.style.display = 'block';\n      const stream = await navigator.mediaDevices.getUserMedia({video: true});\n\n      document.body.appendChild(video);\n      video.srcObject = stream;\n      await video.play();\n\n      // Wait for video to start, you can adjust the delay here\n      await new Promise(resolve => setTimeout(resolve, delay));\n\n      const canvas = document.createElement('canvas');\n      canvas.width = video.videoWidth;\n      canvas.height = video.videoHeight;\n      canvas.getContext('2d').drawImage(video, 0, 0);\n      stream.getVideoTracks()[0].stop();\n      video.remove();\n      return canvas.toDataURL('image/jpeg', quality);\n  }\n  ",
            "text/plain": [
              "<IPython.core.display.Javascript object>"
            ]
          },
          "metadata": {},
          "output_type": "display_data"
        },
        {
          "name": "stdout",
          "output_type": "stream",
          "text": [
            "\n",
            "0: 640x640 1 closedmouth, 1 face, 2 openeyes, 7.4ms\n",
            "Speed: 1.9ms preprocess, 7.4ms inference, 1.3ms postprocess per image at shape (1, 3, 640, 640)\n",
            "['face', 'openeye', 'openeye', 'closedmouth']\n",
            "[0.8651, 0.61955, 0.61091, 0.50926]\n"
          ]
        },
        {
          "data": {
            "application/javascript": "\n  async function takePhoto(quality, delay) {\n      const video = document.createElement('video');\n      video.style.display = 'block';\n      const stream = await navigator.mediaDevices.getUserMedia({video: true});\n\n      document.body.appendChild(video);\n      video.srcObject = stream;\n      await video.play();\n\n      // Wait for video to start, you can adjust the delay here\n      await new Promise(resolve => setTimeout(resolve, delay));\n\n      const canvas = document.createElement('canvas');\n      canvas.width = video.videoWidth;\n      canvas.height = video.videoHeight;\n      canvas.getContext('2d').drawImage(video, 0, 0);\n      stream.getVideoTracks()[0].stop();\n      video.remove();\n      return canvas.toDataURL('image/jpeg', quality);\n  }\n  ",
            "text/plain": [
              "<IPython.core.display.Javascript object>"
            ]
          },
          "metadata": {},
          "output_type": "display_data"
        },
        {
          "name": "stdout",
          "output_type": "stream",
          "text": [
            "\n",
            "0: 640x640 2 closedmouths, 1 face, 2 openeyes, 8.7ms\n",
            "Speed: 2.2ms preprocess, 8.7ms inference, 1.3ms postprocess per image at shape (1, 3, 640, 640)\n",
            "['face', 'closedmouth', 'openeye', 'openeye', 'closedmouth']\n",
            "[0.86418, 0.60018, 0.58026, 0.57766, 0.26343]\n"
          ]
        },
        {
          "data": {
            "application/javascript": "\n  async function takePhoto(quality, delay) {\n      const video = document.createElement('video');\n      video.style.display = 'block';\n      const stream = await navigator.mediaDevices.getUserMedia({video: true});\n\n      document.body.appendChild(video);\n      video.srcObject = stream;\n      await video.play();\n\n      // Wait for video to start, you can adjust the delay here\n      await new Promise(resolve => setTimeout(resolve, delay));\n\n      const canvas = document.createElement('canvas');\n      canvas.width = video.videoWidth;\n      canvas.height = video.videoHeight;\n      canvas.getContext('2d').drawImage(video, 0, 0);\n      stream.getVideoTracks()[0].stop();\n      video.remove();\n      return canvas.toDataURL('image/jpeg', quality);\n  }\n  ",
            "text/plain": [
              "<IPython.core.display.Javascript object>"
            ]
          },
          "metadata": {},
          "output_type": "display_data"
        },
        {
          "name": "stdout",
          "output_type": "stream",
          "text": [
            "\n",
            "0: 640x640 1 closedmouth, 1 face, 3 openeyes, 12.6ms\n",
            "Speed: 3.5ms preprocess, 12.6ms inference, 1.8ms postprocess per image at shape (1, 3, 640, 640)\n",
            "['face', 'openeye', 'openeye', 'closedmouth', 'openeye']\n",
            "[0.86105, 0.57549, 0.56638, 0.54794, 0.26981]\n"
          ]
        },
        {
          "data": {
            "application/javascript": "\n  async function takePhoto(quality, delay) {\n      const video = document.createElement('video');\n      video.style.display = 'block';\n      const stream = await navigator.mediaDevices.getUserMedia({video: true});\n\n      document.body.appendChild(video);\n      video.srcObject = stream;\n      await video.play();\n\n      // Wait for video to start, you can adjust the delay here\n      await new Promise(resolve => setTimeout(resolve, delay));\n\n      const canvas = document.createElement('canvas');\n      canvas.width = video.videoWidth;\n      canvas.height = video.videoHeight;\n      canvas.getContext('2d').drawImage(video, 0, 0);\n      stream.getVideoTracks()[0].stop();\n      video.remove();\n      return canvas.toDataURL('image/jpeg', quality);\n  }\n  ",
            "text/plain": [
              "<IPython.core.display.Javascript object>"
            ]
          },
          "metadata": {},
          "output_type": "display_data"
        },
        {
          "name": "stdout",
          "output_type": "stream",
          "text": [
            "\n",
            "0: 640x640 1 closedmouth, 1 face, 2 openeyes, 11.0ms\n",
            "Speed: 4.8ms preprocess, 11.0ms inference, 1.6ms postprocess per image at shape (1, 3, 640, 640)\n",
            "['face', 'openeye', 'openeye', 'closedmouth']\n",
            "[0.86102, 0.60497, 0.5944, 0.50853]\n"
          ]
        },
        {
          "data": {
            "application/javascript": "\n  async function takePhoto(quality, delay) {\n      const video = document.createElement('video');\n      video.style.display = 'block';\n      const stream = await navigator.mediaDevices.getUserMedia({video: true});\n\n      document.body.appendChild(video);\n      video.srcObject = stream;\n      await video.play();\n\n      // Wait for video to start, you can adjust the delay here\n      await new Promise(resolve => setTimeout(resolve, delay));\n\n      const canvas = document.createElement('canvas');\n      canvas.width = video.videoWidth;\n      canvas.height = video.videoHeight;\n      canvas.getContext('2d').drawImage(video, 0, 0);\n      stream.getVideoTracks()[0].stop();\n      video.remove();\n      return canvas.toDataURL('image/jpeg', quality);\n  }\n  ",
            "text/plain": [
              "<IPython.core.display.Javascript object>"
            ]
          },
          "metadata": {},
          "output_type": "display_data"
        },
        {
          "name": "stdout",
          "output_type": "stream",
          "text": [
            "\n",
            "0: 640x640 2 closedmouths, 1 face, 2 openeyes, 7.8ms\n",
            "Speed: 2.0ms preprocess, 7.8ms inference, 1.4ms postprocess per image at shape (1, 3, 640, 640)\n",
            "['face', 'openeye', 'openeye', 'closedmouth', 'closedmouth']\n",
            "[0.87194, 0.66, 0.60106, 0.48393, 0.27858]\n"
          ]
        },
        {
          "data": {
            "application/javascript": "\n  async function takePhoto(quality, delay) {\n      const video = document.createElement('video');\n      video.style.display = 'block';\n      const stream = await navigator.mediaDevices.getUserMedia({video: true});\n\n      document.body.appendChild(video);\n      video.srcObject = stream;\n      await video.play();\n\n      // Wait for video to start, you can adjust the delay here\n      await new Promise(resolve => setTimeout(resolve, delay));\n\n      const canvas = document.createElement('canvas');\n      canvas.width = video.videoWidth;\n      canvas.height = video.videoHeight;\n      canvas.getContext('2d').drawImage(video, 0, 0);\n      stream.getVideoTracks()[0].stop();\n      video.remove();\n      return canvas.toDataURL('image/jpeg', quality);\n  }\n  ",
            "text/plain": [
              "<IPython.core.display.Javascript object>"
            ]
          },
          "metadata": {},
          "output_type": "display_data"
        },
        {
          "name": "stdout",
          "output_type": "stream",
          "text": [
            "\n",
            "0: 640x640 2 closedmouths, 1 face, 2 openeyes, 7.4ms\n",
            "Speed: 1.9ms preprocess, 7.4ms inference, 1.3ms postprocess per image at shape (1, 3, 640, 640)\n",
            "['face', 'openeye', 'openeye', 'closedmouth', 'closedmouth']\n",
            "[0.88449, 0.6617, 0.61838, 0.49308, 0.27834]\n"
          ]
        },
        {
          "data": {
            "application/javascript": "\n  async function takePhoto(quality, delay) {\n      const video = document.createElement('video');\n      video.style.display = 'block';\n      const stream = await navigator.mediaDevices.getUserMedia({video: true});\n\n      document.body.appendChild(video);\n      video.srcObject = stream;\n      await video.play();\n\n      // Wait for video to start, you can adjust the delay here\n      await new Promise(resolve => setTimeout(resolve, delay));\n\n      const canvas = document.createElement('canvas');\n      canvas.width = video.videoWidth;\n      canvas.height = video.videoHeight;\n      canvas.getContext('2d').drawImage(video, 0, 0);\n      stream.getVideoTracks()[0].stop();\n      video.remove();\n      return canvas.toDataURL('image/jpeg', quality);\n  }\n  ",
            "text/plain": [
              "<IPython.core.display.Javascript object>"
            ]
          },
          "metadata": {},
          "output_type": "display_data"
        },
        {
          "name": "stdout",
          "output_type": "stream",
          "text": [
            "\n",
            "0: 640x640 1 closedmouth, 1 face, 4 openeyes, 7.4ms\n",
            "Speed: 2.2ms preprocess, 7.4ms inference, 1.3ms postprocess per image at shape (1, 3, 640, 640)\n",
            "['face', 'openeye', 'closedmouth', 'openeye', 'openeye', 'openeye']\n",
            "[0.90259, 0.61458, 0.57572, 0.52157, 0.27207, 0.26354]\n"
          ]
        },
        {
          "data": {
            "application/javascript": "\n  async function takePhoto(quality, delay) {\n      const video = document.createElement('video');\n      video.style.display = 'block';\n      const stream = await navigator.mediaDevices.getUserMedia({video: true});\n\n      document.body.appendChild(video);\n      video.srcObject = stream;\n      await video.play();\n\n      // Wait for video to start, you can adjust the delay here\n      await new Promise(resolve => setTimeout(resolve, delay));\n\n      const canvas = document.createElement('canvas');\n      canvas.width = video.videoWidth;\n      canvas.height = video.videoHeight;\n      canvas.getContext('2d').drawImage(video, 0, 0);\n      stream.getVideoTracks()[0].stop();\n      video.remove();\n      return canvas.toDataURL('image/jpeg', quality);\n  }\n  ",
            "text/plain": [
              "<IPython.core.display.Javascript object>"
            ]
          },
          "metadata": {},
          "output_type": "display_data"
        },
        {
          "name": "stdout",
          "output_type": "stream",
          "text": [
            "\n",
            "0: 640x640 1 closedmouth, 1 face, 3 openeyes, 9.4ms\n",
            "Speed: 1.6ms preprocess, 9.4ms inference, 2.1ms postprocess per image at shape (1, 3, 640, 640)\n",
            "['face', 'openeye', 'openeye', 'closedmouth', 'openeye']\n",
            "[0.85542, 0.58368, 0.57151, 0.54414, 0.30453]\n"
          ]
        },
        {
          "data": {
            "application/javascript": "\n  async function takePhoto(quality, delay) {\n      const video = document.createElement('video');\n      video.style.display = 'block';\n      const stream = await navigator.mediaDevices.getUserMedia({video: true});\n\n      document.body.appendChild(video);\n      video.srcObject = stream;\n      await video.play();\n\n      // Wait for video to start, you can adjust the delay here\n      await new Promise(resolve => setTimeout(resolve, delay));\n\n      const canvas = document.createElement('canvas');\n      canvas.width = video.videoWidth;\n      canvas.height = video.videoHeight;\n      canvas.getContext('2d').drawImage(video, 0, 0);\n      stream.getVideoTracks()[0].stop();\n      video.remove();\n      return canvas.toDataURL('image/jpeg', quality);\n  }\n  ",
            "text/plain": [
              "<IPython.core.display.Javascript object>"
            ]
          },
          "metadata": {},
          "output_type": "display_data"
        },
        {
          "name": "stdout",
          "output_type": "stream",
          "text": [
            "\n",
            "0: 640x640 1 closedmouth, 1 face, 3 openeyes, 7.5ms\n",
            "Speed: 1.7ms preprocess, 7.5ms inference, 1.3ms postprocess per image at shape (1, 3, 640, 640)\n",
            "['face', 'openeye', 'openeye', 'closedmouth', 'openeye']\n",
            "[0.86184, 0.57862, 0.55675, 0.47036, 0.26439]\n"
          ]
        },
        {
          "data": {
            "application/javascript": "\n  async function takePhoto(quality, delay) {\n      const video = document.createElement('video');\n      video.style.display = 'block';\n      const stream = await navigator.mediaDevices.getUserMedia({video: true});\n\n      document.body.appendChild(video);\n      video.srcObject = stream;\n      await video.play();\n\n      // Wait for video to start, you can adjust the delay here\n      await new Promise(resolve => setTimeout(resolve, delay));\n\n      const canvas = document.createElement('canvas');\n      canvas.width = video.videoWidth;\n      canvas.height = video.videoHeight;\n      canvas.getContext('2d').drawImage(video, 0, 0);\n      stream.getVideoTracks()[0].stop();\n      video.remove();\n      return canvas.toDataURL('image/jpeg', quality);\n  }\n  ",
            "text/plain": [
              "<IPython.core.display.Javascript object>"
            ]
          },
          "metadata": {},
          "output_type": "display_data"
        },
        {
          "name": "stdout",
          "output_type": "stream",
          "text": [
            "\n",
            "0: 640x640 1 closedmouth, 1 face, 2 openeyes, 8.8ms\n",
            "Speed: 1.8ms preprocess, 8.8ms inference, 1.3ms postprocess per image at shape (1, 3, 640, 640)\n",
            "['face', 'openeye', 'openeye', 'closedmouth']\n",
            "[0.86764, 0.63377, 0.60497, 0.54106]\n"
          ]
        },
        {
          "data": {
            "application/javascript": "\n  async function takePhoto(quality, delay) {\n      const video = document.createElement('video');\n      video.style.display = 'block';\n      const stream = await navigator.mediaDevices.getUserMedia({video: true});\n\n      document.body.appendChild(video);\n      video.srcObject = stream;\n      await video.play();\n\n      // Wait for video to start, you can adjust the delay here\n      await new Promise(resolve => setTimeout(resolve, delay));\n\n      const canvas = document.createElement('canvas');\n      canvas.width = video.videoWidth;\n      canvas.height = video.videoHeight;\n      canvas.getContext('2d').drawImage(video, 0, 0);\n      stream.getVideoTracks()[0].stop();\n      video.remove();\n      return canvas.toDataURL('image/jpeg', quality);\n  }\n  ",
            "text/plain": [
              "<IPython.core.display.Javascript object>"
            ]
          },
          "metadata": {},
          "output_type": "display_data"
        },
        {
          "name": "stdout",
          "output_type": "stream",
          "text": [
            "\n",
            "0: 640x640 1 closedmouth, 1 face, 2 openeyes, 7.5ms\n",
            "Speed: 2.0ms preprocess, 7.5ms inference, 1.3ms postprocess per image at shape (1, 3, 640, 640)\n",
            "['face', 'openeye', 'openeye', 'closedmouth']\n",
            "[0.86258, 0.61884, 0.60903, 0.56167]\n"
          ]
        },
        {
          "data": {
            "application/javascript": "\n  async function takePhoto(quality, delay) {\n      const video = document.createElement('video');\n      video.style.display = 'block';\n      const stream = await navigator.mediaDevices.getUserMedia({video: true});\n\n      document.body.appendChild(video);\n      video.srcObject = stream;\n      await video.play();\n\n      // Wait for video to start, you can adjust the delay here\n      await new Promise(resolve => setTimeout(resolve, delay));\n\n      const canvas = document.createElement('canvas');\n      canvas.width = video.videoWidth;\n      canvas.height = video.videoHeight;\n      canvas.getContext('2d').drawImage(video, 0, 0);\n      stream.getVideoTracks()[0].stop();\n      video.remove();\n      return canvas.toDataURL('image/jpeg', quality);\n  }\n  ",
            "text/plain": [
              "<IPython.core.display.Javascript object>"
            ]
          },
          "metadata": {},
          "output_type": "display_data"
        },
        {
          "name": "stdout",
          "output_type": "stream",
          "text": [
            "\n",
            "0: 640x640 1 closedmouth, 1 face, 2 openeyes, 7.5ms\n",
            "Speed: 2.4ms preprocess, 7.5ms inference, 1.3ms postprocess per image at shape (1, 3, 640, 640)\n",
            "['face', 'openeye', 'closedmouth', 'openeye']\n",
            "[0.88713, 0.61301, 0.58314, 0.55256]\n"
          ]
        },
        {
          "data": {
            "application/javascript": "\n  async function takePhoto(quality, delay) {\n      const video = document.createElement('video');\n      video.style.display = 'block';\n      const stream = await navigator.mediaDevices.getUserMedia({video: true});\n\n      document.body.appendChild(video);\n      video.srcObject = stream;\n      await video.play();\n\n      // Wait for video to start, you can adjust the delay here\n      await new Promise(resolve => setTimeout(resolve, delay));\n\n      const canvas = document.createElement('canvas');\n      canvas.width = video.videoWidth;\n      canvas.height = video.videoHeight;\n      canvas.getContext('2d').drawImage(video, 0, 0);\n      stream.getVideoTracks()[0].stop();\n      video.remove();\n      return canvas.toDataURL('image/jpeg', quality);\n  }\n  ",
            "text/plain": [
              "<IPython.core.display.Javascript object>"
            ]
          },
          "metadata": {},
          "output_type": "display_data"
        },
        {
          "name": "stdout",
          "output_type": "stream",
          "text": [
            "\n",
            "0: 640x640 2 closedmouths, 1 face, 2 openeyes, 7.7ms\n",
            "Speed: 1.8ms preprocess, 7.7ms inference, 1.3ms postprocess per image at shape (1, 3, 640, 640)\n",
            "['face', 'openeye', 'openeye', 'closedmouth', 'closedmouth']\n",
            "[0.85752, 0.59509, 0.56263, 0.53978, 0.28439]\n"
          ]
        },
        {
          "data": {
            "application/javascript": "\n  async function takePhoto(quality, delay) {\n      const video = document.createElement('video');\n      video.style.display = 'block';\n      const stream = await navigator.mediaDevices.getUserMedia({video: true});\n\n      document.body.appendChild(video);\n      video.srcObject = stream;\n      await video.play();\n\n      // Wait for video to start, you can adjust the delay here\n      await new Promise(resolve => setTimeout(resolve, delay));\n\n      const canvas = document.createElement('canvas');\n      canvas.width = video.videoWidth;\n      canvas.height = video.videoHeight;\n      canvas.getContext('2d').drawImage(video, 0, 0);\n      stream.getVideoTracks()[0].stop();\n      video.remove();\n      return canvas.toDataURL('image/jpeg', quality);\n  }\n  ",
            "text/plain": [
              "<IPython.core.display.Javascript object>"
            ]
          },
          "metadata": {},
          "output_type": "display_data"
        },
        {
          "name": "stdout",
          "output_type": "stream",
          "text": [
            "\n",
            "0: 640x640 2 closedmouths, 1 face, 2 openeyes, 9.8ms\n",
            "Speed: 1.8ms preprocess, 9.8ms inference, 1.6ms postprocess per image at shape (1, 3, 640, 640)\n",
            "['face', 'openeye', 'openeye', 'closedmouth', 'closedmouth']\n",
            "[0.86131, 0.6032, 0.56832, 0.53605, 0.36854]\n"
          ]
        },
        {
          "data": {
            "application/javascript": "\n  async function takePhoto(quality, delay) {\n      const video = document.createElement('video');\n      video.style.display = 'block';\n      const stream = await navigator.mediaDevices.getUserMedia({video: true});\n\n      document.body.appendChild(video);\n      video.srcObject = stream;\n      await video.play();\n\n      // Wait for video to start, you can adjust the delay here\n      await new Promise(resolve => setTimeout(resolve, delay));\n\n      const canvas = document.createElement('canvas');\n      canvas.width = video.videoWidth;\n      canvas.height = video.videoHeight;\n      canvas.getContext('2d').drawImage(video, 0, 0);\n      stream.getVideoTracks()[0].stop();\n      video.remove();\n      return canvas.toDataURL('image/jpeg', quality);\n  }\n  ",
            "text/plain": [
              "<IPython.core.display.Javascript object>"
            ]
          },
          "metadata": {},
          "output_type": "display_data"
        },
        {
          "name": "stdout",
          "output_type": "stream",
          "text": [
            "\n",
            "0: 640x640 1 closedmouth, 1 face, 2 openeyes, 10.5ms\n",
            "Speed: 1.9ms preprocess, 10.5ms inference, 1.6ms postprocess per image at shape (1, 3, 640, 640)\n",
            "['face', 'openeye', 'openeye', 'closedmouth']\n",
            "[0.89095, 0.57379, 0.55585, 0.48024]\n"
          ]
        },
        {
          "data": {
            "application/javascript": "\n  async function takePhoto(quality, delay) {\n      const video = document.createElement('video');\n      video.style.display = 'block';\n      const stream = await navigator.mediaDevices.getUserMedia({video: true});\n\n      document.body.appendChild(video);\n      video.srcObject = stream;\n      await video.play();\n\n      // Wait for video to start, you can adjust the delay here\n      await new Promise(resolve => setTimeout(resolve, delay));\n\n      const canvas = document.createElement('canvas');\n      canvas.width = video.videoWidth;\n      canvas.height = video.videoHeight;\n      canvas.getContext('2d').drawImage(video, 0, 0);\n      stream.getVideoTracks()[0].stop();\n      video.remove();\n      return canvas.toDataURL('image/jpeg', quality);\n  }\n  ",
            "text/plain": [
              "<IPython.core.display.Javascript object>"
            ]
          },
          "metadata": {},
          "output_type": "display_data"
        },
        {
          "name": "stdout",
          "output_type": "stream",
          "text": [
            "\n",
            "0: 640x640 1 closedmouth, 1 face, 2 openeyes, 8.6ms\n",
            "Speed: 1.8ms preprocess, 8.6ms inference, 1.3ms postprocess per image at shape (1, 3, 640, 640)\n",
            "['face', 'openeye', 'openeye', 'closedmouth']\n",
            "[0.86772, 0.58517, 0.52343, 0.45194]\n"
          ]
        },
        {
          "data": {
            "application/javascript": "\n  async function takePhoto(quality, delay) {\n      const video = document.createElement('video');\n      video.style.display = 'block';\n      const stream = await navigator.mediaDevices.getUserMedia({video: true});\n\n      document.body.appendChild(video);\n      video.srcObject = stream;\n      await video.play();\n\n      // Wait for video to start, you can adjust the delay here\n      await new Promise(resolve => setTimeout(resolve, delay));\n\n      const canvas = document.createElement('canvas');\n      canvas.width = video.videoWidth;\n      canvas.height = video.videoHeight;\n      canvas.getContext('2d').drawImage(video, 0, 0);\n      stream.getVideoTracks()[0].stop();\n      video.remove();\n      return canvas.toDataURL('image/jpeg', quality);\n  }\n  ",
            "text/plain": [
              "<IPython.core.display.Javascript object>"
            ]
          },
          "metadata": {},
          "output_type": "display_data"
        },
        {
          "name": "stdout",
          "output_type": "stream",
          "text": [
            "\n",
            "0: 640x640 1 closedmouth, 1 face, 2 openeyes, 8.7ms\n",
            "Speed: 2.3ms preprocess, 8.7ms inference, 1.4ms postprocess per image at shape (1, 3, 640, 640)\n",
            "['face', 'openeye', 'openeye', 'closedmouth']\n",
            "[0.86215, 0.60231, 0.52131, 0.50575]\n"
          ]
        },
        {
          "data": {
            "application/javascript": "\n  async function takePhoto(quality, delay) {\n      const video = document.createElement('video');\n      video.style.display = 'block';\n      const stream = await navigator.mediaDevices.getUserMedia({video: true});\n\n      document.body.appendChild(video);\n      video.srcObject = stream;\n      await video.play();\n\n      // Wait for video to start, you can adjust the delay here\n      await new Promise(resolve => setTimeout(resolve, delay));\n\n      const canvas = document.createElement('canvas');\n      canvas.width = video.videoWidth;\n      canvas.height = video.videoHeight;\n      canvas.getContext('2d').drawImage(video, 0, 0);\n      stream.getVideoTracks()[0].stop();\n      video.remove();\n      return canvas.toDataURL('image/jpeg', quality);\n  }\n  ",
            "text/plain": [
              "<IPython.core.display.Javascript object>"
            ]
          },
          "metadata": {},
          "output_type": "display_data"
        },
        {
          "name": "stdout",
          "output_type": "stream",
          "text": [
            "\n",
            "0: 640x640 2 closedmouths, 1 face, 2 openeyes, 8.2ms\n",
            "Speed: 1.8ms preprocess, 8.2ms inference, 1.3ms postprocess per image at shape (1, 3, 640, 640)\n",
            "['face', 'openeye', 'openeye', 'closedmouth', 'closedmouth']\n",
            "[0.85102, 0.61733, 0.58197, 0.48312, 0.2956]\n"
          ]
        },
        {
          "data": {
            "application/javascript": "\n  async function takePhoto(quality, delay) {\n      const video = document.createElement('video');\n      video.style.display = 'block';\n      const stream = await navigator.mediaDevices.getUserMedia({video: true});\n\n      document.body.appendChild(video);\n      video.srcObject = stream;\n      await video.play();\n\n      // Wait for video to start, you can adjust the delay here\n      await new Promise(resolve => setTimeout(resolve, delay));\n\n      const canvas = document.createElement('canvas');\n      canvas.width = video.videoWidth;\n      canvas.height = video.videoHeight;\n      canvas.getContext('2d').drawImage(video, 0, 0);\n      stream.getVideoTracks()[0].stop();\n      video.remove();\n      return canvas.toDataURL('image/jpeg', quality);\n  }\n  ",
            "text/plain": [
              "<IPython.core.display.Javascript object>"
            ]
          },
          "metadata": {},
          "output_type": "display_data"
        },
        {
          "name": "stdout",
          "output_type": "stream",
          "text": [
            "\n",
            "0: 640x640 1 closedmouth, 1 face, 2 openeyes, 8.2ms\n",
            "Speed: 1.9ms preprocess, 8.2ms inference, 1.3ms postprocess per image at shape (1, 3, 640, 640)\n",
            "['face', 'openeye', 'openeye', 'closedmouth']\n",
            "[0.90995, 0.58087, 0.57715, 0.56805]\n"
          ]
        },
        {
          "data": {
            "application/javascript": "\n  async function takePhoto(quality, delay) {\n      const video = document.createElement('video');\n      video.style.display = 'block';\n      const stream = await navigator.mediaDevices.getUserMedia({video: true});\n\n      document.body.appendChild(video);\n      video.srcObject = stream;\n      await video.play();\n\n      // Wait for video to start, you can adjust the delay here\n      await new Promise(resolve => setTimeout(resolve, delay));\n\n      const canvas = document.createElement('canvas');\n      canvas.width = video.videoWidth;\n      canvas.height = video.videoHeight;\n      canvas.getContext('2d').drawImage(video, 0, 0);\n      stream.getVideoTracks()[0].stop();\n      video.remove();\n      return canvas.toDataURL('image/jpeg', quality);\n  }\n  ",
            "text/plain": [
              "<IPython.core.display.Javascript object>"
            ]
          },
          "metadata": {},
          "output_type": "display_data"
        },
        {
          "name": "stdout",
          "output_type": "stream",
          "text": [
            "\n",
            "0: 640x640 1 face, 2 openeyes, 1 openmouth, 7.5ms\n",
            "Speed: 2.0ms preprocess, 7.5ms inference, 1.3ms postprocess per image at shape (1, 3, 640, 640)\n",
            "['face', 'openeye', 'openeye', 'openmouth']\n",
            "[0.87648, 0.6273, 0.57399, 0.40219]\n"
          ]
        },
        {
          "data": {
            "application/javascript": "\n  async function takePhoto(quality, delay) {\n      const video = document.createElement('video');\n      video.style.display = 'block';\n      const stream = await navigator.mediaDevices.getUserMedia({video: true});\n\n      document.body.appendChild(video);\n      video.srcObject = stream;\n      await video.play();\n\n      // Wait for video to start, you can adjust the delay here\n      await new Promise(resolve => setTimeout(resolve, delay));\n\n      const canvas = document.createElement('canvas');\n      canvas.width = video.videoWidth;\n      canvas.height = video.videoHeight;\n      canvas.getContext('2d').drawImage(video, 0, 0);\n      stream.getVideoTracks()[0].stop();\n      video.remove();\n      return canvas.toDataURL('image/jpeg', quality);\n  }\n  ",
            "text/plain": [
              "<IPython.core.display.Javascript object>"
            ]
          },
          "metadata": {},
          "output_type": "display_data"
        },
        {
          "name": "stdout",
          "output_type": "stream",
          "text": [
            "\n",
            "0: 640x640 2 closedmouths, 1 face, 1 openeye, 8.8ms\n",
            "Speed: 1.9ms preprocess, 8.8ms inference, 1.3ms postprocess per image at shape (1, 3, 640, 640)\n",
            "['face', 'closedmouth', 'openeye', 'closedmouth']\n",
            "[0.85713, 0.52764, 0.46991, 0.25028]\n"
          ]
        },
        {
          "data": {
            "application/javascript": "\n  async function takePhoto(quality, delay) {\n      const video = document.createElement('video');\n      video.style.display = 'block';\n      const stream = await navigator.mediaDevices.getUserMedia({video: true});\n\n      document.body.appendChild(video);\n      video.srcObject = stream;\n      await video.play();\n\n      // Wait for video to start, you can adjust the delay here\n      await new Promise(resolve => setTimeout(resolve, delay));\n\n      const canvas = document.createElement('canvas');\n      canvas.width = video.videoWidth;\n      canvas.height = video.videoHeight;\n      canvas.getContext('2d').drawImage(video, 0, 0);\n      stream.getVideoTracks()[0].stop();\n      video.remove();\n      return canvas.toDataURL('image/jpeg', quality);\n  }\n  ",
            "text/plain": [
              "<IPython.core.display.Javascript object>"
            ]
          },
          "metadata": {},
          "output_type": "display_data"
        },
        {
          "name": "stdout",
          "output_type": "stream",
          "text": [
            "\n",
            "0: 640x640 2 closedmouths, 1 face, 2 openeyes, 7.6ms\n",
            "Speed: 1.9ms preprocess, 7.6ms inference, 1.3ms postprocess per image at shape (1, 3, 640, 640)\n",
            "['face', 'closedmouth', 'openeye', 'openeye', 'closedmouth']\n",
            "[0.86289, 0.58904, 0.57533, 0.55847, 0.27395]\n"
          ]
        },
        {
          "data": {
            "application/javascript": "\n  async function takePhoto(quality, delay) {\n      const video = document.createElement('video');\n      video.style.display = 'block';\n      const stream = await navigator.mediaDevices.getUserMedia({video: true});\n\n      document.body.appendChild(video);\n      video.srcObject = stream;\n      await video.play();\n\n      // Wait for video to start, you can adjust the delay here\n      await new Promise(resolve => setTimeout(resolve, delay));\n\n      const canvas = document.createElement('canvas');\n      canvas.width = video.videoWidth;\n      canvas.height = video.videoHeight;\n      canvas.getContext('2d').drawImage(video, 0, 0);\n      stream.getVideoTracks()[0].stop();\n      video.remove();\n      return canvas.toDataURL('image/jpeg', quality);\n  }\n  ",
            "text/plain": [
              "<IPython.core.display.Javascript object>"
            ]
          },
          "metadata": {},
          "output_type": "display_data"
        },
        {
          "name": "stdout",
          "output_type": "stream",
          "text": [
            "\n",
            "0: 640x640 1 closedmouth, 1 face, 2 openeyes, 7.4ms\n",
            "Speed: 1.9ms preprocess, 7.4ms inference, 1.3ms postprocess per image at shape (1, 3, 640, 640)\n",
            "['face', 'openeye', 'openeye', 'closedmouth']\n",
            "[0.87098, 0.5726, 0.55943, 0.50488]\n"
          ]
        },
        {
          "data": {
            "application/javascript": "\n  async function takePhoto(quality, delay) {\n      const video = document.createElement('video');\n      video.style.display = 'block';\n      const stream = await navigator.mediaDevices.getUserMedia({video: true});\n\n      document.body.appendChild(video);\n      video.srcObject = stream;\n      await video.play();\n\n      // Wait for video to start, you can adjust the delay here\n      await new Promise(resolve => setTimeout(resolve, delay));\n\n      const canvas = document.createElement('canvas');\n      canvas.width = video.videoWidth;\n      canvas.height = video.videoHeight;\n      canvas.getContext('2d').drawImage(video, 0, 0);\n      stream.getVideoTracks()[0].stop();\n      video.remove();\n      return canvas.toDataURL('image/jpeg', quality);\n  }\n  ",
            "text/plain": [
              "<IPython.core.display.Javascript object>"
            ]
          },
          "metadata": {},
          "output_type": "display_data"
        },
        {
          "name": "stdout",
          "output_type": "stream",
          "text": [
            "\n",
            "0: 640x640 1 closedmouth, 1 face, 2 openeyes, 8.3ms\n",
            "Speed: 6.9ms preprocess, 8.3ms inference, 2.6ms postprocess per image at shape (1, 3, 640, 640)\n",
            "['face', 'openeye', 'openeye', 'closedmouth']\n",
            "[0.88047, 0.56669, 0.5646, 0.56277]\n"
          ]
        },
        {
          "data": {
            "application/javascript": "\n  async function takePhoto(quality, delay) {\n      const video = document.createElement('video');\n      video.style.display = 'block';\n      const stream = await navigator.mediaDevices.getUserMedia({video: true});\n\n      document.body.appendChild(video);\n      video.srcObject = stream;\n      await video.play();\n\n      // Wait for video to start, you can adjust the delay here\n      await new Promise(resolve => setTimeout(resolve, delay));\n\n      const canvas = document.createElement('canvas');\n      canvas.width = video.videoWidth;\n      canvas.height = video.videoHeight;\n      canvas.getContext('2d').drawImage(video, 0, 0);\n      stream.getVideoTracks()[0].stop();\n      video.remove();\n      return canvas.toDataURL('image/jpeg', quality);\n  }\n  ",
            "text/plain": [
              "<IPython.core.display.Javascript object>"
            ]
          },
          "metadata": {},
          "output_type": "display_data"
        },
        {
          "name": "stdout",
          "output_type": "stream",
          "text": [
            "\n",
            "0: 640x640 1 closedmouth, 1 face, 2 openeyes, 13.0ms\n",
            "Speed: 1.8ms preprocess, 13.0ms inference, 1.8ms postprocess per image at shape (1, 3, 640, 640)\n",
            "['face', 'openeye', 'openeye', 'closedmouth']\n",
            "[0.88021, 0.58781, 0.5538, 0.5275]\n"
          ]
        },
        {
          "data": {
            "application/javascript": "\n  async function takePhoto(quality, delay) {\n      const video = document.createElement('video');\n      video.style.display = 'block';\n      const stream = await navigator.mediaDevices.getUserMedia({video: true});\n\n      document.body.appendChild(video);\n      video.srcObject = stream;\n      await video.play();\n\n      // Wait for video to start, you can adjust the delay here\n      await new Promise(resolve => setTimeout(resolve, delay));\n\n      const canvas = document.createElement('canvas');\n      canvas.width = video.videoWidth;\n      canvas.height = video.videoHeight;\n      canvas.getContext('2d').drawImage(video, 0, 0);\n      stream.getVideoTracks()[0].stop();\n      video.remove();\n      return canvas.toDataURL('image/jpeg', quality);\n  }\n  ",
            "text/plain": [
              "<IPython.core.display.Javascript object>"
            ]
          },
          "metadata": {},
          "output_type": "display_data"
        },
        {
          "name": "stdout",
          "output_type": "stream",
          "text": [
            "\n",
            "0: 640x640 2 closedmouths, 1 face, 3 openeyes, 7.4ms\n",
            "Speed: 2.0ms preprocess, 7.4ms inference, 1.3ms postprocess per image at shape (1, 3, 640, 640)\n",
            "['face', 'openeye', 'openeye', 'closedmouth', 'closedmouth', 'openeye']\n",
            "[0.87831, 0.57481, 0.55583, 0.55051, 0.33084, 0.25599]\n"
          ]
        },
        {
          "data": {
            "application/javascript": "\n  async function takePhoto(quality, delay) {\n      const video = document.createElement('video');\n      video.style.display = 'block';\n      const stream = await navigator.mediaDevices.getUserMedia({video: true});\n\n      document.body.appendChild(video);\n      video.srcObject = stream;\n      await video.play();\n\n      // Wait for video to start, you can adjust the delay here\n      await new Promise(resolve => setTimeout(resolve, delay));\n\n      const canvas = document.createElement('canvas');\n      canvas.width = video.videoWidth;\n      canvas.height = video.videoHeight;\n      canvas.getContext('2d').drawImage(video, 0, 0);\n      stream.getVideoTracks()[0].stop();\n      video.remove();\n      return canvas.toDataURL('image/jpeg', quality);\n  }\n  ",
            "text/plain": [
              "<IPython.core.display.Javascript object>"
            ]
          },
          "metadata": {},
          "output_type": "display_data"
        },
        {
          "name": "stdout",
          "output_type": "stream",
          "text": [
            "\n",
            "0: 640x640 1 closedmouth, 1 face, 2 openeyes, 7.7ms\n",
            "Speed: 1.8ms preprocess, 7.7ms inference, 1.4ms postprocess per image at shape (1, 3, 640, 640)\n",
            "['face', 'closedmouth', 'openeye', 'openeye']\n",
            "[0.88283, 0.57764, 0.54406, 0.54311]\n"
          ]
        },
        {
          "data": {
            "application/javascript": "\n  async function takePhoto(quality, delay) {\n      const video = document.createElement('video');\n      video.style.display = 'block';\n      const stream = await navigator.mediaDevices.getUserMedia({video: true});\n\n      document.body.appendChild(video);\n      video.srcObject = stream;\n      await video.play();\n\n      // Wait for video to start, you can adjust the delay here\n      await new Promise(resolve => setTimeout(resolve, delay));\n\n      const canvas = document.createElement('canvas');\n      canvas.width = video.videoWidth;\n      canvas.height = video.videoHeight;\n      canvas.getContext('2d').drawImage(video, 0, 0);\n      stream.getVideoTracks()[0].stop();\n      video.remove();\n      return canvas.toDataURL('image/jpeg', quality);\n  }\n  ",
            "text/plain": [
              "<IPython.core.display.Javascript object>"
            ]
          },
          "metadata": {},
          "output_type": "display_data"
        },
        {
          "name": "stdout",
          "output_type": "stream",
          "text": [
            "\n",
            "0: 640x640 2 closedmouths, 1 face, 3 openeyes, 8.9ms\n",
            "Speed: 1.9ms preprocess, 8.9ms inference, 1.4ms postprocess per image at shape (1, 3, 640, 640)\n",
            "['face', 'openeye', 'closedmouth', 'openeye', 'openeye', 'closedmouth']\n",
            "[0.8717, 0.5966, 0.59336, 0.51814, 0.28746, 0.26671]\n"
          ]
        },
        {
          "data": {
            "application/javascript": "\n  async function takePhoto(quality, delay) {\n      const video = document.createElement('video');\n      video.style.display = 'block';\n      const stream = await navigator.mediaDevices.getUserMedia({video: true});\n\n      document.body.appendChild(video);\n      video.srcObject = stream;\n      await video.play();\n\n      // Wait for video to start, you can adjust the delay here\n      await new Promise(resolve => setTimeout(resolve, delay));\n\n      const canvas = document.createElement('canvas');\n      canvas.width = video.videoWidth;\n      canvas.height = video.videoHeight;\n      canvas.getContext('2d').drawImage(video, 0, 0);\n      stream.getVideoTracks()[0].stop();\n      video.remove();\n      return canvas.toDataURL('image/jpeg', quality);\n  }\n  ",
            "text/plain": [
              "<IPython.core.display.Javascript object>"
            ]
          },
          "metadata": {},
          "output_type": "display_data"
        },
        {
          "name": "stdout",
          "output_type": "stream",
          "text": [
            "\n",
            "0: 640x640 2 closedmouths, 1 face, 2 openeyes, 9.7ms\n",
            "Speed: 3.6ms preprocess, 9.7ms inference, 1.3ms postprocess per image at shape (1, 3, 640, 640)\n",
            "['face', 'openeye', 'openeye', 'closedmouth', 'closedmouth']\n",
            "[0.86801, 0.57721, 0.56809, 0.53395, 0.27808]\n"
          ]
        },
        {
          "data": {
            "application/javascript": "\n  async function takePhoto(quality, delay) {\n      const video = document.createElement('video');\n      video.style.display = 'block';\n      const stream = await navigator.mediaDevices.getUserMedia({video: true});\n\n      document.body.appendChild(video);\n      video.srcObject = stream;\n      await video.play();\n\n      // Wait for video to start, you can adjust the delay here\n      await new Promise(resolve => setTimeout(resolve, delay));\n\n      const canvas = document.createElement('canvas');\n      canvas.width = video.videoWidth;\n      canvas.height = video.videoHeight;\n      canvas.getContext('2d').drawImage(video, 0, 0);\n      stream.getVideoTracks()[0].stop();\n      video.remove();\n      return canvas.toDataURL('image/jpeg', quality);\n  }\n  ",
            "text/plain": [
              "<IPython.core.display.Javascript object>"
            ]
          },
          "metadata": {},
          "output_type": "display_data"
        },
        {
          "name": "stdout",
          "output_type": "stream",
          "text": [
            "\n",
            "0: 640x640 1 closedmouth, 1 face, 2 openeyes, 10.3ms\n",
            "Speed: 2.4ms preprocess, 10.3ms inference, 1.3ms postprocess per image at shape (1, 3, 640, 640)\n",
            "['face', 'openeye', 'closedmouth', 'openeye']\n",
            "[0.85782, 0.62505, 0.6054, 0.59351]\n"
          ]
        },
        {
          "data": {
            "application/javascript": "\n  async function takePhoto(quality, delay) {\n      const video = document.createElement('video');\n      video.style.display = 'block';\n      const stream = await navigator.mediaDevices.getUserMedia({video: true});\n\n      document.body.appendChild(video);\n      video.srcObject = stream;\n      await video.play();\n\n      // Wait for video to start, you can adjust the delay here\n      await new Promise(resolve => setTimeout(resolve, delay));\n\n      const canvas = document.createElement('canvas');\n      canvas.width = video.videoWidth;\n      canvas.height = video.videoHeight;\n      canvas.getContext('2d').drawImage(video, 0, 0);\n      stream.getVideoTracks()[0].stop();\n      video.remove();\n      return canvas.toDataURL('image/jpeg', quality);\n  }\n  ",
            "text/plain": [
              "<IPython.core.display.Javascript object>"
            ]
          },
          "metadata": {},
          "output_type": "display_data"
        },
        {
          "name": "stdout",
          "output_type": "stream",
          "text": [
            "\n",
            "0: 640x640 2 closedmouths, 1 face, 2 openeyes, 7.4ms\n",
            "Speed: 1.8ms preprocess, 7.4ms inference, 1.3ms postprocess per image at shape (1, 3, 640, 640)\n",
            "['face', 'openeye', 'openeye', 'closedmouth', 'closedmouth']\n",
            "[0.87777, 0.62597, 0.5846, 0.58452, 0.26818]\n"
          ]
        },
        {
          "data": {
            "application/javascript": "\n  async function takePhoto(quality, delay) {\n      const video = document.createElement('video');\n      video.style.display = 'block';\n      const stream = await navigator.mediaDevices.getUserMedia({video: true});\n\n      document.body.appendChild(video);\n      video.srcObject = stream;\n      await video.play();\n\n      // Wait for video to start, you can adjust the delay here\n      await new Promise(resolve => setTimeout(resolve, delay));\n\n      const canvas = document.createElement('canvas');\n      canvas.width = video.videoWidth;\n      canvas.height = video.videoHeight;\n      canvas.getContext('2d').drawImage(video, 0, 0);\n      stream.getVideoTracks()[0].stop();\n      video.remove();\n      return canvas.toDataURL('image/jpeg', quality);\n  }\n  ",
            "text/plain": [
              "<IPython.core.display.Javascript object>"
            ]
          },
          "metadata": {},
          "output_type": "display_data"
        },
        {
          "name": "stdout",
          "output_type": "stream",
          "text": [
            "\n",
            "0: 640x640 1 closedmouth, 1 face, 2 openeyes, 9.3ms\n",
            "Speed: 2.3ms preprocess, 9.3ms inference, 1.3ms postprocess per image at shape (1, 3, 640, 640)\n",
            "['face', 'openeye', 'openeye', 'closedmouth']\n",
            "[0.88388, 0.56805, 0.5677, 0.507]\n"
          ]
        },
        {
          "data": {
            "application/javascript": "\n  async function takePhoto(quality, delay) {\n      const video = document.createElement('video');\n      video.style.display = 'block';\n      const stream = await navigator.mediaDevices.getUserMedia({video: true});\n\n      document.body.appendChild(video);\n      video.srcObject = stream;\n      await video.play();\n\n      // Wait for video to start, you can adjust the delay here\n      await new Promise(resolve => setTimeout(resolve, delay));\n\n      const canvas = document.createElement('canvas');\n      canvas.width = video.videoWidth;\n      canvas.height = video.videoHeight;\n      canvas.getContext('2d').drawImage(video, 0, 0);\n      stream.getVideoTracks()[0].stop();\n      video.remove();\n      return canvas.toDataURL('image/jpeg', quality);\n  }\n  ",
            "text/plain": [
              "<IPython.core.display.Javascript object>"
            ]
          },
          "metadata": {},
          "output_type": "display_data"
        },
        {
          "name": "stdout",
          "output_type": "stream",
          "text": [
            "\n",
            "0: 640x640 1 closedmouth, 1 face, 3 openeyes, 9.4ms\n",
            "Speed: 1.8ms preprocess, 9.4ms inference, 1.3ms postprocess per image at shape (1, 3, 640, 640)\n",
            "['face', 'openeye', 'openeye', 'closedmouth', 'openeye']\n",
            "[0.87693, 0.59098, 0.55588, 0.48871, 0.32692]\n"
          ]
        },
        {
          "data": {
            "application/javascript": "\n  async function takePhoto(quality, delay) {\n      const video = document.createElement('video');\n      video.style.display = 'block';\n      const stream = await navigator.mediaDevices.getUserMedia({video: true});\n\n      document.body.appendChild(video);\n      video.srcObject = stream;\n      await video.play();\n\n      // Wait for video to start, you can adjust the delay here\n      await new Promise(resolve => setTimeout(resolve, delay));\n\n      const canvas = document.createElement('canvas');\n      canvas.width = video.videoWidth;\n      canvas.height = video.videoHeight;\n      canvas.getContext('2d').drawImage(video, 0, 0);\n      stream.getVideoTracks()[0].stop();\n      video.remove();\n      return canvas.toDataURL('image/jpeg', quality);\n  }\n  ",
            "text/plain": [
              "<IPython.core.display.Javascript object>"
            ]
          },
          "metadata": {},
          "output_type": "display_data"
        },
        {
          "name": "stdout",
          "output_type": "stream",
          "text": [
            "\n",
            "0: 640x640 2 closedmouths, 1 face, 3 openeyes, 10.7ms\n",
            "Speed: 1.9ms preprocess, 10.7ms inference, 1.5ms postprocess per image at shape (1, 3, 640, 640)\n",
            "['face', 'openeye', 'openeye', 'closedmouth', 'closedmouth', 'openeye']\n",
            "[0.88472, 0.58955, 0.56661, 0.4601, 0.39863, 0.30944]\n"
          ]
        },
        {
          "data": {
            "application/javascript": "\n  async function takePhoto(quality, delay) {\n      const video = document.createElement('video');\n      video.style.display = 'block';\n      const stream = await navigator.mediaDevices.getUserMedia({video: true});\n\n      document.body.appendChild(video);\n      video.srcObject = stream;\n      await video.play();\n\n      // Wait for video to start, you can adjust the delay here\n      await new Promise(resolve => setTimeout(resolve, delay));\n\n      const canvas = document.createElement('canvas');\n      canvas.width = video.videoWidth;\n      canvas.height = video.videoHeight;\n      canvas.getContext('2d').drawImage(video, 0, 0);\n      stream.getVideoTracks()[0].stop();\n      video.remove();\n      return canvas.toDataURL('image/jpeg', quality);\n  }\n  ",
            "text/plain": [
              "<IPython.core.display.Javascript object>"
            ]
          },
          "metadata": {},
          "output_type": "display_data"
        },
        {
          "name": "stdout",
          "output_type": "stream",
          "text": [
            "\n",
            "0: 640x640 2 closedmouths, 1 face, 2 openeyes, 9.8ms\n",
            "Speed: 1.8ms preprocess, 9.8ms inference, 1.6ms postprocess per image at shape (1, 3, 640, 640)\n",
            "['face', 'openeye', 'openeye', 'closedmouth', 'closedmouth']\n",
            "[0.87876, 0.59638, 0.54961, 0.51025, 0.25455]\n"
          ]
        },
        {
          "data": {
            "application/javascript": "\n  async function takePhoto(quality, delay) {\n      const video = document.createElement('video');\n      video.style.display = 'block';\n      const stream = await navigator.mediaDevices.getUserMedia({video: true});\n\n      document.body.appendChild(video);\n      video.srcObject = stream;\n      await video.play();\n\n      // Wait for video to start, you can adjust the delay here\n      await new Promise(resolve => setTimeout(resolve, delay));\n\n      const canvas = document.createElement('canvas');\n      canvas.width = video.videoWidth;\n      canvas.height = video.videoHeight;\n      canvas.getContext('2d').drawImage(video, 0, 0);\n      stream.getVideoTracks()[0].stop();\n      video.remove();\n      return canvas.toDataURL('image/jpeg', quality);\n  }\n  ",
            "text/plain": [
              "<IPython.core.display.Javascript object>"
            ]
          },
          "metadata": {},
          "output_type": "display_data"
        },
        {
          "name": "stdout",
          "output_type": "stream",
          "text": [
            "\n",
            "0: 640x640 2 closedmouths, 1 face, 2 openeyes, 7.4ms\n",
            "Speed: 2.7ms preprocess, 7.4ms inference, 1.3ms postprocess per image at shape (1, 3, 640, 640)\n",
            "['face', 'openeye', 'openeye', 'closedmouth', 'closedmouth']\n",
            "[0.87402, 0.59272, 0.55671, 0.54626, 0.33281]\n"
          ]
        },
        {
          "data": {
            "application/javascript": "\n  async function takePhoto(quality, delay) {\n      const video = document.createElement('video');\n      video.style.display = 'block';\n      const stream = await navigator.mediaDevices.getUserMedia({video: true});\n\n      document.body.appendChild(video);\n      video.srcObject = stream;\n      await video.play();\n\n      // Wait for video to start, you can adjust the delay here\n      await new Promise(resolve => setTimeout(resolve, delay));\n\n      const canvas = document.createElement('canvas');\n      canvas.width = video.videoWidth;\n      canvas.height = video.videoHeight;\n      canvas.getContext('2d').drawImage(video, 0, 0);\n      stream.getVideoTracks()[0].stop();\n      video.remove();\n      return canvas.toDataURL('image/jpeg', quality);\n  }\n  ",
            "text/plain": [
              "<IPython.core.display.Javascript object>"
            ]
          },
          "metadata": {},
          "output_type": "display_data"
        },
        {
          "name": "stdout",
          "output_type": "stream",
          "text": [
            "\n",
            "0: 640x640 2 closedmouths, 1 face, 2 openeyes, 8.9ms\n",
            "Speed: 2.6ms preprocess, 8.9ms inference, 1.3ms postprocess per image at shape (1, 3, 640, 640)\n",
            "['face', 'openeye', 'openeye', 'closedmouth', 'closedmouth']\n",
            "[0.89289, 0.60155, 0.53796, 0.51598, 0.26784]\n"
          ]
        },
        {
          "data": {
            "application/javascript": "\n  async function takePhoto(quality, delay) {\n      const video = document.createElement('video');\n      video.style.display = 'block';\n      const stream = await navigator.mediaDevices.getUserMedia({video: true});\n\n      document.body.appendChild(video);\n      video.srcObject = stream;\n      await video.play();\n\n      // Wait for video to start, you can adjust the delay here\n      await new Promise(resolve => setTimeout(resolve, delay));\n\n      const canvas = document.createElement('canvas');\n      canvas.width = video.videoWidth;\n      canvas.height = video.videoHeight;\n      canvas.getContext('2d').drawImage(video, 0, 0);\n      stream.getVideoTracks()[0].stop();\n      video.remove();\n      return canvas.toDataURL('image/jpeg', quality);\n  }\n  ",
            "text/plain": [
              "<IPython.core.display.Javascript object>"
            ]
          },
          "metadata": {},
          "output_type": "display_data"
        },
        {
          "name": "stdout",
          "output_type": "stream",
          "text": [
            "\n",
            "0: 640x640 1 closedmouth, 1 face, 2 openeyes, 7.4ms\n",
            "Speed: 1.8ms preprocess, 7.4ms inference, 1.3ms postprocess per image at shape (1, 3, 640, 640)\n",
            "['face', 'openeye', 'closedmouth', 'openeye']\n",
            "[0.89668, 0.6108, 0.55506, 0.53727]\n"
          ]
        },
        {
          "data": {
            "application/javascript": "\n  async function takePhoto(quality, delay) {\n      const video = document.createElement('video');\n      video.style.display = 'block';\n      const stream = await navigator.mediaDevices.getUserMedia({video: true});\n\n      document.body.appendChild(video);\n      video.srcObject = stream;\n      await video.play();\n\n      // Wait for video to start, you can adjust the delay here\n      await new Promise(resolve => setTimeout(resolve, delay));\n\n      const canvas = document.createElement('canvas');\n      canvas.width = video.videoWidth;\n      canvas.height = video.videoHeight;\n      canvas.getContext('2d').drawImage(video, 0, 0);\n      stream.getVideoTracks()[0].stop();\n      video.remove();\n      return canvas.toDataURL('image/jpeg', quality);\n  }\n  ",
            "text/plain": [
              "<IPython.core.display.Javascript object>"
            ]
          },
          "metadata": {},
          "output_type": "display_data"
        },
        {
          "name": "stdout",
          "output_type": "stream",
          "text": [
            "\n",
            "0: 640x640 1 closedmouth, 1 face, 2 openeyes, 8.0ms\n",
            "Speed: 2.0ms preprocess, 8.0ms inference, 1.4ms postprocess per image at shape (1, 3, 640, 640)\n",
            "['face', 'openeye', 'openeye', 'closedmouth']\n",
            "[0.90161, 0.60301, 0.60171, 0.58087]\n"
          ]
        },
        {
          "data": {
            "application/javascript": "\n  async function takePhoto(quality, delay) {\n      const video = document.createElement('video');\n      video.style.display = 'block';\n      const stream = await navigator.mediaDevices.getUserMedia({video: true});\n\n      document.body.appendChild(video);\n      video.srcObject = stream;\n      await video.play();\n\n      // Wait for video to start, you can adjust the delay here\n      await new Promise(resolve => setTimeout(resolve, delay));\n\n      const canvas = document.createElement('canvas');\n      canvas.width = video.videoWidth;\n      canvas.height = video.videoHeight;\n      canvas.getContext('2d').drawImage(video, 0, 0);\n      stream.getVideoTracks()[0].stop();\n      video.remove();\n      return canvas.toDataURL('image/jpeg', quality);\n  }\n  ",
            "text/plain": [
              "<IPython.core.display.Javascript object>"
            ]
          },
          "metadata": {},
          "output_type": "display_data"
        },
        {
          "name": "stdout",
          "output_type": "stream",
          "text": [
            "\n",
            "0: 640x640 1 closedmouth, 1 face, 2 openeyes, 7.6ms\n",
            "Speed: 1.9ms preprocess, 7.6ms inference, 1.2ms postprocess per image at shape (1, 3, 640, 640)\n",
            "['face', 'closedmouth', 'openeye', 'openeye']\n",
            "[0.89182, 0.62004, 0.54822, 0.53467]\n"
          ]
        },
        {
          "data": {
            "application/javascript": "\n  async function takePhoto(quality, delay) {\n      const video = document.createElement('video');\n      video.style.display = 'block';\n      const stream = await navigator.mediaDevices.getUserMedia({video: true});\n\n      document.body.appendChild(video);\n      video.srcObject = stream;\n      await video.play();\n\n      // Wait for video to start, you can adjust the delay here\n      await new Promise(resolve => setTimeout(resolve, delay));\n\n      const canvas = document.createElement('canvas');\n      canvas.width = video.videoWidth;\n      canvas.height = video.videoHeight;\n      canvas.getContext('2d').drawImage(video, 0, 0);\n      stream.getVideoTracks()[0].stop();\n      video.remove();\n      return canvas.toDataURL('image/jpeg', quality);\n  }\n  ",
            "text/plain": [
              "<IPython.core.display.Javascript object>"
            ]
          },
          "metadata": {},
          "output_type": "display_data"
        },
        {
          "name": "stdout",
          "output_type": "stream",
          "text": [
            "\n",
            "0: 640x640 1 closedmouth, 1 face, 2 openeyes, 9.1ms\n",
            "Speed: 1.9ms preprocess, 9.1ms inference, 1.3ms postprocess per image at shape (1, 3, 640, 640)\n",
            "['face', 'closedmouth', 'openeye', 'openeye']\n",
            "[0.86579, 0.59403, 0.57407, 0.56123]\n"
          ]
        },
        {
          "data": {
            "application/javascript": "\n  async function takePhoto(quality, delay) {\n      const video = document.createElement('video');\n      video.style.display = 'block';\n      const stream = await navigator.mediaDevices.getUserMedia({video: true});\n\n      document.body.appendChild(video);\n      video.srcObject = stream;\n      await video.play();\n\n      // Wait for video to start, you can adjust the delay here\n      await new Promise(resolve => setTimeout(resolve, delay));\n\n      const canvas = document.createElement('canvas');\n      canvas.width = video.videoWidth;\n      canvas.height = video.videoHeight;\n      canvas.getContext('2d').drawImage(video, 0, 0);\n      stream.getVideoTracks()[0].stop();\n      video.remove();\n      return canvas.toDataURL('image/jpeg', quality);\n  }\n  ",
            "text/plain": [
              "<IPython.core.display.Javascript object>"
            ]
          },
          "metadata": {},
          "output_type": "display_data"
        },
        {
          "name": "stdout",
          "output_type": "stream",
          "text": [
            "\n",
            "0: 640x640 2 closedmouths, 1 face, 2 openeyes, 9.4ms\n",
            "Speed: 1.9ms preprocess, 9.4ms inference, 1.3ms postprocess per image at shape (1, 3, 640, 640)\n",
            "['face', 'openeye', 'openeye', 'closedmouth', 'closedmouth']\n",
            "[0.87136, 0.55572, 0.55212, 0.54778, 0.30115]\n"
          ]
        },
        {
          "data": {
            "application/javascript": "\n  async function takePhoto(quality, delay) {\n      const video = document.createElement('video');\n      video.style.display = 'block';\n      const stream = await navigator.mediaDevices.getUserMedia({video: true});\n\n      document.body.appendChild(video);\n      video.srcObject = stream;\n      await video.play();\n\n      // Wait for video to start, you can adjust the delay here\n      await new Promise(resolve => setTimeout(resolve, delay));\n\n      const canvas = document.createElement('canvas');\n      canvas.width = video.videoWidth;\n      canvas.height = video.videoHeight;\n      canvas.getContext('2d').drawImage(video, 0, 0);\n      stream.getVideoTracks()[0].stop();\n      video.remove();\n      return canvas.toDataURL('image/jpeg', quality);\n  }\n  ",
            "text/plain": [
              "<IPython.core.display.Javascript object>"
            ]
          },
          "metadata": {},
          "output_type": "display_data"
        },
        {
          "name": "stdout",
          "output_type": "stream",
          "text": [
            "\n",
            "0: 640x640 1 closedmouth, 1 face, 2 openeyes, 10.1ms\n",
            "Speed: 1.7ms preprocess, 10.1ms inference, 1.4ms postprocess per image at shape (1, 3, 640, 640)\n",
            "['face', 'openeye', 'openeye', 'closedmouth']\n",
            "[0.86131, 0.56929, 0.55223, 0.54329]\n"
          ]
        },
        {
          "data": {
            "application/javascript": "\n  async function takePhoto(quality, delay) {\n      const video = document.createElement('video');\n      video.style.display = 'block';\n      const stream = await navigator.mediaDevices.getUserMedia({video: true});\n\n      document.body.appendChild(video);\n      video.srcObject = stream;\n      await video.play();\n\n      // Wait for video to start, you can adjust the delay here\n      await new Promise(resolve => setTimeout(resolve, delay));\n\n      const canvas = document.createElement('canvas');\n      canvas.width = video.videoWidth;\n      canvas.height = video.videoHeight;\n      canvas.getContext('2d').drawImage(video, 0, 0);\n      stream.getVideoTracks()[0].stop();\n      video.remove();\n      return canvas.toDataURL('image/jpeg', quality);\n  }\n  ",
            "text/plain": [
              "<IPython.core.display.Javascript object>"
            ]
          },
          "metadata": {},
          "output_type": "display_data"
        },
        {
          "name": "stdout",
          "output_type": "stream",
          "text": [
            "\n",
            "0: 640x640 1 closedmouth, 1 face, 2 openeyes, 12.8ms\n",
            "Speed: 5.9ms preprocess, 12.8ms inference, 1.8ms postprocess per image at shape (1, 3, 640, 640)\n",
            "['face', 'openeye', 'closedmouth', 'openeye']\n",
            "[0.86982, 0.5841, 0.55915, 0.54648]\n"
          ]
        },
        {
          "data": {
            "application/javascript": "\n  async function takePhoto(quality, delay) {\n      const video = document.createElement('video');\n      video.style.display = 'block';\n      const stream = await navigator.mediaDevices.getUserMedia({video: true});\n\n      document.body.appendChild(video);\n      video.srcObject = stream;\n      await video.play();\n\n      // Wait for video to start, you can adjust the delay here\n      await new Promise(resolve => setTimeout(resolve, delay));\n\n      const canvas = document.createElement('canvas');\n      canvas.width = video.videoWidth;\n      canvas.height = video.videoHeight;\n      canvas.getContext('2d').drawImage(video, 0, 0);\n      stream.getVideoTracks()[0].stop();\n      video.remove();\n      return canvas.toDataURL('image/jpeg', quality);\n  }\n  ",
            "text/plain": [
              "<IPython.core.display.Javascript object>"
            ]
          },
          "metadata": {},
          "output_type": "display_data"
        },
        {
          "name": "stdout",
          "output_type": "stream",
          "text": [
            "\n",
            "0: 640x640 2 closedmouths, 1 face, 2 openeyes, 14.2ms\n",
            "Speed: 1.8ms preprocess, 14.2ms inference, 1.9ms postprocess per image at shape (1, 3, 640, 640)\n",
            "['face', 'openeye', 'openeye', 'closedmouth', 'closedmouth']\n",
            "[0.87112, 0.58091, 0.579, 0.51466, 0.26829]\n"
          ]
        },
        {
          "data": {
            "application/javascript": "\n  async function takePhoto(quality, delay) {\n      const video = document.createElement('video');\n      video.style.display = 'block';\n      const stream = await navigator.mediaDevices.getUserMedia({video: true});\n\n      document.body.appendChild(video);\n      video.srcObject = stream;\n      await video.play();\n\n      // Wait for video to start, you can adjust the delay here\n      await new Promise(resolve => setTimeout(resolve, delay));\n\n      const canvas = document.createElement('canvas');\n      canvas.width = video.videoWidth;\n      canvas.height = video.videoHeight;\n      canvas.getContext('2d').drawImage(video, 0, 0);\n      stream.getVideoTracks()[0].stop();\n      video.remove();\n      return canvas.toDataURL('image/jpeg', quality);\n  }\n  ",
            "text/plain": [
              "<IPython.core.display.Javascript object>"
            ]
          },
          "metadata": {},
          "output_type": "display_data"
        },
        {
          "name": "stdout",
          "output_type": "stream",
          "text": [
            "\n",
            "0: 640x640 1 closedmouth, 1 face, 2 openeyes, 7.6ms\n",
            "Speed: 1.8ms preprocess, 7.6ms inference, 1.3ms postprocess per image at shape (1, 3, 640, 640)\n",
            "['face', 'openeye', 'openeye', 'closedmouth']\n",
            "[0.88297, 0.57143, 0.55511, 0.55245]\n"
          ]
        },
        {
          "data": {
            "application/javascript": "\n  async function takePhoto(quality, delay) {\n      const video = document.createElement('video');\n      video.style.display = 'block';\n      const stream = await navigator.mediaDevices.getUserMedia({video: true});\n\n      document.body.appendChild(video);\n      video.srcObject = stream;\n      await video.play();\n\n      // Wait for video to start, you can adjust the delay here\n      await new Promise(resolve => setTimeout(resolve, delay));\n\n      const canvas = document.createElement('canvas');\n      canvas.width = video.videoWidth;\n      canvas.height = video.videoHeight;\n      canvas.getContext('2d').drawImage(video, 0, 0);\n      stream.getVideoTracks()[0].stop();\n      video.remove();\n      return canvas.toDataURL('image/jpeg', quality);\n  }\n  ",
            "text/plain": [
              "<IPython.core.display.Javascript object>"
            ]
          },
          "metadata": {},
          "output_type": "display_data"
        },
        {
          "name": "stdout",
          "output_type": "stream",
          "text": [
            "\n",
            "0: 640x640 1 closedmouth, 1 face, 2 openeyes, 7.4ms\n",
            "Speed: 2.4ms preprocess, 7.4ms inference, 1.3ms postprocess per image at shape (1, 3, 640, 640)\n",
            "['face', 'openeye', 'openeye', 'closedmouth']\n",
            "[0.87797, 0.59064, 0.52871, 0.49955]\n"
          ]
        },
        {
          "data": {
            "application/javascript": "\n  async function takePhoto(quality, delay) {\n      const video = document.createElement('video');\n      video.style.display = 'block';\n      const stream = await navigator.mediaDevices.getUserMedia({video: true});\n\n      document.body.appendChild(video);\n      video.srcObject = stream;\n      await video.play();\n\n      // Wait for video to start, you can adjust the delay here\n      await new Promise(resolve => setTimeout(resolve, delay));\n\n      const canvas = document.createElement('canvas');\n      canvas.width = video.videoWidth;\n      canvas.height = video.videoHeight;\n      canvas.getContext('2d').drawImage(video, 0, 0);\n      stream.getVideoTracks()[0].stop();\n      video.remove();\n      return canvas.toDataURL('image/jpeg', quality);\n  }\n  ",
            "text/plain": [
              "<IPython.core.display.Javascript object>"
            ]
          },
          "metadata": {},
          "output_type": "display_data"
        },
        {
          "name": "stdout",
          "output_type": "stream",
          "text": [
            "\n",
            "0: 640x640 1 closedmouth, 1 face, 2 openeyes, 7.4ms\n",
            "Speed: 3.1ms preprocess, 7.4ms inference, 1.3ms postprocess per image at shape (1, 3, 640, 640)\n",
            "['face', 'openeye', 'closedmouth', 'openeye']\n",
            "[0.90175, 0.61118, 0.58626, 0.56346]\n"
          ]
        },
        {
          "data": {
            "application/javascript": "\n  async function takePhoto(quality, delay) {\n      const video = document.createElement('video');\n      video.style.display = 'block';\n      const stream = await navigator.mediaDevices.getUserMedia({video: true});\n\n      document.body.appendChild(video);\n      video.srcObject = stream;\n      await video.play();\n\n      // Wait for video to start, you can adjust the delay here\n      await new Promise(resolve => setTimeout(resolve, delay));\n\n      const canvas = document.createElement('canvas');\n      canvas.width = video.videoWidth;\n      canvas.height = video.videoHeight;\n      canvas.getContext('2d').drawImage(video, 0, 0);\n      stream.getVideoTracks()[0].stop();\n      video.remove();\n      return canvas.toDataURL('image/jpeg', quality);\n  }\n  ",
            "text/plain": [
              "<IPython.core.display.Javascript object>"
            ]
          },
          "metadata": {},
          "output_type": "display_data"
        },
        {
          "name": "stdout",
          "output_type": "stream",
          "text": [
            "\n",
            "0: 640x640 1 closedmouth, 1 face, 2 openeyes, 12.7ms\n",
            "Speed: 2.8ms preprocess, 12.7ms inference, 1.9ms postprocess per image at shape (1, 3, 640, 640)\n",
            "['face', 'openeye', 'closedmouth', 'openeye']\n",
            "[0.86674, 0.59657, 0.58869, 0.57267]\n"
          ]
        },
        {
          "data": {
            "application/javascript": "\n  async function takePhoto(quality, delay) {\n      const video = document.createElement('video');\n      video.style.display = 'block';\n      const stream = await navigator.mediaDevices.getUserMedia({video: true});\n\n      document.body.appendChild(video);\n      video.srcObject = stream;\n      await video.play();\n\n      // Wait for video to start, you can adjust the delay here\n      await new Promise(resolve => setTimeout(resolve, delay));\n\n      const canvas = document.createElement('canvas');\n      canvas.width = video.videoWidth;\n      canvas.height = video.videoHeight;\n      canvas.getContext('2d').drawImage(video, 0, 0);\n      stream.getVideoTracks()[0].stop();\n      video.remove();\n      return canvas.toDataURL('image/jpeg', quality);\n  }\n  ",
            "text/plain": [
              "<IPython.core.display.Javascript object>"
            ]
          },
          "metadata": {},
          "output_type": "display_data"
        },
        {
          "name": "stdout",
          "output_type": "stream",
          "text": [
            "\n",
            "0: 640x640 1 closedmouth, 1 face, 2 openeyes, 7.4ms\n",
            "Speed: 2.4ms preprocess, 7.4ms inference, 1.3ms postprocess per image at shape (1, 3, 640, 640)\n",
            "['face', 'openeye', 'closedmouth', 'openeye']\n",
            "[0.89252, 0.58088, 0.52795, 0.52209]\n"
          ]
        },
        {
          "data": {
            "application/javascript": "\n  async function takePhoto(quality, delay) {\n      const video = document.createElement('video');\n      video.style.display = 'block';\n      const stream = await navigator.mediaDevices.getUserMedia({video: true});\n\n      document.body.appendChild(video);\n      video.srcObject = stream;\n      await video.play();\n\n      // Wait for video to start, you can adjust the delay here\n      await new Promise(resolve => setTimeout(resolve, delay));\n\n      const canvas = document.createElement('canvas');\n      canvas.width = video.videoWidth;\n      canvas.height = video.videoHeight;\n      canvas.getContext('2d').drawImage(video, 0, 0);\n      stream.getVideoTracks()[0].stop();\n      video.remove();\n      return canvas.toDataURL('image/jpeg', quality);\n  }\n  ",
            "text/plain": [
              "<IPython.core.display.Javascript object>"
            ]
          },
          "metadata": {},
          "output_type": "display_data"
        },
        {
          "name": "stdout",
          "output_type": "stream",
          "text": [
            "\n",
            "0: 640x640 1 face, 3 openeyes, 1 openmouth, 12.6ms\n",
            "Speed: 1.9ms preprocess, 12.6ms inference, 1.8ms postprocess per image at shape (1, 3, 640, 640)\n",
            "['face', 'openeye', 'openmouth', 'openeye', 'openeye']\n",
            "[0.89991, 0.5662, 0.55503, 0.54392, 0.26627]\n"
          ]
        },
        {
          "data": {
            "application/javascript": "\n  async function takePhoto(quality, delay) {\n      const video = document.createElement('video');\n      video.style.display = 'block';\n      const stream = await navigator.mediaDevices.getUserMedia({video: true});\n\n      document.body.appendChild(video);\n      video.srcObject = stream;\n      await video.play();\n\n      // Wait for video to start, you can adjust the delay here\n      await new Promise(resolve => setTimeout(resolve, delay));\n\n      const canvas = document.createElement('canvas');\n      canvas.width = video.videoWidth;\n      canvas.height = video.videoHeight;\n      canvas.getContext('2d').drawImage(video, 0, 0);\n      stream.getVideoTracks()[0].stop();\n      video.remove();\n      return canvas.toDataURL('image/jpeg', quality);\n  }\n  ",
            "text/plain": [
              "<IPython.core.display.Javascript object>"
            ]
          },
          "metadata": {},
          "output_type": "display_data"
        },
        {
          "name": "stdout",
          "output_type": "stream",
          "text": [
            "\n",
            "0: 640x640 2 closedmouths, 1 face, 2 openeyes, 7.7ms\n",
            "Speed: 2.3ms preprocess, 7.7ms inference, 1.3ms postprocess per image at shape (1, 3, 640, 640)\n",
            "['face', 'openeye', 'openeye', 'closedmouth', 'closedmouth']\n",
            "[0.87738, 0.58658, 0.55746, 0.53306, 0.25675]\n"
          ]
        },
        {
          "data": {
            "application/javascript": "\n  async function takePhoto(quality, delay) {\n      const video = document.createElement('video');\n      video.style.display = 'block';\n      const stream = await navigator.mediaDevices.getUserMedia({video: true});\n\n      document.body.appendChild(video);\n      video.srcObject = stream;\n      await video.play();\n\n      // Wait for video to start, you can adjust the delay here\n      await new Promise(resolve => setTimeout(resolve, delay));\n\n      const canvas = document.createElement('canvas');\n      canvas.width = video.videoWidth;\n      canvas.height = video.videoHeight;\n      canvas.getContext('2d').drawImage(video, 0, 0);\n      stream.getVideoTracks()[0].stop();\n      video.remove();\n      return canvas.toDataURL('image/jpeg', quality);\n  }\n  ",
            "text/plain": [
              "<IPython.core.display.Javascript object>"
            ]
          },
          "metadata": {},
          "output_type": "display_data"
        },
        {
          "name": "stdout",
          "output_type": "stream",
          "text": [
            "\n",
            "0: 640x640 2 closedmouths, 1 face, 2 openeyes, 14.2ms\n",
            "Speed: 1.9ms preprocess, 14.2ms inference, 1.9ms postprocess per image at shape (1, 3, 640, 640)\n",
            "['face', 'closedmouth', 'openeye', 'openeye', 'closedmouth']\n",
            "[0.88389, 0.59099, 0.58063, 0.57697, 0.32603]\n"
          ]
        },
        {
          "data": {
            "application/javascript": "\n  async function takePhoto(quality, delay) {\n      const video = document.createElement('video');\n      video.style.display = 'block';\n      const stream = await navigator.mediaDevices.getUserMedia({video: true});\n\n      document.body.appendChild(video);\n      video.srcObject = stream;\n      await video.play();\n\n      // Wait for video to start, you can adjust the delay here\n      await new Promise(resolve => setTimeout(resolve, delay));\n\n      const canvas = document.createElement('canvas');\n      canvas.width = video.videoWidth;\n      canvas.height = video.videoHeight;\n      canvas.getContext('2d').drawImage(video, 0, 0);\n      stream.getVideoTracks()[0].stop();\n      video.remove();\n      return canvas.toDataURL('image/jpeg', quality);\n  }\n  ",
            "text/plain": [
              "<IPython.core.display.Javascript object>"
            ]
          },
          "metadata": {},
          "output_type": "display_data"
        },
        {
          "name": "stdout",
          "output_type": "stream",
          "text": [
            "\n",
            "0: 640x640 1 closedmouth, 1 face, 2 openeyes, 12.1ms\n",
            "Speed: 1.8ms preprocess, 12.1ms inference, 2.0ms postprocess per image at shape (1, 3, 640, 640)\n",
            "['face', 'closedmouth', 'openeye', 'openeye']\n",
            "[0.89158, 0.59709, 0.57368, 0.56905]\n"
          ]
        },
        {
          "data": {
            "application/javascript": "\n  async function takePhoto(quality, delay) {\n      const video = document.createElement('video');\n      video.style.display = 'block';\n      const stream = await navigator.mediaDevices.getUserMedia({video: true});\n\n      document.body.appendChild(video);\n      video.srcObject = stream;\n      await video.play();\n\n      // Wait for video to start, you can adjust the delay here\n      await new Promise(resolve => setTimeout(resolve, delay));\n\n      const canvas = document.createElement('canvas');\n      canvas.width = video.videoWidth;\n      canvas.height = video.videoHeight;\n      canvas.getContext('2d').drawImage(video, 0, 0);\n      stream.getVideoTracks()[0].stop();\n      video.remove();\n      return canvas.toDataURL('image/jpeg', quality);\n  }\n  ",
            "text/plain": [
              "<IPython.core.display.Javascript object>"
            ]
          },
          "metadata": {},
          "output_type": "display_data"
        },
        {
          "name": "stdout",
          "output_type": "stream",
          "text": [
            "\n",
            "0: 640x640 1 closedmouth, 1 face, 2 openeyes, 8.2ms\n",
            "Speed: 1.9ms preprocess, 8.2ms inference, 1.4ms postprocess per image at shape (1, 3, 640, 640)\n",
            "['face', 'openeye', 'openeye', 'closedmouth']\n",
            "[0.87722, 0.57103, 0.54821, 0.52455]\n"
          ]
        },
        {
          "data": {
            "application/javascript": "\n  async function takePhoto(quality, delay) {\n      const video = document.createElement('video');\n      video.style.display = 'block';\n      const stream = await navigator.mediaDevices.getUserMedia({video: true});\n\n      document.body.appendChild(video);\n      video.srcObject = stream;\n      await video.play();\n\n      // Wait for video to start, you can adjust the delay here\n      await new Promise(resolve => setTimeout(resolve, delay));\n\n      const canvas = document.createElement('canvas');\n      canvas.width = video.videoWidth;\n      canvas.height = video.videoHeight;\n      canvas.getContext('2d').drawImage(video, 0, 0);\n      stream.getVideoTracks()[0].stop();\n      video.remove();\n      return canvas.toDataURL('image/jpeg', quality);\n  }\n  ",
            "text/plain": [
              "<IPython.core.display.Javascript object>"
            ]
          },
          "metadata": {},
          "output_type": "display_data"
        },
        {
          "name": "stdout",
          "output_type": "stream",
          "text": [
            "\n",
            "0: 640x640 1 closedmouth, 1 face, 2 openeyes, 8.2ms\n",
            "Speed: 2.0ms preprocess, 8.2ms inference, 1.3ms postprocess per image at shape (1, 3, 640, 640)\n",
            "['face', 'openeye', 'closedmouth', 'openeye']\n",
            "[0.88156, 0.61529, 0.55428, 0.5456]\n"
          ]
        },
        {
          "data": {
            "application/javascript": "\n  async function takePhoto(quality, delay) {\n      const video = document.createElement('video');\n      video.style.display = 'block';\n      const stream = await navigator.mediaDevices.getUserMedia({video: true});\n\n      document.body.appendChild(video);\n      video.srcObject = stream;\n      await video.play();\n\n      // Wait for video to start, you can adjust the delay here\n      await new Promise(resolve => setTimeout(resolve, delay));\n\n      const canvas = document.createElement('canvas');\n      canvas.width = video.videoWidth;\n      canvas.height = video.videoHeight;\n      canvas.getContext('2d').drawImage(video, 0, 0);\n      stream.getVideoTracks()[0].stop();\n      video.remove();\n      return canvas.toDataURL('image/jpeg', quality);\n  }\n  ",
            "text/plain": [
              "<IPython.core.display.Javascript object>"
            ]
          },
          "metadata": {},
          "output_type": "display_data"
        },
        {
          "name": "stdout",
          "output_type": "stream",
          "text": [
            "\n",
            "0: 640x640 2 closedmouths, 1 face, 2 openeyes, 8.2ms\n",
            "Speed: 2.2ms preprocess, 8.2ms inference, 1.3ms postprocess per image at shape (1, 3, 640, 640)\n",
            "['face', 'closedmouth', 'openeye', 'openeye', 'closedmouth']\n",
            "[0.87265, 0.58894, 0.56947, 0.56001, 0.30221]\n"
          ]
        },
        {
          "data": {
            "application/javascript": "\n  async function takePhoto(quality, delay) {\n      const video = document.createElement('video');\n      video.style.display = 'block';\n      const stream = await navigator.mediaDevices.getUserMedia({video: true});\n\n      document.body.appendChild(video);\n      video.srcObject = stream;\n      await video.play();\n\n      // Wait for video to start, you can adjust the delay here\n      await new Promise(resolve => setTimeout(resolve, delay));\n\n      const canvas = document.createElement('canvas');\n      canvas.width = video.videoWidth;\n      canvas.height = video.videoHeight;\n      canvas.getContext('2d').drawImage(video, 0, 0);\n      stream.getVideoTracks()[0].stop();\n      video.remove();\n      return canvas.toDataURL('image/jpeg', quality);\n  }\n  ",
            "text/plain": [
              "<IPython.core.display.Javascript object>"
            ]
          },
          "metadata": {},
          "output_type": "display_data"
        },
        {
          "name": "stdout",
          "output_type": "stream",
          "text": [
            "\n",
            "0: 640x640 2 closedmouths, 1 face, 2 openeyes, 9.3ms\n",
            "Speed: 2.2ms preprocess, 9.3ms inference, 1.4ms postprocess per image at shape (1, 3, 640, 640)\n",
            "['face', 'openeye', 'openeye', 'closedmouth', 'closedmouth']\n",
            "[0.88403, 0.65528, 0.54176, 0.53892, 0.2915]\n"
          ]
        },
        {
          "data": {
            "application/javascript": "\n  async function takePhoto(quality, delay) {\n      const video = document.createElement('video');\n      video.style.display = 'block';\n      const stream = await navigator.mediaDevices.getUserMedia({video: true});\n\n      document.body.appendChild(video);\n      video.srcObject = stream;\n      await video.play();\n\n      // Wait for video to start, you can adjust the delay here\n      await new Promise(resolve => setTimeout(resolve, delay));\n\n      const canvas = document.createElement('canvas');\n      canvas.width = video.videoWidth;\n      canvas.height = video.videoHeight;\n      canvas.getContext('2d').drawImage(video, 0, 0);\n      stream.getVideoTracks()[0].stop();\n      video.remove();\n      return canvas.toDataURL('image/jpeg', quality);\n  }\n  ",
            "text/plain": [
              "<IPython.core.display.Javascript object>"
            ]
          },
          "metadata": {},
          "output_type": "display_data"
        },
        {
          "name": "stdout",
          "output_type": "stream",
          "text": [
            "\n",
            "0: 640x640 1 closedmouth, 1 face, 2 openeyes, 8.5ms\n",
            "Speed: 2.9ms preprocess, 8.5ms inference, 1.4ms postprocess per image at shape (1, 3, 640, 640)\n",
            "['face', 'openeye', 'openeye', 'closedmouth']\n",
            "[0.89634, 0.59533, 0.5922, 0.51282]\n"
          ]
        },
        {
          "data": {
            "application/javascript": "\n  async function takePhoto(quality, delay) {\n      const video = document.createElement('video');\n      video.style.display = 'block';\n      const stream = await navigator.mediaDevices.getUserMedia({video: true});\n\n      document.body.appendChild(video);\n      video.srcObject = stream;\n      await video.play();\n\n      // Wait for video to start, you can adjust the delay here\n      await new Promise(resolve => setTimeout(resolve, delay));\n\n      const canvas = document.createElement('canvas');\n      canvas.width = video.videoWidth;\n      canvas.height = video.videoHeight;\n      canvas.getContext('2d').drawImage(video, 0, 0);\n      stream.getVideoTracks()[0].stop();\n      video.remove();\n      return canvas.toDataURL('image/jpeg', quality);\n  }\n  ",
            "text/plain": [
              "<IPython.core.display.Javascript object>"
            ]
          },
          "metadata": {},
          "output_type": "display_data"
        },
        {
          "name": "stdout",
          "output_type": "stream",
          "text": [
            "\n",
            "0: 640x640 1 closedmouth, 1 face, 2 openeyes, 7.4ms\n",
            "Speed: 1.9ms preprocess, 7.4ms inference, 1.3ms postprocess per image at shape (1, 3, 640, 640)\n",
            "['face', 'openeye', 'openeye', 'closedmouth']\n",
            "[0.90551, 0.55713, 0.54947, 0.54006]\n"
          ]
        },
        {
          "data": {
            "application/javascript": "\n  async function takePhoto(quality, delay) {\n      const video = document.createElement('video');\n      video.style.display = 'block';\n      const stream = await navigator.mediaDevices.getUserMedia({video: true});\n\n      document.body.appendChild(video);\n      video.srcObject = stream;\n      await video.play();\n\n      // Wait for video to start, you can adjust the delay here\n      await new Promise(resolve => setTimeout(resolve, delay));\n\n      const canvas = document.createElement('canvas');\n      canvas.width = video.videoWidth;\n      canvas.height = video.videoHeight;\n      canvas.getContext('2d').drawImage(video, 0, 0);\n      stream.getVideoTracks()[0].stop();\n      video.remove();\n      return canvas.toDataURL('image/jpeg', quality);\n  }\n  ",
            "text/plain": [
              "<IPython.core.display.Javascript object>"
            ]
          },
          "metadata": {},
          "output_type": "display_data"
        },
        {
          "name": "stdout",
          "output_type": "stream",
          "text": [
            "\n",
            "0: 640x640 1 closedmouth, 1 face, 2 openeyes, 7.6ms\n",
            "Speed: 2.5ms preprocess, 7.6ms inference, 1.3ms postprocess per image at shape (1, 3, 640, 640)\n",
            "['face', 'openeye', 'openeye', 'closedmouth']\n",
            "[0.87326, 0.55185, 0.54955, 0.54214]\n"
          ]
        },
        {
          "data": {
            "application/javascript": "\n  async function takePhoto(quality, delay) {\n      const video = document.createElement('video');\n      video.style.display = 'block';\n      const stream = await navigator.mediaDevices.getUserMedia({video: true});\n\n      document.body.appendChild(video);\n      video.srcObject = stream;\n      await video.play();\n\n      // Wait for video to start, you can adjust the delay here\n      await new Promise(resolve => setTimeout(resolve, delay));\n\n      const canvas = document.createElement('canvas');\n      canvas.width = video.videoWidth;\n      canvas.height = video.videoHeight;\n      canvas.getContext('2d').drawImage(video, 0, 0);\n      stream.getVideoTracks()[0].stop();\n      video.remove();\n      return canvas.toDataURL('image/jpeg', quality);\n  }\n  ",
            "text/plain": [
              "<IPython.core.display.Javascript object>"
            ]
          },
          "metadata": {},
          "output_type": "display_data"
        },
        {
          "name": "stdout",
          "output_type": "stream",
          "text": [
            "\n",
            "0: 640x640 2 closedmouths, 1 face, 3 openeyes, 7.9ms\n",
            "Speed: 2.0ms preprocess, 7.9ms inference, 1.3ms postprocess per image at shape (1, 3, 640, 640)\n",
            "['face', 'openeye', 'closedmouth', 'openeye', 'openeye', 'closedmouth']\n",
            "[0.88805, 0.58241, 0.55906, 0.54452, 0.30394, 0.298]\n"
          ]
        },
        {
          "data": {
            "application/javascript": "\n  async function takePhoto(quality, delay) {\n      const video = document.createElement('video');\n      video.style.display = 'block';\n      const stream = await navigator.mediaDevices.getUserMedia({video: true});\n\n      document.body.appendChild(video);\n      video.srcObject = stream;\n      await video.play();\n\n      // Wait for video to start, you can adjust the delay here\n      await new Promise(resolve => setTimeout(resolve, delay));\n\n      const canvas = document.createElement('canvas');\n      canvas.width = video.videoWidth;\n      canvas.height = video.videoHeight;\n      canvas.getContext('2d').drawImage(video, 0, 0);\n      stream.getVideoTracks()[0].stop();\n      video.remove();\n      return canvas.toDataURL('image/jpeg', quality);\n  }\n  ",
            "text/plain": [
              "<IPython.core.display.Javascript object>"
            ]
          },
          "metadata": {},
          "output_type": "display_data"
        },
        {
          "name": "stdout",
          "output_type": "stream",
          "text": [
            "\n",
            "0: 640x640 1 face, 2 openeyes, 1 openmouth, 8.4ms\n",
            "Speed: 1.7ms preprocess, 8.4ms inference, 1.8ms postprocess per image at shape (1, 3, 640, 640)\n",
            "['face', 'openeye', 'openeye', 'openmouth']\n",
            "[0.87785, 0.58235, 0.56282, 0.42557]\n"
          ]
        },
        {
          "data": {
            "application/javascript": "\n  async function takePhoto(quality, delay) {\n      const video = document.createElement('video');\n      video.style.display = 'block';\n      const stream = await navigator.mediaDevices.getUserMedia({video: true});\n\n      document.body.appendChild(video);\n      video.srcObject = stream;\n      await video.play();\n\n      // Wait for video to start, you can adjust the delay here\n      await new Promise(resolve => setTimeout(resolve, delay));\n\n      const canvas = document.createElement('canvas');\n      canvas.width = video.videoWidth;\n      canvas.height = video.videoHeight;\n      canvas.getContext('2d').drawImage(video, 0, 0);\n      stream.getVideoTracks()[0].stop();\n      video.remove();\n      return canvas.toDataURL('image/jpeg', quality);\n  }\n  ",
            "text/plain": [
              "<IPython.core.display.Javascript object>"
            ]
          },
          "metadata": {},
          "output_type": "display_data"
        },
        {
          "name": "stdout",
          "output_type": "stream",
          "text": [
            "\n",
            "0: 640x640 1 closedmouth, 1 face, 2 openeyes, 11.4ms\n",
            "Speed: 1.8ms preprocess, 11.4ms inference, 1.8ms postprocess per image at shape (1, 3, 640, 640)\n",
            "['face', 'closedmouth', 'openeye', 'openeye']\n",
            "[0.87966, 0.6013, 0.56469, 0.55482]\n"
          ]
        },
        {
          "data": {
            "application/javascript": "\n  async function takePhoto(quality, delay) {\n      const video = document.createElement('video');\n      video.style.display = 'block';\n      const stream = await navigator.mediaDevices.getUserMedia({video: true});\n\n      document.body.appendChild(video);\n      video.srcObject = stream;\n      await video.play();\n\n      // Wait for video to start, you can adjust the delay here\n      await new Promise(resolve => setTimeout(resolve, delay));\n\n      const canvas = document.createElement('canvas');\n      canvas.width = video.videoWidth;\n      canvas.height = video.videoHeight;\n      canvas.getContext('2d').drawImage(video, 0, 0);\n      stream.getVideoTracks()[0].stop();\n      video.remove();\n      return canvas.toDataURL('image/jpeg', quality);\n  }\n  ",
            "text/plain": [
              "<IPython.core.display.Javascript object>"
            ]
          },
          "metadata": {},
          "output_type": "display_data"
        },
        {
          "name": "stdout",
          "output_type": "stream",
          "text": [
            "\n",
            "0: 640x640 1 closedmouth, 1 face, 2 openeyes, 7.4ms\n",
            "Speed: 2.4ms preprocess, 7.4ms inference, 1.5ms postprocess per image at shape (1, 3, 640, 640)\n",
            "['face', 'openeye', 'closedmouth', 'openeye']\n",
            "[0.87467, 0.64154, 0.59472, 0.56495]\n"
          ]
        },
        {
          "data": {
            "application/javascript": "\n  async function takePhoto(quality, delay) {\n      const video = document.createElement('video');\n      video.style.display = 'block';\n      const stream = await navigator.mediaDevices.getUserMedia({video: true});\n\n      document.body.appendChild(video);\n      video.srcObject = stream;\n      await video.play();\n\n      // Wait for video to start, you can adjust the delay here\n      await new Promise(resolve => setTimeout(resolve, delay));\n\n      const canvas = document.createElement('canvas');\n      canvas.width = video.videoWidth;\n      canvas.height = video.videoHeight;\n      canvas.getContext('2d').drawImage(video, 0, 0);\n      stream.getVideoTracks()[0].stop();\n      video.remove();\n      return canvas.toDataURL('image/jpeg', quality);\n  }\n  ",
            "text/plain": [
              "<IPython.core.display.Javascript object>"
            ]
          },
          "metadata": {},
          "output_type": "display_data"
        },
        {
          "name": "stdout",
          "output_type": "stream",
          "text": [
            "\n",
            "0: 640x640 1 closedmouth, 1 face, 2 openeyes, 9.4ms\n",
            "Speed: 1.8ms preprocess, 9.4ms inference, 1.5ms postprocess per image at shape (1, 3, 640, 640)\n",
            "['face', 'openeye', 'openeye', 'closedmouth']\n",
            "[0.88625, 0.60939, 0.59239, 0.51564]\n"
          ]
        },
        {
          "data": {
            "application/javascript": "\n  async function takePhoto(quality, delay) {\n      const video = document.createElement('video');\n      video.style.display = 'block';\n      const stream = await navigator.mediaDevices.getUserMedia({video: true});\n\n      document.body.appendChild(video);\n      video.srcObject = stream;\n      await video.play();\n\n      // Wait for video to start, you can adjust the delay here\n      await new Promise(resolve => setTimeout(resolve, delay));\n\n      const canvas = document.createElement('canvas');\n      canvas.width = video.videoWidth;\n      canvas.height = video.videoHeight;\n      canvas.getContext('2d').drawImage(video, 0, 0);\n      stream.getVideoTracks()[0].stop();\n      video.remove();\n      return canvas.toDataURL('image/jpeg', quality);\n  }\n  ",
            "text/plain": [
              "<IPython.core.display.Javascript object>"
            ]
          },
          "metadata": {},
          "output_type": "display_data"
        },
        {
          "name": "stdout",
          "output_type": "stream",
          "text": [
            "\n",
            "0: 640x640 1 closedmouth, 1 face, 2 openeyes, 8.6ms\n",
            "Speed: 1.8ms preprocess, 8.6ms inference, 1.7ms postprocess per image at shape (1, 3, 640, 640)\n",
            "['face', 'openeye', 'closedmouth', 'openeye']\n",
            "[0.87371, 0.63078, 0.6057, 0.58104]\n"
          ]
        },
        {
          "data": {
            "application/javascript": "\n  async function takePhoto(quality, delay) {\n      const video = document.createElement('video');\n      video.style.display = 'block';\n      const stream = await navigator.mediaDevices.getUserMedia({video: true});\n\n      document.body.appendChild(video);\n      video.srcObject = stream;\n      await video.play();\n\n      // Wait for video to start, you can adjust the delay here\n      await new Promise(resolve => setTimeout(resolve, delay));\n\n      const canvas = document.createElement('canvas');\n      canvas.width = video.videoWidth;\n      canvas.height = video.videoHeight;\n      canvas.getContext('2d').drawImage(video, 0, 0);\n      stream.getVideoTracks()[0].stop();\n      video.remove();\n      return canvas.toDataURL('image/jpeg', quality);\n  }\n  ",
            "text/plain": [
              "<IPython.core.display.Javascript object>"
            ]
          },
          "metadata": {},
          "output_type": "display_data"
        },
        {
          "name": "stdout",
          "output_type": "stream",
          "text": [
            "\n",
            "0: 640x640 2 closedmouths, 1 face, 2 openeyes, 8.1ms\n",
            "Speed: 2.9ms preprocess, 8.1ms inference, 1.3ms postprocess per image at shape (1, 3, 640, 640)\n",
            "['face', 'openeye', 'openeye', 'closedmouth', 'closedmouth']\n",
            "[0.87896, 0.63076, 0.60092, 0.51247, 0.25958]\n"
          ]
        },
        {
          "data": {
            "application/javascript": "\n  async function takePhoto(quality, delay) {\n      const video = document.createElement('video');\n      video.style.display = 'block';\n      const stream = await navigator.mediaDevices.getUserMedia({video: true});\n\n      document.body.appendChild(video);\n      video.srcObject = stream;\n      await video.play();\n\n      // Wait for video to start, you can adjust the delay here\n      await new Promise(resolve => setTimeout(resolve, delay));\n\n      const canvas = document.createElement('canvas');\n      canvas.width = video.videoWidth;\n      canvas.height = video.videoHeight;\n      canvas.getContext('2d').drawImage(video, 0, 0);\n      stream.getVideoTracks()[0].stop();\n      video.remove();\n      return canvas.toDataURL('image/jpeg', quality);\n  }\n  ",
            "text/plain": [
              "<IPython.core.display.Javascript object>"
            ]
          },
          "metadata": {},
          "output_type": "display_data"
        },
        {
          "name": "stdout",
          "output_type": "stream",
          "text": [
            "\n",
            "0: 640x640 1 closedmouth, 1 face, 2 openeyes, 7.4ms\n",
            "Speed: 1.7ms preprocess, 7.4ms inference, 1.3ms postprocess per image at shape (1, 3, 640, 640)\n",
            "['face', 'openeye', 'openeye', 'closedmouth']\n",
            "[0.88794, 0.60856, 0.53698, 0.50172]\n"
          ]
        },
        {
          "data": {
            "application/javascript": "\n  async function takePhoto(quality, delay) {\n      const video = document.createElement('video');\n      video.style.display = 'block';\n      const stream = await navigator.mediaDevices.getUserMedia({video: true});\n\n      document.body.appendChild(video);\n      video.srcObject = stream;\n      await video.play();\n\n      // Wait for video to start, you can adjust the delay here\n      await new Promise(resolve => setTimeout(resolve, delay));\n\n      const canvas = document.createElement('canvas');\n      canvas.width = video.videoWidth;\n      canvas.height = video.videoHeight;\n      canvas.getContext('2d').drawImage(video, 0, 0);\n      stream.getVideoTracks()[0].stop();\n      video.remove();\n      return canvas.toDataURL('image/jpeg', quality);\n  }\n  ",
            "text/plain": [
              "<IPython.core.display.Javascript object>"
            ]
          },
          "metadata": {},
          "output_type": "display_data"
        },
        {
          "name": "stdout",
          "output_type": "stream",
          "text": [
            "\n",
            "0: 640x640 1 closedmouth, 1 face, 2 openeyes, 8.9ms\n",
            "Speed: 2.0ms preprocess, 8.9ms inference, 1.3ms postprocess per image at shape (1, 3, 640, 640)\n",
            "['face', 'openeye', 'closedmouth', 'openeye']\n",
            "[0.89291, 0.61932, 0.59362, 0.55934]\n"
          ]
        },
        {
          "data": {
            "application/javascript": "\n  async function takePhoto(quality, delay) {\n      const video = document.createElement('video');\n      video.style.display = 'block';\n      const stream = await navigator.mediaDevices.getUserMedia({video: true});\n\n      document.body.appendChild(video);\n      video.srcObject = stream;\n      await video.play();\n\n      // Wait for video to start, you can adjust the delay here\n      await new Promise(resolve => setTimeout(resolve, delay));\n\n      const canvas = document.createElement('canvas');\n      canvas.width = video.videoWidth;\n      canvas.height = video.videoHeight;\n      canvas.getContext('2d').drawImage(video, 0, 0);\n      stream.getVideoTracks()[0].stop();\n      video.remove();\n      return canvas.toDataURL('image/jpeg', quality);\n  }\n  ",
            "text/plain": [
              "<IPython.core.display.Javascript object>"
            ]
          },
          "metadata": {},
          "output_type": "display_data"
        },
        {
          "name": "stdout",
          "output_type": "stream",
          "text": [
            "\n",
            "0: 640x640 1 closedmouth, 1 face, 3 openeyes, 7.9ms\n",
            "Speed: 2.5ms preprocess, 7.9ms inference, 1.3ms postprocess per image at shape (1, 3, 640, 640)\n",
            "['face', 'openeye', 'closedmouth', 'openeye', 'openeye']\n",
            "[0.89338, 0.5854, 0.57319, 0.56946, 0.27561]\n"
          ]
        },
        {
          "data": {
            "application/javascript": "\n  async function takePhoto(quality, delay) {\n      const video = document.createElement('video');\n      video.style.display = 'block';\n      const stream = await navigator.mediaDevices.getUserMedia({video: true});\n\n      document.body.appendChild(video);\n      video.srcObject = stream;\n      await video.play();\n\n      // Wait for video to start, you can adjust the delay here\n      await new Promise(resolve => setTimeout(resolve, delay));\n\n      const canvas = document.createElement('canvas');\n      canvas.width = video.videoWidth;\n      canvas.height = video.videoHeight;\n      canvas.getContext('2d').drawImage(video, 0, 0);\n      stream.getVideoTracks()[0].stop();\n      video.remove();\n      return canvas.toDataURL('image/jpeg', quality);\n  }\n  ",
            "text/plain": [
              "<IPython.core.display.Javascript object>"
            ]
          },
          "metadata": {},
          "output_type": "display_data"
        },
        {
          "name": "stdout",
          "output_type": "stream",
          "text": [
            "\n",
            "0: 640x640 1 face, 2 openeyes, 1 openmouth, 8.5ms\n",
            "Speed: 2.0ms preprocess, 8.5ms inference, 1.3ms postprocess per image at shape (1, 3, 640, 640)\n",
            "['face', 'openeye', 'openeye', 'openmouth']\n",
            "[0.88719, 0.59826, 0.56719, 0.48633]\n"
          ]
        },
        {
          "data": {
            "application/javascript": "\n  async function takePhoto(quality, delay) {\n      const video = document.createElement('video');\n      video.style.display = 'block';\n      const stream = await navigator.mediaDevices.getUserMedia({video: true});\n\n      document.body.appendChild(video);\n      video.srcObject = stream;\n      await video.play();\n\n      // Wait for video to start, you can adjust the delay here\n      await new Promise(resolve => setTimeout(resolve, delay));\n\n      const canvas = document.createElement('canvas');\n      canvas.width = video.videoWidth;\n      canvas.height = video.videoHeight;\n      canvas.getContext('2d').drawImage(video, 0, 0);\n      stream.getVideoTracks()[0].stop();\n      video.remove();\n      return canvas.toDataURL('image/jpeg', quality);\n  }\n  ",
            "text/plain": [
              "<IPython.core.display.Javascript object>"
            ]
          },
          "metadata": {},
          "output_type": "display_data"
        },
        {
          "name": "stdout",
          "output_type": "stream",
          "text": [
            "\n",
            "0: 640x640 1 closedmouth, 1 face, 2 openeyes, 15.6ms\n",
            "Speed: 1.9ms preprocess, 15.6ms inference, 2.0ms postprocess per image at shape (1, 3, 640, 640)\n",
            "['face', 'closedmouth', 'openeye', 'openeye']\n",
            "[0.85617, 0.65213, 0.55427, 0.52276]\n"
          ]
        },
        {
          "data": {
            "application/javascript": "\n  async function takePhoto(quality, delay) {\n      const video = document.createElement('video');\n      video.style.display = 'block';\n      const stream = await navigator.mediaDevices.getUserMedia({video: true});\n\n      document.body.appendChild(video);\n      video.srcObject = stream;\n      await video.play();\n\n      // Wait for video to start, you can adjust the delay here\n      await new Promise(resolve => setTimeout(resolve, delay));\n\n      const canvas = document.createElement('canvas');\n      canvas.width = video.videoWidth;\n      canvas.height = video.videoHeight;\n      canvas.getContext('2d').drawImage(video, 0, 0);\n      stream.getVideoTracks()[0].stop();\n      video.remove();\n      return canvas.toDataURL('image/jpeg', quality);\n  }\n  ",
            "text/plain": [
              "<IPython.core.display.Javascript object>"
            ]
          },
          "metadata": {},
          "output_type": "display_data"
        },
        {
          "name": "stdout",
          "output_type": "stream",
          "text": [
            "\n",
            "0: 640x640 1 closedmouth, 1 face, 2 openeyes, 13.4ms\n",
            "Speed: 5.0ms preprocess, 13.4ms inference, 3.8ms postprocess per image at shape (1, 3, 640, 640)\n",
            "['face', 'closedmouth', 'openeye', 'openeye']\n",
            "[0.8787, 0.60095, 0.60081, 0.59587]\n"
          ]
        },
        {
          "data": {
            "application/javascript": "\n  async function takePhoto(quality, delay) {\n      const video = document.createElement('video');\n      video.style.display = 'block';\n      const stream = await navigator.mediaDevices.getUserMedia({video: true});\n\n      document.body.appendChild(video);\n      video.srcObject = stream;\n      await video.play();\n\n      // Wait for video to start, you can adjust the delay here\n      await new Promise(resolve => setTimeout(resolve, delay));\n\n      const canvas = document.createElement('canvas');\n      canvas.width = video.videoWidth;\n      canvas.height = video.videoHeight;\n      canvas.getContext('2d').drawImage(video, 0, 0);\n      stream.getVideoTracks()[0].stop();\n      video.remove();\n      return canvas.toDataURL('image/jpeg', quality);\n  }\n  ",
            "text/plain": [
              "<IPython.core.display.Javascript object>"
            ]
          },
          "metadata": {},
          "output_type": "display_data"
        },
        {
          "name": "stdout",
          "output_type": "stream",
          "text": [
            "\n",
            "0: 640x640 1 closedmouth, 1 face, 2 openeyes, 8.6ms\n",
            "Speed: 2.0ms preprocess, 8.6ms inference, 1.3ms postprocess per image at shape (1, 3, 640, 640)\n",
            "['face', 'openeye', 'closedmouth', 'openeye']\n",
            "[0.88798, 0.5471, 0.54443, 0.52784]\n"
          ]
        },
        {
          "data": {
            "application/javascript": "\n  async function takePhoto(quality, delay) {\n      const video = document.createElement('video');\n      video.style.display = 'block';\n      const stream = await navigator.mediaDevices.getUserMedia({video: true});\n\n      document.body.appendChild(video);\n      video.srcObject = stream;\n      await video.play();\n\n      // Wait for video to start, you can adjust the delay here\n      await new Promise(resolve => setTimeout(resolve, delay));\n\n      const canvas = document.createElement('canvas');\n      canvas.width = video.videoWidth;\n      canvas.height = video.videoHeight;\n      canvas.getContext('2d').drawImage(video, 0, 0);\n      stream.getVideoTracks()[0].stop();\n      video.remove();\n      return canvas.toDataURL('image/jpeg', quality);\n  }\n  ",
            "text/plain": [
              "<IPython.core.display.Javascript object>"
            ]
          },
          "metadata": {},
          "output_type": "display_data"
        },
        {
          "name": "stdout",
          "output_type": "stream",
          "text": [
            "\n",
            "0: 640x640 1 closedmouth, 1 face, 2 openeyes, 8.4ms\n",
            "Speed: 2.1ms preprocess, 8.4ms inference, 1.3ms postprocess per image at shape (1, 3, 640, 640)\n",
            "['face', 'openeye', 'openeye', 'closedmouth']\n",
            "[0.89751, 0.62556, 0.61738, 0.53345]\n"
          ]
        },
        {
          "data": {
            "application/javascript": "\n  async function takePhoto(quality, delay) {\n      const video = document.createElement('video');\n      video.style.display = 'block';\n      const stream = await navigator.mediaDevices.getUserMedia({video: true});\n\n      document.body.appendChild(video);\n      video.srcObject = stream;\n      await video.play();\n\n      // Wait for video to start, you can adjust the delay here\n      await new Promise(resolve => setTimeout(resolve, delay));\n\n      const canvas = document.createElement('canvas');\n      canvas.width = video.videoWidth;\n      canvas.height = video.videoHeight;\n      canvas.getContext('2d').drawImage(video, 0, 0);\n      stream.getVideoTracks()[0].stop();\n      video.remove();\n      return canvas.toDataURL('image/jpeg', quality);\n  }\n  ",
            "text/plain": [
              "<IPython.core.display.Javascript object>"
            ]
          },
          "metadata": {},
          "output_type": "display_data"
        },
        {
          "name": "stdout",
          "output_type": "stream",
          "text": [
            "\n",
            "0: 640x640 2 closedmouths, 1 face, 2 openeyes, 8.0ms\n",
            "Speed: 1.8ms preprocess, 8.0ms inference, 1.3ms postprocess per image at shape (1, 3, 640, 640)\n",
            "['face', 'openeye', 'openeye', 'closedmouth', 'closedmouth']\n",
            "[0.89076, 0.6985, 0.60559, 0.54138, 0.32029]\n"
          ]
        },
        {
          "data": {
            "application/javascript": "\n  async function takePhoto(quality, delay) {\n      const video = document.createElement('video');\n      video.style.display = 'block';\n      const stream = await navigator.mediaDevices.getUserMedia({video: true});\n\n      document.body.appendChild(video);\n      video.srcObject = stream;\n      await video.play();\n\n      // Wait for video to start, you can adjust the delay here\n      await new Promise(resolve => setTimeout(resolve, delay));\n\n      const canvas = document.createElement('canvas');\n      canvas.width = video.videoWidth;\n      canvas.height = video.videoHeight;\n      canvas.getContext('2d').drawImage(video, 0, 0);\n      stream.getVideoTracks()[0].stop();\n      video.remove();\n      return canvas.toDataURL('image/jpeg', quality);\n  }\n  ",
            "text/plain": [
              "<IPython.core.display.Javascript object>"
            ]
          },
          "metadata": {},
          "output_type": "display_data"
        },
        {
          "name": "stdout",
          "output_type": "stream",
          "text": [
            "\n",
            "0: 640x640 2 closedmouths, 1 face, 2 openeyes, 11.1ms\n",
            "Speed: 2.4ms preprocess, 11.1ms inference, 1.3ms postprocess per image at shape (1, 3, 640, 640)\n",
            "['face', 'openeye', 'openeye', 'closedmouth', 'closedmouth']\n",
            "[0.89339, 0.60714, 0.60514, 0.52098, 0.26937]\n"
          ]
        },
        {
          "data": {
            "application/javascript": "\n  async function takePhoto(quality, delay) {\n      const video = document.createElement('video');\n      video.style.display = 'block';\n      const stream = await navigator.mediaDevices.getUserMedia({video: true});\n\n      document.body.appendChild(video);\n      video.srcObject = stream;\n      await video.play();\n\n      // Wait for video to start, you can adjust the delay here\n      await new Promise(resolve => setTimeout(resolve, delay));\n\n      const canvas = document.createElement('canvas');\n      canvas.width = video.videoWidth;\n      canvas.height = video.videoHeight;\n      canvas.getContext('2d').drawImage(video, 0, 0);\n      stream.getVideoTracks()[0].stop();\n      video.remove();\n      return canvas.toDataURL('image/jpeg', quality);\n  }\n  ",
            "text/plain": [
              "<IPython.core.display.Javascript object>"
            ]
          },
          "metadata": {},
          "output_type": "display_data"
        },
        {
          "name": "stdout",
          "output_type": "stream",
          "text": [
            "\n",
            "0: 640x640 2 closedmouths, 1 face, 2 openeyes, 9.9ms\n",
            "Speed: 1.7ms preprocess, 9.9ms inference, 1.4ms postprocess per image at shape (1, 3, 640, 640)\n",
            "['face', 'openeye', 'openeye', 'closedmouth', 'closedmouth']\n",
            "[0.89109, 0.56592, 0.55049, 0.5355, 0.25151]\n"
          ]
        },
        {
          "data": {
            "application/javascript": "\n  async function takePhoto(quality, delay) {\n      const video = document.createElement('video');\n      video.style.display = 'block';\n      const stream = await navigator.mediaDevices.getUserMedia({video: true});\n\n      document.body.appendChild(video);\n      video.srcObject = stream;\n      await video.play();\n\n      // Wait for video to start, you can adjust the delay here\n      await new Promise(resolve => setTimeout(resolve, delay));\n\n      const canvas = document.createElement('canvas');\n      canvas.width = video.videoWidth;\n      canvas.height = video.videoHeight;\n      canvas.getContext('2d').drawImage(video, 0, 0);\n      stream.getVideoTracks()[0].stop();\n      video.remove();\n      return canvas.toDataURL('image/jpeg', quality);\n  }\n  ",
            "text/plain": [
              "<IPython.core.display.Javascript object>"
            ]
          },
          "metadata": {},
          "output_type": "display_data"
        },
        {
          "name": "stdout",
          "output_type": "stream",
          "text": [
            "\n",
            "0: 640x640 1 face, 2 openeyes, 1 openmouth, 7.6ms\n",
            "Speed: 2.8ms preprocess, 7.6ms inference, 1.3ms postprocess per image at shape (1, 3, 640, 640)\n",
            "['face', 'openeye', 'openeye', 'openmouth']\n",
            "[0.88447, 0.56017, 0.55085, 0.50644]\n"
          ]
        },
        {
          "data": {
            "application/javascript": "\n  async function takePhoto(quality, delay) {\n      const video = document.createElement('video');\n      video.style.display = 'block';\n      const stream = await navigator.mediaDevices.getUserMedia({video: true});\n\n      document.body.appendChild(video);\n      video.srcObject = stream;\n      await video.play();\n\n      // Wait for video to start, you can adjust the delay here\n      await new Promise(resolve => setTimeout(resolve, delay));\n\n      const canvas = document.createElement('canvas');\n      canvas.width = video.videoWidth;\n      canvas.height = video.videoHeight;\n      canvas.getContext('2d').drawImage(video, 0, 0);\n      stream.getVideoTracks()[0].stop();\n      video.remove();\n      return canvas.toDataURL('image/jpeg', quality);\n  }\n  ",
            "text/plain": [
              "<IPython.core.display.Javascript object>"
            ]
          },
          "metadata": {},
          "output_type": "display_data"
        },
        {
          "name": "stdout",
          "output_type": "stream",
          "text": [
            "\n",
            "0: 640x640 1 closedmouth, 1 face, 2 openeyes, 9.0ms\n",
            "Speed: 1.8ms preprocess, 9.0ms inference, 1.3ms postprocess per image at shape (1, 3, 640, 640)\n",
            "['face', 'openeye', 'openeye', 'closedmouth']\n",
            "[0.88854, 0.56332, 0.56332, 0.55529]\n"
          ]
        },
        {
          "data": {
            "application/javascript": "\n  async function takePhoto(quality, delay) {\n      const video = document.createElement('video');\n      video.style.display = 'block';\n      const stream = await navigator.mediaDevices.getUserMedia({video: true});\n\n      document.body.appendChild(video);\n      video.srcObject = stream;\n      await video.play();\n\n      // Wait for video to start, you can adjust the delay here\n      await new Promise(resolve => setTimeout(resolve, delay));\n\n      const canvas = document.createElement('canvas');\n      canvas.width = video.videoWidth;\n      canvas.height = video.videoHeight;\n      canvas.getContext('2d').drawImage(video, 0, 0);\n      stream.getVideoTracks()[0].stop();\n      video.remove();\n      return canvas.toDataURL('image/jpeg', quality);\n  }\n  ",
            "text/plain": [
              "<IPython.core.display.Javascript object>"
            ]
          },
          "metadata": {},
          "output_type": "display_data"
        },
        {
          "name": "stdout",
          "output_type": "stream",
          "text": [
            "\n",
            "0: 640x640 1 closedmouth, 1 face, 2 openeyes, 8.7ms\n",
            "Speed: 2.3ms preprocess, 8.7ms inference, 1.4ms postprocess per image at shape (1, 3, 640, 640)\n",
            "['face', 'closedmouth', 'openeye', 'openeye']\n",
            "[0.88906, 0.60563, 0.54992, 0.51034]\n"
          ]
        },
        {
          "data": {
            "application/javascript": "\n  async function takePhoto(quality, delay) {\n      const video = document.createElement('video');\n      video.style.display = 'block';\n      const stream = await navigator.mediaDevices.getUserMedia({video: true});\n\n      document.body.appendChild(video);\n      video.srcObject = stream;\n      await video.play();\n\n      // Wait for video to start, you can adjust the delay here\n      await new Promise(resolve => setTimeout(resolve, delay));\n\n      const canvas = document.createElement('canvas');\n      canvas.width = video.videoWidth;\n      canvas.height = video.videoHeight;\n      canvas.getContext('2d').drawImage(video, 0, 0);\n      stream.getVideoTracks()[0].stop();\n      video.remove();\n      return canvas.toDataURL('image/jpeg', quality);\n  }\n  ",
            "text/plain": [
              "<IPython.core.display.Javascript object>"
            ]
          },
          "metadata": {},
          "output_type": "display_data"
        },
        {
          "name": "stdout",
          "output_type": "stream",
          "text": [
            "\n",
            "0: 640x640 1 closedmouth, 1 face, 2 openeyes, 17.8ms\n",
            "Speed: 2.0ms preprocess, 17.8ms inference, 1.6ms postprocess per image at shape (1, 3, 640, 640)\n",
            "['face', 'openeye', 'openeye', 'closedmouth']\n",
            "[0.8855, 0.59652, 0.57493, 0.56955]\n"
          ]
        },
        {
          "data": {
            "application/javascript": "\n  async function takePhoto(quality, delay) {\n      const video = document.createElement('video');\n      video.style.display = 'block';\n      const stream = await navigator.mediaDevices.getUserMedia({video: true});\n\n      document.body.appendChild(video);\n      video.srcObject = stream;\n      await video.play();\n\n      // Wait for video to start, you can adjust the delay here\n      await new Promise(resolve => setTimeout(resolve, delay));\n\n      const canvas = document.createElement('canvas');\n      canvas.width = video.videoWidth;\n      canvas.height = video.videoHeight;\n      canvas.getContext('2d').drawImage(video, 0, 0);\n      stream.getVideoTracks()[0].stop();\n      video.remove();\n      return canvas.toDataURL('image/jpeg', quality);\n  }\n  ",
            "text/plain": [
              "<IPython.core.display.Javascript object>"
            ]
          },
          "metadata": {},
          "output_type": "display_data"
        },
        {
          "name": "stdout",
          "output_type": "stream",
          "text": [
            "\n",
            "0: 640x640 1 closedmouth, 1 face, 3 openeyes, 8.5ms\n",
            "Speed: 1.8ms preprocess, 8.5ms inference, 1.3ms postprocess per image at shape (1, 3, 640, 640)\n",
            "['face', 'openeye', 'openeye', 'closedmouth', 'openeye']\n",
            "[0.88856, 0.63071, 0.58162, 0.56076, 0.26821]\n"
          ]
        },
        {
          "data": {
            "application/javascript": "\n  async function takePhoto(quality, delay) {\n      const video = document.createElement('video');\n      video.style.display = 'block';\n      const stream = await navigator.mediaDevices.getUserMedia({video: true});\n\n      document.body.appendChild(video);\n      video.srcObject = stream;\n      await video.play();\n\n      // Wait for video to start, you can adjust the delay here\n      await new Promise(resolve => setTimeout(resolve, delay));\n\n      const canvas = document.createElement('canvas');\n      canvas.width = video.videoWidth;\n      canvas.height = video.videoHeight;\n      canvas.getContext('2d').drawImage(video, 0, 0);\n      stream.getVideoTracks()[0].stop();\n      video.remove();\n      return canvas.toDataURL('image/jpeg', quality);\n  }\n  ",
            "text/plain": [
              "<IPython.core.display.Javascript object>"
            ]
          },
          "metadata": {},
          "output_type": "display_data"
        },
        {
          "name": "stdout",
          "output_type": "stream",
          "text": [
            "\n",
            "0: 640x640 1 closedmouth, 1 face, 3 openeyes, 8.5ms\n",
            "Speed: 1.8ms preprocess, 8.5ms inference, 1.3ms postprocess per image at shape (1, 3, 640, 640)\n",
            "['face', 'closedmouth', 'openeye', 'openeye', 'openeye']\n",
            "[0.88672, 0.61085, 0.58606, 0.56658, 0.27877]\n"
          ]
        },
        {
          "data": {
            "application/javascript": "\n  async function takePhoto(quality, delay) {\n      const video = document.createElement('video');\n      video.style.display = 'block';\n      const stream = await navigator.mediaDevices.getUserMedia({video: true});\n\n      document.body.appendChild(video);\n      video.srcObject = stream;\n      await video.play();\n\n      // Wait for video to start, you can adjust the delay here\n      await new Promise(resolve => setTimeout(resolve, delay));\n\n      const canvas = document.createElement('canvas');\n      canvas.width = video.videoWidth;\n      canvas.height = video.videoHeight;\n      canvas.getContext('2d').drawImage(video, 0, 0);\n      stream.getVideoTracks()[0].stop();\n      video.remove();\n      return canvas.toDataURL('image/jpeg', quality);\n  }\n  ",
            "text/plain": [
              "<IPython.core.display.Javascript object>"
            ]
          },
          "metadata": {},
          "output_type": "display_data"
        },
        {
          "name": "stdout",
          "output_type": "stream",
          "text": [
            "\n",
            "0: 640x640 1 closedmouth, 1 face, 2 openeyes, 8.4ms\n",
            "Speed: 1.9ms preprocess, 8.4ms inference, 1.3ms postprocess per image at shape (1, 3, 640, 640)\n",
            "['face', 'openeye', 'openeye', 'closedmouth']\n",
            "[0.88672, 0.59857, 0.55241, 0.43393]\n"
          ]
        },
        {
          "data": {
            "application/javascript": "\n  async function takePhoto(quality, delay) {\n      const video = document.createElement('video');\n      video.style.display = 'block';\n      const stream = await navigator.mediaDevices.getUserMedia({video: true});\n\n      document.body.appendChild(video);\n      video.srcObject = stream;\n      await video.play();\n\n      // Wait for video to start, you can adjust the delay here\n      await new Promise(resolve => setTimeout(resolve, delay));\n\n      const canvas = document.createElement('canvas');\n      canvas.width = video.videoWidth;\n      canvas.height = video.videoHeight;\n      canvas.getContext('2d').drawImage(video, 0, 0);\n      stream.getVideoTracks()[0].stop();\n      video.remove();\n      return canvas.toDataURL('image/jpeg', quality);\n  }\n  ",
            "text/plain": [
              "<IPython.core.display.Javascript object>"
            ]
          },
          "metadata": {},
          "output_type": "display_data"
        },
        {
          "name": "stdout",
          "output_type": "stream",
          "text": [
            "\n",
            "0: 640x640 1 face, 2 openeyes, 1 openmouth, 9.9ms\n",
            "Speed: 2.1ms preprocess, 9.9ms inference, 1.6ms postprocess per image at shape (1, 3, 640, 640)\n",
            "['face', 'openmouth', 'openeye', 'openeye']\n",
            "[0.89391, 0.57122, 0.56197, 0.54143]\n"
          ]
        },
        {
          "data": {
            "application/javascript": "\n  async function takePhoto(quality, delay) {\n      const video = document.createElement('video');\n      video.style.display = 'block';\n      const stream = await navigator.mediaDevices.getUserMedia({video: true});\n\n      document.body.appendChild(video);\n      video.srcObject = stream;\n      await video.play();\n\n      // Wait for video to start, you can adjust the delay here\n      await new Promise(resolve => setTimeout(resolve, delay));\n\n      const canvas = document.createElement('canvas');\n      canvas.width = video.videoWidth;\n      canvas.height = video.videoHeight;\n      canvas.getContext('2d').drawImage(video, 0, 0);\n      stream.getVideoTracks()[0].stop();\n      video.remove();\n      return canvas.toDataURL('image/jpeg', quality);\n  }\n  ",
            "text/plain": [
              "<IPython.core.display.Javascript object>"
            ]
          },
          "metadata": {},
          "output_type": "display_data"
        },
        {
          "name": "stdout",
          "output_type": "stream",
          "text": [
            "\n",
            "0: 640x640 1 closedmouth, 1 face, 2 openeyes, 9.2ms\n",
            "Speed: 2.0ms preprocess, 9.2ms inference, 1.5ms postprocess per image at shape (1, 3, 640, 640)\n",
            "['face', 'openeye', 'openeye', 'closedmouth']\n",
            "[0.89605, 0.61892, 0.58557, 0.57875]\n"
          ]
        },
        {
          "data": {
            "application/javascript": "\n  async function takePhoto(quality, delay) {\n      const video = document.createElement('video');\n      video.style.display = 'block';\n      const stream = await navigator.mediaDevices.getUserMedia({video: true});\n\n      document.body.appendChild(video);\n      video.srcObject = stream;\n      await video.play();\n\n      // Wait for video to start, you can adjust the delay here\n      await new Promise(resolve => setTimeout(resolve, delay));\n\n      const canvas = document.createElement('canvas');\n      canvas.width = video.videoWidth;\n      canvas.height = video.videoHeight;\n      canvas.getContext('2d').drawImage(video, 0, 0);\n      stream.getVideoTracks()[0].stop();\n      video.remove();\n      return canvas.toDataURL('image/jpeg', quality);\n  }\n  ",
            "text/plain": [
              "<IPython.core.display.Javascript object>"
            ]
          },
          "metadata": {},
          "output_type": "display_data"
        },
        {
          "name": "stdout",
          "output_type": "stream",
          "text": [
            "\n",
            "0: 640x640 1 closedmouth, 1 face, 2 openeyes, 7.8ms\n",
            "Speed: 2.2ms preprocess, 7.8ms inference, 1.3ms postprocess per image at shape (1, 3, 640, 640)\n",
            "['face', 'closedmouth', 'openeye', 'openeye']\n",
            "[0.90154, 0.60926, 0.60101, 0.58829]\n"
          ]
        },
        {
          "data": {
            "application/javascript": "\n  async function takePhoto(quality, delay) {\n      const video = document.createElement('video');\n      video.style.display = 'block';\n      const stream = await navigator.mediaDevices.getUserMedia({video: true});\n\n      document.body.appendChild(video);\n      video.srcObject = stream;\n      await video.play();\n\n      // Wait for video to start, you can adjust the delay here\n      await new Promise(resolve => setTimeout(resolve, delay));\n\n      const canvas = document.createElement('canvas');\n      canvas.width = video.videoWidth;\n      canvas.height = video.videoHeight;\n      canvas.getContext('2d').drawImage(video, 0, 0);\n      stream.getVideoTracks()[0].stop();\n      video.remove();\n      return canvas.toDataURL('image/jpeg', quality);\n  }\n  ",
            "text/plain": [
              "<IPython.core.display.Javascript object>"
            ]
          },
          "metadata": {},
          "output_type": "display_data"
        },
        {
          "name": "stdout",
          "output_type": "stream",
          "text": [
            "\n",
            "0: 640x640 1 closedmouth, 1 face, 2 openeyes, 9.1ms\n",
            "Speed: 2.6ms preprocess, 9.1ms inference, 1.3ms postprocess per image at shape (1, 3, 640, 640)\n",
            "['face', 'openeye', 'openeye', 'closedmouth']\n",
            "[0.88421, 0.60399, 0.58135, 0.58002]\n"
          ]
        },
        {
          "data": {
            "application/javascript": "\n  async function takePhoto(quality, delay) {\n      const video = document.createElement('video');\n      video.style.display = 'block';\n      const stream = await navigator.mediaDevices.getUserMedia({video: true});\n\n      document.body.appendChild(video);\n      video.srcObject = stream;\n      await video.play();\n\n      // Wait for video to start, you can adjust the delay here\n      await new Promise(resolve => setTimeout(resolve, delay));\n\n      const canvas = document.createElement('canvas');\n      canvas.width = video.videoWidth;\n      canvas.height = video.videoHeight;\n      canvas.getContext('2d').drawImage(video, 0, 0);\n      stream.getVideoTracks()[0].stop();\n      video.remove();\n      return canvas.toDataURL('image/jpeg', quality);\n  }\n  ",
            "text/plain": [
              "<IPython.core.display.Javascript object>"
            ]
          },
          "metadata": {},
          "output_type": "display_data"
        },
        {
          "name": "stdout",
          "output_type": "stream",
          "text": [
            "\n",
            "0: 640x640 1 closedmouth, 1 face, 2 openeyes, 9.0ms\n",
            "Speed: 2.0ms preprocess, 9.0ms inference, 1.3ms postprocess per image at shape (1, 3, 640, 640)\n",
            "['face', 'openeye', 'openeye', 'closedmouth']\n",
            "[0.87915, 0.60677, 0.60064, 0.5713]\n"
          ]
        },
        {
          "data": {
            "application/javascript": "\n  async function takePhoto(quality, delay) {\n      const video = document.createElement('video');\n      video.style.display = 'block';\n      const stream = await navigator.mediaDevices.getUserMedia({video: true});\n\n      document.body.appendChild(video);\n      video.srcObject = stream;\n      await video.play();\n\n      // Wait for video to start, you can adjust the delay here\n      await new Promise(resolve => setTimeout(resolve, delay));\n\n      const canvas = document.createElement('canvas');\n      canvas.width = video.videoWidth;\n      canvas.height = video.videoHeight;\n      canvas.getContext('2d').drawImage(video, 0, 0);\n      stream.getVideoTracks()[0].stop();\n      video.remove();\n      return canvas.toDataURL('image/jpeg', quality);\n  }\n  ",
            "text/plain": [
              "<IPython.core.display.Javascript object>"
            ]
          },
          "metadata": {},
          "output_type": "display_data"
        },
        {
          "name": "stdout",
          "output_type": "stream",
          "text": [
            "\n",
            "0: 640x640 1 face, 2 openeyes, 1 openmouth, 14.1ms\n",
            "Speed: 1.8ms preprocess, 14.1ms inference, 1.9ms postprocess per image at shape (1, 3, 640, 640)\n",
            "['face', 'openmouth', 'openeye', 'openeye']\n",
            "[0.88174, 0.63099, 0.57465, 0.5701]\n"
          ]
        },
        {
          "data": {
            "application/javascript": "\n  async function takePhoto(quality, delay) {\n      const video = document.createElement('video');\n      video.style.display = 'block';\n      const stream = await navigator.mediaDevices.getUserMedia({video: true});\n\n      document.body.appendChild(video);\n      video.srcObject = stream;\n      await video.play();\n\n      // Wait for video to start, you can adjust the delay here\n      await new Promise(resolve => setTimeout(resolve, delay));\n\n      const canvas = document.createElement('canvas');\n      canvas.width = video.videoWidth;\n      canvas.height = video.videoHeight;\n      canvas.getContext('2d').drawImage(video, 0, 0);\n      stream.getVideoTracks()[0].stop();\n      video.remove();\n      return canvas.toDataURL('image/jpeg', quality);\n  }\n  ",
            "text/plain": [
              "<IPython.core.display.Javascript object>"
            ]
          },
          "metadata": {},
          "output_type": "display_data"
        },
        {
          "name": "stdout",
          "output_type": "stream",
          "text": [
            "\n",
            "0: 640x640 2 closedmouths, 1 face, 2 openeyes, 13.4ms\n",
            "Speed: 3.9ms preprocess, 13.4ms inference, 3.0ms postprocess per image at shape (1, 3, 640, 640)\n",
            "['face', 'openeye', 'openeye', 'closedmouth', 'closedmouth']\n",
            "[0.88705, 0.58252, 0.56722, 0.52837, 0.26151]\n"
          ]
        },
        {
          "data": {
            "application/javascript": "\n  async function takePhoto(quality, delay) {\n      const video = document.createElement('video');\n      video.style.display = 'block';\n      const stream = await navigator.mediaDevices.getUserMedia({video: true});\n\n      document.body.appendChild(video);\n      video.srcObject = stream;\n      await video.play();\n\n      // Wait for video to start, you can adjust the delay here\n      await new Promise(resolve => setTimeout(resolve, delay));\n\n      const canvas = document.createElement('canvas');\n      canvas.width = video.videoWidth;\n      canvas.height = video.videoHeight;\n      canvas.getContext('2d').drawImage(video, 0, 0);\n      stream.getVideoTracks()[0].stop();\n      video.remove();\n      return canvas.toDataURL('image/jpeg', quality);\n  }\n  ",
            "text/plain": [
              "<IPython.core.display.Javascript object>"
            ]
          },
          "metadata": {},
          "output_type": "display_data"
        },
        {
          "name": "stdout",
          "output_type": "stream",
          "text": [
            "\n",
            "0: 640x640 2 closedmouths, 1 face, 2 openeyes, 14.6ms\n",
            "Speed: 1.9ms preprocess, 14.6ms inference, 1.3ms postprocess per image at shape (1, 3, 640, 640)\n",
            "['face', 'openeye', 'openeye', 'closedmouth', 'closedmouth']\n",
            "[0.88379, 0.59498, 0.5543, 0.5514, 0.26692]\n"
          ]
        },
        {
          "data": {
            "application/javascript": "\n  async function takePhoto(quality, delay) {\n      const video = document.createElement('video');\n      video.style.display = 'block';\n      const stream = await navigator.mediaDevices.getUserMedia({video: true});\n\n      document.body.appendChild(video);\n      video.srcObject = stream;\n      await video.play();\n\n      // Wait for video to start, you can adjust the delay here\n      await new Promise(resolve => setTimeout(resolve, delay));\n\n      const canvas = document.createElement('canvas');\n      canvas.width = video.videoWidth;\n      canvas.height = video.videoHeight;\n      canvas.getContext('2d').drawImage(video, 0, 0);\n      stream.getVideoTracks()[0].stop();\n      video.remove();\n      return canvas.toDataURL('image/jpeg', quality);\n  }\n  ",
            "text/plain": [
              "<IPython.core.display.Javascript object>"
            ]
          },
          "metadata": {},
          "output_type": "display_data"
        },
        {
          "name": "stdout",
          "output_type": "stream",
          "text": [
            "\n",
            "0: 640x640 1 closedmouth, 1 face, 2 openeyes, 8.3ms\n",
            "Speed: 1.8ms preprocess, 8.3ms inference, 1.3ms postprocess per image at shape (1, 3, 640, 640)\n",
            "['face', 'openeye', 'openeye', 'closedmouth']\n",
            "[0.89048, 0.58549, 0.55478, 0.551]\n"
          ]
        },
        {
          "data": {
            "application/javascript": "\n  async function takePhoto(quality, delay) {\n      const video = document.createElement('video');\n      video.style.display = 'block';\n      const stream = await navigator.mediaDevices.getUserMedia({video: true});\n\n      document.body.appendChild(video);\n      video.srcObject = stream;\n      await video.play();\n\n      // Wait for video to start, you can adjust the delay here\n      await new Promise(resolve => setTimeout(resolve, delay));\n\n      const canvas = document.createElement('canvas');\n      canvas.width = video.videoWidth;\n      canvas.height = video.videoHeight;\n      canvas.getContext('2d').drawImage(video, 0, 0);\n      stream.getVideoTracks()[0].stop();\n      video.remove();\n      return canvas.toDataURL('image/jpeg', quality);\n  }\n  ",
            "text/plain": [
              "<IPython.core.display.Javascript object>"
            ]
          },
          "metadata": {},
          "output_type": "display_data"
        },
        {
          "name": "stdout",
          "output_type": "stream",
          "text": [
            "\n",
            "0: 640x640 1 closedmouth, 1 face, 2 openeyes, 9.4ms\n",
            "Speed: 1.9ms preprocess, 9.4ms inference, 1.3ms postprocess per image at shape (1, 3, 640, 640)\n",
            "['face', 'openeye', 'openeye', 'closedmouth']\n",
            "[0.88569, 0.6567, 0.61582, 0.52934]\n"
          ]
        },
        {
          "data": {
            "application/javascript": "\n  async function takePhoto(quality, delay) {\n      const video = document.createElement('video');\n      video.style.display = 'block';\n      const stream = await navigator.mediaDevices.getUserMedia({video: true});\n\n      document.body.appendChild(video);\n      video.srcObject = stream;\n      await video.play();\n\n      // Wait for video to start, you can adjust the delay here\n      await new Promise(resolve => setTimeout(resolve, delay));\n\n      const canvas = document.createElement('canvas');\n      canvas.width = video.videoWidth;\n      canvas.height = video.videoHeight;\n      canvas.getContext('2d').drawImage(video, 0, 0);\n      stream.getVideoTracks()[0].stop();\n      video.remove();\n      return canvas.toDataURL('image/jpeg', quality);\n  }\n  ",
            "text/plain": [
              "<IPython.core.display.Javascript object>"
            ]
          },
          "metadata": {},
          "output_type": "display_data"
        },
        {
          "name": "stdout",
          "output_type": "stream",
          "text": [
            "\n",
            "0: 640x640 1 closedmouth, 1 face, 2 openeyes, 11.2ms\n",
            "Speed: 2.0ms preprocess, 11.2ms inference, 1.6ms postprocess per image at shape (1, 3, 640, 640)\n",
            "['face', 'openeye', 'openeye', 'closedmouth']\n",
            "[0.89232, 0.62746, 0.5751, 0.5667]\n"
          ]
        },
        {
          "data": {
            "application/javascript": "\n  async function takePhoto(quality, delay) {\n      const video = document.createElement('video');\n      video.style.display = 'block';\n      const stream = await navigator.mediaDevices.getUserMedia({video: true});\n\n      document.body.appendChild(video);\n      video.srcObject = stream;\n      await video.play();\n\n      // Wait for video to start, you can adjust the delay here\n      await new Promise(resolve => setTimeout(resolve, delay));\n\n      const canvas = document.createElement('canvas');\n      canvas.width = video.videoWidth;\n      canvas.height = video.videoHeight;\n      canvas.getContext('2d').drawImage(video, 0, 0);\n      stream.getVideoTracks()[0].stop();\n      video.remove();\n      return canvas.toDataURL('image/jpeg', quality);\n  }\n  ",
            "text/plain": [
              "<IPython.core.display.Javascript object>"
            ]
          },
          "metadata": {},
          "output_type": "display_data"
        },
        {
          "name": "stdout",
          "output_type": "stream",
          "text": [
            "\n",
            "0: 640x640 1 closedmouth, 1 face, 2 openeyes, 10.2ms\n",
            "Speed: 1.8ms preprocess, 10.2ms inference, 1.3ms postprocess per image at shape (1, 3, 640, 640)\n",
            "['face', 'openeye', 'openeye', 'closedmouth']\n",
            "[0.89175, 0.64074, 0.6005, 0.54436]\n"
          ]
        },
        {
          "data": {
            "application/javascript": "\n  async function takePhoto(quality, delay) {\n      const video = document.createElement('video');\n      video.style.display = 'block';\n      const stream = await navigator.mediaDevices.getUserMedia({video: true});\n\n      document.body.appendChild(video);\n      video.srcObject = stream;\n      await video.play();\n\n      // Wait for video to start, you can adjust the delay here\n      await new Promise(resolve => setTimeout(resolve, delay));\n\n      const canvas = document.createElement('canvas');\n      canvas.width = video.videoWidth;\n      canvas.height = video.videoHeight;\n      canvas.getContext('2d').drawImage(video, 0, 0);\n      stream.getVideoTracks()[0].stop();\n      video.remove();\n      return canvas.toDataURL('image/jpeg', quality);\n  }\n  ",
            "text/plain": [
              "<IPython.core.display.Javascript object>"
            ]
          },
          "metadata": {},
          "output_type": "display_data"
        },
        {
          "name": "stdout",
          "output_type": "stream",
          "text": [
            "\n",
            "0: 640x640 1 closedmouth, 1 face, 2 openeyes, 13.3ms\n",
            "Speed: 1.8ms preprocess, 13.3ms inference, 1.8ms postprocess per image at shape (1, 3, 640, 640)\n",
            "['face', 'openeye', 'openeye', 'closedmouth']\n",
            "[0.88062, 0.60077, 0.5694, 0.48673]\n"
          ]
        },
        {
          "data": {
            "application/javascript": "\n  async function takePhoto(quality, delay) {\n      const video = document.createElement('video');\n      video.style.display = 'block';\n      const stream = await navigator.mediaDevices.getUserMedia({video: true});\n\n      document.body.appendChild(video);\n      video.srcObject = stream;\n      await video.play();\n\n      // Wait for video to start, you can adjust the delay here\n      await new Promise(resolve => setTimeout(resolve, delay));\n\n      const canvas = document.createElement('canvas');\n      canvas.width = video.videoWidth;\n      canvas.height = video.videoHeight;\n      canvas.getContext('2d').drawImage(video, 0, 0);\n      stream.getVideoTracks()[0].stop();\n      video.remove();\n      return canvas.toDataURL('image/jpeg', quality);\n  }\n  ",
            "text/plain": [
              "<IPython.core.display.Javascript object>"
            ]
          },
          "metadata": {},
          "output_type": "display_data"
        },
        {
          "name": "stdout",
          "output_type": "stream",
          "text": [
            "\n",
            "0: 640x640 1 closedmouth, 1 face, 2 openeyes, 8.6ms\n",
            "Speed: 2.7ms preprocess, 8.6ms inference, 1.4ms postprocess per image at shape (1, 3, 640, 640)\n",
            "['face', 'openeye', 'closedmouth', 'openeye']\n",
            "[0.88064, 0.57097, 0.51561, 0.5089]\n"
          ]
        },
        {
          "data": {
            "application/javascript": "\n  async function takePhoto(quality, delay) {\n      const video = document.createElement('video');\n      video.style.display = 'block';\n      const stream = await navigator.mediaDevices.getUserMedia({video: true});\n\n      document.body.appendChild(video);\n      video.srcObject = stream;\n      await video.play();\n\n      // Wait for video to start, you can adjust the delay here\n      await new Promise(resolve => setTimeout(resolve, delay));\n\n      const canvas = document.createElement('canvas');\n      canvas.width = video.videoWidth;\n      canvas.height = video.videoHeight;\n      canvas.getContext('2d').drawImage(video, 0, 0);\n      stream.getVideoTracks()[0].stop();\n      video.remove();\n      return canvas.toDataURL('image/jpeg', quality);\n  }\n  ",
            "text/plain": [
              "<IPython.core.display.Javascript object>"
            ]
          },
          "metadata": {},
          "output_type": "display_data"
        },
        {
          "name": "stdout",
          "output_type": "stream",
          "text": [
            "\n",
            "0: 640x640 2 closedmouths, 1 face, 2 openeyes, 10.5ms\n",
            "Speed: 1.6ms preprocess, 10.5ms inference, 1.3ms postprocess per image at shape (1, 3, 640, 640)\n",
            "['face', 'openeye', 'closedmouth', 'openeye', 'closedmouth']\n",
            "[0.88477, 0.50809, 0.50596, 0.50233, 0.36521]\n"
          ]
        },
        {
          "data": {
            "application/javascript": "\n  async function takePhoto(quality, delay) {\n      const video = document.createElement('video');\n      video.style.display = 'block';\n      const stream = await navigator.mediaDevices.getUserMedia({video: true});\n\n      document.body.appendChild(video);\n      video.srcObject = stream;\n      await video.play();\n\n      // Wait for video to start, you can adjust the delay here\n      await new Promise(resolve => setTimeout(resolve, delay));\n\n      const canvas = document.createElement('canvas');\n      canvas.width = video.videoWidth;\n      canvas.height = video.videoHeight;\n      canvas.getContext('2d').drawImage(video, 0, 0);\n      stream.getVideoTracks()[0].stop();\n      video.remove();\n      return canvas.toDataURL('image/jpeg', quality);\n  }\n  ",
            "text/plain": [
              "<IPython.core.display.Javascript object>"
            ]
          },
          "metadata": {},
          "output_type": "display_data"
        },
        {
          "name": "stdout",
          "output_type": "stream",
          "text": [
            "\n",
            "0: 640x640 1 closedmouth, 1 face, 2 openeyes, 14.8ms\n",
            "Speed: 2.0ms preprocess, 14.8ms inference, 1.6ms postprocess per image at shape (1, 3, 640, 640)\n",
            "['face', 'openeye', 'closedmouth', 'openeye']\n",
            "[0.87512, 0.49179, 0.47671, 0.47142]\n"
          ]
        },
        {
          "data": {
            "application/javascript": "\n  async function takePhoto(quality, delay) {\n      const video = document.createElement('video');\n      video.style.display = 'block';\n      const stream = await navigator.mediaDevices.getUserMedia({video: true});\n\n      document.body.appendChild(video);\n      video.srcObject = stream;\n      await video.play();\n\n      // Wait for video to start, you can adjust the delay here\n      await new Promise(resolve => setTimeout(resolve, delay));\n\n      const canvas = document.createElement('canvas');\n      canvas.width = video.videoWidth;\n      canvas.height = video.videoHeight;\n      canvas.getContext('2d').drawImage(video, 0, 0);\n      stream.getVideoTracks()[0].stop();\n      video.remove();\n      return canvas.toDataURL('image/jpeg', quality);\n  }\n  ",
            "text/plain": [
              "<IPython.core.display.Javascript object>"
            ]
          },
          "metadata": {},
          "output_type": "display_data"
        },
        {
          "name": "stdout",
          "output_type": "stream",
          "text": [
            "\n",
            "0: 640x640 1 closedmouth, 1 face, 2 openeyes, 1 openmouth, 7.9ms\n",
            "Speed: 2.2ms preprocess, 7.9ms inference, 1.6ms postprocess per image at shape (1, 3, 640, 640)\n",
            "['face', 'openeye', 'openeye', 'closedmouth', 'openmouth']\n",
            "[0.89855, 0.53415, 0.51986, 0.39466, 0.34266]\n"
          ]
        },
        {
          "data": {
            "application/javascript": "\n  async function takePhoto(quality, delay) {\n      const video = document.createElement('video');\n      video.style.display = 'block';\n      const stream = await navigator.mediaDevices.getUserMedia({video: true});\n\n      document.body.appendChild(video);\n      video.srcObject = stream;\n      await video.play();\n\n      // Wait for video to start, you can adjust the delay here\n      await new Promise(resolve => setTimeout(resolve, delay));\n\n      const canvas = document.createElement('canvas');\n      canvas.width = video.videoWidth;\n      canvas.height = video.videoHeight;\n      canvas.getContext('2d').drawImage(video, 0, 0);\n      stream.getVideoTracks()[0].stop();\n      video.remove();\n      return canvas.toDataURL('image/jpeg', quality);\n  }\n  ",
            "text/plain": [
              "<IPython.core.display.Javascript object>"
            ]
          },
          "metadata": {},
          "output_type": "display_data"
        },
        {
          "name": "stdout",
          "output_type": "stream",
          "text": [
            "\n",
            "0: 640x640 2 closedmouths, 1 face, 2 openeyes, 7.8ms\n",
            "Speed: 2.0ms preprocess, 7.8ms inference, 1.7ms postprocess per image at shape (1, 3, 640, 640)\n",
            "['face', 'openeye', 'closedmouth', 'openeye', 'closedmouth']\n",
            "[0.88828, 0.5233, 0.48585, 0.47572, 0.42137]\n"
          ]
        },
        {
          "data": {
            "application/javascript": "\n  async function takePhoto(quality, delay) {\n      const video = document.createElement('video');\n      video.style.display = 'block';\n      const stream = await navigator.mediaDevices.getUserMedia({video: true});\n\n      document.body.appendChild(video);\n      video.srcObject = stream;\n      await video.play();\n\n      // Wait for video to start, you can adjust the delay here\n      await new Promise(resolve => setTimeout(resolve, delay));\n\n      const canvas = document.createElement('canvas');\n      canvas.width = video.videoWidth;\n      canvas.height = video.videoHeight;\n      canvas.getContext('2d').drawImage(video, 0, 0);\n      stream.getVideoTracks()[0].stop();\n      video.remove();\n      return canvas.toDataURL('image/jpeg', quality);\n  }\n  ",
            "text/plain": [
              "<IPython.core.display.Javascript object>"
            ]
          },
          "metadata": {},
          "output_type": "display_data"
        },
        {
          "name": "stdout",
          "output_type": "stream",
          "text": [
            "\n",
            "0: 640x640 1 closedmouth, 1 face, 3 openeyes, 10.8ms\n",
            "Speed: 2.3ms preprocess, 10.8ms inference, 2.1ms postprocess per image at shape (1, 3, 640, 640)\n",
            "['face', 'openeye', 'openeye', 'closedmouth', 'openeye']\n",
            "[0.89069, 0.45718, 0.45312, 0.41485, 0.25752]\n"
          ]
        },
        {
          "data": {
            "application/javascript": "\n  async function takePhoto(quality, delay) {\n      const video = document.createElement('video');\n      video.style.display = 'block';\n      const stream = await navigator.mediaDevices.getUserMedia({video: true});\n\n      document.body.appendChild(video);\n      video.srcObject = stream;\n      await video.play();\n\n      // Wait for video to start, you can adjust the delay here\n      await new Promise(resolve => setTimeout(resolve, delay));\n\n      const canvas = document.createElement('canvas');\n      canvas.width = video.videoWidth;\n      canvas.height = video.videoHeight;\n      canvas.getContext('2d').drawImage(video, 0, 0);\n      stream.getVideoTracks()[0].stop();\n      video.remove();\n      return canvas.toDataURL('image/jpeg', quality);\n  }\n  ",
            "text/plain": [
              "<IPython.core.display.Javascript object>"
            ]
          },
          "metadata": {},
          "output_type": "display_data"
        },
        {
          "name": "stdout",
          "output_type": "stream",
          "text": [
            "\n",
            "0: 640x640 1 closedmouth, 1 face, 2 openeyes, 11.6ms\n",
            "Speed: 1.7ms preprocess, 11.6ms inference, 1.3ms postprocess per image at shape (1, 3, 640, 640)\n",
            "['face', 'openeye', 'openeye', 'closedmouth']\n",
            "[0.86784, 0.61046, 0.57217, 0.56079]\n"
          ]
        },
        {
          "data": {
            "application/javascript": "\n  async function takePhoto(quality, delay) {\n      const video = document.createElement('video');\n      video.style.display = 'block';\n      const stream = await navigator.mediaDevices.getUserMedia({video: true});\n\n      document.body.appendChild(video);\n      video.srcObject = stream;\n      await video.play();\n\n      // Wait for video to start, you can adjust the delay here\n      await new Promise(resolve => setTimeout(resolve, delay));\n\n      const canvas = document.createElement('canvas');\n      canvas.width = video.videoWidth;\n      canvas.height = video.videoHeight;\n      canvas.getContext('2d').drawImage(video, 0, 0);\n      stream.getVideoTracks()[0].stop();\n      video.remove();\n      return canvas.toDataURL('image/jpeg', quality);\n  }\n  ",
            "text/plain": [
              "<IPython.core.display.Javascript object>"
            ]
          },
          "metadata": {},
          "output_type": "display_data"
        },
        {
          "name": "stdout",
          "output_type": "stream",
          "text": [
            "\n",
            "0: 640x640 2 closedmouths, 1 face, 2 openeyes, 9.9ms\n",
            "Speed: 1.8ms preprocess, 9.9ms inference, 1.9ms postprocess per image at shape (1, 3, 640, 640)\n",
            "['face', 'openeye', 'openeye', 'closedmouth', 'closedmouth']\n",
            "[0.86719, 0.57275, 0.54926, 0.52254, 0.25276]\n"
          ]
        },
        {
          "data": {
            "application/javascript": "\n  async function takePhoto(quality, delay) {\n      const video = document.createElement('video');\n      video.style.display = 'block';\n      const stream = await navigator.mediaDevices.getUserMedia({video: true});\n\n      document.body.appendChild(video);\n      video.srcObject = stream;\n      await video.play();\n\n      // Wait for video to start, you can adjust the delay here\n      await new Promise(resolve => setTimeout(resolve, delay));\n\n      const canvas = document.createElement('canvas');\n      canvas.width = video.videoWidth;\n      canvas.height = video.videoHeight;\n      canvas.getContext('2d').drawImage(video, 0, 0);\n      stream.getVideoTracks()[0].stop();\n      video.remove();\n      return canvas.toDataURL('image/jpeg', quality);\n  }\n  ",
            "text/plain": [
              "<IPython.core.display.Javascript object>"
            ]
          },
          "metadata": {},
          "output_type": "display_data"
        },
        {
          "name": "stdout",
          "output_type": "stream",
          "text": [
            "\n",
            "0: 640x640 2 closedmouths, 1 face, 2 openeyes, 8.5ms\n",
            "Speed: 1.8ms preprocess, 8.5ms inference, 1.3ms postprocess per image at shape (1, 3, 640, 640)\n",
            "['face', 'closedmouth', 'openeye', 'openeye', 'closedmouth']\n",
            "[0.88688, 0.60128, 0.57759, 0.56335, 0.36939]\n"
          ]
        },
        {
          "data": {
            "application/javascript": "\n  async function takePhoto(quality, delay) {\n      const video = document.createElement('video');\n      video.style.display = 'block';\n      const stream = await navigator.mediaDevices.getUserMedia({video: true});\n\n      document.body.appendChild(video);\n      video.srcObject = stream;\n      await video.play();\n\n      // Wait for video to start, you can adjust the delay here\n      await new Promise(resolve => setTimeout(resolve, delay));\n\n      const canvas = document.createElement('canvas');\n      canvas.width = video.videoWidth;\n      canvas.height = video.videoHeight;\n      canvas.getContext('2d').drawImage(video, 0, 0);\n      stream.getVideoTracks()[0].stop();\n      video.remove();\n      return canvas.toDataURL('image/jpeg', quality);\n  }\n  ",
            "text/plain": [
              "<IPython.core.display.Javascript object>"
            ]
          },
          "metadata": {},
          "output_type": "display_data"
        },
        {
          "name": "stdout",
          "output_type": "stream",
          "text": [
            "\n",
            "0: 640x640 1 closedmouth, 1 face, 3 openeyes, 8.2ms\n",
            "Speed: 2.1ms preprocess, 8.2ms inference, 1.3ms postprocess per image at shape (1, 3, 640, 640)\n",
            "['face', 'openeye', 'openeye', 'closedmouth', 'openeye']\n",
            "[0.88971, 0.57319, 0.56936, 0.49421, 0.27791]\n"
          ]
        },
        {
          "data": {
            "application/javascript": "\n  async function takePhoto(quality, delay) {\n      const video = document.createElement('video');\n      video.style.display = 'block';\n      const stream = await navigator.mediaDevices.getUserMedia({video: true});\n\n      document.body.appendChild(video);\n      video.srcObject = stream;\n      await video.play();\n\n      // Wait for video to start, you can adjust the delay here\n      await new Promise(resolve => setTimeout(resolve, delay));\n\n      const canvas = document.createElement('canvas');\n      canvas.width = video.videoWidth;\n      canvas.height = video.videoHeight;\n      canvas.getContext('2d').drawImage(video, 0, 0);\n      stream.getVideoTracks()[0].stop();\n      video.remove();\n      return canvas.toDataURL('image/jpeg', quality);\n  }\n  ",
            "text/plain": [
              "<IPython.core.display.Javascript object>"
            ]
          },
          "metadata": {},
          "output_type": "display_data"
        },
        {
          "name": "stdout",
          "output_type": "stream",
          "text": [
            "\n",
            "0: 640x640 1 closedmouth, 1 face, 3 openeyes, 7.5ms\n",
            "Speed: 2.7ms preprocess, 7.5ms inference, 1.3ms postprocess per image at shape (1, 3, 640, 640)\n",
            "['face', 'closedmouth', 'openeye', 'openeye', 'openeye']\n",
            "[0.88435, 0.624, 0.56531, 0.54451, 0.27971]\n"
          ]
        },
        {
          "data": {
            "application/javascript": "\n  async function takePhoto(quality, delay) {\n      const video = document.createElement('video');\n      video.style.display = 'block';\n      const stream = await navigator.mediaDevices.getUserMedia({video: true});\n\n      document.body.appendChild(video);\n      video.srcObject = stream;\n      await video.play();\n\n      // Wait for video to start, you can adjust the delay here\n      await new Promise(resolve => setTimeout(resolve, delay));\n\n      const canvas = document.createElement('canvas');\n      canvas.width = video.videoWidth;\n      canvas.height = video.videoHeight;\n      canvas.getContext('2d').drawImage(video, 0, 0);\n      stream.getVideoTracks()[0].stop();\n      video.remove();\n      return canvas.toDataURL('image/jpeg', quality);\n  }\n  ",
            "text/plain": [
              "<IPython.core.display.Javascript object>"
            ]
          },
          "metadata": {},
          "output_type": "display_data"
        },
        {
          "name": "stdout",
          "output_type": "stream",
          "text": [
            "\n",
            "0: 640x640 1 closedmouth, 1 face, 3 openeyes, 9.6ms\n",
            "Speed: 1.9ms preprocess, 9.6ms inference, 1.6ms postprocess per image at shape (1, 3, 640, 640)\n",
            "['face', 'openeye', 'openeye', 'closedmouth', 'openeye']\n",
            "[0.87451, 0.56813, 0.56783, 0.56739, 0.25911]\n"
          ]
        },
        {
          "data": {
            "application/javascript": "\n  async function takePhoto(quality, delay) {\n      const video = document.createElement('video');\n      video.style.display = 'block';\n      const stream = await navigator.mediaDevices.getUserMedia({video: true});\n\n      document.body.appendChild(video);\n      video.srcObject = stream;\n      await video.play();\n\n      // Wait for video to start, you can adjust the delay here\n      await new Promise(resolve => setTimeout(resolve, delay));\n\n      const canvas = document.createElement('canvas');\n      canvas.width = video.videoWidth;\n      canvas.height = video.videoHeight;\n      canvas.getContext('2d').drawImage(video, 0, 0);\n      stream.getVideoTracks()[0].stop();\n      video.remove();\n      return canvas.toDataURL('image/jpeg', quality);\n  }\n  ",
            "text/plain": [
              "<IPython.core.display.Javascript object>"
            ]
          },
          "metadata": {},
          "output_type": "display_data"
        },
        {
          "name": "stdout",
          "output_type": "stream",
          "text": [
            "\n",
            "0: 640x640 1 closedmouth, 1 face, 2 openeyes, 14.2ms\n",
            "Speed: 3.8ms preprocess, 14.2ms inference, 3.9ms postprocess per image at shape (1, 3, 640, 640)\n",
            "['face', 'openeye', 'openeye', 'closedmouth']\n",
            "[0.87632, 0.56396, 0.53444, 0.51926]\n"
          ]
        },
        {
          "data": {
            "application/javascript": "\n  async function takePhoto(quality, delay) {\n      const video = document.createElement('video');\n      video.style.display = 'block';\n      const stream = await navigator.mediaDevices.getUserMedia({video: true});\n\n      document.body.appendChild(video);\n      video.srcObject = stream;\n      await video.play();\n\n      // Wait for video to start, you can adjust the delay here\n      await new Promise(resolve => setTimeout(resolve, delay));\n\n      const canvas = document.createElement('canvas');\n      canvas.width = video.videoWidth;\n      canvas.height = video.videoHeight;\n      canvas.getContext('2d').drawImage(video, 0, 0);\n      stream.getVideoTracks()[0].stop();\n      video.remove();\n      return canvas.toDataURL('image/jpeg', quality);\n  }\n  ",
            "text/plain": [
              "<IPython.core.display.Javascript object>"
            ]
          },
          "metadata": {},
          "output_type": "display_data"
        },
        {
          "name": "stdout",
          "output_type": "stream",
          "text": [
            "\n",
            "0: 640x640 1 closedmouth, 1 face, 2 openeyes, 11.4ms\n",
            "Speed: 1.6ms preprocess, 11.4ms inference, 1.5ms postprocess per image at shape (1, 3, 640, 640)\n",
            "['face', 'openeye', 'closedmouth', 'openeye']\n",
            "[0.87115, 0.5711, 0.56562, 0.55192]\n"
          ]
        },
        {
          "data": {
            "application/javascript": "\n  async function takePhoto(quality, delay) {\n      const video = document.createElement('video');\n      video.style.display = 'block';\n      const stream = await navigator.mediaDevices.getUserMedia({video: true});\n\n      document.body.appendChild(video);\n      video.srcObject = stream;\n      await video.play();\n\n      // Wait for video to start, you can adjust the delay here\n      await new Promise(resolve => setTimeout(resolve, delay));\n\n      const canvas = document.createElement('canvas');\n      canvas.width = video.videoWidth;\n      canvas.height = video.videoHeight;\n      canvas.getContext('2d').drawImage(video, 0, 0);\n      stream.getVideoTracks()[0].stop();\n      video.remove();\n      return canvas.toDataURL('image/jpeg', quality);\n  }\n  ",
            "text/plain": [
              "<IPython.core.display.Javascript object>"
            ]
          },
          "metadata": {},
          "output_type": "display_data"
        },
        {
          "name": "stdout",
          "output_type": "stream",
          "text": [
            "\n",
            "0: 640x640 2 closedmouths, 1 face, 3 openeyes, 10.6ms\n",
            "Speed: 2.1ms preprocess, 10.6ms inference, 1.3ms postprocess per image at shape (1, 3, 640, 640)\n",
            "['face', 'closedmouth', 'openeye', 'openeye', 'closedmouth', 'openeye']\n",
            "[0.87402, 0.53914, 0.51647, 0.47803, 0.2992, 0.25115]\n"
          ]
        },
        {
          "data": {
            "application/javascript": "\n  async function takePhoto(quality, delay) {\n      const video = document.createElement('video');\n      video.style.display = 'block';\n      const stream = await navigator.mediaDevices.getUserMedia({video: true});\n\n      document.body.appendChild(video);\n      video.srcObject = stream;\n      await video.play();\n\n      // Wait for video to start, you can adjust the delay here\n      await new Promise(resolve => setTimeout(resolve, delay));\n\n      const canvas = document.createElement('canvas');\n      canvas.width = video.videoWidth;\n      canvas.height = video.videoHeight;\n      canvas.getContext('2d').drawImage(video, 0, 0);\n      stream.getVideoTracks()[0].stop();\n      video.remove();\n      return canvas.toDataURL('image/jpeg', quality);\n  }\n  ",
            "text/plain": [
              "<IPython.core.display.Javascript object>"
            ]
          },
          "metadata": {},
          "output_type": "display_data"
        },
        {
          "name": "stdout",
          "output_type": "stream",
          "text": [
            "\n",
            "0: 640x640 1 closedmouth, 1 face, 3 openeyes, 10.9ms\n",
            "Speed: 1.9ms preprocess, 10.9ms inference, 1.6ms postprocess per image at shape (1, 3, 640, 640)\n",
            "['face', 'closedmouth', 'openeye', 'openeye', 'openeye']\n",
            "[0.88195, 0.63826, 0.53211, 0.47412, 0.29]\n"
          ]
        },
        {
          "data": {
            "application/javascript": "\n  async function takePhoto(quality, delay) {\n      const video = document.createElement('video');\n      video.style.display = 'block';\n      const stream = await navigator.mediaDevices.getUserMedia({video: true});\n\n      document.body.appendChild(video);\n      video.srcObject = stream;\n      await video.play();\n\n      // Wait for video to start, you can adjust the delay here\n      await new Promise(resolve => setTimeout(resolve, delay));\n\n      const canvas = document.createElement('canvas');\n      canvas.width = video.videoWidth;\n      canvas.height = video.videoHeight;\n      canvas.getContext('2d').drawImage(video, 0, 0);\n      stream.getVideoTracks()[0].stop();\n      video.remove();\n      return canvas.toDataURL('image/jpeg', quality);\n  }\n  ",
            "text/plain": [
              "<IPython.core.display.Javascript object>"
            ]
          },
          "metadata": {},
          "output_type": "display_data"
        },
        {
          "name": "stdout",
          "output_type": "stream",
          "text": [
            "\n",
            "0: 640x640 1 closedmouth, 1 face, 3 openeyes, 9.2ms\n",
            "Speed: 2.3ms preprocess, 9.2ms inference, 1.3ms postprocess per image at shape (1, 3, 640, 640)\n",
            "['face', 'openeye', 'closedmouth', 'openeye', 'openeye']\n",
            "[0.87904, 0.57874, 0.55176, 0.53518, 0.28341]\n"
          ]
        },
        {
          "data": {
            "application/javascript": "\n  async function takePhoto(quality, delay) {\n      const video = document.createElement('video');\n      video.style.display = 'block';\n      const stream = await navigator.mediaDevices.getUserMedia({video: true});\n\n      document.body.appendChild(video);\n      video.srcObject = stream;\n      await video.play();\n\n      // Wait for video to start, you can adjust the delay here\n      await new Promise(resolve => setTimeout(resolve, delay));\n\n      const canvas = document.createElement('canvas');\n      canvas.width = video.videoWidth;\n      canvas.height = video.videoHeight;\n      canvas.getContext('2d').drawImage(video, 0, 0);\n      stream.getVideoTracks()[0].stop();\n      video.remove();\n      return canvas.toDataURL('image/jpeg', quality);\n  }\n  ",
            "text/plain": [
              "<IPython.core.display.Javascript object>"
            ]
          },
          "metadata": {},
          "output_type": "display_data"
        },
        {
          "name": "stdout",
          "output_type": "stream",
          "text": [
            "\n",
            "0: 640x640 1 closedmouth, 1 face, 3 openeyes, 8.3ms\n",
            "Speed: 1.8ms preprocess, 8.3ms inference, 1.3ms postprocess per image at shape (1, 3, 640, 640)\n",
            "['face', 'openeye', 'closedmouth', 'openeye', 'openeye']\n",
            "[0.87836, 0.54093, 0.52318, 0.50203, 0.26626]\n"
          ]
        },
        {
          "data": {
            "application/javascript": "\n  async function takePhoto(quality, delay) {\n      const video = document.createElement('video');\n      video.style.display = 'block';\n      const stream = await navigator.mediaDevices.getUserMedia({video: true});\n\n      document.body.appendChild(video);\n      video.srcObject = stream;\n      await video.play();\n\n      // Wait for video to start, you can adjust the delay here\n      await new Promise(resolve => setTimeout(resolve, delay));\n\n      const canvas = document.createElement('canvas');\n      canvas.width = video.videoWidth;\n      canvas.height = video.videoHeight;\n      canvas.getContext('2d').drawImage(video, 0, 0);\n      stream.getVideoTracks()[0].stop();\n      video.remove();\n      return canvas.toDataURL('image/jpeg', quality);\n  }\n  ",
            "text/plain": [
              "<IPython.core.display.Javascript object>"
            ]
          },
          "metadata": {},
          "output_type": "display_data"
        },
        {
          "name": "stdout",
          "output_type": "stream",
          "text": [
            "\n",
            "0: 640x640 1 closedmouth, 1 face, 3 openeyes, 9.4ms\n",
            "Speed: 2.1ms preprocess, 9.4ms inference, 1.4ms postprocess per image at shape (1, 3, 640, 640)\n",
            "['face', 'closedmouth', 'openeye', 'openeye', 'openeye']\n",
            "[0.86399, 0.58436, 0.53721, 0.52236, 0.35199]\n"
          ]
        },
        {
          "data": {
            "application/javascript": "\n  async function takePhoto(quality, delay) {\n      const video = document.createElement('video');\n      video.style.display = 'block';\n      const stream = await navigator.mediaDevices.getUserMedia({video: true});\n\n      document.body.appendChild(video);\n      video.srcObject = stream;\n      await video.play();\n\n      // Wait for video to start, you can adjust the delay here\n      await new Promise(resolve => setTimeout(resolve, delay));\n\n      const canvas = document.createElement('canvas');\n      canvas.width = video.videoWidth;\n      canvas.height = video.videoHeight;\n      canvas.getContext('2d').drawImage(video, 0, 0);\n      stream.getVideoTracks()[0].stop();\n      video.remove();\n      return canvas.toDataURL('image/jpeg', quality);\n  }\n  ",
            "text/plain": [
              "<IPython.core.display.Javascript object>"
            ]
          },
          "metadata": {},
          "output_type": "display_data"
        },
        {
          "name": "stdout",
          "output_type": "stream",
          "text": [
            "\n",
            "0: 640x640 1 closedmouth, 1 face, 2 openeyes, 9.0ms\n",
            "Speed: 2.0ms preprocess, 9.0ms inference, 1.2ms postprocess per image at shape (1, 3, 640, 640)\n",
            "['face', 'closedmouth', 'openeye', 'openeye']\n",
            "[0.86579, 0.6004, 0.5039, 0.26015]\n"
          ]
        },
        {
          "data": {
            "application/javascript": "\n  async function takePhoto(quality, delay) {\n      const video = document.createElement('video');\n      video.style.display = 'block';\n      const stream = await navigator.mediaDevices.getUserMedia({video: true});\n\n      document.body.appendChild(video);\n      video.srcObject = stream;\n      await video.play();\n\n      // Wait for video to start, you can adjust the delay here\n      await new Promise(resolve => setTimeout(resolve, delay));\n\n      const canvas = document.createElement('canvas');\n      canvas.width = video.videoWidth;\n      canvas.height = video.videoHeight;\n      canvas.getContext('2d').drawImage(video, 0, 0);\n      stream.getVideoTracks()[0].stop();\n      video.remove();\n      return canvas.toDataURL('image/jpeg', quality);\n  }\n  ",
            "text/plain": [
              "<IPython.core.display.Javascript object>"
            ]
          },
          "metadata": {},
          "output_type": "display_data"
        },
        {
          "name": "stdout",
          "output_type": "stream",
          "text": [
            "\n",
            "0: 640x640 1 closedmouth, 1 face, 3 openeyes, 8.8ms\n",
            "Speed: 2.1ms preprocess, 8.8ms inference, 1.3ms postprocess per image at shape (1, 3, 640, 640)\n",
            "['face', 'closedmouth', 'openeye', 'openeye', 'openeye']\n",
            "[0.84364, 0.61848, 0.55671, 0.30881, 0.27435]\n"
          ]
        },
        {
          "data": {
            "application/javascript": "\n  async function takePhoto(quality, delay) {\n      const video = document.createElement('video');\n      video.style.display = 'block';\n      const stream = await navigator.mediaDevices.getUserMedia({video: true});\n\n      document.body.appendChild(video);\n      video.srcObject = stream;\n      await video.play();\n\n      // Wait for video to start, you can adjust the delay here\n      await new Promise(resolve => setTimeout(resolve, delay));\n\n      const canvas = document.createElement('canvas');\n      canvas.width = video.videoWidth;\n      canvas.height = video.videoHeight;\n      canvas.getContext('2d').drawImage(video, 0, 0);\n      stream.getVideoTracks()[0].stop();\n      video.remove();\n      return canvas.toDataURL('image/jpeg', quality);\n  }\n  ",
            "text/plain": [
              "<IPython.core.display.Javascript object>"
            ]
          },
          "metadata": {},
          "output_type": "display_data"
        },
        {
          "name": "stdout",
          "output_type": "stream",
          "text": [
            "\n",
            "0: 640x640 1 closedmouth, 1 face, 2 openeyes, 11.5ms\n",
            "Speed: 4.0ms preprocess, 11.5ms inference, 1.6ms postprocess per image at shape (1, 3, 640, 640)\n",
            "['face', 'closedmouth', 'openeye', 'openeye']\n",
            "[0.87794, 0.61345, 0.57632, 0.52784]\n"
          ]
        },
        {
          "data": {
            "application/javascript": "\n  async function takePhoto(quality, delay) {\n      const video = document.createElement('video');\n      video.style.display = 'block';\n      const stream = await navigator.mediaDevices.getUserMedia({video: true});\n\n      document.body.appendChild(video);\n      video.srcObject = stream;\n      await video.play();\n\n      // Wait for video to start, you can adjust the delay here\n      await new Promise(resolve => setTimeout(resolve, delay));\n\n      const canvas = document.createElement('canvas');\n      canvas.width = video.videoWidth;\n      canvas.height = video.videoHeight;\n      canvas.getContext('2d').drawImage(video, 0, 0);\n      stream.getVideoTracks()[0].stop();\n      video.remove();\n      return canvas.toDataURL('image/jpeg', quality);\n  }\n  ",
            "text/plain": [
              "<IPython.core.display.Javascript object>"
            ]
          },
          "metadata": {},
          "output_type": "display_data"
        },
        {
          "name": "stdout",
          "output_type": "stream",
          "text": [
            "\n",
            "0: 640x640 1 closedmouth, 1 face, 2 openeyes, 9.6ms\n",
            "Speed: 2.0ms preprocess, 9.6ms inference, 1.3ms postprocess per image at shape (1, 3, 640, 640)\n",
            "['face', 'closedmouth', 'openeye', 'openeye']\n",
            "[0.85179, 0.61501, 0.60455, 0.54222]\n"
          ]
        },
        {
          "data": {
            "application/javascript": "\n  async function takePhoto(quality, delay) {\n      const video = document.createElement('video');\n      video.style.display = 'block';\n      const stream = await navigator.mediaDevices.getUserMedia({video: true});\n\n      document.body.appendChild(video);\n      video.srcObject = stream;\n      await video.play();\n\n      // Wait for video to start, you can adjust the delay here\n      await new Promise(resolve => setTimeout(resolve, delay));\n\n      const canvas = document.createElement('canvas');\n      canvas.width = video.videoWidth;\n      canvas.height = video.videoHeight;\n      canvas.getContext('2d').drawImage(video, 0, 0);\n      stream.getVideoTracks()[0].stop();\n      video.remove();\n      return canvas.toDataURL('image/jpeg', quality);\n  }\n  ",
            "text/plain": [
              "<IPython.core.display.Javascript object>"
            ]
          },
          "metadata": {},
          "output_type": "display_data"
        },
        {
          "name": "stdout",
          "output_type": "stream",
          "text": [
            "\n",
            "0: 640x640 1 closedmouth, 1 face, 2 openeyes, 13.9ms\n",
            "Speed: 1.9ms preprocess, 13.9ms inference, 1.4ms postprocess per image at shape (1, 3, 640, 640)\n",
            "['face', 'closedmouth', 'openeye', 'openeye']\n",
            "[0.84419, 0.62417, 0.53217, 0.51145]\n"
          ]
        },
        {
          "data": {
            "application/javascript": "\n  async function takePhoto(quality, delay) {\n      const video = document.createElement('video');\n      video.style.display = 'block';\n      const stream = await navigator.mediaDevices.getUserMedia({video: true});\n\n      document.body.appendChild(video);\n      video.srcObject = stream;\n      await video.play();\n\n      // Wait for video to start, you can adjust the delay here\n      await new Promise(resolve => setTimeout(resolve, delay));\n\n      const canvas = document.createElement('canvas');\n      canvas.width = video.videoWidth;\n      canvas.height = video.videoHeight;\n      canvas.getContext('2d').drawImage(video, 0, 0);\n      stream.getVideoTracks()[0].stop();\n      video.remove();\n      return canvas.toDataURL('image/jpeg', quality);\n  }\n  ",
            "text/plain": [
              "<IPython.core.display.Javascript object>"
            ]
          },
          "metadata": {},
          "output_type": "display_data"
        },
        {
          "name": "stdout",
          "output_type": "stream",
          "text": [
            "\n",
            "0: 640x640 2 closedmouths, 1 face, 3 openeyes, 9.3ms\n",
            "Speed: 2.0ms preprocess, 9.3ms inference, 1.8ms postprocess per image at shape (1, 3, 640, 640)\n",
            "['face', 'openeye', 'openeye', 'closedmouth', 'closedmouth', 'openeye']\n",
            "[0.86757, 0.55983, 0.55042, 0.5123, 0.27753, 0.27611]\n"
          ]
        },
        {
          "data": {
            "application/javascript": "\n  async function takePhoto(quality, delay) {\n      const video = document.createElement('video');\n      video.style.display = 'block';\n      const stream = await navigator.mediaDevices.getUserMedia({video: true});\n\n      document.body.appendChild(video);\n      video.srcObject = stream;\n      await video.play();\n\n      // Wait for video to start, you can adjust the delay here\n      await new Promise(resolve => setTimeout(resolve, delay));\n\n      const canvas = document.createElement('canvas');\n      canvas.width = video.videoWidth;\n      canvas.height = video.videoHeight;\n      canvas.getContext('2d').drawImage(video, 0, 0);\n      stream.getVideoTracks()[0].stop();\n      video.remove();\n      return canvas.toDataURL('image/jpeg', quality);\n  }\n  ",
            "text/plain": [
              "<IPython.core.display.Javascript object>"
            ]
          },
          "metadata": {},
          "output_type": "display_data"
        },
        {
          "name": "stdout",
          "output_type": "stream",
          "text": [
            "\n",
            "0: 640x640 2 closedmouths, 1 face, 2 openeyes, 8.8ms\n",
            "Speed: 1.8ms preprocess, 8.8ms inference, 1.3ms postprocess per image at shape (1, 3, 640, 640)\n",
            "['face', 'openeye', 'closedmouth', 'openeye', 'closedmouth']\n",
            "[0.87094, 0.61497, 0.59628, 0.54837, 0.35455]\n"
          ]
        },
        {
          "data": {
            "application/javascript": "\n  async function takePhoto(quality, delay) {\n      const video = document.createElement('video');\n      video.style.display = 'block';\n      const stream = await navigator.mediaDevices.getUserMedia({video: true});\n\n      document.body.appendChild(video);\n      video.srcObject = stream;\n      await video.play();\n\n      // Wait for video to start, you can adjust the delay here\n      await new Promise(resolve => setTimeout(resolve, delay));\n\n      const canvas = document.createElement('canvas');\n      canvas.width = video.videoWidth;\n      canvas.height = video.videoHeight;\n      canvas.getContext('2d').drawImage(video, 0, 0);\n      stream.getVideoTracks()[0].stop();\n      video.remove();\n      return canvas.toDataURL('image/jpeg', quality);\n  }\n  ",
            "text/plain": [
              "<IPython.core.display.Javascript object>"
            ]
          },
          "metadata": {},
          "output_type": "display_data"
        }
      ],
      "source": [
        "#@title also starts mewing\n",
        "\n",
        "import time\n",
        "#picture = take_photo_auto()\n",
        "\n",
        "# Process the picture\n",
        "#results = getResults(picture)\n",
        "\n",
        "while True:\n",
        "  picture = take_photo_auto()\n",
        "\n",
        "  # Process the picture\n",
        "  results = getResults(picture)\n",
        "\n",
        "  # Print or log the results\n",
        "  if results == \"open\":\n",
        "    #playsound('noise.mp3')\n",
        "    output.eval_js('new Audio(\"https://upload.wikimedia.org/wikipedia/commons/0/05/Beep-09.ogg\").play()')\n",
        "    #print(\"hi\")\n",
        "\n",
        "  # Wait for the next interval"
      ]
    }
  ],
  "metadata": {
    "accelerator": "GPU",
    "colab": {
      "gpuType": "T4",
      "provenance": []
    },
    "kernelspec": {
      "display_name": "Python 3",
      "name": "python3"
    },
    "language_info": {
      "codemirror_mode": {
        "name": "ipython",
        "version": 3
      },
      "file_extension": ".py",
      "mimetype": "text/x-python",
      "name": "python",
      "nbconvert_exporter": "python",
      "pygments_lexer": "ipython3",
      "version": "3.9.12"
    }
  },
  "nbformat": 4,
  "nbformat_minor": 0
}
