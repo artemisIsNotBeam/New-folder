{
  "cells": [
    {
      "cell_type": "code",
      "execution_count": 1,
      "metadata": {
        "colab": {
          "base_uri": "https://localhost:8080/"
        },
        "id": "V4YXAF7piVK9",
        "outputId": "f9ae3bd2-d31a-425b-99c3-c4bb418690b2"
      },
      "outputs": [
        {
          "name": "stdout",
          "output_type": "stream",
          "text": [
            "Requirement already satisfied: ultralytics in c:\\users\\artem\\anaconda3\\lib\\site-packages (8.2.28)\n",
            "Requirement already satisfied: pillow>=7.1.2 in c:\\users\\artem\\anaconda3\\lib\\site-packages (from ultralytics) (9.0.1)\n",
            "Requirement already satisfied: pandas>=1.1.4 in c:\\users\\artem\\anaconda3\\lib\\site-packages (from ultralytics) (1.4.2)\n",
            "Requirement already satisfied: scipy>=1.4.1 in c:\\users\\artem\\anaconda3\\lib\\site-packages (from ultralytics) (1.7.3)\n",
            "Requirement already satisfied: torch>=1.8.0 in c:\\users\\artem\\anaconda3\\lib\\site-packages (from ultralytics) (2.3.0)\n",
            "Requirement already satisfied: tqdm>=4.64.0 in c:\\users\\artem\\anaconda3\\lib\\site-packages (from ultralytics) (4.64.0)\n",
            "Requirement already satisfied: psutil in c:\\users\\artem\\anaconda3\\lib\\site-packages (from ultralytics) (5.8.0)\n",
            "Requirement already satisfied: requests>=2.23.0 in c:\\users\\artem\\anaconda3\\lib\\site-packages (from ultralytics) (2.27.1)\n",
            "Requirement already satisfied: torchvision>=0.9.0 in c:\\users\\artem\\anaconda3\\lib\\site-packages (from ultralytics) (0.18.0)\n",
            "Requirement already satisfied: ultralytics-thop>=0.2.5 in c:\\users\\artem\\anaconda3\\lib\\site-packages (from ultralytics) (0.2.7)\n",
            "Requirement already satisfied: py-cpuinfo in c:\\users\\artem\\anaconda3\\lib\\site-packages (from ultralytics) (9.0.0)\n",
            "Requirement already satisfied: opencv-python>=4.6.0 in c:\\users\\artem\\anaconda3\\lib\\site-packages (from ultralytics) (4.9.0.80)\n",
            "Requirement already satisfied: seaborn>=0.11.0 in c:\\users\\artem\\anaconda3\\lib\\site-packages (from ultralytics) (0.11.2)\n",
            "Requirement already satisfied: pyyaml>=5.3.1 in c:\\users\\artem\\anaconda3\\lib\\site-packages (from ultralytics) (6.0)\n",
            "Requirement already satisfied: matplotlib>=3.3.0 in c:\\users\\artem\\anaconda3\\lib\\site-packages (from ultralytics) (3.5.1)\n",
            "Requirement already satisfied: packaging>=20.0 in c:\\users\\artem\\anaconda3\\lib\\site-packages (from matplotlib>=3.3.0->ultralytics) (21.3)\n",
            "Requirement already satisfied: python-dateutil>=2.7 in c:\\users\\artem\\anaconda3\\lib\\site-packages (from matplotlib>=3.3.0->ultralytics) (2.8.2)\n",
            "Requirement already satisfied: kiwisolver>=1.0.1 in c:\\users\\artem\\anaconda3\\lib\\site-packages (from matplotlib>=3.3.0->ultralytics) (1.3.2)\n",
            "Requirement already satisfied: numpy>=1.17 in c:\\users\\artem\\anaconda3\\lib\\site-packages (from matplotlib>=3.3.0->ultralytics) (1.22.4)\n",
            "Requirement already satisfied: pyparsing>=2.2.1 in c:\\users\\artem\\anaconda3\\lib\\site-packages (from matplotlib>=3.3.0->ultralytics) (3.0.4)\n",
            "Requirement already satisfied: cycler>=0.10 in c:\\users\\artem\\anaconda3\\lib\\site-packages (from matplotlib>=3.3.0->ultralytics) (0.11.0)\n",
            "Requirement already satisfied: fonttools>=4.22.0 in c:\\users\\artem\\anaconda3\\lib\\site-packages (from matplotlib>=3.3.0->ultralytics) (4.25.0)\n",
            "Requirement already satisfied: pytz>=2020.1 in c:\\users\\artem\\anaconda3\\lib\\site-packages (from pandas>=1.1.4->ultralytics) (2021.3)\n",
            "Requirement already satisfied: six>=1.5 in c:\\users\\artem\\anaconda3\\lib\\site-packages (from python-dateutil>=2.7->matplotlib>=3.3.0->ultralytics) (1.16.0)\n",
            "Requirement already satisfied: charset-normalizer~=2.0.0 in c:\\users\\artem\\anaconda3\\lib\\site-packages (from requests>=2.23.0->ultralytics) (2.0.4)\n",
            "Requirement already satisfied: idna<4,>=2.5 in c:\\users\\artem\\anaconda3\\lib\\site-packages (from requests>=2.23.0->ultralytics) (3.3)\n",
            "Requirement already satisfied: certifi>=2017.4.17 in c:\\users\\artem\\anaconda3\\lib\\site-packages (from requests>=2.23.0->ultralytics) (2024.2.2)\n",
            "Requirement already satisfied: urllib3<1.27,>=1.21.1 in c:\\users\\artem\\anaconda3\\lib\\site-packages (from requests>=2.23.0->ultralytics) (1.26.9)\n",
            "Requirement already satisfied: filelock in c:\\users\\artem\\anaconda3\\lib\\site-packages (from torch>=1.8.0->ultralytics) (3.6.0)\n",
            "Requirement already satisfied: typing-extensions>=4.8.0 in c:\\users\\artem\\anaconda3\\lib\\site-packages (from torch>=1.8.0->ultralytics) (4.11.0)\n",
            "Requirement already satisfied: sympy in c:\\users\\artem\\anaconda3\\lib\\site-packages (from torch>=1.8.0->ultralytics) (1.10.1)\n",
            "Requirement already satisfied: networkx in c:\\users\\artem\\anaconda3\\lib\\site-packages (from torch>=1.8.0->ultralytics) (2.7.1)\n",
            "Requirement already satisfied: jinja2 in c:\\users\\artem\\anaconda3\\lib\\site-packages (from torch>=1.8.0->ultralytics) (3.1.3)\n",
            "Requirement already satisfied: fsspec in c:\\users\\artem\\anaconda3\\lib\\site-packages (from torch>=1.8.0->ultralytics) (2024.3.1)\n",
            "Requirement already satisfied: mkl<=2021.4.0,>=2021.1.1 in c:\\users\\artem\\anaconda3\\lib\\site-packages (from torch>=1.8.0->ultralytics) (2021.4.0)\n",
            "Requirement already satisfied: intel-openmp==2021.* in c:\\users\\artem\\anaconda3\\lib\\site-packages (from mkl<=2021.4.0,>=2021.1.1->torch>=1.8.0->ultralytics) (2021.4.0)\n",
            "Requirement already satisfied: tbb==2021.* in c:\\users\\artem\\anaconda3\\lib\\site-packages (from mkl<=2021.4.0,>=2021.1.1->torch>=1.8.0->ultralytics) (2021.12.0)\n",
            "Requirement already satisfied: colorama in c:\\users\\artem\\anaconda3\\lib\\site-packages (from tqdm>=4.64.0->ultralytics) (0.4.4)\n",
            "Requirement already satisfied: MarkupSafe>=2.0 in c:\\users\\artem\\anaconda3\\lib\\site-packages (from jinja2->torch>=1.8.0->ultralytics) (2.1.3)\n",
            "Requirement already satisfied: mpmath>=0.19 in c:\\users\\artem\\anaconda3\\lib\\site-packages (from sympy->torch>=1.8.0->ultralytics) (1.2.1)\n"
          ]
        },
        {
          "name": "stderr",
          "output_type": "stream",
          "text": [
            "WARNING: Ignoring invalid distribution -mpy (c:\\users\\artem\\anaconda3\\lib\\site-packages)\n",
            "WARNING: Ignoring invalid distribution -umpy (c:\\users\\artem\\anaconda3\\lib\\site-packages)\n",
            "WARNING: Ignoring invalid distribution - (c:\\users\\artem\\anaconda3\\lib\\site-packages)\n",
            "WARNING: Ignoring invalid distribution -mpy (c:\\users\\artem\\anaconda3\\lib\\site-packages)\n",
            "WARNING: Ignoring invalid distribution -umpy (c:\\users\\artem\\anaconda3\\lib\\site-packages)\n",
            "WARNING: Ignoring invalid distribution - (c:\\users\\artem\\anaconda3\\lib\\site-packages)\n",
            "WARNING: Ignoring invalid distribution -mpy (c:\\users\\artem\\anaconda3\\lib\\site-packages)\n",
            "WARNING: Ignoring invalid distribution -umpy (c:\\users\\artem\\anaconda3\\lib\\site-packages)\n",
            "WARNING: Ignoring invalid distribution - (c:\\users\\artem\\anaconda3\\lib\\site-packages)\n",
            "WARNING: Ignoring invalid distribution -mpy (c:\\users\\artem\\anaconda3\\lib\\site-packages)\n",
            "WARNING: Ignoring invalid distribution -umpy (c:\\users\\artem\\anaconda3\\lib\\site-packages)\n",
            "WARNING: Ignoring invalid distribution - (c:\\users\\artem\\anaconda3\\lib\\site-packages)\n",
            "WARNING: Ignoring invalid distribution -mpy (c:\\users\\artem\\anaconda3\\lib\\site-packages)\n",
            "WARNING: Ignoring invalid distribution -umpy (c:\\users\\artem\\anaconda3\\lib\\site-packages)\n",
            "WARNING: Ignoring invalid distribution - (c:\\users\\artem\\anaconda3\\lib\\site-packages)\n",
            "WARNING: Ignoring invalid distribution -mpy (c:\\users\\artem\\anaconda3\\lib\\site-packages)\n",
            "WARNING: Ignoring invalid distribution -umpy (c:\\users\\artem\\anaconda3\\lib\\site-packages)\n",
            "WARNING: Ignoring invalid distribution - (c:\\users\\artem\\anaconda3\\lib\\site-packages)\n"
          ]
        },
        {
          "name": "stdout",
          "output_type": "stream",
          "text": [
            "Requirement already satisfied: numpy in c:\\users\\artem\\anaconda3\\lib\\site-packages (1.22.4)\n"
          ]
        },
        {
          "name": "stderr",
          "output_type": "stream",
          "text": [
            "WARNING: Ignoring invalid distribution -mpy (c:\\users\\artem\\anaconda3\\lib\\site-packages)\n",
            "WARNING: Ignoring invalid distribution -umpy (c:\\users\\artem\\anaconda3\\lib\\site-packages)\n",
            "WARNING: Ignoring invalid distribution - (c:\\users\\artem\\anaconda3\\lib\\site-packages)\n",
            "WARNING: Ignoring invalid distribution -mpy (c:\\users\\artem\\anaconda3\\lib\\site-packages)\n",
            "WARNING: Ignoring invalid distribution -umpy (c:\\users\\artem\\anaconda3\\lib\\site-packages)\n",
            "WARNING: Ignoring invalid distribution - (c:\\users\\artem\\anaconda3\\lib\\site-packages)\n",
            "WARNING: Ignoring invalid distribution -mpy (c:\\users\\artem\\anaconda3\\lib\\site-packages)\n",
            "WARNING: Ignoring invalid distribution -umpy (c:\\users\\artem\\anaconda3\\lib\\site-packages)\n",
            "WARNING: Ignoring invalid distribution - (c:\\users\\artem\\anaconda3\\lib\\site-packages)\n",
            "WARNING: Ignoring invalid distribution -mpy (c:\\users\\artem\\anaconda3\\lib\\site-packages)\n",
            "WARNING: Ignoring invalid distribution -umpy (c:\\users\\artem\\anaconda3\\lib\\site-packages)\n",
            "WARNING: Ignoring invalid distribution - (c:\\users\\artem\\anaconda3\\lib\\site-packages)\n",
            "WARNING: Ignoring invalid distribution -mpy (c:\\users\\artem\\anaconda3\\lib\\site-packages)\n",
            "WARNING: Ignoring invalid distribution -umpy (c:\\users\\artem\\anaconda3\\lib\\site-packages)\n",
            "WARNING: Ignoring invalid distribution - (c:\\users\\artem\\anaconda3\\lib\\site-packages)\n",
            "WARNING: Ignoring invalid distribution -mpy (c:\\users\\artem\\anaconda3\\lib\\site-packages)\n",
            "WARNING: Ignoring invalid distribution -umpy (c:\\users\\artem\\anaconda3\\lib\\site-packages)\n",
            "WARNING: Ignoring invalid distribution - (c:\\users\\artem\\anaconda3\\lib\\site-packages)\n"
          ]
        },
        {
          "name": "stdout",
          "output_type": "stream",
          "text": [
            "Requirement already satisfied: playsound in c:\\users\\artem\\anaconda3\\lib\\site-packages (1.3.0)\n"
          ]
        },
        {
          "name": "stderr",
          "output_type": "stream",
          "text": [
            "WARNING: Ignoring invalid distribution -mpy (c:\\users\\artem\\anaconda3\\lib\\site-packages)\n",
            "WARNING: Ignoring invalid distribution -umpy (c:\\users\\artem\\anaconda3\\lib\\site-packages)\n",
            "WARNING: Ignoring invalid distribution - (c:\\users\\artem\\anaconda3\\lib\\site-packages)\n",
            "WARNING: Ignoring invalid distribution -mpy (c:\\users\\artem\\anaconda3\\lib\\site-packages)\n",
            "WARNING: Ignoring invalid distribution -umpy (c:\\users\\artem\\anaconda3\\lib\\site-packages)\n",
            "WARNING: Ignoring invalid distribution - (c:\\users\\artem\\anaconda3\\lib\\site-packages)\n",
            "WARNING: Ignoring invalid distribution -mpy (c:\\users\\artem\\anaconda3\\lib\\site-packages)\n",
            "WARNING: Ignoring invalid distribution -umpy (c:\\users\\artem\\anaconda3\\lib\\site-packages)\n",
            "WARNING: Ignoring invalid distribution - (c:\\users\\artem\\anaconda3\\lib\\site-packages)\n",
            "WARNING: Ignoring invalid distribution -mpy (c:\\users\\artem\\anaconda3\\lib\\site-packages)\n",
            "WARNING: Ignoring invalid distribution -umpy (c:\\users\\artem\\anaconda3\\lib\\site-packages)\n",
            "WARNING: Ignoring invalid distribution - (c:\\users\\artem\\anaconda3\\lib\\site-packages)\n",
            "WARNING: Ignoring invalid distribution -mpy (c:\\users\\artem\\anaconda3\\lib\\site-packages)\n",
            "WARNING: Ignoring invalid distribution -umpy (c:\\users\\artem\\anaconda3\\lib\\site-packages)\n",
            "WARNING: Ignoring invalid distribution - (c:\\users\\artem\\anaconda3\\lib\\site-packages)\n",
            "WARNING: Ignoring invalid distribution -mpy (c:\\users\\artem\\anaconda3\\lib\\site-packages)\n",
            "WARNING: Ignoring invalid distribution -umpy (c:\\users\\artem\\anaconda3\\lib\\site-packages)\n",
            "WARNING: Ignoring invalid distribution - (c:\\users\\artem\\anaconda3\\lib\\site-packages)\n"
          ]
        }
      ],
      "source": [
        "!pip install ultralytics\n",
        "!pip install numpy\n",
        "!pip install opencv-python\n"
      ]
    },
    {
      "cell_type": "markdown",
      "metadata": {
        "id": "rAPbFPyQqZyb"
      },
      "source": [
        "Prediction\n",
        "https://docs.ultralytics.com/modes/predict/#inference-arguments"
      ]
    },
    {
      "cell_type": "code",
      "execution_count": 1,
      "metadata": {},
      "outputs": [],
      "source": [
        "def getResults(img):\n",
        "  test = processImg(img)\n",
        "  someJson = predict(test)\n",
        "  result = readOutput(someJson)\n",
        "  return result\n",
        "\n",
        "#getResults(take_photo())\n",
        "import json\n",
        "from PIL import Image\n",
        "from matplotlib import  pyplot as plt\n",
        "def processImg(path):\n",
        "  image_path = path\n",
        "  image_pil = Image.open(image_path)\n",
        "  image_w, image_h = image_pil.size\n",
        "  new_image = preprocess_input(image_pil, 640, 640)\n",
        "\n",
        "  new_image_pil = Image.fromarray((new_image[0] * 255).astype('uint8'))\n",
        "  #new_image_pil.save(\"/content/new_img.jpg\")\n",
        "\n",
        "  #plt.imshow(new_image[0])\n",
        "  #plt.show()\n",
        "\n",
        "  return new_image_pil\n",
        "\n",
        "def readOutput(vals):\n",
        "  jsonVals=json.loads(vals)\n",
        "  names = []\n",
        "  confidence=[]\n",
        "  for item in jsonVals:\n",
        "    #print(item)\n",
        "    names.append(item['name'])\n",
        "    confidence.append(item['confidence'])\n",
        "  print(names)\n",
        "  print(confidence)\n",
        "\n",
        "  if ('openmouth' in names) and ('closedmouth' in names):\n",
        "    openIndex=names.index('openmouth')\n",
        "    closedIndex=names.index('closedmouth')\n",
        "    if confidence[openIndex] > confidence[closedIndex]:\n",
        "      return 'open'\n",
        "    else:\n",
        "      return 'closed'\n",
        "  elif 'openmouth' in names:\n",
        "    return 'open'\n",
        "  else:\n",
        "    return 'closed'\n",
        "  \n",
        "#@title some helper functions\n",
        "\n",
        "def predict(path):\n",
        "  results = model(path)\n",
        "  result = results[0]\n",
        "  boxes = result.boxes  # Boxes object for bounding box outputs\n",
        "  masks = result.masks  # Masks object for segmentation masks outputs\n",
        "  keypoints = result.keypoints  # Keypoints object for pose outputs\n",
        "  probs = result.probs  # Probs object for classification outputs\n",
        "  obb = result.obb  # Oriented boxes object for OBB outputs\n",
        "  #result.show()  # display to screen\n",
        "\n",
        "\n",
        "  #result.save(filename=\"result.jpg\")  # save to disk\n",
        "  return result.tojson(normalize=True)\n",
        "  #return probs\n",
        "#thing = predict(\"/content/drive/MyDrive/mewingAI/datasets/FacialFeatures_split/test/images/00a0fd8177a1db74_jpg.rf.e66cca8cc8cccf937b160ea6546b1fbb.jpg\")\n",
        "\n",
        "import numpy as np\n",
        "import cv2\n",
        "\n",
        "def preprocess_input(image_pil, net_h=416, net_w=416):\n",
        "    image = np.asarray(image_pil)\n",
        "    new_h, new_w, _ = image.shape\n",
        "    # print(\"net:\", net_h, net_w)\n",
        "    # print(\"old:\",new_h, new_w)\n",
        "    # determine the new size of the image\n",
        "    if (float(net_w)/new_w) < (float(net_h)/new_h):\n",
        "        new_h = (new_h * net_w)/new_w\n",
        "        new_w = net_w\n",
        "    else:\n",
        "        new_w = (new_w * net_h)/new_h\n",
        "        new_h = net_h\n",
        "    new_w = int(new_w)\n",
        "    new_h = int(new_h)\n",
        "    # print(\"new:\",int(new_h), int(new_w))\n",
        "    # resize the image to the new size\n",
        "    #resized = cv2.resize(image[:,:,::-1]/255., (int(new_w), int(new_h)))\n",
        "    resized = cv2.resize(image/255., (int(new_w), int(new_h)))\n",
        "\n",
        "    # embed the image into the standard letter box\n",
        "    # print(\"dims:\",int((net_h-new_h)//2), int((net_h+new_h)//2), int((net_w-new_w)//2), int((net_w+new_w)//2))\n",
        "    new_image = np.ones((net_h, net_w, 3)) * 0.5\n",
        "    new_image[int((net_h-new_h)//2):int((net_h+new_h)//2), int((net_w-new_w)//2):int((net_w+new_w)//2), :] = resized\n",
        "    new_image = np.expand_dims(new_image, 0)\n",
        "    # print(new_image.shape)\n",
        "\n",
        "    return new_image\n",
        "  "
      ]
    },
    {
      "cell_type": "code",
      "execution_count": 3,
      "metadata": {},
      "outputs": [],
      "source": [
        "import cv2\n",
        "from ultralytics import YOLO\n",
        "\n",
        "cam = cv2.VideoCapture(0)\n",
        "cv2.namedWindow(\"test\")\n",
        "\n",
        "model = YOLO('best.pt')"
      ]
    },
    {
      "cell_type": "code",
      "execution_count": 4,
      "metadata": {},
      "outputs": [
        {
          "name": "stdout",
          "output_type": "stream",
          "text": [
            "\n"
          ]
        }
      ],
      "source": [
        "#while True:\n",
        "from cv2 import *\n",
        "import time\n",
        "import winsound\n",
        "\n",
        "while True:\n",
        "    result,image = cam.read()\n",
        "    cv2.imwrite(\"image.png\", image) \n",
        "    results = getResults(\"image.png\")\n",
        "\n",
        "    if results == 'open':\n",
        "      print(\"open\")\n",
        "      winsound.Beep(1000, 100)"
      ]
    }
  ],
  "metadata": {
    "accelerator": "GPU",
    "colab": {
      "gpuType": "T4",
      "provenance": []
    },
    "kernelspec": {
      "display_name": "Python 3",
      "name": "python3"
    },
    "language_info": {
      "codemirror_mode": {
        "name": "ipython",
        "version": 3
      },
      "file_extension": ".py",
      "mimetype": "text/x-python",
      "name": "python",
      "nbconvert_exporter": "python",
      "pygments_lexer": "ipython3",
      "version": "3.9.12"
    }
  },
  "nbformat": 4,
  "nbformat_minor": 0
}
